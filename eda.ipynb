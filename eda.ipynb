{
 "cells": [
  {
   "cell_type": "code",
   "execution_count": 360,
   "metadata": {},
   "outputs": [],
   "source": [
    "import pandas as pd\n",
    "import string\n",
    "import nltk\n",
    "import numpy as np\n",
    "import matplotlib.pyplot as plt\n",
    "import seaborn as sns"
   ]
  },
  {
   "cell_type": "code",
   "execution_count": 258,
   "metadata": {},
   "outputs": [
    {
     "name": "stderr",
     "output_type": "stream",
     "text": [
      "/var/folders/4s/pf1zdv_x4_qcflpq4m943q0m0000gn/T/ipykernel_91514/4088057831.py:12: FutureWarning: Downcasting behavior in `replace` is deprecated and will be removed in a future version. To retain the old behavior, explicitly call `result.infer_objects(copy=False)`. To opt-in to the future behavior, set `pd.set_option('future.no_silent_downcasting', True)`\n",
      "  df['Category'] = df['Category'].replace(['ham', 'spam'], [0, 1])\n"
     ]
    },
    {
     "data": {
      "application/vnd.microsoft.datawrangler.viewer.v0+json": {
       "columns": [
        {
         "name": "index",
         "rawType": "int64",
         "type": "integer"
        },
        {
         "name": "Category",
         "rawType": "int64",
         "type": "integer"
        },
        {
         "name": "Message",
         "rawType": "object",
         "type": "string"
        }
       ],
       "conversionMethod": "pd.DataFrame",
       "ref": "23a2af25-0c79-44a8-aa5d-d8d90be62572",
       "rows": [
        [
         "0",
         "0",
         "Go until jurong point, crazy.. Available only in bugis n great world la e buffet... Cine there got amore wat...\n"
        ],
        [
         "1",
         "0",
         "Ok lar... Joking wif u oni...\n"
        ],
        [
         "2",
         "1",
         "Free entry in 2 a wkly comp to win FA Cup final tkts 21st May 2005. Text FA to 87121 to receive entry question(std txt rate)T&C's apply 08452810075over18's\n"
        ],
        [
         "3",
         "0",
         "U dun say so early hor... U c already then say...\n"
        ],
        [
         "4",
         "0",
         "Nah I don't think he goes to usf, he lives around here though\n"
        ],
        [
         "5",
         "1",
         "FreeMsg Hey there darling it's been 3 week's now and no word back! I'd like some fun you up for it still? Tb ok! XxX std chgs to send, £1.50 to rcv\n"
        ],
        [
         "6",
         "0",
         "Even my brother is not like to speak with me. They treat me like aids patent.\n"
        ],
        [
         "7",
         "0",
         "As per your request 'Melle Melle (Oru Minnaminunginte Nurungu Vettam)' has been set as your callertune for all Callers. Press *9 to copy your friends Callertune\n"
        ],
        [
         "8",
         "1",
         "WINNER!! As a valued network customer you have been selected to receivea £900 prize reward! To claim call 09061701461. Claim code KL341. Valid 12 hours only.\n"
        ],
        [
         "9",
         "1",
         "Had your mobile 11 months or more? U R entitled to Update to the latest colour mobiles with camera for Free! Call The Mobile Update Co FREE on 08002986030\n"
        ],
        [
         "10",
         "0",
         "I'm gonna be home soon and i don't want to talk about this stuff anymore tonight, k? I've cried enough today.\n"
        ],
        [
         "11",
         "1",
         "SIX chances to win CASH! From 100 to 20,000 pounds txt> CSH11 and send to 87575. Cost 150p/day, 6days, 16+ TsandCs apply Reply HL 4 info\n"
        ],
        [
         "12",
         "1",
         "URGENT! You have won a 1 week FREE membership in our £100,000 Prize Jackpot! Txt the word: CLAIM to No: 81010 T&C www.dbuk.net LCCLTD POBOX 4403LDNW1A7RW18\n"
        ],
        [
         "13",
         "0",
         "I've been searching for the right words to thank you for this breather. I promise i wont take your help for granted and will fulfil my promise. You have been wonderful and a blessing at all times.\n"
        ],
        [
         "14",
         "0",
         "I HAVE A DATE ON SUNDAY WITH WILL!!\n"
        ],
        [
         "15",
         "1",
         "XXXMobileMovieClub: To use your credit, click the WAP link in the next txt message or click here>> http://wap. xxxmobilemovieclub.com?n=QJKGIGHJJGCBL\n"
        ],
        [
         "16",
         "0",
         "Oh k...i'm watching here:)\n"
        ],
        [
         "17",
         "0",
         "Eh u remember how 2 spell his name... Yes i did. He v naughty make until i v wet.\n"
        ],
        [
         "18",
         "0",
         "Fine if thats the way u feel. Thats the way its gota b\n"
        ],
        [
         "19",
         "1",
         "England v Macedonia - dont miss the goals/team news. Txt ur national team to 87077 eg ENGLAND to 87077 Try:WALES, SCOTLAND 4txt/ú1.20 POBOXox36504W45WQ 16+\n"
        ],
        [
         "20",
         "0",
         "Is that seriously how you spell his name?\n"
        ],
        [
         "21",
         "0",
         "I‘m going to try for 2 months ha ha only joking\n"
        ],
        [
         "22",
         "0",
         "So ü pay first lar... Then when is da stock comin...\n"
        ],
        [
         "23",
         "0",
         "Aft i finish my lunch then i go str down lor. Ard 3 smth lor. U finish ur lunch already?\n"
        ],
        [
         "24",
         "0",
         "Ffffffffff. Alright no way I can meet up with you sooner?\n"
        ],
        [
         "25",
         "0",
         "Just forced myself to eat a slice. I'm really not hungry tho. This sucks. Mark is getting worried. He knows I'm sick when I turn down pizza. Lol\n"
        ],
        [
         "26",
         "0",
         "Lol your always so convincing.\n"
        ],
        [
         "27",
         "0",
         "Did you catch the bus ? Are you frying an egg ? Did you make a tea? Are you eating your mom's left over dinner ? Do you feel my Love ?\n"
        ],
        [
         "28",
         "0",
         "I'm back &amp; we're packing the car now, I'll let you know if there's room\n"
        ],
        [
         "29",
         "0",
         "Ahhh. Work. I vaguely remember that! What does it feel like? Lol\n"
        ],
        [
         "30",
         "0",
         "Wait that's still not all that clear, were you not sure about me being sarcastic or that that's why x doesn't want to live with us\n"
        ],
        [
         "31",
         "0",
         "Yeah he got in at 2 and was v apologetic. n had fallen out and she was actin like spoilt child and he got caught up in that. Till 2! But we won't go there! Not doing too badly cheers. You? \n"
        ],
        [
         "32",
         "0",
         "K tell me anything about you.\n"
        ],
        [
         "33",
         "0",
         "For fear of fainting with the of all that housework you just did? Quick have a cuppa\n"
        ],
        [
         "34",
         "1",
         "Thanks for your subscription to Ringtone UK your mobile will be charged £5/month Please confirm by replying YES or NO. If you reply NO you will not be charged\n"
        ],
        [
         "35",
         "0",
         "Yup... Ok i go home look at the timings then i msg ü again... Xuhui going to learn on 2nd may too but her lesson is at 8am\n"
        ],
        [
         "36",
         "0",
         "Oops, I'll let you know when my roommate's done\n"
        ],
        [
         "37",
         "0",
         "I see the letter B on my car\n"
        ],
        [
         "38",
         "0",
         "Anything lor... U decide...\n"
        ],
        [
         "39",
         "0",
         "Hello! How's you and how did saturday go? I was just texting to see if you'd decided to do anything tomo. Not that i'm trying to invite myself or anything!\n"
        ],
        [
         "40",
         "0",
         "Pls go ahead with watts. I just wanted to be sure. Do have a great weekend. Abiola\n"
        ],
        [
         "41",
         "0",
         "Did I forget to tell you ? I want you , I need you, I crave you ... But most of all ... I love you my sweet Arabian steed ... Mmmmmm ... Yummy\n"
        ],
        [
         "42",
         "1",
         "07732584351 - Rodger Burns - MSG = We tried to call you re your reply to our sms for a free nokia mobile + free camcorder. Please call now 08000930705 for delivery tomorrow\n"
        ],
        [
         "43",
         "0",
         "WHO ARE YOU SEEING?\n"
        ],
        [
         "44",
         "0",
         "Great! I hope you like your man well endowed. I am  &lt;#&gt;  inches...\n"
        ],
        [
         "45",
         "0",
         "No calls..messages..missed calls\n"
        ],
        [
         "46",
         "0",
         "Didn't you get hep b immunisation in nigeria.\n"
        ],
        [
         "47",
         "0",
         "Fair enough, anything going on?\n"
        ],
        [
         "48",
         "0",
         "Yeah hopefully, if tyler can't do it I could maybe ask around a bit\n"
        ],
        [
         "49",
         "0",
         "U don't know how stubborn I am. I didn't even want to go to the hospital. I kept telling Mark I'm not a weak sucker. Hospitals are for weak suckers.\n"
        ]
       ],
       "shape": {
        "columns": 2,
        "rows": 5574
       }
      },
      "text/html": [
       "<div>\n",
       "<style scoped>\n",
       "    .dataframe tbody tr th:only-of-type {\n",
       "        vertical-align: middle;\n",
       "    }\n",
       "\n",
       "    .dataframe tbody tr th {\n",
       "        vertical-align: top;\n",
       "    }\n",
       "\n",
       "    .dataframe thead th {\n",
       "        text-align: right;\n",
       "    }\n",
       "</style>\n",
       "<table border=\"1\" class=\"dataframe\">\n",
       "  <thead>\n",
       "    <tr style=\"text-align: right;\">\n",
       "      <th></th>\n",
       "      <th>Category</th>\n",
       "      <th>Message</th>\n",
       "    </tr>\n",
       "  </thead>\n",
       "  <tbody>\n",
       "    <tr>\n",
       "      <th>0</th>\n",
       "      <td>0</td>\n",
       "      <td>Go until jurong point, crazy.. Available only ...</td>\n",
       "    </tr>\n",
       "    <tr>\n",
       "      <th>1</th>\n",
       "      <td>0</td>\n",
       "      <td>Ok lar... Joking wif u oni...\\n</td>\n",
       "    </tr>\n",
       "    <tr>\n",
       "      <th>2</th>\n",
       "      <td>1</td>\n",
       "      <td>Free entry in 2 a wkly comp to win FA Cup fina...</td>\n",
       "    </tr>\n",
       "    <tr>\n",
       "      <th>3</th>\n",
       "      <td>0</td>\n",
       "      <td>U dun say so early hor... U c already then say...</td>\n",
       "    </tr>\n",
       "    <tr>\n",
       "      <th>4</th>\n",
       "      <td>0</td>\n",
       "      <td>Nah I don't think he goes to usf, he lives aro...</td>\n",
       "    </tr>\n",
       "    <tr>\n",
       "      <th>...</th>\n",
       "      <td>...</td>\n",
       "      <td>...</td>\n",
       "    </tr>\n",
       "    <tr>\n",
       "      <th>5569</th>\n",
       "      <td>1</td>\n",
       "      <td>This is the 2nd time we have tried 2 contact u...</td>\n",
       "    </tr>\n",
       "    <tr>\n",
       "      <th>5570</th>\n",
       "      <td>0</td>\n",
       "      <td>Will ü b going to esplanade fr home?\\n</td>\n",
       "    </tr>\n",
       "    <tr>\n",
       "      <th>5571</th>\n",
       "      <td>0</td>\n",
       "      <td>Pity, * was in mood for that. So...any other s...</td>\n",
       "    </tr>\n",
       "    <tr>\n",
       "      <th>5572</th>\n",
       "      <td>0</td>\n",
       "      <td>The guy did some bitching but I acted like i'd...</td>\n",
       "    </tr>\n",
       "    <tr>\n",
       "      <th>5573</th>\n",
       "      <td>0</td>\n",
       "      <td>Rofl. Its true to its name\\n</td>\n",
       "    </tr>\n",
       "  </tbody>\n",
       "</table>\n",
       "<p>5574 rows × 2 columns</p>\n",
       "</div>"
      ],
      "text/plain": [
       "      Category                                            Message\n",
       "0            0  Go until jurong point, crazy.. Available only ...\n",
       "1            0                    Ok lar... Joking wif u oni...\\n\n",
       "2            1  Free entry in 2 a wkly comp to win FA Cup fina...\n",
       "3            0  U dun say so early hor... U c already then say...\n",
       "4            0  Nah I don't think he goes to usf, he lives aro...\n",
       "...        ...                                                ...\n",
       "5569         1  This is the 2nd time we have tried 2 contact u...\n",
       "5570         0             Will ü b going to esplanade fr home?\\n\n",
       "5571         0  Pity, * was in mood for that. So...any other s...\n",
       "5572         0  The guy did some bitching but I acted like i'd...\n",
       "5573         0                       Rofl. Its true to its name\\n\n",
       "\n",
       "[5574 rows x 2 columns]"
      ]
     },
     "execution_count": 258,
     "metadata": {},
     "output_type": "execute_result"
    }
   ],
   "source": [
    "category_list = []\n",
    "message_list = []\n",
    "\n",
    "with open('./data/SMSSpamCollection') as f:\n",
    "    for line in f:\n",
    "        row = line.split('\\t', maxsplit=1)\n",
    "        category_list.append(row[0])\n",
    "        message_list.append(row[1])\n",
    "\n",
    "dict = {'Category': category_list, 'Message': message_list}\n",
    "df = pd.DataFrame(data=dict)\n",
    "df['Category'] = df['Category'].replace(['ham', 'spam'], [0, 1])\n",
    "df"
   ]
  },
  {
   "cell_type": "code",
   "execution_count": 259,
   "metadata": {},
   "outputs": [
    {
     "data": {
      "text/plain": [
       "Category\n",
       "0    4827\n",
       "1     747\n",
       "Name: count, dtype: int64"
      ]
     },
     "execution_count": 259,
     "metadata": {},
     "output_type": "execute_result"
    }
   ],
   "source": [
    "df['Category'].value_counts()"
   ]
  },
  {
   "cell_type": "code",
   "execution_count": 260,
   "metadata": {},
   "outputs": [
    {
     "data": {
      "text/plain": [
       "Category\n",
       "0    0.865985\n",
       "1    0.134015\n",
       "Name: proportion, dtype: float64"
      ]
     },
     "execution_count": 260,
     "metadata": {},
     "output_type": "execute_result"
    }
   ],
   "source": [
    "df['Category'].value_counts(normalize=True)"
   ]
  },
  {
   "cell_type": "code",
   "execution_count": 261,
   "metadata": {},
   "outputs": [
    {
     "data": {
      "text/plain": [
       "Category\n",
       "0    4827\n",
       "1     947\n",
       "Name: count, dtype: int64"
      ]
     },
     "execution_count": 261,
     "metadata": {},
     "output_type": "execute_result"
    }
   ],
   "source": [
    "new_spam_df = pd.read_csv('./data/spam-text-messages.txt')\n",
    "new_spam_df = new_spam_df.drop(columns=['message_id']).rename(columns={\"message_text\": \"Message\", \"spam_label\" : \"Category\"})\n",
    "df = pd.concat([new_spam_df, df])\n",
    "df['Category'].value_counts()"
   ]
  },
  {
   "cell_type": "markdown",
   "metadata": {},
   "source": [
    "## Text Preprossessing"
   ]
  },
  {
   "cell_type": "code",
   "execution_count": 262,
   "metadata": {},
   "outputs": [],
   "source": [
    "df_cleaning = df.copy()"
   ]
  },
  {
   "cell_type": "code",
   "execution_count": 263,
   "metadata": {},
   "outputs": [
    {
     "data": {
      "application/vnd.microsoft.datawrangler.viewer.v0+json": {
       "columns": [
        {
         "name": "index",
         "rawType": "int64",
         "type": "integer"
        },
        {
         "name": "Message",
         "rawType": "object",
         "type": "string"
        },
        {
         "name": "Category",
         "rawType": "int64",
         "type": "integer"
        },
        {
         "name": "lower_message",
         "rawType": "object",
         "type": "string"
        }
       ],
       "conversionMethod": "pd.DataFrame",
       "ref": "b377c2db-56d0-4dd6-859d-ad4b3b71ca94",
       "rows": [
        [
         "0",
         "URGENT: Your mobile number has won $500,000 in our prize draw! Call now to claim: +1-555-123-4567. Don't miss this chance!",
         "1",
         "urgent: your mobile number has won $500,000 in our prize draw! call now to claim: +1-555-123-4567. don't miss this chance!"
        ],
        [
         "1",
         "CONGRATULATIONS! You've been selected for a free iPhone 14! Click here to claim: www.free-iphone-claim.xyz",
         "1",
         "congratulations! you've been selected for a free iphone 14! click here to claim: www.free-iphone-claim.xyz"
        ],
        [
         "2",
         "Your package delivery #8742 is pending. Update delivery address within 24hrs: bit.ly/pkg-update",
         "1",
         "your package delivery #8742 is pending. update delivery address within 24hrs: bit.ly/pkg-update"
        ],
        [
         "3",
         "NETFLIX: Your account has been suspended. Update your payment info: netflx-account-verify.com",
         "1",
         "netflix: your account has been suspended. update your payment info: netflx-account-verify.com"
        ],
        [
         "4",
         "50% OFF at Fashion World! Limited time offer. Shop now: fw-sales.site/discount",
         "1",
         "50% off at fashion world! limited time offer. shop now: fw-sales.site/discount"
        ],
        [
         "5",
         "Your bank account has been compromised. Call security team now: 888-555-9876",
         "1",
         "your bank account has been compromised. call security team now: 888-555-9876"
        ],
        [
         "6",
         "Dear customer, your Apple ID has been locked for security reasons. Verify identity: secure-apple-id.com",
         "1",
         "dear customer, your apple id has been locked for security reasons. verify identity: secure-apple-id.com"
        ],
        [
         "7",
         "BREAKING: New government regulation allows citizens to clear ALL debt legally. Find out how: debt-freedom.xyz",
         "1",
         "breaking: new government regulation allows citizens to clear all debt legally. find out how: debt-freedom.xyz"
        ],
        [
         "8",
         "Hi this is Jenny from dating service. I saw your profile and want to meet. Text me: +1-555-765-4321",
         "1",
         "hi this is jenny from dating service. i saw your profile and want to meet. text me: +1-555-765-4321"
        ],
        [
         "9",
         "FINAL NOTICE: Your car warranty is about to expire. Last chance to extend coverage. Call: 800-555-1234",
         "1",
         "final notice: your car warranty is about to expire. last chance to extend coverage. call: 800-555-1234"
        ],
        [
         "10",
         "ALERT: Unusual activity detected in your account. Verify transactions: secure-bank-verify.com",
         "1",
         "alert: unusual activity detected in your account. verify transactions: secure-bank-verify.com"
        ],
        [
         "11",
         "Congratulations! You've been pre-approved for a $50,000 loan with low interest. Apply now: ez-loan-apply.com",
         "1",
         "congratulations! you've been pre-approved for a $50,000 loan with low interest. apply now: ez-loan-apply.com"
        ],
        [
         "12",
         "Your utility bill payment failed. Service will be disconnected in 24 hours. Update payment: utilitypay-secure.com",
         "1",
         "your utility bill payment failed. service will be disconnected in 24 hours. update payment: utilitypay-secure.com"
        ],
        [
         "13",
         "You have 1 unread message from your secret admirer. View now: date-match.xyz/message",
         "1",
         "you have 1 unread message from your secret admirer. view now: date-match.xyz/message"
        ],
        [
         "14",
         "ATTENTION: Your Social Security Number has been suspended due to suspicious activity. Call: 866-555-4321",
         "1",
         "attention: your social security number has been suspended due to suspicious activity. call: 866-555-4321"
        ],
        [
         "15",
         "Your prescription is ready for pickup. Get 70% discount with this code: RX7042. Details: meds-discount.site",
         "1",
         "your prescription is ready for pickup. get 70% discount with this code: rx7042. details: meds-discount.site"
        ],
        [
         "16",
         "You have won a $1,000 Walmart gift card. Claim now: walmart-gift.xyz/claim",
         "1",
         "you have won a $1,000 walmart gift card. claim now: walmart-gift.xyz/claim"
        ],
        [
         "17",
         "This is your carrier: Your phone bill is past due. Avoid service interruption: mobilepay-now.com",
         "1",
         "this is your carrier: your phone bill is past due. avoid service interruption: mobilepay-now.com"
        ],
        [
         "18",
         "URGENT Tax Refund: You are eligible for $1,249.50 tax refund. Submit claim: tax-refund-gov.xyz",
         "1",
         "urgent tax refund: you are eligible for $1,249.50 tax refund. submit claim: tax-refund-gov.xyz"
        ],
        [
         "19",
         "Your order #43298 has been shipped. Track delivery status: amaz0n-tracking.site",
         "1",
         "your order #43298 has been shipped. track delivery status: amaz0n-tracking.site"
        ],
        [
         "20",
         "Investment Alert: This penny stock is set to explode 500% next week! Buy now: stock-goldmine.xyz",
         "1",
         "investment alert: this penny stock is set to explode 500% next week! buy now: stock-goldmine.xyz"
        ],
        [
         "21",
         "Your account access will be terminated. Verify identity: secure-account-verify.com",
         "1",
         "your account access will be terminated. verify identity: secure-account-verify.com"
        ],
        [
         "22",
         "FINAL WARNING: Your vehicle is showing in our system as uninsured. Avoid penalties: auto-insure-now.site",
         "1",
         "final warning: your vehicle is showing in our system as uninsured. avoid penalties: auto-insure-now.site"
        ],
        [
         "23",
         "IMPORTANT: Your recent payment was declined. Update payment method: paypal-secure-update.com",
         "1",
         "important: your recent payment was declined. update payment method: paypal-secure-update.com"
        ],
        [
         "24",
         "Congratulations! You've been selected for our exclusive survey. Complete for $90 reward: survey-rewards.xyz",
         "1",
         "congratulations! you've been selected for our exclusive survey. complete for $90 reward: survey-rewards.xyz"
        ],
        [
         "25",
         "ATTENTION CUSTOMER: Your internet service will be disconnected. Pay now: internet-billing.site",
         "1",
         "attention customer: your internet service will be disconnected. pay now: internet-billing.site"
        ],
        [
         "26",
         "Your CV was found in our database. $95k position available. Apply now: career-opportunity.xyz",
         "1",
         "your cv was found in our database. $95k position available. apply now: career-opportunity.xyz"
        ],
        [
         "27",
         "COURT NOTICE: You are scheduled to appear. Case #CR7231. Details: court-notice.site",
         "1",
         "court notice: you are scheduled to appear. case #cr7231. details: court-notice.site"
        ],
        [
         "28",
         "Your phone has 3 virus! Click to scan and remove: virus-removal.xyz",
         "1",
         "your phone has 3 virus! click to scan and remove: virus-removal.xyz"
        ],
        [
         "29",
         "FREE: Get your credit score and report now! Limited offer: free-credit-check.site",
         "1",
         "free: get your credit score and report now! limited offer: free-credit-check.site"
        ],
        [
         "30",
         "WINNER ALERT: You've been selected to receive a $250 Amazon gift card. Claim now: amazon-rewards.site",
         "1",
         "winner alert: you've been selected to receive a $250 amazon gift card. claim now: amazon-rewards.site"
        ],
        [
         "31",
         "URGENT: Your credit card has been charged $499. If unauthorized call: +1-888-555-3214",
         "1",
         "urgent: your credit card has been charged $499. if unauthorized call: +1-888-555-3214"
        ],
        [
         "32",
         "Your Apple iCloud account will be deleted in 24 hours. Verify now: secure-icloud-verify.com",
         "1",
         "your apple icloud account will be deleted in 24 hours. verify now: secure-icloud-verify.com"
        ],
        [
         "33",
         "ATTENTION: We've been trying to reach you about your car's extended warranty. Last chance: 800-555-9876",
         "1",
         "attention: we've been trying to reach you about your car's extended warranty. last chance: 800-555-9876"
        ],
        [
         "34",
         "Congratulations! You qualify for student loan forgiveness. Apply here: loan-forgive-gov.xyz",
         "1",
         "congratulations! you qualify for student loan forgiveness. apply here: loan-forgive-gov.xyz"
        ],
        [
         "35",
         "SECURITY ALERT: Suspicious sign-in attempt on your Google account. Verify now: google-secure-verify.com",
         "1",
         "security alert: suspicious sign-in attempt on your google account. verify now: google-secure-verify.com"
        ],
        [
         "36",
         "Your parcel #UK45692 is on hold. Confirm delivery address: royal-mail-delivery.site",
         "1",
         "your parcel #uk45692 is on hold. confirm delivery address: royal-mail-delivery.site"
        ],
        [
         "37",
         "50% OFF EVERYTHING at Nike! Limited time offer: nike-special-deals.xyz",
         "1",
         "50% off everything at nike! limited time offer: nike-special-deals.xyz"
        ],
        [
         "38",
         "ACTION REQUIRED: Your PayPal account has been limited. Update info: paypal-account-service.com",
         "1",
         "action required: your paypal account has been limited. update info: paypal-account-service.com"
        ],
        [
         "39",
         "URGENT: Your electricity will be disconnected tonight. Pay now: utility-pay-online.site",
         "1",
         "urgent: your electricity will be disconnected tonight. pay now: utility-pay-online.site"
        ],
        [
         "40",
         "Your Bitcoin wallet has been credited with 0.5 BTC. Confirm receipt: bitcoin-wallet-verify.xyz",
         "1",
         "your bitcoin wallet has been credited with 0.5 btc. confirm receipt: bitcoin-wallet-verify.xyz"
        ],
        [
         "41",
         "FINAL NOTICE: Your tax records are out of date. Avoid penalties: irs-tax-update.site",
         "1",
         "final notice: your tax records are out of date. avoid penalties: irs-tax-update.site"
        ],
        [
         "42",
         "You've been selected for a $50 Starbucks gift card! Claim now: starbucks-rewards.xyz",
         "1",
         "you've been selected for a $50 starbucks gift card! claim now: starbucks-rewards.xyz"
        ],
        [
         "43",
         "Your Instagram account will be permanently deleted. Verify ownership: instagram-verify.site",
         "1",
         "your instagram account will be permanently deleted. verify ownership: instagram-verify.site"
        ],
        [
         "44",
         "URGENT: Your phone service will be suspended. Update billing info: mobile-service-update.com",
         "1",
         "urgent: your phone service will be suspended. update billing info: mobile-service-update.com"
        ],
        [
         "45",
         "Congratulations! You're prequalified for a new credit card with $10,000 limit: premier-credit-offer.site",
         "1",
         "congratulations! you're prequalified for a new credit card with $10,000 limit: premier-credit-offer.site"
        ],
        [
         "46",
         "Your flight reservation #AX78542 has been changed. Confirm details: airline-update.xyz",
         "1",
         "your flight reservation #ax78542 has been changed. confirm details: airline-update.xyz"
        ],
        [
         "47",
         "LAST CHANCE: Claim your free laptop from our annual giveaway: free-laptop-giveaway.site",
         "1",
         "last chance: claim your free laptop from our annual giveaway: free-laptop-giveaway.site"
        ],
        [
         "48",
         "Your Facebook account has been reported. Verify to avoid suspension: facebook-security-team.xyz",
         "1",
         "your facebook account has been reported. verify to avoid suspension: facebook-security-team.xyz"
        ],
        [
         "49",
         "Congratulations! You've won 2nd prize in Coca-Cola sweepstakes. Claim $5,000: coke-prize.site",
         "1",
         "congratulations! you've won 2nd prize in coca-cola sweepstakes. claim $5,000: coke-prize.site"
        ]
       ],
       "shape": {
        "columns": 3,
        "rows": 5774
       }
      },
      "text/html": [
       "<div>\n",
       "<style scoped>\n",
       "    .dataframe tbody tr th:only-of-type {\n",
       "        vertical-align: middle;\n",
       "    }\n",
       "\n",
       "    .dataframe tbody tr th {\n",
       "        vertical-align: top;\n",
       "    }\n",
       "\n",
       "    .dataframe thead th {\n",
       "        text-align: right;\n",
       "    }\n",
       "</style>\n",
       "<table border=\"1\" class=\"dataframe\">\n",
       "  <thead>\n",
       "    <tr style=\"text-align: right;\">\n",
       "      <th></th>\n",
       "      <th>Message</th>\n",
       "      <th>Category</th>\n",
       "      <th>lower_message</th>\n",
       "    </tr>\n",
       "  </thead>\n",
       "  <tbody>\n",
       "    <tr>\n",
       "      <th>0</th>\n",
       "      <td>URGENT: Your mobile number has won $500,000 in...</td>\n",
       "      <td>1</td>\n",
       "      <td>urgent: your mobile number has won $500,000 in...</td>\n",
       "    </tr>\n",
       "    <tr>\n",
       "      <th>1</th>\n",
       "      <td>CONGRATULATIONS! You've been selected for a fr...</td>\n",
       "      <td>1</td>\n",
       "      <td>congratulations! you've been selected for a fr...</td>\n",
       "    </tr>\n",
       "    <tr>\n",
       "      <th>2</th>\n",
       "      <td>Your package delivery #8742 is pending. Update...</td>\n",
       "      <td>1</td>\n",
       "      <td>your package delivery #8742 is pending. update...</td>\n",
       "    </tr>\n",
       "    <tr>\n",
       "      <th>3</th>\n",
       "      <td>NETFLIX: Your account has been suspended. Upda...</td>\n",
       "      <td>1</td>\n",
       "      <td>netflix: your account has been suspended. upda...</td>\n",
       "    </tr>\n",
       "    <tr>\n",
       "      <th>4</th>\n",
       "      <td>50% OFF at Fashion World! Limited time offer. ...</td>\n",
       "      <td>1</td>\n",
       "      <td>50% off at fashion world! limited time offer. ...</td>\n",
       "    </tr>\n",
       "    <tr>\n",
       "      <th>...</th>\n",
       "      <td>...</td>\n",
       "      <td>...</td>\n",
       "      <td>...</td>\n",
       "    </tr>\n",
       "    <tr>\n",
       "      <th>5569</th>\n",
       "      <td>This is the 2nd time we have tried 2 contact u...</td>\n",
       "      <td>1</td>\n",
       "      <td>this is the 2nd time we have tried 2 contact u...</td>\n",
       "    </tr>\n",
       "    <tr>\n",
       "      <th>5570</th>\n",
       "      <td>Will ü b going to esplanade fr home?\\n</td>\n",
       "      <td>0</td>\n",
       "      <td>will ü b going to esplanade fr home?\\n</td>\n",
       "    </tr>\n",
       "    <tr>\n",
       "      <th>5571</th>\n",
       "      <td>Pity, * was in mood for that. So...any other s...</td>\n",
       "      <td>0</td>\n",
       "      <td>pity, * was in mood for that. so...any other s...</td>\n",
       "    </tr>\n",
       "    <tr>\n",
       "      <th>5572</th>\n",
       "      <td>The guy did some bitching but I acted like i'd...</td>\n",
       "      <td>0</td>\n",
       "      <td>the guy did some bitching but i acted like i'd...</td>\n",
       "    </tr>\n",
       "    <tr>\n",
       "      <th>5573</th>\n",
       "      <td>Rofl. Its true to its name\\n</td>\n",
       "      <td>0</td>\n",
       "      <td>rofl. its true to its name\\n</td>\n",
       "    </tr>\n",
       "  </tbody>\n",
       "</table>\n",
       "<p>5774 rows × 3 columns</p>\n",
       "</div>"
      ],
      "text/plain": [
       "                                                Message  Category  \\\n",
       "0     URGENT: Your mobile number has won $500,000 in...         1   \n",
       "1     CONGRATULATIONS! You've been selected for a fr...         1   \n",
       "2     Your package delivery #8742 is pending. Update...         1   \n",
       "3     NETFLIX: Your account has been suspended. Upda...         1   \n",
       "4     50% OFF at Fashion World! Limited time offer. ...         1   \n",
       "...                                                 ...       ...   \n",
       "5569  This is the 2nd time we have tried 2 contact u...         1   \n",
       "5570             Will ü b going to esplanade fr home?\\n         0   \n",
       "5571  Pity, * was in mood for that. So...any other s...         0   \n",
       "5572  The guy did some bitching but I acted like i'd...         0   \n",
       "5573                       Rofl. Its true to its name\\n         0   \n",
       "\n",
       "                                          lower_message  \n",
       "0     urgent: your mobile number has won $500,000 in...  \n",
       "1     congratulations! you've been selected for a fr...  \n",
       "2     your package delivery #8742 is pending. update...  \n",
       "3     netflix: your account has been suspended. upda...  \n",
       "4     50% off at fashion world! limited time offer. ...  \n",
       "...                                                 ...  \n",
       "5569  this is the 2nd time we have tried 2 contact u...  \n",
       "5570             will ü b going to esplanade fr home?\\n  \n",
       "5571  pity, * was in mood for that. so...any other s...  \n",
       "5572  the guy did some bitching but i acted like i'd...  \n",
       "5573                       rofl. its true to its name\\n  \n",
       "\n",
       "[5774 rows x 3 columns]"
      ]
     },
     "execution_count": 263,
     "metadata": {},
     "output_type": "execute_result"
    }
   ],
   "source": [
    "df_cleaning['lower_message'] = df_cleaning['Message'].str.lower()\n",
    "df_cleaning"
   ]
  },
  {
   "cell_type": "code",
   "execution_count": 264,
   "metadata": {},
   "outputs": [
    {
     "data": {
      "application/vnd.microsoft.datawrangler.viewer.v0+json": {
       "columns": [
        {
         "name": "index",
         "rawType": "int64",
         "type": "integer"
        },
        {
         "name": "Message",
         "rawType": "object",
         "type": "string"
        },
        {
         "name": "Category",
         "rawType": "int64",
         "type": "integer"
        },
        {
         "name": "lower_message",
         "rawType": "object",
         "type": "string"
        },
        {
         "name": "message_wo_punct",
         "rawType": "object",
         "type": "string"
        }
       ],
       "conversionMethod": "pd.DataFrame",
       "ref": "36a4af9c-37fb-4aaa-88a2-e140292440c3",
       "rows": [
        [
         "0",
         "URGENT: Your mobile number has won $500,000 in our prize draw! Call now to claim: +1-555-123-4567. Don't miss this chance!",
         "1",
         "urgent: your mobile number has won $500,000 in our prize draw! call now to claim: +1-555-123-4567. don't miss this chance!",
         "urgent your mobile number has won 500000 in our prize draw call now to claim 15551234567 dont miss this chance"
        ],
        [
         "1",
         "CONGRATULATIONS! You've been selected for a free iPhone 14! Click here to claim: www.free-iphone-claim.xyz",
         "1",
         "congratulations! you've been selected for a free iphone 14! click here to claim: www.free-iphone-claim.xyz",
         "congratulations youve been selected for a free iphone 14 click here to claim wwwfreeiphoneclaimxyz"
        ],
        [
         "2",
         "Your package delivery #8742 is pending. Update delivery address within 24hrs: bit.ly/pkg-update",
         "1",
         "your package delivery #8742 is pending. update delivery address within 24hrs: bit.ly/pkg-update",
         "your package delivery 8742 is pending update delivery address within 24hrs bitlypkgupdate"
        ],
        [
         "3",
         "NETFLIX: Your account has been suspended. Update your payment info: netflx-account-verify.com",
         "1",
         "netflix: your account has been suspended. update your payment info: netflx-account-verify.com",
         "netflix your account has been suspended update your payment info netflxaccountverifycom"
        ],
        [
         "4",
         "50% OFF at Fashion World! Limited time offer. Shop now: fw-sales.site/discount",
         "1",
         "50% off at fashion world! limited time offer. shop now: fw-sales.site/discount",
         "50 off at fashion world limited time offer shop now fwsalessitediscount"
        ],
        [
         "5",
         "Your bank account has been compromised. Call security team now: 888-555-9876",
         "1",
         "your bank account has been compromised. call security team now: 888-555-9876",
         "your bank account has been compromised call security team now 8885559876"
        ],
        [
         "6",
         "Dear customer, your Apple ID has been locked for security reasons. Verify identity: secure-apple-id.com",
         "1",
         "dear customer, your apple id has been locked for security reasons. verify identity: secure-apple-id.com",
         "dear customer your apple id has been locked for security reasons verify identity secureappleidcom"
        ],
        [
         "7",
         "BREAKING: New government regulation allows citizens to clear ALL debt legally. Find out how: debt-freedom.xyz",
         "1",
         "breaking: new government regulation allows citizens to clear all debt legally. find out how: debt-freedom.xyz",
         "breaking new government regulation allows citizens to clear all debt legally find out how debtfreedomxyz"
        ],
        [
         "8",
         "Hi this is Jenny from dating service. I saw your profile and want to meet. Text me: +1-555-765-4321",
         "1",
         "hi this is jenny from dating service. i saw your profile and want to meet. text me: +1-555-765-4321",
         "hi this is jenny from dating service i saw your profile and want to meet text me 15557654321"
        ],
        [
         "9",
         "FINAL NOTICE: Your car warranty is about to expire. Last chance to extend coverage. Call: 800-555-1234",
         "1",
         "final notice: your car warranty is about to expire. last chance to extend coverage. call: 800-555-1234",
         "final notice your car warranty is about to expire last chance to extend coverage call 8005551234"
        ],
        [
         "10",
         "ALERT: Unusual activity detected in your account. Verify transactions: secure-bank-verify.com",
         "1",
         "alert: unusual activity detected in your account. verify transactions: secure-bank-verify.com",
         "alert unusual activity detected in your account verify transactions securebankverifycom"
        ],
        [
         "11",
         "Congratulations! You've been pre-approved for a $50,000 loan with low interest. Apply now: ez-loan-apply.com",
         "1",
         "congratulations! you've been pre-approved for a $50,000 loan with low interest. apply now: ez-loan-apply.com",
         "congratulations youve been preapproved for a 50000 loan with low interest apply now ezloanapplycom"
        ],
        [
         "12",
         "Your utility bill payment failed. Service will be disconnected in 24 hours. Update payment: utilitypay-secure.com",
         "1",
         "your utility bill payment failed. service will be disconnected in 24 hours. update payment: utilitypay-secure.com",
         "your utility bill payment failed service will be disconnected in 24 hours update payment utilitypaysecurecom"
        ],
        [
         "13",
         "You have 1 unread message from your secret admirer. View now: date-match.xyz/message",
         "1",
         "you have 1 unread message from your secret admirer. view now: date-match.xyz/message",
         "you have 1 unread message from your secret admirer view now datematchxyzmessage"
        ],
        [
         "14",
         "ATTENTION: Your Social Security Number has been suspended due to suspicious activity. Call: 866-555-4321",
         "1",
         "attention: your social security number has been suspended due to suspicious activity. call: 866-555-4321",
         "attention your social security number has been suspended due to suspicious activity call 8665554321"
        ],
        [
         "15",
         "Your prescription is ready for pickup. Get 70% discount with this code: RX7042. Details: meds-discount.site",
         "1",
         "your prescription is ready for pickup. get 70% discount with this code: rx7042. details: meds-discount.site",
         "your prescription is ready for pickup get 70 discount with this code rx7042 details medsdiscountsite"
        ],
        [
         "16",
         "You have won a $1,000 Walmart gift card. Claim now: walmart-gift.xyz/claim",
         "1",
         "you have won a $1,000 walmart gift card. claim now: walmart-gift.xyz/claim",
         "you have won a 1000 walmart gift card claim now walmartgiftxyzclaim"
        ],
        [
         "17",
         "This is your carrier: Your phone bill is past due. Avoid service interruption: mobilepay-now.com",
         "1",
         "this is your carrier: your phone bill is past due. avoid service interruption: mobilepay-now.com",
         "this is your carrier your phone bill is past due avoid service interruption mobilepaynowcom"
        ],
        [
         "18",
         "URGENT Tax Refund: You are eligible for $1,249.50 tax refund. Submit claim: tax-refund-gov.xyz",
         "1",
         "urgent tax refund: you are eligible for $1,249.50 tax refund. submit claim: tax-refund-gov.xyz",
         "urgent tax refund you are eligible for 124950 tax refund submit claim taxrefundgovxyz"
        ],
        [
         "19",
         "Your order #43298 has been shipped. Track delivery status: amaz0n-tracking.site",
         "1",
         "your order #43298 has been shipped. track delivery status: amaz0n-tracking.site",
         "your order 43298 has been shipped track delivery status amaz0ntrackingsite"
        ],
        [
         "20",
         "Investment Alert: This penny stock is set to explode 500% next week! Buy now: stock-goldmine.xyz",
         "1",
         "investment alert: this penny stock is set to explode 500% next week! buy now: stock-goldmine.xyz",
         "investment alert this penny stock is set to explode 500 next week buy now stockgoldminexyz"
        ],
        [
         "21",
         "Your account access will be terminated. Verify identity: secure-account-verify.com",
         "1",
         "your account access will be terminated. verify identity: secure-account-verify.com",
         "your account access will be terminated verify identity secureaccountverifycom"
        ],
        [
         "22",
         "FINAL WARNING: Your vehicle is showing in our system as uninsured. Avoid penalties: auto-insure-now.site",
         "1",
         "final warning: your vehicle is showing in our system as uninsured. avoid penalties: auto-insure-now.site",
         "final warning your vehicle is showing in our system as uninsured avoid penalties autoinsurenowsite"
        ],
        [
         "23",
         "IMPORTANT: Your recent payment was declined. Update payment method: paypal-secure-update.com",
         "1",
         "important: your recent payment was declined. update payment method: paypal-secure-update.com",
         "important your recent payment was declined update payment method paypalsecureupdatecom"
        ],
        [
         "24",
         "Congratulations! You've been selected for our exclusive survey. Complete for $90 reward: survey-rewards.xyz",
         "1",
         "congratulations! you've been selected for our exclusive survey. complete for $90 reward: survey-rewards.xyz",
         "congratulations youve been selected for our exclusive survey complete for 90 reward surveyrewardsxyz"
        ],
        [
         "25",
         "ATTENTION CUSTOMER: Your internet service will be disconnected. Pay now: internet-billing.site",
         "1",
         "attention customer: your internet service will be disconnected. pay now: internet-billing.site",
         "attention customer your internet service will be disconnected pay now internetbillingsite"
        ],
        [
         "26",
         "Your CV was found in our database. $95k position available. Apply now: career-opportunity.xyz",
         "1",
         "your cv was found in our database. $95k position available. apply now: career-opportunity.xyz",
         "your cv was found in our database 95k position available apply now careeropportunityxyz"
        ],
        [
         "27",
         "COURT NOTICE: You are scheduled to appear. Case #CR7231. Details: court-notice.site",
         "1",
         "court notice: you are scheduled to appear. case #cr7231. details: court-notice.site",
         "court notice you are scheduled to appear case cr7231 details courtnoticesite"
        ],
        [
         "28",
         "Your phone has 3 virus! Click to scan and remove: virus-removal.xyz",
         "1",
         "your phone has 3 virus! click to scan and remove: virus-removal.xyz",
         "your phone has 3 virus click to scan and remove virusremovalxyz"
        ],
        [
         "29",
         "FREE: Get your credit score and report now! Limited offer: free-credit-check.site",
         "1",
         "free: get your credit score and report now! limited offer: free-credit-check.site",
         "free get your credit score and report now limited offer freecreditchecksite"
        ],
        [
         "30",
         "WINNER ALERT: You've been selected to receive a $250 Amazon gift card. Claim now: amazon-rewards.site",
         "1",
         "winner alert: you've been selected to receive a $250 amazon gift card. claim now: amazon-rewards.site",
         "winner alert youve been selected to receive a 250 amazon gift card claim now amazonrewardssite"
        ],
        [
         "31",
         "URGENT: Your credit card has been charged $499. If unauthorized call: +1-888-555-3214",
         "1",
         "urgent: your credit card has been charged $499. if unauthorized call: +1-888-555-3214",
         "urgent your credit card has been charged 499 if unauthorized call 18885553214"
        ],
        [
         "32",
         "Your Apple iCloud account will be deleted in 24 hours. Verify now: secure-icloud-verify.com",
         "1",
         "your apple icloud account will be deleted in 24 hours. verify now: secure-icloud-verify.com",
         "your apple icloud account will be deleted in 24 hours verify now secureicloudverifycom"
        ],
        [
         "33",
         "ATTENTION: We've been trying to reach you about your car's extended warranty. Last chance: 800-555-9876",
         "1",
         "attention: we've been trying to reach you about your car's extended warranty. last chance: 800-555-9876",
         "attention weve been trying to reach you about your cars extended warranty last chance 8005559876"
        ],
        [
         "34",
         "Congratulations! You qualify for student loan forgiveness. Apply here: loan-forgive-gov.xyz",
         "1",
         "congratulations! you qualify for student loan forgiveness. apply here: loan-forgive-gov.xyz",
         "congratulations you qualify for student loan forgiveness apply here loanforgivegovxyz"
        ],
        [
         "35",
         "SECURITY ALERT: Suspicious sign-in attempt on your Google account. Verify now: google-secure-verify.com",
         "1",
         "security alert: suspicious sign-in attempt on your google account. verify now: google-secure-verify.com",
         "security alert suspicious signin attempt on your google account verify now googlesecureverifycom"
        ],
        [
         "36",
         "Your parcel #UK45692 is on hold. Confirm delivery address: royal-mail-delivery.site",
         "1",
         "your parcel #uk45692 is on hold. confirm delivery address: royal-mail-delivery.site",
         "your parcel uk45692 is on hold confirm delivery address royalmaildeliverysite"
        ],
        [
         "37",
         "50% OFF EVERYTHING at Nike! Limited time offer: nike-special-deals.xyz",
         "1",
         "50% off everything at nike! limited time offer: nike-special-deals.xyz",
         "50 off everything at nike limited time offer nikespecialdealsxyz"
        ],
        [
         "38",
         "ACTION REQUIRED: Your PayPal account has been limited. Update info: paypal-account-service.com",
         "1",
         "action required: your paypal account has been limited. update info: paypal-account-service.com",
         "action required your paypal account has been limited update info paypalaccountservicecom"
        ],
        [
         "39",
         "URGENT: Your electricity will be disconnected tonight. Pay now: utility-pay-online.site",
         "1",
         "urgent: your electricity will be disconnected tonight. pay now: utility-pay-online.site",
         "urgent your electricity will be disconnected tonight pay now utilitypayonlinesite"
        ],
        [
         "40",
         "Your Bitcoin wallet has been credited with 0.5 BTC. Confirm receipt: bitcoin-wallet-verify.xyz",
         "1",
         "your bitcoin wallet has been credited with 0.5 btc. confirm receipt: bitcoin-wallet-verify.xyz",
         "your bitcoin wallet has been credited with 05 btc confirm receipt bitcoinwalletverifyxyz"
        ],
        [
         "41",
         "FINAL NOTICE: Your tax records are out of date. Avoid penalties: irs-tax-update.site",
         "1",
         "final notice: your tax records are out of date. avoid penalties: irs-tax-update.site",
         "final notice your tax records are out of date avoid penalties irstaxupdatesite"
        ],
        [
         "42",
         "You've been selected for a $50 Starbucks gift card! Claim now: starbucks-rewards.xyz",
         "1",
         "you've been selected for a $50 starbucks gift card! claim now: starbucks-rewards.xyz",
         "youve been selected for a 50 starbucks gift card claim now starbucksrewardsxyz"
        ],
        [
         "43",
         "Your Instagram account will be permanently deleted. Verify ownership: instagram-verify.site",
         "1",
         "your instagram account will be permanently deleted. verify ownership: instagram-verify.site",
         "your instagram account will be permanently deleted verify ownership instagramverifysite"
        ],
        [
         "44",
         "URGENT: Your phone service will be suspended. Update billing info: mobile-service-update.com",
         "1",
         "urgent: your phone service will be suspended. update billing info: mobile-service-update.com",
         "urgent your phone service will be suspended update billing info mobileserviceupdatecom"
        ],
        [
         "45",
         "Congratulations! You're prequalified for a new credit card with $10,000 limit: premier-credit-offer.site",
         "1",
         "congratulations! you're prequalified for a new credit card with $10,000 limit: premier-credit-offer.site",
         "congratulations youre prequalified for a new credit card with 10000 limit premiercreditoffersite"
        ],
        [
         "46",
         "Your flight reservation #AX78542 has been changed. Confirm details: airline-update.xyz",
         "1",
         "your flight reservation #ax78542 has been changed. confirm details: airline-update.xyz",
         "your flight reservation ax78542 has been changed confirm details airlineupdatexyz"
        ],
        [
         "47",
         "LAST CHANCE: Claim your free laptop from our annual giveaway: free-laptop-giveaway.site",
         "1",
         "last chance: claim your free laptop from our annual giveaway: free-laptop-giveaway.site",
         "last chance claim your free laptop from our annual giveaway freelaptopgiveawaysite"
        ],
        [
         "48",
         "Your Facebook account has been reported. Verify to avoid suspension: facebook-security-team.xyz",
         "1",
         "your facebook account has been reported. verify to avoid suspension: facebook-security-team.xyz",
         "your facebook account has been reported verify to avoid suspension facebooksecurityteamxyz"
        ],
        [
         "49",
         "Congratulations! You've won 2nd prize in Coca-Cola sweepstakes. Claim $5,000: coke-prize.site",
         "1",
         "congratulations! you've won 2nd prize in coca-cola sweepstakes. claim $5,000: coke-prize.site",
         "congratulations youve won 2nd prize in cocacola sweepstakes claim 5000 cokeprizesite"
        ]
       ],
       "shape": {
        "columns": 4,
        "rows": 5774
       }
      },
      "text/html": [
       "<div>\n",
       "<style scoped>\n",
       "    .dataframe tbody tr th:only-of-type {\n",
       "        vertical-align: middle;\n",
       "    }\n",
       "\n",
       "    .dataframe tbody tr th {\n",
       "        vertical-align: top;\n",
       "    }\n",
       "\n",
       "    .dataframe thead th {\n",
       "        text-align: right;\n",
       "    }\n",
       "</style>\n",
       "<table border=\"1\" class=\"dataframe\">\n",
       "  <thead>\n",
       "    <tr style=\"text-align: right;\">\n",
       "      <th></th>\n",
       "      <th>Message</th>\n",
       "      <th>Category</th>\n",
       "      <th>lower_message</th>\n",
       "      <th>message_wo_punct</th>\n",
       "    </tr>\n",
       "  </thead>\n",
       "  <tbody>\n",
       "    <tr>\n",
       "      <th>0</th>\n",
       "      <td>URGENT: Your mobile number has won $500,000 in...</td>\n",
       "      <td>1</td>\n",
       "      <td>urgent: your mobile number has won $500,000 in...</td>\n",
       "      <td>urgent your mobile number has won 500000 in ou...</td>\n",
       "    </tr>\n",
       "    <tr>\n",
       "      <th>1</th>\n",
       "      <td>CONGRATULATIONS! You've been selected for a fr...</td>\n",
       "      <td>1</td>\n",
       "      <td>congratulations! you've been selected for a fr...</td>\n",
       "      <td>congratulations youve been selected for a free...</td>\n",
       "    </tr>\n",
       "    <tr>\n",
       "      <th>2</th>\n",
       "      <td>Your package delivery #8742 is pending. Update...</td>\n",
       "      <td>1</td>\n",
       "      <td>your package delivery #8742 is pending. update...</td>\n",
       "      <td>your package delivery 8742 is pending update d...</td>\n",
       "    </tr>\n",
       "    <tr>\n",
       "      <th>3</th>\n",
       "      <td>NETFLIX: Your account has been suspended. Upda...</td>\n",
       "      <td>1</td>\n",
       "      <td>netflix: your account has been suspended. upda...</td>\n",
       "      <td>netflix your account has been suspended update...</td>\n",
       "    </tr>\n",
       "    <tr>\n",
       "      <th>4</th>\n",
       "      <td>50% OFF at Fashion World! Limited time offer. ...</td>\n",
       "      <td>1</td>\n",
       "      <td>50% off at fashion world! limited time offer. ...</td>\n",
       "      <td>50 off at fashion world limited time offer sho...</td>\n",
       "    </tr>\n",
       "    <tr>\n",
       "      <th>...</th>\n",
       "      <td>...</td>\n",
       "      <td>...</td>\n",
       "      <td>...</td>\n",
       "      <td>...</td>\n",
       "    </tr>\n",
       "    <tr>\n",
       "      <th>5569</th>\n",
       "      <td>This is the 2nd time we have tried 2 contact u...</td>\n",
       "      <td>1</td>\n",
       "      <td>this is the 2nd time we have tried 2 contact u...</td>\n",
       "      <td>this is the 2nd time we have tried 2 contact u...</td>\n",
       "    </tr>\n",
       "    <tr>\n",
       "      <th>5570</th>\n",
       "      <td>Will ü b going to esplanade fr home?\\n</td>\n",
       "      <td>0</td>\n",
       "      <td>will ü b going to esplanade fr home?\\n</td>\n",
       "      <td>will ü b going to esplanade fr home\\n</td>\n",
       "    </tr>\n",
       "    <tr>\n",
       "      <th>5571</th>\n",
       "      <td>Pity, * was in mood for that. So...any other s...</td>\n",
       "      <td>0</td>\n",
       "      <td>pity, * was in mood for that. so...any other s...</td>\n",
       "      <td>pity  was in mood for that soany other suggest...</td>\n",
       "    </tr>\n",
       "    <tr>\n",
       "      <th>5572</th>\n",
       "      <td>The guy did some bitching but I acted like i'd...</td>\n",
       "      <td>0</td>\n",
       "      <td>the guy did some bitching but i acted like i'd...</td>\n",
       "      <td>the guy did some bitching but i acted like id ...</td>\n",
       "    </tr>\n",
       "    <tr>\n",
       "      <th>5573</th>\n",
       "      <td>Rofl. Its true to its name\\n</td>\n",
       "      <td>0</td>\n",
       "      <td>rofl. its true to its name\\n</td>\n",
       "      <td>rofl its true to its name\\n</td>\n",
       "    </tr>\n",
       "  </tbody>\n",
       "</table>\n",
       "<p>5774 rows × 4 columns</p>\n",
       "</div>"
      ],
      "text/plain": [
       "                                                Message  Category  \\\n",
       "0     URGENT: Your mobile number has won $500,000 in...         1   \n",
       "1     CONGRATULATIONS! You've been selected for a fr...         1   \n",
       "2     Your package delivery #8742 is pending. Update...         1   \n",
       "3     NETFLIX: Your account has been suspended. Upda...         1   \n",
       "4     50% OFF at Fashion World! Limited time offer. ...         1   \n",
       "...                                                 ...       ...   \n",
       "5569  This is the 2nd time we have tried 2 contact u...         1   \n",
       "5570             Will ü b going to esplanade fr home?\\n         0   \n",
       "5571  Pity, * was in mood for that. So...any other s...         0   \n",
       "5572  The guy did some bitching but I acted like i'd...         0   \n",
       "5573                       Rofl. Its true to its name\\n         0   \n",
       "\n",
       "                                          lower_message  \\\n",
       "0     urgent: your mobile number has won $500,000 in...   \n",
       "1     congratulations! you've been selected for a fr...   \n",
       "2     your package delivery #8742 is pending. update...   \n",
       "3     netflix: your account has been suspended. upda...   \n",
       "4     50% off at fashion world! limited time offer. ...   \n",
       "...                                                 ...   \n",
       "5569  this is the 2nd time we have tried 2 contact u...   \n",
       "5570             will ü b going to esplanade fr home?\\n   \n",
       "5571  pity, * was in mood for that. so...any other s...   \n",
       "5572  the guy did some bitching but i acted like i'd...   \n",
       "5573                       rofl. its true to its name\\n   \n",
       "\n",
       "                                       message_wo_punct  \n",
       "0     urgent your mobile number has won 500000 in ou...  \n",
       "1     congratulations youve been selected for a free...  \n",
       "2     your package delivery 8742 is pending update d...  \n",
       "3     netflix your account has been suspended update...  \n",
       "4     50 off at fashion world limited time offer sho...  \n",
       "...                                                 ...  \n",
       "5569  this is the 2nd time we have tried 2 contact u...  \n",
       "5570              will ü b going to esplanade fr home\\n  \n",
       "5571  pity  was in mood for that soany other suggest...  \n",
       "5572  the guy did some bitching but i acted like id ...  \n",
       "5573                        rofl its true to its name\\n  \n",
       "\n",
       "[5774 rows x 4 columns]"
      ]
     },
     "execution_count": 264,
     "metadata": {},
     "output_type": "execute_result"
    }
   ],
   "source": [
    "PUNCT_TO_REMOVE = string.punctuation\n",
    "def remove_punctuation(text):\n",
    "    \"\"\"custom function to remove the punctuation\"\"\"\n",
    "    return text.translate(str.maketrans('', '', PUNCT_TO_REMOVE))\n",
    "\n",
    "df_cleaning['message_wo_punct'] = df_cleaning[\"lower_message\"].apply(lambda text: remove_punctuation(text))\n",
    "df_cleaning"
   ]
  },
  {
   "cell_type": "code",
   "execution_count": 265,
   "metadata": {},
   "outputs": [
    {
     "data": {
      "application/vnd.microsoft.datawrangler.viewer.v0+json": {
       "columns": [
        {
         "name": "index",
         "rawType": "int64",
         "type": "integer"
        },
        {
         "name": "Message",
         "rawType": "object",
         "type": "string"
        },
        {
         "name": "Category",
         "rawType": "int64",
         "type": "integer"
        },
        {
         "name": "lower_message",
         "rawType": "object",
         "type": "string"
        },
        {
         "name": "message_wo_punct",
         "rawType": "object",
         "type": "string"
        },
        {
         "name": "message_no_stopwords",
         "rawType": "object",
         "type": "string"
        }
       ],
       "conversionMethod": "pd.DataFrame",
       "ref": "ff14aaae-167f-4e5a-b539-a49847e3e911",
       "rows": [
        [
         "0",
         "URGENT: Your mobile number has won $500,000 in our prize draw! Call now to claim: +1-555-123-4567. Don't miss this chance!",
         "1",
         "urgent: your mobile number has won $500,000 in our prize draw! call now to claim: +1-555-123-4567. don't miss this chance!",
         "urgent your mobile number has won 500000 in our prize draw call now to claim 15551234567 dont miss this chance",
         "urgent mobile number 500000 prize draw call claim 15551234567 dont miss chance"
        ],
        [
         "1",
         "CONGRATULATIONS! You've been selected for a free iPhone 14! Click here to claim: www.free-iphone-claim.xyz",
         "1",
         "congratulations! you've been selected for a free iphone 14! click here to claim: www.free-iphone-claim.xyz",
         "congratulations youve been selected for a free iphone 14 click here to claim wwwfreeiphoneclaimxyz",
         "congratulations youve selected free iphone 14 click claim wwwfreeiphoneclaimxyz"
        ],
        [
         "2",
         "Your package delivery #8742 is pending. Update delivery address within 24hrs: bit.ly/pkg-update",
         "1",
         "your package delivery #8742 is pending. update delivery address within 24hrs: bit.ly/pkg-update",
         "your package delivery 8742 is pending update delivery address within 24hrs bitlypkgupdate",
         "package delivery 8742 pending update delivery address within 24hrs bitlypkgupdate"
        ],
        [
         "3",
         "NETFLIX: Your account has been suspended. Update your payment info: netflx-account-verify.com",
         "1",
         "netflix: your account has been suspended. update your payment info: netflx-account-verify.com",
         "netflix your account has been suspended update your payment info netflxaccountverifycom",
         "netflix account suspended update payment info netflxaccountverifycom"
        ],
        [
         "4",
         "50% OFF at Fashion World! Limited time offer. Shop now: fw-sales.site/discount",
         "1",
         "50% off at fashion world! limited time offer. shop now: fw-sales.site/discount",
         "50 off at fashion world limited time offer shop now fwsalessitediscount",
         "50 fashion world limited time offer shop fwsalessitediscount"
        ],
        [
         "5",
         "Your bank account has been compromised. Call security team now: 888-555-9876",
         "1",
         "your bank account has been compromised. call security team now: 888-555-9876",
         "your bank account has been compromised call security team now 8885559876",
         "bank account compromised call security team 8885559876"
        ],
        [
         "6",
         "Dear customer, your Apple ID has been locked for security reasons. Verify identity: secure-apple-id.com",
         "1",
         "dear customer, your apple id has been locked for security reasons. verify identity: secure-apple-id.com",
         "dear customer your apple id has been locked for security reasons verify identity secureappleidcom",
         "dear customer apple id locked security reasons verify identity secureappleidcom"
        ],
        [
         "7",
         "BREAKING: New government regulation allows citizens to clear ALL debt legally. Find out how: debt-freedom.xyz",
         "1",
         "breaking: new government regulation allows citizens to clear all debt legally. find out how: debt-freedom.xyz",
         "breaking new government regulation allows citizens to clear all debt legally find out how debtfreedomxyz",
         "breaking new government regulation allows citizens clear debt legally find debtfreedomxyz"
        ],
        [
         "8",
         "Hi this is Jenny from dating service. I saw your profile and want to meet. Text me: +1-555-765-4321",
         "1",
         "hi this is jenny from dating service. i saw your profile and want to meet. text me: +1-555-765-4321",
         "hi this is jenny from dating service i saw your profile and want to meet text me 15557654321",
         "hi jenny dating service saw profile want meet text 15557654321"
        ],
        [
         "9",
         "FINAL NOTICE: Your car warranty is about to expire. Last chance to extend coverage. Call: 800-555-1234",
         "1",
         "final notice: your car warranty is about to expire. last chance to extend coverage. call: 800-555-1234",
         "final notice your car warranty is about to expire last chance to extend coverage call 8005551234",
         "final notice car warranty expire last chance extend coverage call 8005551234"
        ],
        [
         "10",
         "ALERT: Unusual activity detected in your account. Verify transactions: secure-bank-verify.com",
         "1",
         "alert: unusual activity detected in your account. verify transactions: secure-bank-verify.com",
         "alert unusual activity detected in your account verify transactions securebankverifycom",
         "alert unusual activity detected account verify transactions securebankverifycom"
        ],
        [
         "11",
         "Congratulations! You've been pre-approved for a $50,000 loan with low interest. Apply now: ez-loan-apply.com",
         "1",
         "congratulations! you've been pre-approved for a $50,000 loan with low interest. apply now: ez-loan-apply.com",
         "congratulations youve been preapproved for a 50000 loan with low interest apply now ezloanapplycom",
         "congratulations youve preapproved 50000 loan low interest apply ezloanapplycom"
        ],
        [
         "12",
         "Your utility bill payment failed. Service will be disconnected in 24 hours. Update payment: utilitypay-secure.com",
         "1",
         "your utility bill payment failed. service will be disconnected in 24 hours. update payment: utilitypay-secure.com",
         "your utility bill payment failed service will be disconnected in 24 hours update payment utilitypaysecurecom",
         "utility bill payment failed service disconnected 24 hours update payment utilitypaysecurecom"
        ],
        [
         "13",
         "You have 1 unread message from your secret admirer. View now: date-match.xyz/message",
         "1",
         "you have 1 unread message from your secret admirer. view now: date-match.xyz/message",
         "you have 1 unread message from your secret admirer view now datematchxyzmessage",
         "1 unread message secret admirer view datematchxyzmessage"
        ],
        [
         "14",
         "ATTENTION: Your Social Security Number has been suspended due to suspicious activity. Call: 866-555-4321",
         "1",
         "attention: your social security number has been suspended due to suspicious activity. call: 866-555-4321",
         "attention your social security number has been suspended due to suspicious activity call 8665554321",
         "attention social security number suspended due suspicious activity call 8665554321"
        ],
        [
         "15",
         "Your prescription is ready for pickup. Get 70% discount with this code: RX7042. Details: meds-discount.site",
         "1",
         "your prescription is ready for pickup. get 70% discount with this code: rx7042. details: meds-discount.site",
         "your prescription is ready for pickup get 70 discount with this code rx7042 details medsdiscountsite",
         "prescription ready pickup get 70 discount code rx7042 details medsdiscountsite"
        ],
        [
         "16",
         "You have won a $1,000 Walmart gift card. Claim now: walmart-gift.xyz/claim",
         "1",
         "you have won a $1,000 walmart gift card. claim now: walmart-gift.xyz/claim",
         "you have won a 1000 walmart gift card claim now walmartgiftxyzclaim",
         "1000 walmart gift card claim walmartgiftxyzclaim"
        ],
        [
         "17",
         "This is your carrier: Your phone bill is past due. Avoid service interruption: mobilepay-now.com",
         "1",
         "this is your carrier: your phone bill is past due. avoid service interruption: mobilepay-now.com",
         "this is your carrier your phone bill is past due avoid service interruption mobilepaynowcom",
         "carrier phone bill past due avoid service interruption mobilepaynowcom"
        ],
        [
         "18",
         "URGENT Tax Refund: You are eligible for $1,249.50 tax refund. Submit claim: tax-refund-gov.xyz",
         "1",
         "urgent tax refund: you are eligible for $1,249.50 tax refund. submit claim: tax-refund-gov.xyz",
         "urgent tax refund you are eligible for 124950 tax refund submit claim taxrefundgovxyz",
         "urgent tax refund eligible 124950 tax refund submit claim taxrefundgovxyz"
        ],
        [
         "19",
         "Your order #43298 has been shipped. Track delivery status: amaz0n-tracking.site",
         "1",
         "your order #43298 has been shipped. track delivery status: amaz0n-tracking.site",
         "your order 43298 has been shipped track delivery status amaz0ntrackingsite",
         "order 43298 shipped track delivery status amaz0ntrackingsite"
        ],
        [
         "20",
         "Investment Alert: This penny stock is set to explode 500% next week! Buy now: stock-goldmine.xyz",
         "1",
         "investment alert: this penny stock is set to explode 500% next week! buy now: stock-goldmine.xyz",
         "investment alert this penny stock is set to explode 500 next week buy now stockgoldminexyz",
         "investment alert penny stock set explode 500 next week buy stockgoldminexyz"
        ],
        [
         "21",
         "Your account access will be terminated. Verify identity: secure-account-verify.com",
         "1",
         "your account access will be terminated. verify identity: secure-account-verify.com",
         "your account access will be terminated verify identity secureaccountverifycom",
         "account access terminated verify identity secureaccountverifycom"
        ],
        [
         "22",
         "FINAL WARNING: Your vehicle is showing in our system as uninsured. Avoid penalties: auto-insure-now.site",
         "1",
         "final warning: your vehicle is showing in our system as uninsured. avoid penalties: auto-insure-now.site",
         "final warning your vehicle is showing in our system as uninsured avoid penalties autoinsurenowsite",
         "final warning vehicle showing system uninsured avoid penalties autoinsurenowsite"
        ],
        [
         "23",
         "IMPORTANT: Your recent payment was declined. Update payment method: paypal-secure-update.com",
         "1",
         "important: your recent payment was declined. update payment method: paypal-secure-update.com",
         "important your recent payment was declined update payment method paypalsecureupdatecom",
         "important recent payment declined update payment method paypalsecureupdatecom"
        ],
        [
         "24",
         "Congratulations! You've been selected for our exclusive survey. Complete for $90 reward: survey-rewards.xyz",
         "1",
         "congratulations! you've been selected for our exclusive survey. complete for $90 reward: survey-rewards.xyz",
         "congratulations youve been selected for our exclusive survey complete for 90 reward surveyrewardsxyz",
         "congratulations youve selected exclusive survey complete 90 reward surveyrewardsxyz"
        ],
        [
         "25",
         "ATTENTION CUSTOMER: Your internet service will be disconnected. Pay now: internet-billing.site",
         "1",
         "attention customer: your internet service will be disconnected. pay now: internet-billing.site",
         "attention customer your internet service will be disconnected pay now internetbillingsite",
         "attention customer internet service disconnected pay internetbillingsite"
        ],
        [
         "26",
         "Your CV was found in our database. $95k position available. Apply now: career-opportunity.xyz",
         "1",
         "your cv was found in our database. $95k position available. apply now: career-opportunity.xyz",
         "your cv was found in our database 95k position available apply now careeropportunityxyz",
         "cv found database 95k position available apply careeropportunityxyz"
        ],
        [
         "27",
         "COURT NOTICE: You are scheduled to appear. Case #CR7231. Details: court-notice.site",
         "1",
         "court notice: you are scheduled to appear. case #cr7231. details: court-notice.site",
         "court notice you are scheduled to appear case cr7231 details courtnoticesite",
         "court notice scheduled appear case cr7231 details courtnoticesite"
        ],
        [
         "28",
         "Your phone has 3 virus! Click to scan and remove: virus-removal.xyz",
         "1",
         "your phone has 3 virus! click to scan and remove: virus-removal.xyz",
         "your phone has 3 virus click to scan and remove virusremovalxyz",
         "phone 3 virus click scan remove virusremovalxyz"
        ],
        [
         "29",
         "FREE: Get your credit score and report now! Limited offer: free-credit-check.site",
         "1",
         "free: get your credit score and report now! limited offer: free-credit-check.site",
         "free get your credit score and report now limited offer freecreditchecksite",
         "free get credit score report limited offer freecreditchecksite"
        ],
        [
         "30",
         "WINNER ALERT: You've been selected to receive a $250 Amazon gift card. Claim now: amazon-rewards.site",
         "1",
         "winner alert: you've been selected to receive a $250 amazon gift card. claim now: amazon-rewards.site",
         "winner alert youve been selected to receive a 250 amazon gift card claim now amazonrewardssite",
         "winner alert youve selected receive 250 amazon gift card claim amazonrewardssite"
        ],
        [
         "31",
         "URGENT: Your credit card has been charged $499. If unauthorized call: +1-888-555-3214",
         "1",
         "urgent: your credit card has been charged $499. if unauthorized call: +1-888-555-3214",
         "urgent your credit card has been charged 499 if unauthorized call 18885553214",
         "urgent credit card charged 499 unauthorized call 18885553214"
        ],
        [
         "32",
         "Your Apple iCloud account will be deleted in 24 hours. Verify now: secure-icloud-verify.com",
         "1",
         "your apple icloud account will be deleted in 24 hours. verify now: secure-icloud-verify.com",
         "your apple icloud account will be deleted in 24 hours verify now secureicloudverifycom",
         "apple icloud account deleted 24 hours verify secureicloudverifycom"
        ],
        [
         "33",
         "ATTENTION: We've been trying to reach you about your car's extended warranty. Last chance: 800-555-9876",
         "1",
         "attention: we've been trying to reach you about your car's extended warranty. last chance: 800-555-9876",
         "attention weve been trying to reach you about your cars extended warranty last chance 8005559876",
         "attention weve trying reach cars extended warranty last chance 8005559876"
        ],
        [
         "34",
         "Congratulations! You qualify for student loan forgiveness. Apply here: loan-forgive-gov.xyz",
         "1",
         "congratulations! you qualify for student loan forgiveness. apply here: loan-forgive-gov.xyz",
         "congratulations you qualify for student loan forgiveness apply here loanforgivegovxyz",
         "congratulations qualify student loan forgiveness apply loanforgivegovxyz"
        ],
        [
         "35",
         "SECURITY ALERT: Suspicious sign-in attempt on your Google account. Verify now: google-secure-verify.com",
         "1",
         "security alert: suspicious sign-in attempt on your google account. verify now: google-secure-verify.com",
         "security alert suspicious signin attempt on your google account verify now googlesecureverifycom",
         "security alert suspicious signin attempt google account verify googlesecureverifycom"
        ],
        [
         "36",
         "Your parcel #UK45692 is on hold. Confirm delivery address: royal-mail-delivery.site",
         "1",
         "your parcel #uk45692 is on hold. confirm delivery address: royal-mail-delivery.site",
         "your parcel uk45692 is on hold confirm delivery address royalmaildeliverysite",
         "parcel uk45692 hold confirm delivery address royalmaildeliverysite"
        ],
        [
         "37",
         "50% OFF EVERYTHING at Nike! Limited time offer: nike-special-deals.xyz",
         "1",
         "50% off everything at nike! limited time offer: nike-special-deals.xyz",
         "50 off everything at nike limited time offer nikespecialdealsxyz",
         "50 everything nike limited time offer nikespecialdealsxyz"
        ],
        [
         "38",
         "ACTION REQUIRED: Your PayPal account has been limited. Update info: paypal-account-service.com",
         "1",
         "action required: your paypal account has been limited. update info: paypal-account-service.com",
         "action required your paypal account has been limited update info paypalaccountservicecom",
         "action required paypal account limited update info paypalaccountservicecom"
        ],
        [
         "39",
         "URGENT: Your electricity will be disconnected tonight. Pay now: utility-pay-online.site",
         "1",
         "urgent: your electricity will be disconnected tonight. pay now: utility-pay-online.site",
         "urgent your electricity will be disconnected tonight pay now utilitypayonlinesite",
         "urgent electricity disconnected tonight pay utilitypayonlinesite"
        ],
        [
         "40",
         "Your Bitcoin wallet has been credited with 0.5 BTC. Confirm receipt: bitcoin-wallet-verify.xyz",
         "1",
         "your bitcoin wallet has been credited with 0.5 btc. confirm receipt: bitcoin-wallet-verify.xyz",
         "your bitcoin wallet has been credited with 05 btc confirm receipt bitcoinwalletverifyxyz",
         "bitcoin wallet credited 05 btc confirm receipt bitcoinwalletverifyxyz"
        ],
        [
         "41",
         "FINAL NOTICE: Your tax records are out of date. Avoid penalties: irs-tax-update.site",
         "1",
         "final notice: your tax records are out of date. avoid penalties: irs-tax-update.site",
         "final notice your tax records are out of date avoid penalties irstaxupdatesite",
         "final notice tax records date avoid penalties irstaxupdatesite"
        ],
        [
         "42",
         "You've been selected for a $50 Starbucks gift card! Claim now: starbucks-rewards.xyz",
         "1",
         "you've been selected for a $50 starbucks gift card! claim now: starbucks-rewards.xyz",
         "youve been selected for a 50 starbucks gift card claim now starbucksrewardsxyz",
         "youve selected 50 starbucks gift card claim starbucksrewardsxyz"
        ],
        [
         "43",
         "Your Instagram account will be permanently deleted. Verify ownership: instagram-verify.site",
         "1",
         "your instagram account will be permanently deleted. verify ownership: instagram-verify.site",
         "your instagram account will be permanently deleted verify ownership instagramverifysite",
         "instagram account permanently deleted verify ownership instagramverifysite"
        ],
        [
         "44",
         "URGENT: Your phone service will be suspended. Update billing info: mobile-service-update.com",
         "1",
         "urgent: your phone service will be suspended. update billing info: mobile-service-update.com",
         "urgent your phone service will be suspended update billing info mobileserviceupdatecom",
         "urgent phone service suspended update billing info mobileserviceupdatecom"
        ],
        [
         "45",
         "Congratulations! You're prequalified for a new credit card with $10,000 limit: premier-credit-offer.site",
         "1",
         "congratulations! you're prequalified for a new credit card with $10,000 limit: premier-credit-offer.site",
         "congratulations youre prequalified for a new credit card with 10000 limit premiercreditoffersite",
         "congratulations youre prequalified new credit card 10000 limit premiercreditoffersite"
        ],
        [
         "46",
         "Your flight reservation #AX78542 has been changed. Confirm details: airline-update.xyz",
         "1",
         "your flight reservation #ax78542 has been changed. confirm details: airline-update.xyz",
         "your flight reservation ax78542 has been changed confirm details airlineupdatexyz",
         "flight reservation ax78542 changed confirm details airlineupdatexyz"
        ],
        [
         "47",
         "LAST CHANCE: Claim your free laptop from our annual giveaway: free-laptop-giveaway.site",
         "1",
         "last chance: claim your free laptop from our annual giveaway: free-laptop-giveaway.site",
         "last chance claim your free laptop from our annual giveaway freelaptopgiveawaysite",
         "last chance claim free laptop annual giveaway freelaptopgiveawaysite"
        ],
        [
         "48",
         "Your Facebook account has been reported. Verify to avoid suspension: facebook-security-team.xyz",
         "1",
         "your facebook account has been reported. verify to avoid suspension: facebook-security-team.xyz",
         "your facebook account has been reported verify to avoid suspension facebooksecurityteamxyz",
         "facebook account reported verify avoid suspension facebooksecurityteamxyz"
        ],
        [
         "49",
         "Congratulations! You've won 2nd prize in Coca-Cola sweepstakes. Claim $5,000: coke-prize.site",
         "1",
         "congratulations! you've won 2nd prize in coca-cola sweepstakes. claim $5,000: coke-prize.site",
         "congratulations youve won 2nd prize in cocacola sweepstakes claim 5000 cokeprizesite",
         "congratulations youve 2nd prize cocacola sweepstakes claim 5000 cokeprizesite"
        ]
       ],
       "shape": {
        "columns": 5,
        "rows": 5774
       }
      },
      "text/html": [
       "<div>\n",
       "<style scoped>\n",
       "    .dataframe tbody tr th:only-of-type {\n",
       "        vertical-align: middle;\n",
       "    }\n",
       "\n",
       "    .dataframe tbody tr th {\n",
       "        vertical-align: top;\n",
       "    }\n",
       "\n",
       "    .dataframe thead th {\n",
       "        text-align: right;\n",
       "    }\n",
       "</style>\n",
       "<table border=\"1\" class=\"dataframe\">\n",
       "  <thead>\n",
       "    <tr style=\"text-align: right;\">\n",
       "      <th></th>\n",
       "      <th>Message</th>\n",
       "      <th>Category</th>\n",
       "      <th>lower_message</th>\n",
       "      <th>message_wo_punct</th>\n",
       "      <th>message_no_stopwords</th>\n",
       "    </tr>\n",
       "  </thead>\n",
       "  <tbody>\n",
       "    <tr>\n",
       "      <th>0</th>\n",
       "      <td>URGENT: Your mobile number has won $500,000 in...</td>\n",
       "      <td>1</td>\n",
       "      <td>urgent: your mobile number has won $500,000 in...</td>\n",
       "      <td>urgent your mobile number has won 500000 in ou...</td>\n",
       "      <td>urgent mobile number 500000 prize draw call cl...</td>\n",
       "    </tr>\n",
       "    <tr>\n",
       "      <th>1</th>\n",
       "      <td>CONGRATULATIONS! You've been selected for a fr...</td>\n",
       "      <td>1</td>\n",
       "      <td>congratulations! you've been selected for a fr...</td>\n",
       "      <td>congratulations youve been selected for a free...</td>\n",
       "      <td>congratulations youve selected free iphone 14 ...</td>\n",
       "    </tr>\n",
       "    <tr>\n",
       "      <th>2</th>\n",
       "      <td>Your package delivery #8742 is pending. Update...</td>\n",
       "      <td>1</td>\n",
       "      <td>your package delivery #8742 is pending. update...</td>\n",
       "      <td>your package delivery 8742 is pending update d...</td>\n",
       "      <td>package delivery 8742 pending update delivery ...</td>\n",
       "    </tr>\n",
       "    <tr>\n",
       "      <th>3</th>\n",
       "      <td>NETFLIX: Your account has been suspended. Upda...</td>\n",
       "      <td>1</td>\n",
       "      <td>netflix: your account has been suspended. upda...</td>\n",
       "      <td>netflix your account has been suspended update...</td>\n",
       "      <td>netflix account suspended update payment info ...</td>\n",
       "    </tr>\n",
       "    <tr>\n",
       "      <th>4</th>\n",
       "      <td>50% OFF at Fashion World! Limited time offer. ...</td>\n",
       "      <td>1</td>\n",
       "      <td>50% off at fashion world! limited time offer. ...</td>\n",
       "      <td>50 off at fashion world limited time offer sho...</td>\n",
       "      <td>50 fashion world limited time offer shop fwsal...</td>\n",
       "    </tr>\n",
       "    <tr>\n",
       "      <th>...</th>\n",
       "      <td>...</td>\n",
       "      <td>...</td>\n",
       "      <td>...</td>\n",
       "      <td>...</td>\n",
       "      <td>...</td>\n",
       "    </tr>\n",
       "    <tr>\n",
       "      <th>5569</th>\n",
       "      <td>This is the 2nd time we have tried 2 contact u...</td>\n",
       "      <td>1</td>\n",
       "      <td>this is the 2nd time we have tried 2 contact u...</td>\n",
       "      <td>this is the 2nd time we have tried 2 contact u...</td>\n",
       "      <td>2nd time tried 2 contact u u £750 pound prize ...</td>\n",
       "    </tr>\n",
       "    <tr>\n",
       "      <th>5570</th>\n",
       "      <td>Will ü b going to esplanade fr home?\\n</td>\n",
       "      <td>0</td>\n",
       "      <td>will ü b going to esplanade fr home?\\n</td>\n",
       "      <td>will ü b going to esplanade fr home\\n</td>\n",
       "      <td>ü b going esplanade fr home</td>\n",
       "    </tr>\n",
       "    <tr>\n",
       "      <th>5571</th>\n",
       "      <td>Pity, * was in mood for that. So...any other s...</td>\n",
       "      <td>0</td>\n",
       "      <td>pity, * was in mood for that. so...any other s...</td>\n",
       "      <td>pity  was in mood for that soany other suggest...</td>\n",
       "      <td>pity mood soany suggestions</td>\n",
       "    </tr>\n",
       "    <tr>\n",
       "      <th>5572</th>\n",
       "      <td>The guy did some bitching but I acted like i'd...</td>\n",
       "      <td>0</td>\n",
       "      <td>the guy did some bitching but i acted like i'd...</td>\n",
       "      <td>the guy did some bitching but i acted like id ...</td>\n",
       "      <td>guy bitching acted like id interested buying s...</td>\n",
       "    </tr>\n",
       "    <tr>\n",
       "      <th>5573</th>\n",
       "      <td>Rofl. Its true to its name\\n</td>\n",
       "      <td>0</td>\n",
       "      <td>rofl. its true to its name\\n</td>\n",
       "      <td>rofl its true to its name\\n</td>\n",
       "      <td>rofl true name</td>\n",
       "    </tr>\n",
       "  </tbody>\n",
       "</table>\n",
       "<p>5774 rows × 5 columns</p>\n",
       "</div>"
      ],
      "text/plain": [
       "                                                Message  Category  \\\n",
       "0     URGENT: Your mobile number has won $500,000 in...         1   \n",
       "1     CONGRATULATIONS! You've been selected for a fr...         1   \n",
       "2     Your package delivery #8742 is pending. Update...         1   \n",
       "3     NETFLIX: Your account has been suspended. Upda...         1   \n",
       "4     50% OFF at Fashion World! Limited time offer. ...         1   \n",
       "...                                                 ...       ...   \n",
       "5569  This is the 2nd time we have tried 2 contact u...         1   \n",
       "5570             Will ü b going to esplanade fr home?\\n         0   \n",
       "5571  Pity, * was in mood for that. So...any other s...         0   \n",
       "5572  The guy did some bitching but I acted like i'd...         0   \n",
       "5573                       Rofl. Its true to its name\\n         0   \n",
       "\n",
       "                                          lower_message  \\\n",
       "0     urgent: your mobile number has won $500,000 in...   \n",
       "1     congratulations! you've been selected for a fr...   \n",
       "2     your package delivery #8742 is pending. update...   \n",
       "3     netflix: your account has been suspended. upda...   \n",
       "4     50% off at fashion world! limited time offer. ...   \n",
       "...                                                 ...   \n",
       "5569  this is the 2nd time we have tried 2 contact u...   \n",
       "5570             will ü b going to esplanade fr home?\\n   \n",
       "5571  pity, * was in mood for that. so...any other s...   \n",
       "5572  the guy did some bitching but i acted like i'd...   \n",
       "5573                       rofl. its true to its name\\n   \n",
       "\n",
       "                                       message_wo_punct  \\\n",
       "0     urgent your mobile number has won 500000 in ou...   \n",
       "1     congratulations youve been selected for a free...   \n",
       "2     your package delivery 8742 is pending update d...   \n",
       "3     netflix your account has been suspended update...   \n",
       "4     50 off at fashion world limited time offer sho...   \n",
       "...                                                 ...   \n",
       "5569  this is the 2nd time we have tried 2 contact u...   \n",
       "5570              will ü b going to esplanade fr home\\n   \n",
       "5571  pity  was in mood for that soany other suggest...   \n",
       "5572  the guy did some bitching but i acted like id ...   \n",
       "5573                        rofl its true to its name\\n   \n",
       "\n",
       "                                   message_no_stopwords  \n",
       "0     urgent mobile number 500000 prize draw call cl...  \n",
       "1     congratulations youve selected free iphone 14 ...  \n",
       "2     package delivery 8742 pending update delivery ...  \n",
       "3     netflix account suspended update payment info ...  \n",
       "4     50 fashion world limited time offer shop fwsal...  \n",
       "...                                                 ...  \n",
       "5569  2nd time tried 2 contact u u £750 pound prize ...  \n",
       "5570                        ü b going esplanade fr home  \n",
       "5571                        pity mood soany suggestions  \n",
       "5572  guy bitching acted like id interested buying s...  \n",
       "5573                                     rofl true name  \n",
       "\n",
       "[5774 rows x 5 columns]"
      ]
     },
     "execution_count": 265,
     "metadata": {},
     "output_type": "execute_result"
    }
   ],
   "source": [
    "from nltk.corpus import stopwords\n",
    "\n",
    "STOPWORDS = set(stopwords.words('english'))\n",
    "def remove_stopwords(text):\n",
    "    \"\"\"custom function to remove the stopwords\"\"\"\n",
    "    return \" \".join([word for word in str(text).split() if word not in STOPWORDS])\n",
    "\n",
    "df_cleaning['message_no_stopwords'] = df_cleaning['message_wo_punct'].apply(lambda text: remove_stopwords(text))\n",
    "df_cleaning"
   ]
  },
  {
   "cell_type": "code",
   "execution_count": 266,
   "metadata": {},
   "outputs": [
    {
     "data": {
      "application/vnd.microsoft.datawrangler.viewer.v0+json": {
       "columns": [
        {
         "name": "index",
         "rawType": "int64",
         "type": "integer"
        },
        {
         "name": "Message",
         "rawType": "object",
         "type": "string"
        },
        {
         "name": "Category",
         "rawType": "int64",
         "type": "integer"
        },
        {
         "name": "lower_message",
         "rawType": "object",
         "type": "string"
        },
        {
         "name": "message_wo_punct",
         "rawType": "object",
         "type": "string"
        },
        {
         "name": "message_no_stopwords",
         "rawType": "object",
         "type": "string"
        },
        {
         "name": "message_lemmatized",
         "rawType": "object",
         "type": "string"
        }
       ],
       "conversionMethod": "pd.DataFrame",
       "ref": "ce479f97-4b97-4237-ad93-373e64a0f795",
       "rows": [
        [
         "0",
         "URGENT: Your mobile number has won $500,000 in our prize draw! Call now to claim: +1-555-123-4567. Don't miss this chance!",
         "1",
         "urgent: your mobile number has won $500,000 in our prize draw! call now to claim: +1-555-123-4567. don't miss this chance!",
         "urgent your mobile number has won 500000 in our prize draw call now to claim 15551234567 dont miss this chance",
         "urgent mobile number 500000 prize draw call claim 15551234567 dont miss chance",
         "urgent mobile number 500000 prize draw call claim 15551234567 dont miss chance"
        ],
        [
         "1",
         "CONGRATULATIONS! You've been selected for a free iPhone 14! Click here to claim: www.free-iphone-claim.xyz",
         "1",
         "congratulations! you've been selected for a free iphone 14! click here to claim: www.free-iphone-claim.xyz",
         "congratulations youve been selected for a free iphone 14 click here to claim wwwfreeiphoneclaimxyz",
         "congratulations youve selected free iphone 14 click claim wwwfreeiphoneclaimxyz",
         "congratulation youve select free iphone 14 click claim wwwfreeiphoneclaimxyz"
        ],
        [
         "2",
         "Your package delivery #8742 is pending. Update delivery address within 24hrs: bit.ly/pkg-update",
         "1",
         "your package delivery #8742 is pending. update delivery address within 24hrs: bit.ly/pkg-update",
         "your package delivery 8742 is pending update delivery address within 24hrs bitlypkgupdate",
         "package delivery 8742 pending update delivery address within 24hrs bitlypkgupdate",
         "package delivery 8742 pending update delivery address within 24hrs bitlypkgupdate"
        ],
        [
         "3",
         "NETFLIX: Your account has been suspended. Update your payment info: netflx-account-verify.com",
         "1",
         "netflix: your account has been suspended. update your payment info: netflx-account-verify.com",
         "netflix your account has been suspended update your payment info netflxaccountverifycom",
         "netflix account suspended update payment info netflxaccountverifycom",
         "netflix account suspend update payment info netflxaccountverifycom"
        ],
        [
         "4",
         "50% OFF at Fashion World! Limited time offer. Shop now: fw-sales.site/discount",
         "1",
         "50% off at fashion world! limited time offer. shop now: fw-sales.site/discount",
         "50 off at fashion world limited time offer shop now fwsalessitediscount",
         "50 fashion world limited time offer shop fwsalessitediscount",
         "50 fashion world limit time offer shop fwsalessitediscount"
        ],
        [
         "5",
         "Your bank account has been compromised. Call security team now: 888-555-9876",
         "1",
         "your bank account has been compromised. call security team now: 888-555-9876",
         "your bank account has been compromised call security team now 8885559876",
         "bank account compromised call security team 8885559876",
         "bank account compromise call security team 8885559876"
        ],
        [
         "6",
         "Dear customer, your Apple ID has been locked for security reasons. Verify identity: secure-apple-id.com",
         "1",
         "dear customer, your apple id has been locked for security reasons. verify identity: secure-apple-id.com",
         "dear customer your apple id has been locked for security reasons verify identity secureappleidcom",
         "dear customer apple id locked security reasons verify identity secureappleidcom",
         "dear customer apple id lock security reason verify identity secureappleidcom"
        ],
        [
         "7",
         "BREAKING: New government regulation allows citizens to clear ALL debt legally. Find out how: debt-freedom.xyz",
         "1",
         "breaking: new government regulation allows citizens to clear all debt legally. find out how: debt-freedom.xyz",
         "breaking new government regulation allows citizens to clear all debt legally find out how debtfreedomxyz",
         "breaking new government regulation allows citizens clear debt legally find debtfreedomxyz",
         "break new government regulation allow citizen clear debt legally find debtfreedomxyz"
        ],
        [
         "8",
         "Hi this is Jenny from dating service. I saw your profile and want to meet. Text me: +1-555-765-4321",
         "1",
         "hi this is jenny from dating service. i saw your profile and want to meet. text me: +1-555-765-4321",
         "hi this is jenny from dating service i saw your profile and want to meet text me 15557654321",
         "hi jenny dating service saw profile want meet text 15557654321",
         "hi jenny date service saw profile want meet text 15557654321"
        ],
        [
         "9",
         "FINAL NOTICE: Your car warranty is about to expire. Last chance to extend coverage. Call: 800-555-1234",
         "1",
         "final notice: your car warranty is about to expire. last chance to extend coverage. call: 800-555-1234",
         "final notice your car warranty is about to expire last chance to extend coverage call 8005551234",
         "final notice car warranty expire last chance extend coverage call 8005551234",
         "final notice car warranty expire last chance extend coverage call 8005551234"
        ],
        [
         "10",
         "ALERT: Unusual activity detected in your account. Verify transactions: secure-bank-verify.com",
         "1",
         "alert: unusual activity detected in your account. verify transactions: secure-bank-verify.com",
         "alert unusual activity detected in your account verify transactions securebankverifycom",
         "alert unusual activity detected account verify transactions securebankverifycom",
         "alert unusual activity detect account verify transaction securebankverifycom"
        ],
        [
         "11",
         "Congratulations! You've been pre-approved for a $50,000 loan with low interest. Apply now: ez-loan-apply.com",
         "1",
         "congratulations! you've been pre-approved for a $50,000 loan with low interest. apply now: ez-loan-apply.com",
         "congratulations youve been preapproved for a 50000 loan with low interest apply now ezloanapplycom",
         "congratulations youve preapproved 50000 loan low interest apply ezloanapplycom",
         "congratulation youve preapproved 50000 loan low interest apply ezloanapplycom"
        ],
        [
         "12",
         "Your utility bill payment failed. Service will be disconnected in 24 hours. Update payment: utilitypay-secure.com",
         "1",
         "your utility bill payment failed. service will be disconnected in 24 hours. update payment: utilitypay-secure.com",
         "your utility bill payment failed service will be disconnected in 24 hours update payment utilitypaysecurecom",
         "utility bill payment failed service disconnected 24 hours update payment utilitypaysecurecom",
         "utility bill payment fail service disconnect 24 hour update payment utilitypaysecurecom"
        ],
        [
         "13",
         "You have 1 unread message from your secret admirer. View now: date-match.xyz/message",
         "1",
         "you have 1 unread message from your secret admirer. view now: date-match.xyz/message",
         "you have 1 unread message from your secret admirer view now datematchxyzmessage",
         "1 unread message secret admirer view datematchxyzmessage",
         "1 unread message secret admirer view datematchxyzmessage"
        ],
        [
         "14",
         "ATTENTION: Your Social Security Number has been suspended due to suspicious activity. Call: 866-555-4321",
         "1",
         "attention: your social security number has been suspended due to suspicious activity. call: 866-555-4321",
         "attention your social security number has been suspended due to suspicious activity call 8665554321",
         "attention social security number suspended due suspicious activity call 8665554321",
         "attention social security number suspend due suspicious activity call 8665554321"
        ],
        [
         "15",
         "Your prescription is ready for pickup. Get 70% discount with this code: RX7042. Details: meds-discount.site",
         "1",
         "your prescription is ready for pickup. get 70% discount with this code: rx7042. details: meds-discount.site",
         "your prescription is ready for pickup get 70 discount with this code rx7042 details medsdiscountsite",
         "prescription ready pickup get 70 discount code rx7042 details medsdiscountsite",
         "prescription ready pickup get 70 discount code rx7042 detail medsdiscountsite"
        ],
        [
         "16",
         "You have won a $1,000 Walmart gift card. Claim now: walmart-gift.xyz/claim",
         "1",
         "you have won a $1,000 walmart gift card. claim now: walmart-gift.xyz/claim",
         "you have won a 1000 walmart gift card claim now walmartgiftxyzclaim",
         "1000 walmart gift card claim walmartgiftxyzclaim",
         "1000 walmart gift card claim walmartgiftxyzclaim"
        ],
        [
         "17",
         "This is your carrier: Your phone bill is past due. Avoid service interruption: mobilepay-now.com",
         "1",
         "this is your carrier: your phone bill is past due. avoid service interruption: mobilepay-now.com",
         "this is your carrier your phone bill is past due avoid service interruption mobilepaynowcom",
         "carrier phone bill past due avoid service interruption mobilepaynowcom",
         "carrier phone bill past due avoid service interruption mobilepaynowcom"
        ],
        [
         "18",
         "URGENT Tax Refund: You are eligible for $1,249.50 tax refund. Submit claim: tax-refund-gov.xyz",
         "1",
         "urgent tax refund: you are eligible for $1,249.50 tax refund. submit claim: tax-refund-gov.xyz",
         "urgent tax refund you are eligible for 124950 tax refund submit claim taxrefundgovxyz",
         "urgent tax refund eligible 124950 tax refund submit claim taxrefundgovxyz",
         "urgent tax refund eligible 124950 tax refund submit claim taxrefundgovxyz"
        ],
        [
         "19",
         "Your order #43298 has been shipped. Track delivery status: amaz0n-tracking.site",
         "1",
         "your order #43298 has been shipped. track delivery status: amaz0n-tracking.site",
         "your order 43298 has been shipped track delivery status amaz0ntrackingsite",
         "order 43298 shipped track delivery status amaz0ntrackingsite",
         "order 43298 ship track delivery status amaz0ntrackingsite"
        ],
        [
         "20",
         "Investment Alert: This penny stock is set to explode 500% next week! Buy now: stock-goldmine.xyz",
         "1",
         "investment alert: this penny stock is set to explode 500% next week! buy now: stock-goldmine.xyz",
         "investment alert this penny stock is set to explode 500 next week buy now stockgoldminexyz",
         "investment alert penny stock set explode 500 next week buy stockgoldminexyz",
         "investment alert penny stock set explode 500 next week buy stockgoldminexyz"
        ],
        [
         "21",
         "Your account access will be terminated. Verify identity: secure-account-verify.com",
         "1",
         "your account access will be terminated. verify identity: secure-account-verify.com",
         "your account access will be terminated verify identity secureaccountverifycom",
         "account access terminated verify identity secureaccountverifycom",
         "account access terminate verify identity secureaccountverifycom"
        ],
        [
         "22",
         "FINAL WARNING: Your vehicle is showing in our system as uninsured. Avoid penalties: auto-insure-now.site",
         "1",
         "final warning: your vehicle is showing in our system as uninsured. avoid penalties: auto-insure-now.site",
         "final warning your vehicle is showing in our system as uninsured avoid penalties autoinsurenowsite",
         "final warning vehicle showing system uninsured avoid penalties autoinsurenowsite",
         "final warning vehicle show system uninsured avoid penalty autoinsurenowsite"
        ],
        [
         "23",
         "IMPORTANT: Your recent payment was declined. Update payment method: paypal-secure-update.com",
         "1",
         "important: your recent payment was declined. update payment method: paypal-secure-update.com",
         "important your recent payment was declined update payment method paypalsecureupdatecom",
         "important recent payment declined update payment method paypalsecureupdatecom",
         "important recent payment decline update payment method paypalsecureupdatecom"
        ],
        [
         "24",
         "Congratulations! You've been selected for our exclusive survey. Complete for $90 reward: survey-rewards.xyz",
         "1",
         "congratulations! you've been selected for our exclusive survey. complete for $90 reward: survey-rewards.xyz",
         "congratulations youve been selected for our exclusive survey complete for 90 reward surveyrewardsxyz",
         "congratulations youve selected exclusive survey complete 90 reward surveyrewardsxyz",
         "congratulation youve select exclusive survey complete 90 reward surveyrewardsxyz"
        ],
        [
         "25",
         "ATTENTION CUSTOMER: Your internet service will be disconnected. Pay now: internet-billing.site",
         "1",
         "attention customer: your internet service will be disconnected. pay now: internet-billing.site",
         "attention customer your internet service will be disconnected pay now internetbillingsite",
         "attention customer internet service disconnected pay internetbillingsite",
         "attention customer internet service disconnect pay internetbillingsite"
        ],
        [
         "26",
         "Your CV was found in our database. $95k position available. Apply now: career-opportunity.xyz",
         "1",
         "your cv was found in our database. $95k position available. apply now: career-opportunity.xyz",
         "your cv was found in our database 95k position available apply now careeropportunityxyz",
         "cv found database 95k position available apply careeropportunityxyz",
         "cv find database 95k position available apply careeropportunityxyz"
        ],
        [
         "27",
         "COURT NOTICE: You are scheduled to appear. Case #CR7231. Details: court-notice.site",
         "1",
         "court notice: you are scheduled to appear. case #cr7231. details: court-notice.site",
         "court notice you are scheduled to appear case cr7231 details courtnoticesite",
         "court notice scheduled appear case cr7231 details courtnoticesite",
         "court notice schedule appear case cr7231 detail courtnoticesite"
        ],
        [
         "28",
         "Your phone has 3 virus! Click to scan and remove: virus-removal.xyz",
         "1",
         "your phone has 3 virus! click to scan and remove: virus-removal.xyz",
         "your phone has 3 virus click to scan and remove virusremovalxyz",
         "phone 3 virus click scan remove virusremovalxyz",
         "phone 3 virus click scan remove virusremovalxyz"
        ],
        [
         "29",
         "FREE: Get your credit score and report now! Limited offer: free-credit-check.site",
         "1",
         "free: get your credit score and report now! limited offer: free-credit-check.site",
         "free get your credit score and report now limited offer freecreditchecksite",
         "free get credit score report limited offer freecreditchecksite",
         "free get credit score report limit offer freecreditchecksite"
        ],
        [
         "30",
         "WINNER ALERT: You've been selected to receive a $250 Amazon gift card. Claim now: amazon-rewards.site",
         "1",
         "winner alert: you've been selected to receive a $250 amazon gift card. claim now: amazon-rewards.site",
         "winner alert youve been selected to receive a 250 amazon gift card claim now amazonrewardssite",
         "winner alert youve selected receive 250 amazon gift card claim amazonrewardssite",
         "winner alert youve select receive 250 amazon gift card claim amazonrewardssite"
        ],
        [
         "31",
         "URGENT: Your credit card has been charged $499. If unauthorized call: +1-888-555-3214",
         "1",
         "urgent: your credit card has been charged $499. if unauthorized call: +1-888-555-3214",
         "urgent your credit card has been charged 499 if unauthorized call 18885553214",
         "urgent credit card charged 499 unauthorized call 18885553214",
         "urgent credit card charge 499 unauthorized call 18885553214"
        ],
        [
         "32",
         "Your Apple iCloud account will be deleted in 24 hours. Verify now: secure-icloud-verify.com",
         "1",
         "your apple icloud account will be deleted in 24 hours. verify now: secure-icloud-verify.com",
         "your apple icloud account will be deleted in 24 hours verify now secureicloudverifycom",
         "apple icloud account deleted 24 hours verify secureicloudverifycom",
         "apple icloud account delete 24 hour verify secureicloudverifycom"
        ],
        [
         "33",
         "ATTENTION: We've been trying to reach you about your car's extended warranty. Last chance: 800-555-9876",
         "1",
         "attention: we've been trying to reach you about your car's extended warranty. last chance: 800-555-9876",
         "attention weve been trying to reach you about your cars extended warranty last chance 8005559876",
         "attention weve trying reach cars extended warranty last chance 8005559876",
         "attention weve try reach car extend warranty last chance 8005559876"
        ],
        [
         "34",
         "Congratulations! You qualify for student loan forgiveness. Apply here: loan-forgive-gov.xyz",
         "1",
         "congratulations! you qualify for student loan forgiveness. apply here: loan-forgive-gov.xyz",
         "congratulations you qualify for student loan forgiveness apply here loanforgivegovxyz",
         "congratulations qualify student loan forgiveness apply loanforgivegovxyz",
         "congratulation qualify student loan forgiveness apply loanforgivegovxyz"
        ],
        [
         "35",
         "SECURITY ALERT: Suspicious sign-in attempt on your Google account. Verify now: google-secure-verify.com",
         "1",
         "security alert: suspicious sign-in attempt on your google account. verify now: google-secure-verify.com",
         "security alert suspicious signin attempt on your google account verify now googlesecureverifycom",
         "security alert suspicious signin attempt google account verify googlesecureverifycom",
         "security alert suspicious signin attempt google account verify googlesecureverifycom"
        ],
        [
         "36",
         "Your parcel #UK45692 is on hold. Confirm delivery address: royal-mail-delivery.site",
         "1",
         "your parcel #uk45692 is on hold. confirm delivery address: royal-mail-delivery.site",
         "your parcel uk45692 is on hold confirm delivery address royalmaildeliverysite",
         "parcel uk45692 hold confirm delivery address royalmaildeliverysite",
         "parcel uk45692 hold confirm delivery address royalmaildeliverysite"
        ],
        [
         "37",
         "50% OFF EVERYTHING at Nike! Limited time offer: nike-special-deals.xyz",
         "1",
         "50% off everything at nike! limited time offer: nike-special-deals.xyz",
         "50 off everything at nike limited time offer nikespecialdealsxyz",
         "50 everything nike limited time offer nikespecialdealsxyz",
         "50 everything nike limited time offer nikespecialdealsxyz"
        ],
        [
         "38",
         "ACTION REQUIRED: Your PayPal account has been limited. Update info: paypal-account-service.com",
         "1",
         "action required: your paypal account has been limited. update info: paypal-account-service.com",
         "action required your paypal account has been limited update info paypalaccountservicecom",
         "action required paypal account limited update info paypalaccountservicecom",
         "action require paypal account limited update info paypalaccountservicecom"
        ],
        [
         "39",
         "URGENT: Your electricity will be disconnected tonight. Pay now: utility-pay-online.site",
         "1",
         "urgent: your electricity will be disconnected tonight. pay now: utility-pay-online.site",
         "urgent your electricity will be disconnected tonight pay now utilitypayonlinesite",
         "urgent electricity disconnected tonight pay utilitypayonlinesite",
         "urgent electricity disconnect tonight pay utilitypayonlinesite"
        ],
        [
         "40",
         "Your Bitcoin wallet has been credited with 0.5 BTC. Confirm receipt: bitcoin-wallet-verify.xyz",
         "1",
         "your bitcoin wallet has been credited with 0.5 btc. confirm receipt: bitcoin-wallet-verify.xyz",
         "your bitcoin wallet has been credited with 05 btc confirm receipt bitcoinwalletverifyxyz",
         "bitcoin wallet credited 05 btc confirm receipt bitcoinwalletverifyxyz",
         "bitcoin wallet credit 05 btc confirm receipt bitcoinwalletverifyxyz"
        ],
        [
         "41",
         "FINAL NOTICE: Your tax records are out of date. Avoid penalties: irs-tax-update.site",
         "1",
         "final notice: your tax records are out of date. avoid penalties: irs-tax-update.site",
         "final notice your tax records are out of date avoid penalties irstaxupdatesite",
         "final notice tax records date avoid penalties irstaxupdatesite",
         "final notice tax record date avoid penalty irstaxupdatesite"
        ],
        [
         "42",
         "You've been selected for a $50 Starbucks gift card! Claim now: starbucks-rewards.xyz",
         "1",
         "you've been selected for a $50 starbucks gift card! claim now: starbucks-rewards.xyz",
         "youve been selected for a 50 starbucks gift card claim now starbucksrewardsxyz",
         "youve selected 50 starbucks gift card claim starbucksrewardsxyz",
         "youve select 50 starbucks gift card claim starbucksrewardsxyz"
        ],
        [
         "43",
         "Your Instagram account will be permanently deleted. Verify ownership: instagram-verify.site",
         "1",
         "your instagram account will be permanently deleted. verify ownership: instagram-verify.site",
         "your instagram account will be permanently deleted verify ownership instagramverifysite",
         "instagram account permanently deleted verify ownership instagramverifysite",
         "instagram account permanently delete verify ownership instagramverifysite"
        ],
        [
         "44",
         "URGENT: Your phone service will be suspended. Update billing info: mobile-service-update.com",
         "1",
         "urgent: your phone service will be suspended. update billing info: mobile-service-update.com",
         "urgent your phone service will be suspended update billing info mobileserviceupdatecom",
         "urgent phone service suspended update billing info mobileserviceupdatecom",
         "urgent phone service suspend update billing info mobileserviceupdatecom"
        ],
        [
         "45",
         "Congratulations! You're prequalified for a new credit card with $10,000 limit: premier-credit-offer.site",
         "1",
         "congratulations! you're prequalified for a new credit card with $10,000 limit: premier-credit-offer.site",
         "congratulations youre prequalified for a new credit card with 10000 limit premiercreditoffersite",
         "congratulations youre prequalified new credit card 10000 limit premiercreditoffersite",
         "congratulation youre prequalified new credit card 10000 limit premiercreditoffersite"
        ],
        [
         "46",
         "Your flight reservation #AX78542 has been changed. Confirm details: airline-update.xyz",
         "1",
         "your flight reservation #ax78542 has been changed. confirm details: airline-update.xyz",
         "your flight reservation ax78542 has been changed confirm details airlineupdatexyz",
         "flight reservation ax78542 changed confirm details airlineupdatexyz",
         "flight reservation ax78542 change confirm detail airlineupdatexyz"
        ],
        [
         "47",
         "LAST CHANCE: Claim your free laptop from our annual giveaway: free-laptop-giveaway.site",
         "1",
         "last chance: claim your free laptop from our annual giveaway: free-laptop-giveaway.site",
         "last chance claim your free laptop from our annual giveaway freelaptopgiveawaysite",
         "last chance claim free laptop annual giveaway freelaptopgiveawaysite",
         "last chance claim free laptop annual giveaway freelaptopgiveawaysite"
        ],
        [
         "48",
         "Your Facebook account has been reported. Verify to avoid suspension: facebook-security-team.xyz",
         "1",
         "your facebook account has been reported. verify to avoid suspension: facebook-security-team.xyz",
         "your facebook account has been reported verify to avoid suspension facebooksecurityteamxyz",
         "facebook account reported verify avoid suspension facebooksecurityteamxyz",
         "facebook account report verify avoid suspension facebooksecurityteamxyz"
        ],
        [
         "49",
         "Congratulations! You've won 2nd prize in Coca-Cola sweepstakes. Claim $5,000: coke-prize.site",
         "1",
         "congratulations! you've won 2nd prize in coca-cola sweepstakes. claim $5,000: coke-prize.site",
         "congratulations youve won 2nd prize in cocacola sweepstakes claim 5000 cokeprizesite",
         "congratulations youve 2nd prize cocacola sweepstakes claim 5000 cokeprizesite",
         "congratulation youve 2nd prize cocacola sweepstakes claim 5000 cokeprizesite"
        ]
       ],
       "shape": {
        "columns": 6,
        "rows": 5774
       }
      },
      "text/html": [
       "<div>\n",
       "<style scoped>\n",
       "    .dataframe tbody tr th:only-of-type {\n",
       "        vertical-align: middle;\n",
       "    }\n",
       "\n",
       "    .dataframe tbody tr th {\n",
       "        vertical-align: top;\n",
       "    }\n",
       "\n",
       "    .dataframe thead th {\n",
       "        text-align: right;\n",
       "    }\n",
       "</style>\n",
       "<table border=\"1\" class=\"dataframe\">\n",
       "  <thead>\n",
       "    <tr style=\"text-align: right;\">\n",
       "      <th></th>\n",
       "      <th>Message</th>\n",
       "      <th>Category</th>\n",
       "      <th>lower_message</th>\n",
       "      <th>message_wo_punct</th>\n",
       "      <th>message_no_stopwords</th>\n",
       "      <th>message_lemmatized</th>\n",
       "    </tr>\n",
       "  </thead>\n",
       "  <tbody>\n",
       "    <tr>\n",
       "      <th>0</th>\n",
       "      <td>URGENT: Your mobile number has won $500,000 in...</td>\n",
       "      <td>1</td>\n",
       "      <td>urgent: your mobile number has won $500,000 in...</td>\n",
       "      <td>urgent your mobile number has won 500000 in ou...</td>\n",
       "      <td>urgent mobile number 500000 prize draw call cl...</td>\n",
       "      <td>urgent mobile number 500000 prize draw call cl...</td>\n",
       "    </tr>\n",
       "    <tr>\n",
       "      <th>1</th>\n",
       "      <td>CONGRATULATIONS! You've been selected for a fr...</td>\n",
       "      <td>1</td>\n",
       "      <td>congratulations! you've been selected for a fr...</td>\n",
       "      <td>congratulations youve been selected for a free...</td>\n",
       "      <td>congratulations youve selected free iphone 14 ...</td>\n",
       "      <td>congratulation youve select free iphone 14 cli...</td>\n",
       "    </tr>\n",
       "    <tr>\n",
       "      <th>2</th>\n",
       "      <td>Your package delivery #8742 is pending. Update...</td>\n",
       "      <td>1</td>\n",
       "      <td>your package delivery #8742 is pending. update...</td>\n",
       "      <td>your package delivery 8742 is pending update d...</td>\n",
       "      <td>package delivery 8742 pending update delivery ...</td>\n",
       "      <td>package delivery 8742 pending update delivery ...</td>\n",
       "    </tr>\n",
       "    <tr>\n",
       "      <th>3</th>\n",
       "      <td>NETFLIX: Your account has been suspended. Upda...</td>\n",
       "      <td>1</td>\n",
       "      <td>netflix: your account has been suspended. upda...</td>\n",
       "      <td>netflix your account has been suspended update...</td>\n",
       "      <td>netflix account suspended update payment info ...</td>\n",
       "      <td>netflix account suspend update payment info ne...</td>\n",
       "    </tr>\n",
       "    <tr>\n",
       "      <th>4</th>\n",
       "      <td>50% OFF at Fashion World! Limited time offer. ...</td>\n",
       "      <td>1</td>\n",
       "      <td>50% off at fashion world! limited time offer. ...</td>\n",
       "      <td>50 off at fashion world limited time offer sho...</td>\n",
       "      <td>50 fashion world limited time offer shop fwsal...</td>\n",
       "      <td>50 fashion world limit time offer shop fwsales...</td>\n",
       "    </tr>\n",
       "    <tr>\n",
       "      <th>...</th>\n",
       "      <td>...</td>\n",
       "      <td>...</td>\n",
       "      <td>...</td>\n",
       "      <td>...</td>\n",
       "      <td>...</td>\n",
       "      <td>...</td>\n",
       "    </tr>\n",
       "    <tr>\n",
       "      <th>5569</th>\n",
       "      <td>This is the 2nd time we have tried 2 contact u...</td>\n",
       "      <td>1</td>\n",
       "      <td>this is the 2nd time we have tried 2 contact u...</td>\n",
       "      <td>this is the 2nd time we have tried 2 contact u...</td>\n",
       "      <td>2nd time tried 2 contact u u £750 pound prize ...</td>\n",
       "      <td>2nd time try 2 contact u u £750 pound prize 2 ...</td>\n",
       "    </tr>\n",
       "    <tr>\n",
       "      <th>5570</th>\n",
       "      <td>Will ü b going to esplanade fr home?\\n</td>\n",
       "      <td>0</td>\n",
       "      <td>will ü b going to esplanade fr home?\\n</td>\n",
       "      <td>will ü b going to esplanade fr home\\n</td>\n",
       "      <td>ü b going esplanade fr home</td>\n",
       "      <td>ü b go esplanade fr home</td>\n",
       "    </tr>\n",
       "    <tr>\n",
       "      <th>5571</th>\n",
       "      <td>Pity, * was in mood for that. So...any other s...</td>\n",
       "      <td>0</td>\n",
       "      <td>pity, * was in mood for that. so...any other s...</td>\n",
       "      <td>pity  was in mood for that soany other suggest...</td>\n",
       "      <td>pity mood soany suggestions</td>\n",
       "      <td>pity mood soany suggestion</td>\n",
       "    </tr>\n",
       "    <tr>\n",
       "      <th>5572</th>\n",
       "      <td>The guy did some bitching but I acted like i'd...</td>\n",
       "      <td>0</td>\n",
       "      <td>the guy did some bitching but i acted like i'd...</td>\n",
       "      <td>the guy did some bitching but i acted like id ...</td>\n",
       "      <td>guy bitching acted like id interested buying s...</td>\n",
       "      <td>guy bitch act like id interested buying someth...</td>\n",
       "    </tr>\n",
       "    <tr>\n",
       "      <th>5573</th>\n",
       "      <td>Rofl. Its true to its name\\n</td>\n",
       "      <td>0</td>\n",
       "      <td>rofl. its true to its name\\n</td>\n",
       "      <td>rofl its true to its name\\n</td>\n",
       "      <td>rofl true name</td>\n",
       "      <td>rofl true name</td>\n",
       "    </tr>\n",
       "  </tbody>\n",
       "</table>\n",
       "<p>5774 rows × 6 columns</p>\n",
       "</div>"
      ],
      "text/plain": [
       "                                                Message  Category  \\\n",
       "0     URGENT: Your mobile number has won $500,000 in...         1   \n",
       "1     CONGRATULATIONS! You've been selected for a fr...         1   \n",
       "2     Your package delivery #8742 is pending. Update...         1   \n",
       "3     NETFLIX: Your account has been suspended. Upda...         1   \n",
       "4     50% OFF at Fashion World! Limited time offer. ...         1   \n",
       "...                                                 ...       ...   \n",
       "5569  This is the 2nd time we have tried 2 contact u...         1   \n",
       "5570             Will ü b going to esplanade fr home?\\n         0   \n",
       "5571  Pity, * was in mood for that. So...any other s...         0   \n",
       "5572  The guy did some bitching but I acted like i'd...         0   \n",
       "5573                       Rofl. Its true to its name\\n         0   \n",
       "\n",
       "                                          lower_message  \\\n",
       "0     urgent: your mobile number has won $500,000 in...   \n",
       "1     congratulations! you've been selected for a fr...   \n",
       "2     your package delivery #8742 is pending. update...   \n",
       "3     netflix: your account has been suspended. upda...   \n",
       "4     50% off at fashion world! limited time offer. ...   \n",
       "...                                                 ...   \n",
       "5569  this is the 2nd time we have tried 2 contact u...   \n",
       "5570             will ü b going to esplanade fr home?\\n   \n",
       "5571  pity, * was in mood for that. so...any other s...   \n",
       "5572  the guy did some bitching but i acted like i'd...   \n",
       "5573                       rofl. its true to its name\\n   \n",
       "\n",
       "                                       message_wo_punct  \\\n",
       "0     urgent your mobile number has won 500000 in ou...   \n",
       "1     congratulations youve been selected for a free...   \n",
       "2     your package delivery 8742 is pending update d...   \n",
       "3     netflix your account has been suspended update...   \n",
       "4     50 off at fashion world limited time offer sho...   \n",
       "...                                                 ...   \n",
       "5569  this is the 2nd time we have tried 2 contact u...   \n",
       "5570              will ü b going to esplanade fr home\\n   \n",
       "5571  pity  was in mood for that soany other suggest...   \n",
       "5572  the guy did some bitching but i acted like id ...   \n",
       "5573                        rofl its true to its name\\n   \n",
       "\n",
       "                                   message_no_stopwords  \\\n",
       "0     urgent mobile number 500000 prize draw call cl...   \n",
       "1     congratulations youve selected free iphone 14 ...   \n",
       "2     package delivery 8742 pending update delivery ...   \n",
       "3     netflix account suspended update payment info ...   \n",
       "4     50 fashion world limited time offer shop fwsal...   \n",
       "...                                                 ...   \n",
       "5569  2nd time tried 2 contact u u £750 pound prize ...   \n",
       "5570                        ü b going esplanade fr home   \n",
       "5571                        pity mood soany suggestions   \n",
       "5572  guy bitching acted like id interested buying s...   \n",
       "5573                                     rofl true name   \n",
       "\n",
       "                                     message_lemmatized  \n",
       "0     urgent mobile number 500000 prize draw call cl...  \n",
       "1     congratulation youve select free iphone 14 cli...  \n",
       "2     package delivery 8742 pending update delivery ...  \n",
       "3     netflix account suspend update payment info ne...  \n",
       "4     50 fashion world limit time offer shop fwsales...  \n",
       "...                                                 ...  \n",
       "5569  2nd time try 2 contact u u £750 pound prize 2 ...  \n",
       "5570                           ü b go esplanade fr home  \n",
       "5571                         pity mood soany suggestion  \n",
       "5572  guy bitch act like id interested buying someth...  \n",
       "5573                                     rofl true name  \n",
       "\n",
       "[5774 rows x 6 columns]"
      ]
     },
     "execution_count": 266,
     "metadata": {},
     "output_type": "execute_result"
    }
   ],
   "source": [
    "from nltk.corpus import wordnet\n",
    "from nltk.stem import WordNetLemmatizer\n",
    "\n",
    "lemmatizer = WordNetLemmatizer()\n",
    "wordnet_map = {\"N\":wordnet.NOUN, \"V\":wordnet.VERB, \"J\":wordnet.ADJ, \"R\":wordnet.ADV}\n",
    "def lemmatize_words(text):\n",
    "    pos_tagged_text = nltk.pos_tag(text.split(), lang='eng')\n",
    "    return \" \".join([lemmatizer.lemmatize(word, wordnet_map.get(pos[0], wordnet.NOUN)) for word, pos in pos_tagged_text])\n",
    "\n",
    "df_cleaning['message_lemmatized'] = df_cleaning['message_no_stopwords'].apply(lambda text: lemmatize_words(text))\n",
    "df_cleaning"
   ]
  },
  {
   "cell_type": "code",
   "execution_count": 267,
   "metadata": {},
   "outputs": [
    {
     "data": {
      "application/vnd.microsoft.datawrangler.viewer.v0+json": {
       "columns": [
        {
         "name": "index",
         "rawType": "int64",
         "type": "integer"
        },
        {
         "name": "Message",
         "rawType": "object",
         "type": "string"
        },
        {
         "name": "Category",
         "rawType": "int64",
         "type": "integer"
        },
        {
         "name": "lower_message",
         "rawType": "object",
         "type": "string"
        },
        {
         "name": "message_wo_punct",
         "rawType": "object",
         "type": "string"
        },
        {
         "name": "message_no_stopwords",
         "rawType": "object",
         "type": "string"
        },
        {
         "name": "message_lemmatized",
         "rawType": "object",
         "type": "string"
        }
       ],
       "conversionMethod": "pd.DataFrame",
       "ref": "b4f66811-1be4-4ec7-a14f-cafbfdb2d232",
       "rows": [
        [
         "0",
         "URGENT: Your mobile number has won $500,000 in our prize draw! Call now to claim: +1-555-123-4567. Don't miss this chance!",
         "1",
         "urgent: your mobile number has won $500,000 in our prize draw! call now to claim: +1-555-123-4567. don't miss this chance!",
         "urgent your mobile number has won 500000 in our prize draw call now to claim 15551234567 dont miss this chance",
         "urgent mobile number 500000 prize draw call claim 15551234567 dont miss chance",
         "urgent mobile number 500000 prize draw call claim 15551234567 dont miss chance"
        ],
        [
         "1",
         "CONGRATULATIONS! You've been selected for a free iPhone 14! Click here to claim: www.free-iphone-claim.xyz",
         "1",
         "congratulations! you've been selected for a free iphone 14! click here to claim: www.free-iphone-claim.xyz",
         "congratulations youve been selected for a free iphone 14 click here to claim wwwfreeiphoneclaimxyz",
         "congratulations youve selected free iphone 14 click claim wwwfreeiphoneclaimxyz",
         "congratulation youve select free iphone 14 click claim wwwfreeiphoneclaimxyz"
        ],
        [
         "2",
         "Your package delivery #8742 is pending. Update delivery address within 24hrs: bit.ly/pkg-update",
         "1",
         "your package delivery #8742 is pending. update delivery address within 24hrs: bit.ly/pkg-update",
         "your package delivery 8742 is pending update delivery address within 24hrs bitlypkgupdate",
         "package delivery 8742 pending update delivery address within 24hrs bitlypkgupdate",
         "package delivery 8742 pending update delivery address within 24hrs bitlypkgupdate"
        ],
        [
         "3",
         "NETFLIX: Your account has been suspended. Update your payment info: netflx-account-verify.com",
         "1",
         "netflix: your account has been suspended. update your payment info: netflx-account-verify.com",
         "netflix your account has been suspended update your payment info netflxaccountverifycom",
         "netflix account suspended update payment info netflxaccountverifycom",
         "netflix account suspend update payment info netflxaccountverifycom"
        ],
        [
         "4",
         "50% OFF at Fashion World! Limited time offer. Shop now: fw-sales.site/discount",
         "1",
         "50% off at fashion world! limited time offer. shop now: fw-sales.site/discount",
         "50 off at fashion world limited time offer shop now fwsalessitediscount",
         "50 fashion world limited time offer shop fwsalessitediscount",
         "50 fashion world limit time offer shop fwsalessitediscount"
        ],
        [
         "5",
         "Your bank account has been compromised. Call security team now: 888-555-9876",
         "1",
         "your bank account has been compromised. call security team now: 888-555-9876",
         "your bank account has been compromised call security team now 8885559876",
         "bank account compromised call security team 8885559876",
         "bank account compromise call security team 8885559876"
        ],
        [
         "6",
         "Dear customer, your Apple ID has been locked for security reasons. Verify identity: secure-apple-id.com",
         "1",
         "dear customer, your apple id has been locked for security reasons. verify identity: secure-apple-id.com",
         "dear customer your apple id has been locked for security reasons verify identity secureappleidcom",
         "dear customer apple id locked security reasons verify identity secureappleidcom",
         "dear customer apple id lock security reason verify identity secureappleidcom"
        ],
        [
         "7",
         "BREAKING: New government regulation allows citizens to clear ALL debt legally. Find out how: debt-freedom.xyz",
         "1",
         "breaking: new government regulation allows citizens to clear all debt legally. find out how: debt-freedom.xyz",
         "breaking new government regulation allows citizens to clear all debt legally find out how debtfreedomxyz",
         "breaking new government regulation allows citizens clear debt legally find debtfreedomxyz",
         "break new government regulation allow citizen clear debt legally find debtfreedomxyz"
        ],
        [
         "8",
         "Hi this is Jenny from dating service. I saw your profile and want to meet. Text me: +1-555-765-4321",
         "1",
         "hi this is jenny from dating service. i saw your profile and want to meet. text me: +1-555-765-4321",
         "hi this is jenny from dating service i saw your profile and want to meet text me 15557654321",
         "hi jenny dating service saw profile want meet text 15557654321",
         "hi jenny date service saw profile want meet text 15557654321"
        ],
        [
         "9",
         "FINAL NOTICE: Your car warranty is about to expire. Last chance to extend coverage. Call: 800-555-1234",
         "1",
         "final notice: your car warranty is about to expire. last chance to extend coverage. call: 800-555-1234",
         "final notice your car warranty is about to expire last chance to extend coverage call 8005551234",
         "final notice car warranty expire last chance extend coverage call 8005551234",
         "final notice car warranty expire last chance extend coverage call 8005551234"
        ],
        [
         "10",
         "ALERT: Unusual activity detected in your account. Verify transactions: secure-bank-verify.com",
         "1",
         "alert: unusual activity detected in your account. verify transactions: secure-bank-verify.com",
         "alert unusual activity detected in your account verify transactions securebankverifycom",
         "alert unusual activity detected account verify transactions securebankverifycom",
         "alert unusual activity detect account verify transaction securebankverifycom"
        ],
        [
         "11",
         "Congratulations! You've been pre-approved for a $50,000 loan with low interest. Apply now: ez-loan-apply.com",
         "1",
         "congratulations! you've been pre-approved for a $50,000 loan with low interest. apply now: ez-loan-apply.com",
         "congratulations youve been preapproved for a 50000 loan with low interest apply now ezloanapplycom",
         "congratulations youve preapproved 50000 loan low interest apply ezloanapplycom",
         "congratulation youve preapproved 50000 loan low interest apply ezloanapplycom"
        ],
        [
         "12",
         "Your utility bill payment failed. Service will be disconnected in 24 hours. Update payment: utilitypay-secure.com",
         "1",
         "your utility bill payment failed. service will be disconnected in 24 hours. update payment: utilitypay-secure.com",
         "your utility bill payment failed service will be disconnected in 24 hours update payment utilitypaysecurecom",
         "utility bill payment failed service disconnected 24 hours update payment utilitypaysecurecom",
         "utility bill payment fail service disconnect 24 hour update payment utilitypaysecurecom"
        ],
        [
         "13",
         "You have 1 unread message from your secret admirer. View now: date-match.xyz/message",
         "1",
         "you have 1 unread message from your secret admirer. view now: date-match.xyz/message",
         "you have 1 unread message from your secret admirer view now datematchxyzmessage",
         "1 unread message secret admirer view datematchxyzmessage",
         "1 unread message secret admirer view datematchxyzmessage"
        ],
        [
         "14",
         "ATTENTION: Your Social Security Number has been suspended due to suspicious activity. Call: 866-555-4321",
         "1",
         "attention: your social security number has been suspended due to suspicious activity. call: 866-555-4321",
         "attention your social security number has been suspended due to suspicious activity call 8665554321",
         "attention social security number suspended due suspicious activity call 8665554321",
         "attention social security number suspend due suspicious activity call 8665554321"
        ],
        [
         "15",
         "Your prescription is ready for pickup. Get 70% discount with this code: RX7042. Details: meds-discount.site",
         "1",
         "your prescription is ready for pickup. get 70% discount with this code: rx7042. details: meds-discount.site",
         "your prescription is ready for pickup get 70 discount with this code rx7042 details medsdiscountsite",
         "prescription ready pickup get 70 discount code rx7042 details medsdiscountsite",
         "prescription ready pickup get 70 discount code rx7042 detail medsdiscountsite"
        ],
        [
         "16",
         "You have won a $1,000 Walmart gift card. Claim now: walmart-gift.xyz/claim",
         "1",
         "you have won a $1,000 walmart gift card. claim now: walmart-gift.xyz/claim",
         "you have won a 1000 walmart gift card claim now walmartgiftxyzclaim",
         "1000 walmart gift card claim walmartgiftxyzclaim",
         "1000 walmart gift card claim walmartgiftxyzclaim"
        ],
        [
         "17",
         "This is your carrier: Your phone bill is past due. Avoid service interruption: mobilepay-now.com",
         "1",
         "this is your carrier: your phone bill is past due. avoid service interruption: mobilepay-now.com",
         "this is your carrier your phone bill is past due avoid service interruption mobilepaynowcom",
         "carrier phone bill past due avoid service interruption mobilepaynowcom",
         "carrier phone bill past due avoid service interruption mobilepaynowcom"
        ],
        [
         "18",
         "URGENT Tax Refund: You are eligible for $1,249.50 tax refund. Submit claim: tax-refund-gov.xyz",
         "1",
         "urgent tax refund: you are eligible for $1,249.50 tax refund. submit claim: tax-refund-gov.xyz",
         "urgent tax refund you are eligible for 124950 tax refund submit claim taxrefundgovxyz",
         "urgent tax refund eligible 124950 tax refund submit claim taxrefundgovxyz",
         "urgent tax refund eligible 124950 tax refund submit claim taxrefundgovxyz"
        ],
        [
         "19",
         "Your order #43298 has been shipped. Track delivery status: amaz0n-tracking.site",
         "1",
         "your order #43298 has been shipped. track delivery status: amaz0n-tracking.site",
         "your order 43298 has been shipped track delivery status amaz0ntrackingsite",
         "order 43298 shipped track delivery status amaz0ntrackingsite",
         "order 43298 ship track delivery status amaz0ntrackingsite"
        ],
        [
         "20",
         "Investment Alert: This penny stock is set to explode 500% next week! Buy now: stock-goldmine.xyz",
         "1",
         "investment alert: this penny stock is set to explode 500% next week! buy now: stock-goldmine.xyz",
         "investment alert this penny stock is set to explode 500 next week buy now stockgoldminexyz",
         "investment alert penny stock set explode 500 next week buy stockgoldminexyz",
         "investment alert penny stock set explode 500 next week buy stockgoldminexyz"
        ],
        [
         "21",
         "Your account access will be terminated. Verify identity: secure-account-verify.com",
         "1",
         "your account access will be terminated. verify identity: secure-account-verify.com",
         "your account access will be terminated verify identity secureaccountverifycom",
         "account access terminated verify identity secureaccountverifycom",
         "account access terminate verify identity secureaccountverifycom"
        ],
        [
         "22",
         "FINAL WARNING: Your vehicle is showing in our system as uninsured. Avoid penalties: auto-insure-now.site",
         "1",
         "final warning: your vehicle is showing in our system as uninsured. avoid penalties: auto-insure-now.site",
         "final warning your vehicle is showing in our system as uninsured avoid penalties autoinsurenowsite",
         "final warning vehicle showing system uninsured avoid penalties autoinsurenowsite",
         "final warning vehicle show system uninsured avoid penalty autoinsurenowsite"
        ],
        [
         "23",
         "IMPORTANT: Your recent payment was declined. Update payment method: paypal-secure-update.com",
         "1",
         "important: your recent payment was declined. update payment method: paypal-secure-update.com",
         "important your recent payment was declined update payment method paypalsecureupdatecom",
         "important recent payment declined update payment method paypalsecureupdatecom",
         "important recent payment decline update payment method paypalsecureupdatecom"
        ],
        [
         "24",
         "Congratulations! You've been selected for our exclusive survey. Complete for $90 reward: survey-rewards.xyz",
         "1",
         "congratulations! you've been selected for our exclusive survey. complete for $90 reward: survey-rewards.xyz",
         "congratulations youve been selected for our exclusive survey complete for 90 reward surveyrewardsxyz",
         "congratulations youve selected exclusive survey complete 90 reward surveyrewardsxyz",
         "congratulation youve select exclusive survey complete 90 reward surveyrewardsxyz"
        ],
        [
         "25",
         "ATTENTION CUSTOMER: Your internet service will be disconnected. Pay now: internet-billing.site",
         "1",
         "attention customer: your internet service will be disconnected. pay now: internet-billing.site",
         "attention customer your internet service will be disconnected pay now internetbillingsite",
         "attention customer internet service disconnected pay internetbillingsite",
         "attention customer internet service disconnect pay internetbillingsite"
        ],
        [
         "26",
         "Your CV was found in our database. $95k position available. Apply now: career-opportunity.xyz",
         "1",
         "your cv was found in our database. $95k position available. apply now: career-opportunity.xyz",
         "your cv was found in our database 95k position available apply now careeropportunityxyz",
         "cv found database 95k position available apply careeropportunityxyz",
         "cv find database 95k position available apply careeropportunityxyz"
        ],
        [
         "27",
         "COURT NOTICE: You are scheduled to appear. Case #CR7231. Details: court-notice.site",
         "1",
         "court notice: you are scheduled to appear. case #cr7231. details: court-notice.site",
         "court notice you are scheduled to appear case cr7231 details courtnoticesite",
         "court notice scheduled appear case cr7231 details courtnoticesite",
         "court notice schedule appear case cr7231 detail courtnoticesite"
        ],
        [
         "28",
         "Your phone has 3 virus! Click to scan and remove: virus-removal.xyz",
         "1",
         "your phone has 3 virus! click to scan and remove: virus-removal.xyz",
         "your phone has 3 virus click to scan and remove virusremovalxyz",
         "phone 3 virus click scan remove virusremovalxyz",
         "phone 3 virus click scan remove virusremovalxyz"
        ],
        [
         "29",
         "FREE: Get your credit score and report now! Limited offer: free-credit-check.site",
         "1",
         "free: get your credit score and report now! limited offer: free-credit-check.site",
         "free get your credit score and report now limited offer freecreditchecksite",
         "free get credit score report limited offer freecreditchecksite",
         "free get credit score report limit offer freecreditchecksite"
        ],
        [
         "30",
         "WINNER ALERT: You've been selected to receive a $250 Amazon gift card. Claim now: amazon-rewards.site",
         "1",
         "winner alert: you've been selected to receive a $250 amazon gift card. claim now: amazon-rewards.site",
         "winner alert youve been selected to receive a 250 amazon gift card claim now amazonrewardssite",
         "winner alert youve selected receive 250 amazon gift card claim amazonrewardssite",
         "winner alert youve select receive 250 amazon gift card claim amazonrewardssite"
        ],
        [
         "31",
         "URGENT: Your credit card has been charged $499. If unauthorized call: +1-888-555-3214",
         "1",
         "urgent: your credit card has been charged $499. if unauthorized call: +1-888-555-3214",
         "urgent your credit card has been charged 499 if unauthorized call 18885553214",
         "urgent credit card charged 499 unauthorized call 18885553214",
         "urgent credit card charge 499 unauthorized call 18885553214"
        ],
        [
         "32",
         "Your Apple iCloud account will be deleted in 24 hours. Verify now: secure-icloud-verify.com",
         "1",
         "your apple icloud account will be deleted in 24 hours. verify now: secure-icloud-verify.com",
         "your apple icloud account will be deleted in 24 hours verify now secureicloudverifycom",
         "apple icloud account deleted 24 hours verify secureicloudverifycom",
         "apple icloud account delete 24 hour verify secureicloudverifycom"
        ],
        [
         "33",
         "ATTENTION: We've been trying to reach you about your car's extended warranty. Last chance: 800-555-9876",
         "1",
         "attention: we've been trying to reach you about your car's extended warranty. last chance: 800-555-9876",
         "attention weve been trying to reach you about your cars extended warranty last chance 8005559876",
         "attention weve trying reach cars extended warranty last chance 8005559876",
         "attention weve try reach car extend warranty last chance 8005559876"
        ],
        [
         "34",
         "Congratulations! You qualify for student loan forgiveness. Apply here: loan-forgive-gov.xyz",
         "1",
         "congratulations! you qualify for student loan forgiveness. apply here: loan-forgive-gov.xyz",
         "congratulations you qualify for student loan forgiveness apply here loanforgivegovxyz",
         "congratulations qualify student loan forgiveness apply loanforgivegovxyz",
         "congratulation qualify student loan forgiveness apply loanforgivegovxyz"
        ],
        [
         "35",
         "SECURITY ALERT: Suspicious sign-in attempt on your Google account. Verify now: google-secure-verify.com",
         "1",
         "security alert: suspicious sign-in attempt on your google account. verify now: google-secure-verify.com",
         "security alert suspicious signin attempt on your google account verify now googlesecureverifycom",
         "security alert suspicious signin attempt google account verify googlesecureverifycom",
         "security alert suspicious signin attempt google account verify googlesecureverifycom"
        ],
        [
         "36",
         "Your parcel #UK45692 is on hold. Confirm delivery address: royal-mail-delivery.site",
         "1",
         "your parcel #uk45692 is on hold. confirm delivery address: royal-mail-delivery.site",
         "your parcel uk45692 is on hold confirm delivery address royalmaildeliverysite",
         "parcel uk45692 hold confirm delivery address royalmaildeliverysite",
         "parcel uk45692 hold confirm delivery address royalmaildeliverysite"
        ],
        [
         "37",
         "50% OFF EVERYTHING at Nike! Limited time offer: nike-special-deals.xyz",
         "1",
         "50% off everything at nike! limited time offer: nike-special-deals.xyz",
         "50 off everything at nike limited time offer nikespecialdealsxyz",
         "50 everything nike limited time offer nikespecialdealsxyz",
         "50 everything nike limited time offer nikespecialdealsxyz"
        ],
        [
         "38",
         "ACTION REQUIRED: Your PayPal account has been limited. Update info: paypal-account-service.com",
         "1",
         "action required: your paypal account has been limited. update info: paypal-account-service.com",
         "action required your paypal account has been limited update info paypalaccountservicecom",
         "action required paypal account limited update info paypalaccountservicecom",
         "action require paypal account limited update info paypalaccountservicecom"
        ],
        [
         "39",
         "URGENT: Your electricity will be disconnected tonight. Pay now: utility-pay-online.site",
         "1",
         "urgent: your electricity will be disconnected tonight. pay now: utility-pay-online.site",
         "urgent your electricity will be disconnected tonight pay now utilitypayonlinesite",
         "urgent electricity disconnected tonight pay utilitypayonlinesite",
         "urgent electricity disconnect tonight pay utilitypayonlinesite"
        ],
        [
         "40",
         "Your Bitcoin wallet has been credited with 0.5 BTC. Confirm receipt: bitcoin-wallet-verify.xyz",
         "1",
         "your bitcoin wallet has been credited with 0.5 btc. confirm receipt: bitcoin-wallet-verify.xyz",
         "your bitcoin wallet has been credited with 05 btc confirm receipt bitcoinwalletverifyxyz",
         "bitcoin wallet credited 05 btc confirm receipt bitcoinwalletverifyxyz",
         "bitcoin wallet credit 05 btc confirm receipt bitcoinwalletverifyxyz"
        ],
        [
         "41",
         "FINAL NOTICE: Your tax records are out of date. Avoid penalties: irs-tax-update.site",
         "1",
         "final notice: your tax records are out of date. avoid penalties: irs-tax-update.site",
         "final notice your tax records are out of date avoid penalties irstaxupdatesite",
         "final notice tax records date avoid penalties irstaxupdatesite",
         "final notice tax record date avoid penalty irstaxupdatesite"
        ],
        [
         "42",
         "You've been selected for a $50 Starbucks gift card! Claim now: starbucks-rewards.xyz",
         "1",
         "you've been selected for a $50 starbucks gift card! claim now: starbucks-rewards.xyz",
         "youve been selected for a 50 starbucks gift card claim now starbucksrewardsxyz",
         "youve selected 50 starbucks gift card claim starbucksrewardsxyz",
         "youve select 50 starbucks gift card claim starbucksrewardsxyz"
        ],
        [
         "43",
         "Your Instagram account will be permanently deleted. Verify ownership: instagram-verify.site",
         "1",
         "your instagram account will be permanently deleted. verify ownership: instagram-verify.site",
         "your instagram account will be permanently deleted verify ownership instagramverifysite",
         "instagram account permanently deleted verify ownership instagramverifysite",
         "instagram account permanently delete verify ownership instagramverifysite"
        ],
        [
         "44",
         "URGENT: Your phone service will be suspended. Update billing info: mobile-service-update.com",
         "1",
         "urgent: your phone service will be suspended. update billing info: mobile-service-update.com",
         "urgent your phone service will be suspended update billing info mobileserviceupdatecom",
         "urgent phone service suspended update billing info mobileserviceupdatecom",
         "urgent phone service suspend update billing info mobileserviceupdatecom"
        ],
        [
         "45",
         "Congratulations! You're prequalified for a new credit card with $10,000 limit: premier-credit-offer.site",
         "1",
         "congratulations! you're prequalified for a new credit card with $10,000 limit: premier-credit-offer.site",
         "congratulations youre prequalified for a new credit card with 10000 limit premiercreditoffersite",
         "congratulations youre prequalified new credit card 10000 limit premiercreditoffersite",
         "congratulation youre prequalified new credit card 10000 limit premiercreditoffersite"
        ],
        [
         "46",
         "Your flight reservation #AX78542 has been changed. Confirm details: airline-update.xyz",
         "1",
         "your flight reservation #ax78542 has been changed. confirm details: airline-update.xyz",
         "your flight reservation ax78542 has been changed confirm details airlineupdatexyz",
         "flight reservation ax78542 changed confirm details airlineupdatexyz",
         "flight reservation ax78542 change confirm detail airlineupdatexyz"
        ],
        [
         "47",
         "LAST CHANCE: Claim your free laptop from our annual giveaway: free-laptop-giveaway.site",
         "1",
         "last chance: claim your free laptop from our annual giveaway: free-laptop-giveaway.site",
         "last chance claim your free laptop from our annual giveaway freelaptopgiveawaysite",
         "last chance claim free laptop annual giveaway freelaptopgiveawaysite",
         "last chance claim free laptop annual giveaway freelaptopgiveawaysite"
        ],
        [
         "48",
         "Your Facebook account has been reported. Verify to avoid suspension: facebook-security-team.xyz",
         "1",
         "your facebook account has been reported. verify to avoid suspension: facebook-security-team.xyz",
         "your facebook account has been reported verify to avoid suspension facebooksecurityteamxyz",
         "facebook account reported verify avoid suspension facebooksecurityteamxyz",
         "facebook account report verify avoid suspension facebooksecurityteamxyz"
        ],
        [
         "49",
         "Congratulations! You've won 2nd prize in Coca-Cola sweepstakes. Claim $5,000: coke-prize.site",
         "1",
         "congratulations! you've won 2nd prize in coca-cola sweepstakes. claim $5,000: coke-prize.site",
         "congratulations youve won 2nd prize in cocacola sweepstakes claim 5000 cokeprizesite",
         "congratulations youve 2nd prize cocacola sweepstakes claim 5000 cokeprizesite",
         "congratulation youve 2nd prize cocacola sweepstakes claim 5000 cokeprizesite"
        ]
       ],
       "shape": {
        "columns": 6,
        "rows": 5774
       }
      },
      "text/html": [
       "<div>\n",
       "<style scoped>\n",
       "    .dataframe tbody tr th:only-of-type {\n",
       "        vertical-align: middle;\n",
       "    }\n",
       "\n",
       "    .dataframe tbody tr th {\n",
       "        vertical-align: top;\n",
       "    }\n",
       "\n",
       "    .dataframe thead th {\n",
       "        text-align: right;\n",
       "    }\n",
       "</style>\n",
       "<table border=\"1\" class=\"dataframe\">\n",
       "  <thead>\n",
       "    <tr style=\"text-align: right;\">\n",
       "      <th></th>\n",
       "      <th>Message</th>\n",
       "      <th>Category</th>\n",
       "      <th>lower_message</th>\n",
       "      <th>message_wo_punct</th>\n",
       "      <th>message_no_stopwords</th>\n",
       "      <th>message_lemmatized</th>\n",
       "    </tr>\n",
       "  </thead>\n",
       "  <tbody>\n",
       "    <tr>\n",
       "      <th>0</th>\n",
       "      <td>URGENT: Your mobile number has won $500,000 in...</td>\n",
       "      <td>1</td>\n",
       "      <td>urgent: your mobile number has won $500,000 in...</td>\n",
       "      <td>urgent your mobile number has won 500000 in ou...</td>\n",
       "      <td>urgent mobile number 500000 prize draw call cl...</td>\n",
       "      <td>urgent mobile number 500000 prize draw call cl...</td>\n",
       "    </tr>\n",
       "    <tr>\n",
       "      <th>1</th>\n",
       "      <td>CONGRATULATIONS! You've been selected for a fr...</td>\n",
       "      <td>1</td>\n",
       "      <td>congratulations! you've been selected for a fr...</td>\n",
       "      <td>congratulations youve been selected for a free...</td>\n",
       "      <td>congratulations youve selected free iphone 14 ...</td>\n",
       "      <td>congratulation youve select free iphone 14 cli...</td>\n",
       "    </tr>\n",
       "    <tr>\n",
       "      <th>2</th>\n",
       "      <td>Your package delivery #8742 is pending. Update...</td>\n",
       "      <td>1</td>\n",
       "      <td>your package delivery #8742 is pending. update...</td>\n",
       "      <td>your package delivery 8742 is pending update d...</td>\n",
       "      <td>package delivery 8742 pending update delivery ...</td>\n",
       "      <td>package delivery 8742 pending update delivery ...</td>\n",
       "    </tr>\n",
       "    <tr>\n",
       "      <th>3</th>\n",
       "      <td>NETFLIX: Your account has been suspended. Upda...</td>\n",
       "      <td>1</td>\n",
       "      <td>netflix: your account has been suspended. upda...</td>\n",
       "      <td>netflix your account has been suspended update...</td>\n",
       "      <td>netflix account suspended update payment info ...</td>\n",
       "      <td>netflix account suspend update payment info ne...</td>\n",
       "    </tr>\n",
       "    <tr>\n",
       "      <th>4</th>\n",
       "      <td>50% OFF at Fashion World! Limited time offer. ...</td>\n",
       "      <td>1</td>\n",
       "      <td>50% off at fashion world! limited time offer. ...</td>\n",
       "      <td>50 off at fashion world limited time offer sho...</td>\n",
       "      <td>50 fashion world limited time offer shop fwsal...</td>\n",
       "      <td>50 fashion world limit time offer shop fwsales...</td>\n",
       "    </tr>\n",
       "    <tr>\n",
       "      <th>...</th>\n",
       "      <td>...</td>\n",
       "      <td>...</td>\n",
       "      <td>...</td>\n",
       "      <td>...</td>\n",
       "      <td>...</td>\n",
       "      <td>...</td>\n",
       "    </tr>\n",
       "    <tr>\n",
       "      <th>5569</th>\n",
       "      <td>This is the 2nd time we have tried 2 contact u...</td>\n",
       "      <td>1</td>\n",
       "      <td>this is the 2nd time we have tried 2 contact u...</td>\n",
       "      <td>this is the 2nd time we have tried 2 contact u...</td>\n",
       "      <td>2nd time tried 2 contact u u £750 pound prize ...</td>\n",
       "      <td>2nd time try 2 contact u u £750 pound prize 2 ...</td>\n",
       "    </tr>\n",
       "    <tr>\n",
       "      <th>5570</th>\n",
       "      <td>Will ü b going to esplanade fr home?\\n</td>\n",
       "      <td>0</td>\n",
       "      <td>will ü b going to esplanade fr home?\\n</td>\n",
       "      <td>will ü b going to esplanade fr home\\n</td>\n",
       "      <td>ü b going esplanade fr home</td>\n",
       "      <td>ü b go esplanade fr home</td>\n",
       "    </tr>\n",
       "    <tr>\n",
       "      <th>5571</th>\n",
       "      <td>Pity, * was in mood for that. So...any other s...</td>\n",
       "      <td>0</td>\n",
       "      <td>pity, * was in mood for that. so...any other s...</td>\n",
       "      <td>pity  was in mood for that soany other suggest...</td>\n",
       "      <td>pity mood soany suggestions</td>\n",
       "      <td>pity mood soany suggestion</td>\n",
       "    </tr>\n",
       "    <tr>\n",
       "      <th>5572</th>\n",
       "      <td>The guy did some bitching but I acted like i'd...</td>\n",
       "      <td>0</td>\n",
       "      <td>the guy did some bitching but i acted like i'd...</td>\n",
       "      <td>the guy did some bitching but i acted like id ...</td>\n",
       "      <td>guy bitching acted like id interested buying s...</td>\n",
       "      <td>guy bitch act like id interested buying someth...</td>\n",
       "    </tr>\n",
       "    <tr>\n",
       "      <th>5573</th>\n",
       "      <td>Rofl. Its true to its name\\n</td>\n",
       "      <td>0</td>\n",
       "      <td>rofl. its true to its name\\n</td>\n",
       "      <td>rofl its true to its name\\n</td>\n",
       "      <td>rofl true name</td>\n",
       "      <td>rofl true name</td>\n",
       "    </tr>\n",
       "  </tbody>\n",
       "</table>\n",
       "<p>5774 rows × 6 columns</p>\n",
       "</div>"
      ],
      "text/plain": [
       "                                                Message  Category  \\\n",
       "0     URGENT: Your mobile number has won $500,000 in...         1   \n",
       "1     CONGRATULATIONS! You've been selected for a fr...         1   \n",
       "2     Your package delivery #8742 is pending. Update...         1   \n",
       "3     NETFLIX: Your account has been suspended. Upda...         1   \n",
       "4     50% OFF at Fashion World! Limited time offer. ...         1   \n",
       "...                                                 ...       ...   \n",
       "5569  This is the 2nd time we have tried 2 contact u...         1   \n",
       "5570             Will ü b going to esplanade fr home?\\n         0   \n",
       "5571  Pity, * was in mood for that. So...any other s...         0   \n",
       "5572  The guy did some bitching but I acted like i'd...         0   \n",
       "5573                       Rofl. Its true to its name\\n         0   \n",
       "\n",
       "                                          lower_message  \\\n",
       "0     urgent: your mobile number has won $500,000 in...   \n",
       "1     congratulations! you've been selected for a fr...   \n",
       "2     your package delivery #8742 is pending. update...   \n",
       "3     netflix: your account has been suspended. upda...   \n",
       "4     50% off at fashion world! limited time offer. ...   \n",
       "...                                                 ...   \n",
       "5569  this is the 2nd time we have tried 2 contact u...   \n",
       "5570             will ü b going to esplanade fr home?\\n   \n",
       "5571  pity, * was in mood for that. so...any other s...   \n",
       "5572  the guy did some bitching but i acted like i'd...   \n",
       "5573                       rofl. its true to its name\\n   \n",
       "\n",
       "                                       message_wo_punct  \\\n",
       "0     urgent your mobile number has won 500000 in ou...   \n",
       "1     congratulations youve been selected for a free...   \n",
       "2     your package delivery 8742 is pending update d...   \n",
       "3     netflix your account has been suspended update...   \n",
       "4     50 off at fashion world limited time offer sho...   \n",
       "...                                                 ...   \n",
       "5569  this is the 2nd time we have tried 2 contact u...   \n",
       "5570              will ü b going to esplanade fr home\\n   \n",
       "5571  pity  was in mood for that soany other suggest...   \n",
       "5572  the guy did some bitching but i acted like id ...   \n",
       "5573                        rofl its true to its name\\n   \n",
       "\n",
       "                                   message_no_stopwords  \\\n",
       "0     urgent mobile number 500000 prize draw call cl...   \n",
       "1     congratulations youve selected free iphone 14 ...   \n",
       "2     package delivery 8742 pending update delivery ...   \n",
       "3     netflix account suspended update payment info ...   \n",
       "4     50 fashion world limited time offer shop fwsal...   \n",
       "...                                                 ...   \n",
       "5569  2nd time tried 2 contact u u £750 pound prize ...   \n",
       "5570                        ü b going esplanade fr home   \n",
       "5571                        pity mood soany suggestions   \n",
       "5572  guy bitching acted like id interested buying s...   \n",
       "5573                                     rofl true name   \n",
       "\n",
       "                                     message_lemmatized  \n",
       "0     urgent mobile number 500000 prize draw call cl...  \n",
       "1     congratulation youve select free iphone 14 cli...  \n",
       "2     package delivery 8742 pending update delivery ...  \n",
       "3     netflix account suspend update payment info ne...  \n",
       "4     50 fashion world limit time offer shop fwsales...  \n",
       "...                                                 ...  \n",
       "5569  2nd time try 2 contact u u £750 pound prize 2 ...  \n",
       "5570                           ü b go esplanade fr home  \n",
       "5571                         pity mood soany suggestion  \n",
       "5572  guy bitch act like id interested buying someth...  \n",
       "5573                                     rofl true name  \n",
       "\n",
       "[5774 rows x 6 columns]"
      ]
     },
     "execution_count": 267,
     "metadata": {},
     "output_type": "execute_result"
    }
   ],
   "source": [
    "df_cleaning['Category'] = df_cleaning['Category'].replace(['ham', 'spam'], [0, 1])\n",
    "df_cleaning"
   ]
  },
  {
   "cell_type": "code",
   "execution_count": 268,
   "metadata": {},
   "outputs": [
    {
     "name": "stdout",
     "output_type": "stream",
     "text": [
      "Shape (number of strings, number of unique words):\n",
      "(4619, 7751)\n",
      "List of unique words:\n",
      "['008704050406' '0089my' '0121' ... 'zoe' 'zogtorius' 'üll']\n",
      "Vector Matrix for training data:\n",
      "[[0. 0. 0. ... 0. 0. 0.]\n",
      " [0. 0. 0. ... 0. 0. 0.]\n",
      " [0. 0. 0. ... 0. 0. 0.]\n",
      " ...\n",
      " [0. 0. 0. ... 0. 0. 0.]\n",
      " [0. 0. 0. ... 0. 0. 0.]\n",
      " [0. 0. 0. ... 0. 0. 0.]]\n"
     ]
    }
   ],
   "source": [
    "from sklearn.model_selection import train_test_split\n",
    "from sklearn.feature_extraction.text import TfidfVectorizer\n",
    "from sklearn.metrics import confusion_matrix, classification_report, ConfusionMatrixDisplay, accuracy_score\n",
    "X_train, X_test, y_train, y_test = train_test_split(df_cleaning['message_lemmatized'], df_cleaning['Category'], test_size=.2, random_state=42)\n",
    "\n",
    "tfidf_vectorizer = TfidfVectorizer()\n",
    "X_train_tfidf = tfidf_vectorizer.fit_transform(X_train)\n",
    "X_test_tfidf = tfidf_vectorizer.transform(X_test)\n",
    "\n",
    "print(\"Shape (number of strings, number of unique words):\")\n",
    "print(X_train_tfidf.shape)\n",
    "print('List of unique words:')\n",
    "print(tfidf_vectorizer.get_feature_names_out())\n",
    "print(\"Vector Matrix for training data:\")\n",
    "print(X_train_tfidf.toarray())"
   ]
  },
  {
   "cell_type": "code",
   "execution_count": 269,
   "metadata": {},
   "outputs": [
    {
     "name": "stdout",
     "output_type": "stream",
     "text": [
      "Test Data:\n",
      "Accuracy: 0.9567099567099567\n",
      "              precision    recall  f1-score   support\n",
      "\n",
      "           0       0.95      1.00      0.97       969\n",
      "           1       0.98      0.75      0.85       186\n",
      "\n",
      "    accuracy                           0.96      1155\n",
      "   macro avg       0.97      0.87      0.91      1155\n",
      "weighted avg       0.96      0.96      0.95      1155\n",
      "\n",
      "Train Data:\n",
      "Accuracy: 0.957350075773977\n",
      "              precision    recall  f1-score   support\n",
      "\n",
      "           0       0.95      1.00      0.98      3858\n",
      "           1       0.99      0.75      0.85       761\n",
      "\n",
      "    accuracy                           0.96      4619\n",
      "   macro avg       0.97      0.87      0.91      4619\n",
      "weighted avg       0.96      0.96      0.95      4619\n",
      "\n"
     ]
    }
   ],
   "source": [
    "from sklearn.linear_model import LogisticRegression\n",
    "\n",
    "lr_classifier = LogisticRegression(random_state=42)\n",
    "lr_classifier.fit(X_train_tfidf, y_train)\n",
    "\n",
    "y_pred_lr = lr_classifier.predict(X_test_tfidf)\n",
    "\n",
    "class_report_lr = classification_report(y_test, y_pred_lr)\n",
    "print(\"Test Data:\")\n",
    "print(\"Accuracy:\", accuracy_score(y_test, y_pred_lr))\n",
    "print(class_report_lr)\n",
    "\n",
    "y_train_pred = lr_classifier.predict(X_train_tfidf)\n",
    "class_report_train = classification_report(y_train, y_train_pred)\n",
    "print(\"Train Data:\")\n",
    "print(\"Accuracy:\", accuracy_score(y_train, y_train_pred))\n",
    "print(class_report_train)"
   ]
  },
  {
   "cell_type": "code",
   "execution_count": 270,
   "metadata": {},
   "outputs": [
    {
     "name": "stdout",
     "output_type": "stream",
     "text": [
      "[-2.35491832 -2.58679355 -1.94767577 ...  0.714711   -1.90918222\n",
      " -3.89233888]\n"
     ]
    }
   ],
   "source": [
    "from sklearn.metrics import roc_curve, auc\n",
    "\n",
    "y_score = lr_classifier.fit(X_train_tfidf, y_train).decision_function(X_test_tfidf)\n",
    "print(y_score)"
   ]
  },
  {
   "cell_type": "code",
   "execution_count": 271,
   "metadata": {},
   "outputs": [
    {
     "name": "stdout",
     "output_type": "stream",
     "text": [
      "Test Data:\n"
     ]
    },
    {
     "data": {
      "text/plain": [
       "<sklearn.metrics._plot.confusion_matrix.ConfusionMatrixDisplay at 0x14f5e91b0>"
      ]
     },
     "execution_count": 271,
     "metadata": {},
     "output_type": "execute_result"
    },
    {
     "data": {
      "image/png": "[encoded data removed]",
      "text/plain": [
       "<Figure size 640x480 with 2 Axes>"
      ]
     },
     "metadata": {},
     "output_type": "display_data"
    }
   ],
   "source": [
    "print(\"Test Data:\")\n",
    "cm = confusion_matrix(y_test, y_pred_lr)\n",
    "disp = ConfusionMatrixDisplay(cm)\n",
    "disp.plot()"
   ]
  },
  {
   "cell_type": "code",
   "execution_count": 272,
   "metadata": {},
   "outputs": [
    {
     "name": "stdout",
     "output_type": "stream",
     "text": [
      "Train Data:\n"
     ]
    },
    {
     "data": {
      "text/plain": [
       "<sklearn.metrics._plot.confusion_matrix.ConfusionMatrixDisplay at 0x15ceec640>"
      ]
     },
     "execution_count": 272,
     "metadata": {},
     "output_type": "execute_result"
    },
    {
     "data": {
      "image/png": "[encoded data removed]",
      "text/plain": [
       "<Figure size 640x480 with 2 Axes>"
      ]
     },
     "metadata": {},
     "output_type": "display_data"
    }
   ],
   "source": [
    "print(\"Train Data:\")\n",
    "cm = confusion_matrix(y_train, y_train_pred)\n",
    "disp = ConfusionMatrixDisplay(cm)\n",
    "disp.plot()"
   ]
  },
  {
   "cell_type": "code",
   "execution_count": 273,
   "metadata": {},
   "outputs": [
    {
     "data": {
      "text/plain": [
       "\" from imblearn.over_sampling import RandomOverSampler\\n\\nX = df_cleaning[['message_lemmatized']]\\ny = df_cleaning['Category']\\n\\noversampler = RandomOverSampler(random_state=42)\\n\\nX_resampled, y_resampled = oversampler.fit_resample(X, y)\\n\\ndf_balanced = pd.DataFrame(X_resampled, columns=X.columns)\\ndf_balanced['label'] = y_resampled\\n\\ndf_balanced['label'].value_counts()\\ndf_balanced.head \""
      ]
     },
     "execution_count": 273,
     "metadata": {},
     "output_type": "execute_result"
    }
   ],
   "source": [
    "\"\"\" from imblearn.over_sampling import RandomOverSampler\n",
    "\n",
    "X = df_cleaning[['message_lemmatized']]\n",
    "y = df_cleaning['Category']\n",
    "\n",
    "oversampler = RandomOverSampler(random_state=42)\n",
    "\n",
    "X_resampled, y_resampled = oversampler.fit_resample(X, y)\n",
    "\n",
    "df_balanced = pd.DataFrame(X_resampled, columns=X.columns)\n",
    "df_balanced['label'] = y_resampled\n",
    "\n",
    "df_balanced['label'].value_counts()\n",
    "df_balanced.head \"\"\""
   ]
  },
  {
   "cell_type": "code",
   "execution_count": 308,
   "metadata": {},
   "outputs": [
    {
     "name": "stdout",
     "output_type": "stream",
     "text": [
      "Shape (number of strings, number of unique words):\n",
      "(4619, 7751)\n",
      "List of unique words:\n",
      "['008704050406' '0089my' '0121' ... 'zoe' 'zogtorius' 'üll']\n",
      "Vector Matrix for training data:\n",
      "[[0. 0. 0. ... 0. 0. 0.]\n",
      " [0. 0. 0. ... 0. 0. 0.]\n",
      " [0. 0. 0. ... 0. 0. 0.]\n",
      " ...\n",
      " [0. 0. 0. ... 0. 0. 0.]\n",
      " [0. 0. 0. ... 0. 0. 0.]\n",
      " [0. 0. 0. ... 0. 0. 0.]]\n"
     ]
    }
   ],
   "source": [
    "from sklearn.model_selection import train_test_split\n",
    "from sklearn.feature_extraction.text import TfidfVectorizer\n",
    "from sklearn.metrics import confusion_matrix, classification_report, ConfusionMatrixDisplay\n",
    "\n",
    "X_train, X_test, y_train, y_test = train_test_split(df_cleaning['message_lemmatized'], df_cleaning['Category'], test_size=.2, random_state=42)\n",
    "\n",
    "tfidf_vectorizer = TfidfVectorizer()\n",
    "X_train_tfidf = tfidf_vectorizer.fit_transform(X_train)\n",
    "X_test_tfidf = tfidf_vectorizer.transform(X_test)\n",
    "\n",
    "print(\"Shape (number of strings, number of unique words):\")\n",
    "print(X_train_tfidf.shape)\n",
    "print('List of unique words:')\n",
    "print(tfidf_vectorizer.get_feature_names_out())\n",
    "print(\"Vector Matrix for training data:\")\n",
    "print(X_train_tfidf.toarray())"
   ]
  },
  {
   "cell_type": "code",
   "execution_count": 313,
   "metadata": {},
   "outputs": [
    {
     "name": "stdout",
     "output_type": "stream",
     "text": [
      "Category\n",
      "0    3858\n",
      "1    1929\n",
      "Name: count, dtype: int64\n"
     ]
    },
    {
     "data": {
      "text/plain": [
       "(5787, 7751)"
      ]
     },
     "execution_count": 313,
     "metadata": {},
     "output_type": "execute_result"
    }
   ],
   "source": [
    "from imblearn.over_sampling import SMOTE\n",
    "\n",
    "sm = SMOTE(random_state=42, sampling_strategy=.5)\n",
    "X_oversamp, y_oversamp = sm.fit_resample(X_train_tfidf, y_train)\n",
    "print(y_oversamp.value_counts())\n",
    "X_oversamp.shape"
   ]
  },
  {
   "cell_type": "code",
   "execution_count": 314,
   "metadata": {},
   "outputs": [
    {
     "name": "stdout",
     "output_type": "stream",
     "text": [
      "Test Data:\n",
      "Accuracy:  0.9748917748917749\n",
      "              precision    recall  f1-score   support\n",
      "\n",
      "           0       0.98      0.99      0.99       969\n",
      "           1       0.96      0.88      0.92       186\n",
      "\n",
      "    accuracy                           0.97      1155\n",
      "   macro avg       0.97      0.94      0.95      1155\n",
      "weighted avg       0.97      0.97      0.97      1155\n",
      "\n",
      "Train Data:\n",
      "Accuracy:  0.9820286849835839\n",
      "              precision    recall  f1-score   support\n",
      "\n",
      "           0       0.98      1.00      0.99      3858\n",
      "           1       0.99      0.96      0.97      1929\n",
      "\n",
      "    accuracy                           0.98      5787\n",
      "   macro avg       0.98      0.98      0.98      5787\n",
      "weighted avg       0.98      0.98      0.98      5787\n",
      "\n"
     ]
    }
   ],
   "source": [
    "from sklearn.linear_model import LogisticRegression\n",
    "\n",
    "lr_classifier = LogisticRegression(random_state=42)\n",
    "lr_classifier.fit(X_oversamp, y_oversamp)\n",
    "\n",
    "y_pred_lr = lr_classifier.predict(X_test_tfidf)\n",
    "\n",
    "class_report_lr = classification_report(y_test, y_pred_lr)\n",
    "print(\"Test Data:\")\n",
    "print(\"Accuracy: \", accuracy_score(y_test, y_pred_lr))\n",
    "print(class_report_lr)\n",
    "\n",
    "y_train_pred = lr_classifier.predict(X_oversamp)\n",
    "class_report_train = classification_report(y_oversamp, y_train_pred)\n",
    "print(\"Train Data:\")\n",
    "print(\"Accuracy: \", accuracy_score(y_oversamp, y_train_pred))\n",
    "print(class_report_train)"
   ]
  },
  {
   "cell_type": "code",
   "execution_count": 277,
   "metadata": {},
   "outputs": [
    {
     "name": "stdout",
     "output_type": "stream",
     "text": [
      "Test Data:\n"
     ]
    },
    {
     "data": {
      "text/plain": [
       "<sklearn.metrics._plot.confusion_matrix.ConfusionMatrixDisplay at 0x15d6f0700>"
      ]
     },
     "execution_count": 277,
     "metadata": {},
     "output_type": "execute_result"
    },
    {
     "data": {
      "image/png": "[encoded data removed]",
      "text/plain": [
       "<Figure size 640x480 with 2 Axes>"
      ]
     },
     "metadata": {},
     "output_type": "display_data"
    }
   ],
   "source": [
    "print(\"Test Data:\")\n",
    "cm = confusion_matrix(y_test, y_pred_lr)\n",
    "disp = ConfusionMatrixDisplay(cm)\n",
    "disp.plot()"
   ]
  },
  {
   "cell_type": "code",
   "execution_count": 282,
   "metadata": {},
   "outputs": [
    {
     "name": "stdout",
     "output_type": "stream",
     "text": [
      "Train Data:\n"
     ]
    },
    {
     "data": {
      "text/plain": [
       "<sklearn.metrics._plot.confusion_matrix.ConfusionMatrixDisplay at 0x15ecf6a70>"
      ]
     },
     "execution_count": 282,
     "metadata": {},
     "output_type": "execute_result"
    },
    {
     "data": {
      "image/png": "[encoded data removed]",
      "text/plain": [
       "<Figure size 640x480 with 2 Axes>"
      ]
     },
     "metadata": {},
     "output_type": "display_data"
    }
   ],
   "source": [
    "print(\"Train Data:\")\n",
    "cm = confusion_matrix(y_oversamp, y_train_pred)\n",
    "disp = ConfusionMatrixDisplay(cm)\n",
    "disp.plot()"
   ]
  },
  {
   "cell_type": "markdown",
   "metadata": {},
   "source": [
    "Let's wrap our models in a function so that we will be able to perform hyperparameter tuning easily"
   ]
  },
  {
   "cell_type": "code",
   "execution_count": 283,
   "metadata": {},
   "outputs": [],
   "source": [
    "def baseline_model(dataframe):\n",
    "    X_train, X_test, y_train, y_test = train_test_split(dataframe['message_lemmatized'], dataframe['Category'], test_size=.2, random_state=42)\n",
    "\n",
    "    tfidf_vectorizer = TfidfVectorizer()\n",
    "    X_train_tfidf = tfidf_vectorizer.fit_transform(X_train)\n",
    "    X_test_tfidf = tfidf_vectorizer.transform(X_test)\n",
    "\n",
    "    logreg = LogisticRegression(random_state=42)\n",
    "    logreg.fit(X_train_tfidf, y_train)\n",
    "\n",
    "    y_pred_lr = lr_classifier.predict(X_test_tfidf)\n",
    "\n",
    "    return accuracy_score(y_test, y_pred_lr)\n"
   ]
  },
  {
   "cell_type": "code",
   "execution_count": 348,
   "metadata": {},
   "outputs": [],
   "source": [
    "def lr_with_oversampling(dataframe, sample_ratio=1, c_value=1, custom_min_df=1):\n",
    "    X_train, X_test, y_train, y_test = train_test_split(dataframe['message_lemmatized'], dataframe['Category'], test_size=.2, random_state=42)\n",
    "\n",
    "    tfidf_vectorizer = TfidfVectorizer(min_df=custom_min_df)\n",
    "    X_train_tfidf = tfidf_vectorizer.fit_transform(X_train)\n",
    "    X_test_tfidf = tfidf_vectorizer.transform(X_test)\n",
    "\n",
    "    sm = SMOTE(random_state=42, sampling_strategy=sample_ratio)\n",
    "    X_oversamp, y_oversamp = sm.fit_resample(X_train_tfidf, y_train)\n",
    "\n",
    "    logreg = LogisticRegression(random_state=42, max_iter=10000, C=c_value)\n",
    "    logreg.fit(X_oversamp, y_oversamp)\n",
    "\n",
    "    y_pred_lr = logreg.predict(X_test_tfidf)\n",
    "\n",
    "    return accuracy_score(y_test, y_pred_lr)"
   ]
  },
  {
   "cell_type": "code",
   "execution_count": 362,
   "metadata": {},
   "outputs": [
    {
     "name": "stdout",
     "output_type": "stream",
     "text": [
      "Testing different oversampling ratios:\n",
      "Default oversampling method accuracy (1:1): 0.9783549783549783\n",
      "Ratio 0.3 Accuracy: 0.9645021645021645\n",
      "Ratio 0.4 Accuracy: 0.9731601731601731\n",
      "Ratio 0.5 Accuracy: 0.9748917748917749\n",
      "Ratio 0.6 Accuracy: 0.974025974025974\n",
      "Ratio 0.7 Accuracy: 0.9766233766233766\n",
      "Ratio 0.8 Accuracy: 0.9774891774891775\n",
      "Ratio 0.9 Accuracy: 0.9766233766233766\n",
      "Ratio 1.0 Accuracy: 0.9783549783549783\n"
     ]
    }
   ],
   "source": [
    "ratio_list = [.3, .4, .5, .6, .7, .8, .9, 1.0]\n",
    "print(\"Testing different oversampling ratios:\")\n",
    "default = lr_with_oversampling(df_cleaning)\n",
    "print(f\"Default oversampling method accuracy (1:1): {default}\")\n",
    "acc_list = []\n",
    "for ratio in ratio_list:\n",
    "    acc = lr_with_oversampling(df_cleaning, sample_ratio=ratio)\n",
    "    acc_list.append(acc)\n",
    "    print(f\"Ratio {ratio} Accuracy: {acc}\")"
   ]
  },
  {
   "cell_type": "code",
   "execution_count": 367,
   "metadata": {},
   "outputs": [
    {
     "data": {
      "text/plain": [
       "Text(0.5, 1.0, 'Oversampling ratio vs. Accuracy')"
      ]
     },
     "execution_count": 367,
     "metadata": {},
     "output_type": "execute_result"
    },
    {
     "data": {
      "image/png": "[encoded data removed]",
      "text/plain": [
       "<Figure size 800x500 with 1 Axes>"
      ]
     },
     "metadata": {},
     "output_type": "display_data"
    }
   ],
   "source": [
    "fig, ax = plt.subplots(figsize=(8,5))\n",
    "sns.lineplot(x=ratio_list, y=acc_list, marker=\"s\", ax=ax)\n",
    "ax.set_xlabel(\"Ratio\")\n",
    "ax.set_ylabel(\"Accuracy Score\")\n",
    "ax.set_title(\"Oversampling ratio vs. Accuracy\")"
   ]
  },
  {
   "cell_type": "code",
   "execution_count": 345,
   "metadata": {},
   "outputs": [
    {
     "name": "stdout",
     "output_type": "stream",
     "text": [
      "Testing different oversampling ratios:\n",
      "Ratio 0.7 Accuracy: 0.9766233766233766\n",
      "Ratio 0.75 Accuracy: 0.9774891774891775\n",
      "Ratio 0.8 Accuracy: 0.9774891774891775\n",
      "Ratio 0.85 Accuracy: 0.9766233766233766\n",
      "Ratio 0.9 Accuracy: 0.9766233766233766\n",
      "Ratio 0.95 Accuracy: 0.9766233766233766\n",
      "Ratio 1 Accuracy: 0.9783549783549783\n"
     ]
    }
   ],
   "source": [
    "ratio_list = [.7, .75, .8, .85, .9, .95, 1]\n",
    "print(\"Testing different oversampling ratios:\")\n",
    "for ratio in ratio_list:\n",
    "    acc = lr_with_oversampling(df_cleaning, sample_ratio=ratio)\n",
    "    print(f\"Ratio {ratio} Accuracy: {acc}\")"
   ]
  },
  {
   "cell_type": "code",
   "execution_count": 369,
   "metadata": {},
   "outputs": [
    {
     "name": "stdout",
     "output_type": "stream",
     "text": [
      "Testing different C values:\n",
      "C value = 0.01 accuracy: 0.9532467532467532\n",
      "C value = 0.1 accuracy: 0.9653679653679653\n",
      "C value = 1 accuracy: 0.9783549783549783\n",
      "C value = 10 accuracy: 0.9809523809523809\n",
      "C value = 100 accuracy: 0.9800865800865801\n",
      "C value = 1000.0 accuracy: 0.9800865800865801\n",
      "C value = 10000.0 accuracy: 0.9800865800865801\n",
      "C value = 100000.0 accuracy: 0.9800865800865801\n"
     ]
    }
   ],
   "source": [
    "c_list = [10e-3, 10e-2, 1, 10, 100, 10e2, 10e3, 10e4]\n",
    "print(\"Testing different C values:\")\n",
    "acc_list = []\n",
    "\n",
    "for c in c_list:\n",
    "    acc = lr_with_oversampling(df_cleaning, c_value=c)\n",
    "    acc_list.append(acc)\n",
    "    print(f\"C value = {c} accuracy: {acc}\")"
   ]
  },
  {
   "cell_type": "code",
   "execution_count": 371,
   "metadata": {},
   "outputs": [
    {
     "data": {
      "text/plain": [
       "Text(0.5, 1.0, 'C-value vs. Accuracy')"
      ]
     },
     "execution_count": 371,
     "metadata": {},
     "output_type": "execute_result"
    },
    {
     "data": {
      "image/png": "[encoded data removed]",
      "text/plain": [
       "<Figure size 800x500 with 1 Axes>"
      ]
     },
     "metadata": {},
     "output_type": "display_data"
    }
   ],
   "source": [
    "fig, ax = plt.subplots(figsize=(8,5))\n",
    "sns.lineplot(x=c_list, y=acc_list, marker=\"s\", ax=ax)\n",
    "ax.set_xlabel(\"C-value\")\n",
    "ax.set_ylabel(\"Accuracy Score\")\n",
    "ax.set_title(\"C-value vs. Accuracy\")"
   ]
  },
  {
   "cell_type": "code",
   "execution_count": 372,
   "metadata": {},
   "outputs": [
    {
     "name": "stdout",
     "output_type": "stream",
     "text": [
      "Testing different C values:\n",
      "C value = 1.0 accuracy: 0.9783549783549783\n",
      "C value = 2.0 accuracy: 0.9792207792207792\n",
      "C value = 3.0 accuracy: 0.9792207792207792\n",
      "C value = 4.0 accuracy: 0.9783549783549783\n",
      "C value = 5.0 accuracy: 0.9792207792207792\n",
      "C value = 6.0 accuracy: 0.9800865800865801\n",
      "C value = 7.0 accuracy: 0.9809523809523809\n",
      "C value = 8.0 accuracy: 0.9809523809523809\n",
      "C value = 9.0 accuracy: 0.9809523809523809\n",
      "C value = 10.0 accuracy: 0.9809523809523809\n",
      "C value = 11.0 accuracy: 0.9809523809523809\n",
      "C value = 12.0 accuracy: 0.9809523809523809\n",
      "C value = 13.0 accuracy: 0.9809523809523809\n",
      "C value = 14.0 accuracy: 0.9818181818181818\n",
      "C value = 15.0 accuracy: 0.9809523809523809\n",
      "C value = 16.0 accuracy: 0.9809523809523809\n",
      "C value = 17.0 accuracy: 0.9809523809523809\n",
      "C value = 18.0 accuracy: 0.9818181818181818\n",
      "C value = 19.0 accuracy: 0.9818181818181818\n",
      "C value = 20.0 accuracy: 0.9792207792207792\n",
      "C value = 21.0 accuracy: 0.9792207792207792\n",
      "C value = 22.0 accuracy: 0.9792207792207792\n",
      "C value = 23.0 accuracy: 0.9792207792207792\n",
      "C value = 24.0 accuracy: 0.9792207792207792\n",
      "C value = 25.0 accuracy: 0.9818181818181818\n",
      "C value = 26.0 accuracy: 0.9818181818181818\n",
      "C value = 27.0 accuracy: 0.9818181818181818\n",
      "C value = 28.0 accuracy: 0.9818181818181818\n",
      "C value = 29.0 accuracy: 0.9809523809523809\n",
      "C value = 30.0 accuracy: 0.9809523809523809\n",
      "C value = 31.0 accuracy: 0.9809523809523809\n",
      "C value = 32.0 accuracy: 0.9809523809523809\n",
      "C value = 33.0 accuracy: 0.9809523809523809\n",
      "C value = 34.0 accuracy: 0.9809523809523809\n",
      "C value = 35.0 accuracy: 0.9809523809523809\n",
      "C value = 36.0 accuracy: 0.9809523809523809\n",
      "C value = 37.0 accuracy: 0.9800865800865801\n",
      "C value = 38.0 accuracy: 0.9800865800865801\n",
      "C value = 39.0 accuracy: 0.9800865800865801\n",
      "C value = 40.0 accuracy: 0.9800865800865801\n",
      "C value = 41.0 accuracy: 0.9800865800865801\n",
      "C value = 42.0 accuracy: 0.9800865800865801\n",
      "C value = 43.0 accuracy: 0.9800865800865801\n",
      "C value = 44.0 accuracy: 0.9800865800865801\n",
      "C value = 45.0 accuracy: 0.9800865800865801\n",
      "C value = 46.0 accuracy: 0.9800865800865801\n",
      "C value = 47.0 accuracy: 0.9800865800865801\n",
      "C value = 48.0 accuracy: 0.9800865800865801\n",
      "C value = 49.0 accuracy: 0.9800865800865801\n",
      "C value = 50.0 accuracy: 0.9800865800865801\n",
      "C value = 51.0 accuracy: 0.9800865800865801\n",
      "C value = 52.0 accuracy: 0.9800865800865801\n",
      "C value = 53.0 accuracy: 0.9800865800865801\n",
      "C value = 54.0 accuracy: 0.9800865800865801\n",
      "C value = 55.0 accuracy: 0.9800865800865801\n",
      "C value = 56.0 accuracy: 0.9800865800865801\n",
      "C value = 57.0 accuracy: 0.9800865800865801\n",
      "C value = 58.0 accuracy: 0.9800865800865801\n",
      "C value = 59.0 accuracy: 0.9800865800865801\n",
      "C value = 60.0 accuracy: 0.9800865800865801\n",
      "C value = 61.0 accuracy: 0.9800865800865801\n",
      "C value = 62.0 accuracy: 0.9800865800865801\n",
      "C value = 63.0 accuracy: 0.9800865800865801\n",
      "C value = 64.0 accuracy: 0.9800865800865801\n",
      "C value = 65.0 accuracy: 0.9800865800865801\n",
      "C value = 66.0 accuracy: 0.9800865800865801\n",
      "C value = 67.0 accuracy: 0.9800865800865801\n",
      "C value = 68.0 accuracy: 0.9800865800865801\n",
      "C value = 69.0 accuracy: 0.9800865800865801\n",
      "C value = 70.0 accuracy: 0.9800865800865801\n",
      "C value = 71.0 accuracy: 0.9800865800865801\n",
      "C value = 72.0 accuracy: 0.9800865800865801\n",
      "C value = 73.0 accuracy: 0.9800865800865801\n",
      "C value = 74.0 accuracy: 0.9800865800865801\n",
      "C value = 75.0 accuracy: 0.9800865800865801\n",
      "C value = 76.0 accuracy: 0.9800865800865801\n",
      "C value = 77.0 accuracy: 0.9800865800865801\n",
      "C value = 78.0 accuracy: 0.9800865800865801\n",
      "C value = 79.0 accuracy: 0.9800865800865801\n",
      "C value = 80.0 accuracy: 0.9800865800865801\n",
      "C value = 81.0 accuracy: 0.9800865800865801\n",
      "C value = 82.0 accuracy: 0.9800865800865801\n",
      "C value = 83.0 accuracy: 0.9800865800865801\n",
      "C value = 84.0 accuracy: 0.9800865800865801\n",
      "C value = 85.0 accuracy: 0.9800865800865801\n",
      "C value = 86.0 accuracy: 0.9800865800865801\n",
      "C value = 87.0 accuracy: 0.9800865800865801\n",
      "C value = 88.0 accuracy: 0.9800865800865801\n",
      "C value = 89.0 accuracy: 0.9800865800865801\n",
      "C value = 90.0 accuracy: 0.9800865800865801\n",
      "C value = 91.0 accuracy: 0.9800865800865801\n",
      "C value = 92.0 accuracy: 0.9800865800865801\n",
      "C value = 93.0 accuracy: 0.9800865800865801\n",
      "C value = 94.0 accuracy: 0.9800865800865801\n",
      "C value = 95.0 accuracy: 0.9800865800865801\n",
      "C value = 96.0 accuracy: 0.9800865800865801\n",
      "C value = 97.0 accuracy: 0.9800865800865801\n",
      "C value = 98.0 accuracy: 0.9800865800865801\n",
      "C value = 99.0 accuracy: 0.9800865800865801\n",
      "C value = 100.0 accuracy: 0.9800865800865801\n",
      "Best accuracy: 0.9818181818181818 at c-value 14\n"
     ]
    }
   ],
   "source": [
    "c_list = np.linspace(1, 100, 100).tolist()\n",
    "print(\"Testing different C values:\")\n",
    "acc_list = []\n",
    "\n",
    "for c in c_list:\n",
    "    acc = lr_with_oversampling(df_cleaning, c_value=c)\n",
    "    acc_list.append(acc)\n",
    "    print(f\"C value = {c} accuracy: {acc}\")\n",
    "\n",
    "print(f\"Best accuracy: {max(acc_list)} at c-value {acc_list.index(max(acc_list)) + 1}\")"
   ]
  },
  {
   "cell_type": "markdown",
   "metadata": {},
   "source": [
    "Here, we can see that the best c-value is 14"
   ]
  },
  {
   "cell_type": "code",
   "execution_count": 399,
   "metadata": {},
   "outputs": [
    {
     "data": {
      "text/plain": [
       "Text(-27, 0.9818, 'Accuracy = .9818')"
      ]
     },
     "execution_count": 399,
     "metadata": {},
     "output_type": "execute_result"
    },
    {
     "data": {
      "image/png": "[encoded data removed]",
      "text/plain": [
       "<Figure size 800x500 with 1 Axes>"
      ]
     },
     "metadata": {},
     "output_type": "display_data"
    }
   ],
   "source": [
    "fig, ax = plt.subplots(figsize=(8,5))\n",
    "sns.lineplot(x=c_list, y=acc_list, ax=ax, color='r')\n",
    "ax.set_xlabel(\"C-value\")\n",
    "ax.set_ylabel(\"Accuracy Score\")\n",
    "ax.set_title(\"C-value vs. Accuracy\")\n",
    "plt.axvline(14, ls='--', color=\"b\")\n",
    "plt.text(15,.9783,'C = 14',rotation=0, color=\"b\")\n",
    "plt.axhline(0.9818181818181818, ls='--', color=\"b\")\n",
    "plt.text(-27,.9818,'Accuracy = .9818',rotation=0, color=\"b\")"
   ]
  },
  {
   "cell_type": "markdown",
   "metadata": {},
   "source": [
    "Let's tune the min_df parameter of TdidfVectorizer"
   ]
  },
  {
   "cell_type": "code",
   "execution_count": 404,
   "metadata": {},
   "outputs": [
    {
     "name": "stdout",
     "output_type": "stream",
     "text": [
      "Testing different min_df values:\n",
      "min_df value = 1 accuracy: 0.9783549783549783\n",
      "min_df value = 2 accuracy: 0.9766233766233766\n",
      "min_df value = 3 accuracy: 0.9774891774891775\n",
      "min_df value = 4 accuracy: 0.974025974025974\n",
      "min_df value = 5 accuracy: 0.974025974025974\n",
      "min_df value = 6 accuracy: 0.9748917748917749\n",
      "min_df value = 7 accuracy: 0.9748917748917749\n",
      "min_df value = 8 accuracy: 0.9688311688311688\n",
      "min_df value = 9 accuracy: 0.9670995670995671\n",
      "min_df value = 12 accuracy: 0.9567099567099567\n",
      "min_df value = 13 accuracy: 0.9567099567099567\n",
      "min_df value = 14 accuracy: 0.9575757575757575\n",
      "min_df value = 15 accuracy: 0.9549783549783549\n",
      "min_df value = 20 accuracy: 0.9506493506493506\n",
      "min_df value = 25 accuracy: 0.9437229437229437\n",
      "min_df value = 30 accuracy: 0.941991341991342\n",
      "min_df value = 35 accuracy: 0.9393939393939394\n",
      "min_df value = 40 accuracy: 0.9367965367965368\n",
      "min_df value = 45 accuracy: 0.9316017316017317\n",
      "min_df value = 50 accuracy: 0.9177489177489178\n"
     ]
    }
   ],
   "source": [
    "mindf_list = [1, 2, 3, 4, 5, 6, 7, 8, 9, 12, 13, 14, 15, 20, 25, 30, 35, 40, 45, 50]\n",
    "print(\"Testing different min_df values:\")\n",
    "acc_list = []\n",
    "\n",
    "for mindf in mindf_list:\n",
    "    acc = lr_with_oversampling(df_cleaning, custom_min_df=mindf)\n",
    "    acc_list.append(acc)\n",
    "    print(f\"min_df value = {mindf} accuracy: {acc}\")"
   ]
  },
  {
   "cell_type": "code",
   "execution_count": 405,
   "metadata": {},
   "outputs": [
    {
     "data": {
      "text/plain": [
       "Text(0.5, 1.0, 'Vectorizer min_df parameter vs. Accuracy')"
      ]
     },
     "execution_count": 405,
     "metadata": {},
     "output_type": "execute_result"
    },
    {
     "data": {
      "image/png": "[encoded data removed]",
      "text/plain": [
       "<Figure size 800x500 with 1 Axes>"
      ]
     },
     "metadata": {},
     "output_type": "display_data"
    }
   ],
   "source": [
    "fig, ax = plt.subplots(figsize=(8,5))\n",
    "sns.lineplot(x=mindf_list, y=acc_list, ax=ax, color='green')\n",
    "ax.set_xlabel(\"Vectorizer min_df\")\n",
    "ax.set_ylabel(\"Accuracy Score\")\n",
    "ax.set_title(\"Vectorizer min_df parameter vs. Accuracy\")"
   ]
  },
  {
   "cell_type": "markdown",
   "metadata": {},
   "source": [
    "# Using a more modern data set to test the model\n",
    "\n",
    "We created a set of 593 more modern text messages using Claude AI to test the model."
   ]
  },
  {
   "cell_type": "code",
   "execution_count": 354,
   "metadata": {},
   "outputs": [
    {
     "data": {
      "text/plain": [
       "label\n",
       "spam    297\n",
       "ham     296\n",
       "Name: count, dtype: int64"
      ]
     },
     "execution_count": 354,
     "metadata": {},
     "output_type": "execute_result"
    }
   ],
   "source": [
    "modern_spam_df = pd.read_csv('./data/spam_sms_dataset.csv')\n",
    "modern_spam_df['label'].value_counts()"
   ]
  },
  {
   "cell_type": "code",
   "execution_count": 355,
   "metadata": {},
   "outputs": [
    {
     "name": "stderr",
     "output_type": "stream",
     "text": [
      "/var/folders/4s/pf1zdv_x4_qcflpq4m943q0m0000gn/T/ipykernel_91514/15539428.py:1: FutureWarning: Downcasting behavior in `replace` is deprecated and will be removed in a future version. To retain the old behavior, explicitly call `result.infer_objects(copy=False)`. To opt-in to the future behavior, set `pd.set_option('future.no_silent_downcasting', True)`\n",
      "  modern_spam_df['label'] = modern_spam_df['label'].replace(['ham', 'spam'], [0, 1])\n"
     ]
    },
    {
     "data": {
      "application/vnd.microsoft.datawrangler.viewer.v0+json": {
       "columns": [
        {
         "name": "index",
         "rawType": "int64",
         "type": "integer"
        },
        {
         "name": "label",
         "rawType": "int64",
         "type": "integer"
        },
        {
         "name": "message",
         "rawType": "object",
         "type": "string"
        },
        {
         "name": "lower_message",
         "rawType": "object",
         "type": "string"
        },
        {
         "name": "message_wo_punct",
         "rawType": "object",
         "type": "string"
        },
        {
         "name": "message_no_stopwords",
         "rawType": "object",
         "type": "string"
        },
        {
         "name": "message_lemmatized",
         "rawType": "object",
         "type": "string"
        }
       ],
       "conversionMethod": "pd.DataFrame",
       "ref": "3d473a0f-eb66-4486-b4d1-955d4aa6f152",
       "rows": [
        [
         "0",
         "0",
         "Hey, are we still meeting for coffee tomorrow at 3?",
         "hey, are we still meeting for coffee tomorrow at 3?",
         "hey are we still meeting for coffee tomorrow at 3",
         "hey still meeting coffee tomorrow 3",
         "hey still meet coffee tomorrow 3"
        ],
        [
         "1",
         "1",
         "CONGRATULATIONS! You've WON a FREE iPhone 14! Click here to claim: bit.ly/claim-prize",
         "congratulations! you've won a free iphone 14! click here to claim: bit.ly/claim-prize",
         "congratulations youve won a free iphone 14 click here to claim bitlyclaimprize",
         "congratulations youve free iphone 14 click claim bitlyclaimprize",
         "congratulation youve free iphone 14 click claim bitlyclaimprize"
        ],
        [
         "2",
         "0",
         "Don't forget to pick up milk on your way home please",
         "don't forget to pick up milk on your way home please",
         "dont forget to pick up milk on your way home please",
         "dont forget pick milk way home please",
         "dont forget pick milk way home please"
        ],
        [
         "3",
         "1",
         "URGENT: Your bank account has been suspended. Call immediately: +1-888-555-0123",
         "urgent: your bank account has been suspended. call immediately: +1-888-555-0123",
         "urgent your bank account has been suspended call immediately 18885550123",
         "urgent bank account suspended call immediately 18885550123",
         "urgent bank account suspend call immediately 18885550123"
        ],
        [
         "4",
         "0",
         "The meeting has been moved to 2pm instead of 3pm. See you there.",
         "the meeting has been moved to 2pm instead of 3pm. see you there.",
         "the meeting has been moved to 2pm instead of 3pm see you there",
         "meeting moved 2pm instead 3pm see",
         "meet move 2pm instead 3pm see"
        ],
        [
         "5",
         "1",
         "Dear Customer: Your bill payment FAILED. Verify payment details now: secure-acc.com/verify",
         "dear customer: your bill payment failed. verify payment details now: secure-acc.com/verify",
         "dear customer your bill payment failed verify payment details now secureacccomverify",
         "dear customer bill payment failed verify payment details secureacccomverify",
         "dear customer bill payment fail verify payment detail secureacccomverify"
        ],
        [
         "6",
         "0",
         "Happy birthday! Hope you have an amazing day :)",
         "happy birthday! hope you have an amazing day :)",
         "happy birthday hope you have an amazing day ",
         "happy birthday hope amazing day",
         "happy birthday hope amazing day"
        ],
        [
         "7",
         "1",
         "50% OFF all items! Limited time offer. Shop now: amzn-deals.co/sale",
         "50% off all items! limited time offer. shop now: amzn-deals.co/sale",
         "50 off all items limited time offer shop now amzndealscosale",
         "50 items limited time offer shop amzndealscosale",
         "50 item limited time offer shop amzndealscosale"
        ],
        [
         "8",
         "0",
         "I'll be about 15 minutes late, traffic is terrible today",
         "i'll be about 15 minutes late, traffic is terrible today",
         "ill be about 15 minutes late traffic is terrible today",
         "ill 15 minutes late traffic terrible today",
         "ill 15 minute late traffic terrible today"
        ],
        [
         "9",
         "1",
         "You have (1) unread message from your SECRET CRUSH. Reply YES to view.",
         "you have (1) unread message from your secret crush. reply yes to view.",
         "you have 1 unread message from your secret crush reply yes to view",
         "1 unread message secret crush reply yes view",
         "1 unread message secret crush reply yes view"
        ],
        [
         "10",
         "0",
         "Can you send me the recipe for that pasta dish you made last week?",
         "can you send me the recipe for that pasta dish you made last week?",
         "can you send me the recipe for that pasta dish you made last week",
         "send recipe pasta dish made last week",
         "send recipe pasta dish make last week"
        ],
        [
         "11",
         "1",
         "ATTENTION: Your computer may be infected with VIRUS. Call tech support now: 888-123-4567",
         "attention: your computer may be infected with virus. call tech support now: 888-123-4567",
         "attention your computer may be infected with virus call tech support now 8881234567",
         "attention computer may infected virus call tech support 8881234567",
         "attention computer may infect virus call tech support 8881234567"
        ],
        [
         "12",
         "0",
         "Movie starts at 7:30, want to meet at the theater around 7:15?",
         "movie starts at 7:30, want to meet at the theater around 7:15?",
         "movie starts at 730 want to meet at the theater around 715",
         "movie starts 730 want meet theater around 715",
         "movie start 730 want meet theater around 715"
        ],
        [
         "13",
         "1",
         "FINAL NOTICE: Your car warranty is about to expire! Extend coverage: autowarranty-protect.com",
         "final notice: your car warranty is about to expire! extend coverage: autowarranty-protect.com",
         "final notice your car warranty is about to expire extend coverage autowarrantyprotectcom",
         "final notice car warranty expire extend coverage autowarrantyprotectcom",
         "final notice car warranty expire extend coverage autowarrantyprotectcom"
        ],
        [
         "14",
         "0",
         "Just landed! The flight was smooth. I'll text you when I get to the hotel.",
         "just landed! the flight was smooth. i'll text you when i get to the hotel.",
         "just landed the flight was smooth ill text you when i get to the hotel",
         "landed flight smooth ill text get hotel",
         "landed flight smooth ill text get hotel"
        ],
        [
         "15",
         "1",
         "Congratulations! You've been selected for a $1,000 Walmart gift card! Claim now: wmrt-gift.com",
         "congratulations! you've been selected for a $1,000 walmart gift card! claim now: wmrt-gift.com",
         "congratulations youve been selected for a 1000 walmart gift card claim now wmrtgiftcom",
         "congratulations youve selected 1000 walmart gift card claim wmrtgiftcom",
         "congratulation youve select 1000 walmart gift card claim wmrtgiftcom"
        ],
        [
         "16",
         "0",
         "Could you please pick up the kids from school today? I have to stay late at work.",
         "could you please pick up the kids from school today? i have to stay late at work.",
         "could you please pick up the kids from school today i have to stay late at work",
         "could please pick kids school today stay late work",
         "could please pick kid school today stay late work"
        ],
        [
         "17",
         "1",
         "ALERT: Suspicious activity detected on your credit card. Call now: 1-800-555-9876",
         "alert: suspicious activity detected on your credit card. call now: 1-800-555-9876",
         "alert suspicious activity detected on your credit card call now 18005559876",
         "alert suspicious activity detected credit card call 18005559876",
         "alert suspicious activity detect credit card call 18005559876"
        ],
        [
         "18",
         "0",
         "The party was amazing! You missed out. We'll have to catch up soon.",
         "the party was amazing! you missed out. we'll have to catch up soon.",
         "the party was amazing you missed out well have to catch up soon",
         "party amazing missed well catch soon",
         "party amazing miss well catch soon"
        ],
        [
         "19",
         "1",
         "IMPORTANT: Your Netflix subscription has expired. Update payment info: nflx-renew.com",
         "important: your netflix subscription has expired. update payment info: nflx-renew.com",
         "important your netflix subscription has expired update payment info nflxrenewcom",
         "important netflix subscription expired update payment info nflxrenewcom",
         "important netflix subscription expire update payment info nflxrenewcom"
        ],
        [
         "20",
         "0",
         "Do we need anything else for dinner tonight besides the chicken?",
         "do we need anything else for dinner tonight besides the chicken?",
         "do we need anything else for dinner tonight besides the chicken",
         "need anything else dinner tonight besides chicken",
         "need anything else dinner tonight besides chicken"
        ],
        [
         "21",
         "1",
         "EXCLUSIVE: Make $5,000 weekly from home! No experience needed. Start now: easy-money.net",
         "exclusive: make $5,000 weekly from home! no experience needed. start now: easy-money.net",
         "exclusive make 5000 weekly from home no experience needed start now easymoneynet",
         "exclusive make 5000 weekly home experience needed start easymoneynet",
         "exclusive make 5000 weekly home experience need start easymoneynet"
        ],
        [
         "22",
         "0",
         "Can you please send me the address for the doctor's office?",
         "can you please send me the address for the doctor's office?",
         "can you please send me the address for the doctors office",
         "please send address doctors office",
         "please send address doctor office"
        ],
        [
         "23",
         "1",
         "Attention HSBC customer: Your account has been locked. Verify identity: hsbc-secure.co.uk",
         "attention hsbc customer: your account has been locked. verify identity: hsbc-secure.co.uk",
         "attention hsbc customer your account has been locked verify identity hsbcsecurecouk",
         "attention hsbc customer account locked verify identity hsbcsecurecouk",
         "attention hsbc customer account lock verify identity hsbcsecurecouk"
        ],
        [
         "24",
         "0",
         "I got the job! We should celebrate this weekend!",
         "i got the job! we should celebrate this weekend!",
         "i got the job we should celebrate this weekend",
         "got job celebrate weekend",
         "get job celebrate weekend"
        ],
        [
         "25",
         "1",
         "Your package delivery failed. Last attempt tomorrow. Reschedule: fedx-delivery.com/schedule",
         "your package delivery failed. last attempt tomorrow. reschedule: fedx-delivery.com/schedule",
         "your package delivery failed last attempt tomorrow reschedule fedxdeliverycomschedule",
         "package delivery failed last attempt tomorrow reschedule fedxdeliverycomschedule",
         "package delivery fail last attempt tomorrow reschedule fedxdeliverycomschedule"
        ],
        [
         "26",
         "0",
         "What time does the movie start tonight?",
         "what time does the movie start tonight?",
         "what time does the movie start tonight",
         "time movie start tonight",
         "time movie start tonight"
        ],
        [
         "27",
         "1",
         "SPECIAL OFFER: Get your FREE credit score and report today! Visit: credit-check-free.com",
         "special offer: get your free credit score and report today! visit: credit-check-free.com",
         "special offer get your free credit score and report today visit creditcheckfreecom",
         "special offer get free credit score report today visit creditcheckfreecom",
         "special offer get free credit score report today visit creditcheckfreecom"
        ],
        [
         "28",
         "0",
         "Did you see the email about the company picnic next Friday?",
         "did you see the email about the company picnic next friday?",
         "did you see the email about the company picnic next friday",
         "see email company picnic next friday",
         "see email company picnic next friday"
        ],
        [
         "29",
         "1",
         "ALERT: Your Apple ID was used to sign in on a new device. Verify now: apple-id-verify.com",
         "alert: your apple id was used to sign in on a new device. verify now: apple-id-verify.com",
         "alert your apple id was used to sign in on a new device verify now appleidverifycom",
         "alert apple id used sign new device verify appleidverifycom",
         "alert apple id use sign new device verify appleidverifycom"
        ],
        [
         "30",
         "0",
         "Just wanted to check if you're feeling better today?",
         "just wanted to check if you're feeling better today?",
         "just wanted to check if youre feeling better today",
         "wanted check youre feeling better today",
         "want check youre feel good today"
        ],
        [
         "31",
         "1",
         "FINAL WARNING: Your electricity will be disconnected in 24 hours. Pay now: utility-pay.net",
         "final warning: your electricity will be disconnected in 24 hours. pay now: utility-pay.net",
         "final warning your electricity will be disconnected in 24 hours pay now utilitypaynet",
         "final warning electricity disconnected 24 hours pay utilitypaynet",
         "final warning electricity disconnect 24 hour pay utilitypaynet"
        ],
        [
         "32",
         "0",
         "Can you grab my prescription from the pharmacy when you're out?",
         "can you grab my prescription from the pharmacy when you're out?",
         "can you grab my prescription from the pharmacy when youre out",
         "grab prescription pharmacy youre",
         "grab prescription pharmacy youre"
        ],
        [
         "33",
         "1",
         "You've won a $1000 Amazon gift card in our weekly draw! Claim now: amzn-winner.com/claim",
         "you've won a $1000 amazon gift card in our weekly draw! claim now: amzn-winner.com/claim",
         "youve won a 1000 amazon gift card in our weekly draw claim now amznwinnercomclaim",
         "youve 1000 amazon gift card weekly draw claim amznwinnercomclaim",
         "youve 1000 amazon gift card weekly draw claim amznwinnercomclaim"
        ],
        [
         "34",
         "0",
         "I'm at the grocery store. Do we need anything else besides what's on the list?",
         "i'm at the grocery store. do we need anything else besides what's on the list?",
         "im at the grocery store do we need anything else besides whats on the list",
         "im grocery store need anything else besides whats list",
         "im grocery store need anything else besides whats list"
        ],
        [
         "35",
         "1",
         "Your PayPal account has been limited! Verify your information: paypl-secure.com",
         "your paypal account has been limited! verify your information: paypl-secure.com",
         "your paypal account has been limited verify your information payplsecurecom",
         "paypal account limited verify information payplsecurecom",
         "paypal account limit verify information payplsecurecom"
        ],
        [
         "36",
         "0",
         "The concert was amazing! The band played for almost 3 hours!",
         "the concert was amazing! the band played for almost 3 hours!",
         "the concert was amazing the band played for almost 3 hours",
         "concert amazing band played almost 3 hours",
         "concert amaze band play almost 3 hour"
        ],
        [
         "37",
         "1",
         "URGENT: Your tax refund of $4,892 is pending. Confirm details: irs-refund.co/verify",
         "urgent: your tax refund of $4,892 is pending. confirm details: irs-refund.co/verify",
         "urgent your tax refund of 4892 is pending confirm details irsrefundcoverify",
         "urgent tax refund 4892 pending confirm details irsrefundcoverify",
         "urgent tax refund 4892 pending confirm detail irsrefundcoverify"
        ],
        [
         "38",
         "0",
         "Could you please feed the cat tonight? I'll be home late.",
         "could you please feed the cat tonight? i'll be home late.",
         "could you please feed the cat tonight ill be home late",
         "could please feed cat tonight ill home late",
         "could please fee cat tonight ill home late"
        ],
        [
         "39",
         "1",
         "HOT SINGLES in your area want to meet YOU! Click here: dating-local.net",
         "hot singles in your area want to meet you! click here: dating-local.net",
         "hot singles in your area want to meet you click here datinglocalnet",
         "hot singles area want meet click datinglocalnet",
         "hot single area want meet click datinglocalnet"
        ],
        [
         "40",
         "0",
         "I forgot my laptop at home. Could you please bring it to the office?",
         "i forgot my laptop at home. could you please bring it to the office?",
         "i forgot my laptop at home could you please bring it to the office",
         "forgot laptop home could please bring office",
         "forgot laptop home could please bring office"
        ],
        [
         "41",
         "1",
         "ATTENTION: Your Social Security Number has been suspended due to suspicious activity. Call: 888-555-7777",
         "attention: your social security number has been suspended due to suspicious activity. call: 888-555-7777",
         "attention your social security number has been suspended due to suspicious activity call 8885557777",
         "attention social security number suspended due suspicious activity call 8885557777",
         "attention social security number suspend due suspicious activity call 8885557777"
        ],
        [
         "42",
         "0",
         "Let's have dinner tomorrow night. That new Italian place downtown?",
         "let's have dinner tomorrow night. that new italian place downtown?",
         "lets have dinner tomorrow night that new italian place downtown",
         "lets dinner tomorrow night new italian place downtown",
         "let dinner tomorrow night new italian place downtown"
        ],
        [
         "43",
         "1",
         "WINNER! You've been selected to receive a $100 Starbucks gift card! Click: sbux-gift.com",
         "winner! you've been selected to receive a $100 starbucks gift card! click: sbux-gift.com",
         "winner youve been selected to receive a 100 starbucks gift card click sbuxgiftcom",
         "winner youve selected receive 100 starbucks gift card click sbuxgiftcom",
         "winner youve select receive 100 starbucks gift card click sbuxgiftcom"
        ],
        [
         "44",
         "0",
         "How did your interview go today?",
         "how did your interview go today?",
         "how did your interview go today",
         "interview go today",
         "interview go today"
        ],
        [
         "45",
         "1",
         "URGENT: Your Gmail account will be permanently deleted in 48 hours. Verify: google-verify.co",
         "urgent: your gmail account will be permanently deleted in 48 hours. verify: google-verify.co",
         "urgent your gmail account will be permanently deleted in 48 hours verify googleverifyco",
         "urgent gmail account permanently deleted 48 hours verify googleverifyco",
         "urgent gmail account permanently delete 48 hour verify googleverifyco"
        ],
        [
         "46",
         "0",
         "The baby is finally asleep. It took forever!",
         "the baby is finally asleep. it took forever!",
         "the baby is finally asleep it took forever",
         "baby finally asleep took forever",
         "baby finally asleep take forever"
        ],
        [
         "47",
         "1",
         "Get approved for a $5,000 loan today! No credit check required. Apply: quick-loans.org",
         "get approved for a $5,000 loan today! no credit check required. apply: quick-loans.org",
         "get approved for a 5000 loan today no credit check required apply quickloansorg",
         "get approved 5000 loan today credit check required apply quickloansorg",
         "get approve 5000 loan today credit check require apply quickloansorg"
        ],
        [
         "48",
         "0",
         "Can we reschedule our meeting to Thursday instead of tomorrow?",
         "can we reschedule our meeting to thursday instead of tomorrow?",
         "can we reschedule our meeting to thursday instead of tomorrow",
         "reschedule meeting thursday instead tomorrow",
         "reschedule meeting thursday instead tomorrow"
        ],
        [
         "49",
         "1",
         "IMPORTANT: Your order #45678 has been CANCELED. Re-order now: amaz0n-orders.com",
         "important: your order #45678 has been canceled. re-order now: amaz0n-orders.com",
         "important your order 45678 has been canceled reorder now amaz0norderscom",
         "important order 45678 canceled reorder amaz0norderscom",
         "important order 45678 cancel reorder amaz0norderscom"
        ]
       ],
       "shape": {
        "columns": 6,
        "rows": 593
       }
      },
      "text/html": [
       "<div>\n",
       "<style scoped>\n",
       "    .dataframe tbody tr th:only-of-type {\n",
       "        vertical-align: middle;\n",
       "    }\n",
       "\n",
       "    .dataframe tbody tr th {\n",
       "        vertical-align: top;\n",
       "    }\n",
       "\n",
       "    .dataframe thead th {\n",
       "        text-align: right;\n",
       "    }\n",
       "</style>\n",
       "<table border=\"1\" class=\"dataframe\">\n",
       "  <thead>\n",
       "    <tr style=\"text-align: right;\">\n",
       "      <th></th>\n",
       "      <th>label</th>\n",
       "      <th>message</th>\n",
       "      <th>lower_message</th>\n",
       "      <th>message_wo_punct</th>\n",
       "      <th>message_no_stopwords</th>\n",
       "      <th>message_lemmatized</th>\n",
       "    </tr>\n",
       "  </thead>\n",
       "  <tbody>\n",
       "    <tr>\n",
       "      <th>0</th>\n",
       "      <td>0</td>\n",
       "      <td>Hey, are we still meeting for coffee tomorrow ...</td>\n",
       "      <td>hey, are we still meeting for coffee tomorrow ...</td>\n",
       "      <td>hey are we still meeting for coffee tomorrow at 3</td>\n",
       "      <td>hey still meeting coffee tomorrow 3</td>\n",
       "      <td>hey still meet coffee tomorrow 3</td>\n",
       "    </tr>\n",
       "    <tr>\n",
       "      <th>1</th>\n",
       "      <td>1</td>\n",
       "      <td>CONGRATULATIONS! You've WON a FREE iPhone 14! ...</td>\n",
       "      <td>congratulations! you've won a free iphone 14! ...</td>\n",
       "      <td>congratulations youve won a free iphone 14 cli...</td>\n",
       "      <td>congratulations youve free iphone 14 click cla...</td>\n",
       "      <td>congratulation youve free iphone 14 click clai...</td>\n",
       "    </tr>\n",
       "    <tr>\n",
       "      <th>2</th>\n",
       "      <td>0</td>\n",
       "      <td>Don't forget to pick up milk on your way home ...</td>\n",
       "      <td>don't forget to pick up milk on your way home ...</td>\n",
       "      <td>dont forget to pick up milk on your way home p...</td>\n",
       "      <td>dont forget pick milk way home please</td>\n",
       "      <td>dont forget pick milk way home please</td>\n",
       "    </tr>\n",
       "    <tr>\n",
       "      <th>3</th>\n",
       "      <td>1</td>\n",
       "      <td>URGENT: Your bank account has been suspended. ...</td>\n",
       "      <td>urgent: your bank account has been suspended. ...</td>\n",
       "      <td>urgent your bank account has been suspended ca...</td>\n",
       "      <td>urgent bank account suspended call immediately...</td>\n",
       "      <td>urgent bank account suspend call immediately 1...</td>\n",
       "    </tr>\n",
       "    <tr>\n",
       "      <th>4</th>\n",
       "      <td>0</td>\n",
       "      <td>The meeting has been moved to 2pm instead of 3...</td>\n",
       "      <td>the meeting has been moved to 2pm instead of 3...</td>\n",
       "      <td>the meeting has been moved to 2pm instead of 3...</td>\n",
       "      <td>meeting moved 2pm instead 3pm see</td>\n",
       "      <td>meet move 2pm instead 3pm see</td>\n",
       "    </tr>\n",
       "    <tr>\n",
       "      <th>...</th>\n",
       "      <td>...</td>\n",
       "      <td>...</td>\n",
       "      <td>...</td>\n",
       "      <td>...</td>\n",
       "      <td>...</td>\n",
       "      <td>...</td>\n",
       "    </tr>\n",
       "    <tr>\n",
       "      <th>588</th>\n",
       "      <td>1</td>\n",
       "      <td>FINAL WARNING: Your internet service will be d...</td>\n",
       "      <td>final warning: your internet service will be d...</td>\n",
       "      <td>final warning your internet service will be di...</td>\n",
       "      <td>final warning internet service disconnected to...</td>\n",
       "      <td>final warning internet service disconnect tomo...</td>\n",
       "    </tr>\n",
       "    <tr>\n",
       "      <th>589</th>\n",
       "      <td>0</td>\n",
       "      <td>Can you pick up the kids from daycare today? I...</td>\n",
       "      <td>can you pick up the kids from daycare today? i...</td>\n",
       "      <td>can you pick up the kids from daycare today im...</td>\n",
       "      <td>pick kids daycare today im stuck meeting</td>\n",
       "      <td>pick kid daycare today im stick meeting</td>\n",
       "    </tr>\n",
       "    <tr>\n",
       "      <th>590</th>\n",
       "      <td>1</td>\n",
       "      <td>EXCLUSIVE OFFER: Get 85% OFF designer handbags...</td>\n",
       "      <td>exclusive offer: get 85% off designer handbags...</td>\n",
       "      <td>exclusive offer get 85 off designer handbags l...</td>\n",
       "      <td>exclusive offer get 85 designer handbags limit...</td>\n",
       "      <td>exclusive offer get 85 designer handbag limit ...</td>\n",
       "    </tr>\n",
       "    <tr>\n",
       "      <th>591</th>\n",
       "      <td>0</td>\n",
       "      <td>Don't forget to call mom for her birthday tomo...</td>\n",
       "      <td>don't forget to call mom for her birthday tomo...</td>\n",
       "      <td>dont forget to call mom for her birthday tomorrow</td>\n",
       "      <td>dont forget call mom birthday tomorrow</td>\n",
       "      <td>dont forget call mom birthday tomorrow</td>\n",
       "    </tr>\n",
       "    <tr>\n",
       "      <th>592</th>\n",
       "      <td>1</td>\n",
       "      <td>CONGRATULATIONS! You've been selected for a FR...</td>\n",
       "      <td>congratulations! you've been selected for a fr...</td>\n",
       "      <td>congratulations youve been selected for a free...</td>\n",
       "      <td>congratulations youve selected free ipad pro p...</td>\n",
       "      <td>congratulation youve select free ipad pro pay ...</td>\n",
       "    </tr>\n",
       "  </tbody>\n",
       "</table>\n",
       "<p>593 rows × 6 columns</p>\n",
       "</div>"
      ],
      "text/plain": [
       "     label                                            message  \\\n",
       "0        0  Hey, are we still meeting for coffee tomorrow ...   \n",
       "1        1  CONGRATULATIONS! You've WON a FREE iPhone 14! ...   \n",
       "2        0  Don't forget to pick up milk on your way home ...   \n",
       "3        1  URGENT: Your bank account has been suspended. ...   \n",
       "4        0  The meeting has been moved to 2pm instead of 3...   \n",
       "..     ...                                                ...   \n",
       "588      1  FINAL WARNING: Your internet service will be d...   \n",
       "589      0  Can you pick up the kids from daycare today? I...   \n",
       "590      1  EXCLUSIVE OFFER: Get 85% OFF designer handbags...   \n",
       "591      0  Don't forget to call mom for her birthday tomo...   \n",
       "592      1  CONGRATULATIONS! You've been selected for a FR...   \n",
       "\n",
       "                                         lower_message  \\\n",
       "0    hey, are we still meeting for coffee tomorrow ...   \n",
       "1    congratulations! you've won a free iphone 14! ...   \n",
       "2    don't forget to pick up milk on your way home ...   \n",
       "3    urgent: your bank account has been suspended. ...   \n",
       "4    the meeting has been moved to 2pm instead of 3...   \n",
       "..                                                 ...   \n",
       "588  final warning: your internet service will be d...   \n",
       "589  can you pick up the kids from daycare today? i...   \n",
       "590  exclusive offer: get 85% off designer handbags...   \n",
       "591  don't forget to call mom for her birthday tomo...   \n",
       "592  congratulations! you've been selected for a fr...   \n",
       "\n",
       "                                      message_wo_punct  \\\n",
       "0    hey are we still meeting for coffee tomorrow at 3   \n",
       "1    congratulations youve won a free iphone 14 cli...   \n",
       "2    dont forget to pick up milk on your way home p...   \n",
       "3    urgent your bank account has been suspended ca...   \n",
       "4    the meeting has been moved to 2pm instead of 3...   \n",
       "..                                                 ...   \n",
       "588  final warning your internet service will be di...   \n",
       "589  can you pick up the kids from daycare today im...   \n",
       "590  exclusive offer get 85 off designer handbags l...   \n",
       "591  dont forget to call mom for her birthday tomorrow   \n",
       "592  congratulations youve been selected for a free...   \n",
       "\n",
       "                                  message_no_stopwords  \\\n",
       "0                  hey still meeting coffee tomorrow 3   \n",
       "1    congratulations youve free iphone 14 click cla...   \n",
       "2                dont forget pick milk way home please   \n",
       "3    urgent bank account suspended call immediately...   \n",
       "4                    meeting moved 2pm instead 3pm see   \n",
       "..                                                 ...   \n",
       "588  final warning internet service disconnected to...   \n",
       "589           pick kids daycare today im stuck meeting   \n",
       "590  exclusive offer get 85 designer handbags limit...   \n",
       "591             dont forget call mom birthday tomorrow   \n",
       "592  congratulations youve selected free ipad pro p...   \n",
       "\n",
       "                                    message_lemmatized  \n",
       "0                     hey still meet coffee tomorrow 3  \n",
       "1    congratulation youve free iphone 14 click clai...  \n",
       "2                dont forget pick milk way home please  \n",
       "3    urgent bank account suspend call immediately 1...  \n",
       "4                        meet move 2pm instead 3pm see  \n",
       "..                                                 ...  \n",
       "588  final warning internet service disconnect tomo...  \n",
       "589            pick kid daycare today im stick meeting  \n",
       "590  exclusive offer get 85 designer handbag limit ...  \n",
       "591             dont forget call mom birthday tomorrow  \n",
       "592  congratulation youve select free ipad pro pay ...  \n",
       "\n",
       "[593 rows x 6 columns]"
      ]
     },
     "execution_count": 355,
     "metadata": {},
     "output_type": "execute_result"
    }
   ],
   "source": [
    "modern_spam_df['label'] = modern_spam_df['label'].replace(['ham', 'spam'], [0, 1])\n",
    "modern_spam_df['lower_message'] = modern_spam_df['message'].str.lower()\n",
    "modern_spam_df['message_wo_punct'] = modern_spam_df[\"lower_message\"].apply(lambda text: remove_punctuation(text))\n",
    "modern_spam_df['message_no_stopwords'] = modern_spam_df['message_wo_punct'].apply(lambda text: remove_stopwords(text))\n",
    "modern_spam_df['message_lemmatized'] = modern_spam_df['message_no_stopwords'].apply(lambda text: lemmatize_words(text))\n",
    "modern_spam_df"
   ]
  },
  {
   "cell_type": "code",
   "execution_count": 356,
   "metadata": {},
   "outputs": [],
   "source": [
    "modern_spam_test = tfidf_vectorizer.transform(modern_spam_df['message_lemmatized'])"
   ]
  },
  {
   "cell_type": "code",
   "execution_count": 357,
   "metadata": {},
   "outputs": [
    {
     "name": "stdout",
     "output_type": "stream",
     "text": [
      "0.8870151770657673\n"
     ]
    }
   ],
   "source": [
    "modern_pred = lr_classifier.predict(modern_spam_test)\n",
    "\n",
    "print(accuracy_score(modern_spam_df['label'], modern_pred))"
   ]
  },
  {
   "cell_type": "markdown",
   "metadata": {},
   "source": [
    "Using the existing model that we trained previously, we can see that it does not perform as well on data with more modern SMS messages."
   ]
  },
  {
   "cell_type": "code",
   "execution_count": null,
   "metadata": {},
   "outputs": [],
   "source": []
  }
 ],
 "metadata": {
  "kernelspec": {
   "display_name": "Python (fis_default)",
   "language": "python",
   "name": "fis_default"
  },
  "language_info": {
   "codemirror_mode": {
    "name": "ipython",
    "version": 3
   },
   "file_extension": ".py",
   "mimetype": "text/x-python",
   "name": "python",
   "nbconvert_exporter": "python",
   "pygments_lexer": "ipython3",
   "version": "3.10.16"
  }
 },
 "nbformat": 4,
 "nbformat_minor": 2
}
