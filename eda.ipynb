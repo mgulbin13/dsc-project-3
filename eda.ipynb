{
 "cells": [
  {
   "cell_type": "code",
   "execution_count": 92,
   "metadata": {},
   "outputs": [],
   "source": [
    "import pandas as pd\n",
    "import string\n",
    "import nltk"
   ]
  },
  {
   "cell_type": "code",
   "execution_count": 93,
   "metadata": {},
   "outputs": [
    {
     "data": {
      "application/vnd.microsoft.datawrangler.viewer.v0+json": {
       "columns": [
        {
         "name": "index",
         "rawType": "int64",
         "type": "integer"
        },
        {
         "name": "Category",
         "rawType": "object",
         "type": "string"
        },
        {
         "name": "Message",
         "rawType": "object",
         "type": "string"
        }
       ],
       "conversionMethod": "pd.DataFrame",
       "ref": "0e3fd51c-7f52-4c89-a2d9-73e8413b4f7a",
       "rows": [
        [
         "0",
         "ham",
         "Go until jurong point, crazy.. Available only in bugis n great world la e buffet... Cine there got amore wat...\n"
        ],
        [
         "1",
         "ham",
         "Ok lar... Joking wif u oni...\n"
        ],
        [
         "2",
         "spam",
         "Free entry in 2 a wkly comp to win FA Cup final tkts 21st May 2005. Text FA to 87121 to receive entry question(std txt rate)T&C's apply 08452810075over18's\n"
        ],
        [
         "3",
         "ham",
         "U dun say so early hor... U c already then say...\n"
        ],
        [
         "4",
         "ham",
         "Nah I don't think he goes to usf, he lives around here though\n"
        ],
        [
         "5",
         "spam",
         "FreeMsg Hey there darling it's been 3 week's now and no word back! I'd like some fun you up for it still? Tb ok! XxX std chgs to send, £1.50 to rcv\n"
        ],
        [
         "6",
         "ham",
         "Even my brother is not like to speak with me. They treat me like aids patent.\n"
        ],
        [
         "7",
         "ham",
         "As per your request 'Melle Melle (Oru Minnaminunginte Nurungu Vettam)' has been set as your callertune for all Callers. Press *9 to copy your friends Callertune\n"
        ],
        [
         "8",
         "spam",
         "WINNER!! As a valued network customer you have been selected to receivea £900 prize reward! To claim call 09061701461. Claim code KL341. Valid 12 hours only.\n"
        ],
        [
         "9",
         "spam",
         "Had your mobile 11 months or more? U R entitled to Update to the latest colour mobiles with camera for Free! Call The Mobile Update Co FREE on 08002986030\n"
        ],
        [
         "10",
         "ham",
         "I'm gonna be home soon and i don't want to talk about this stuff anymore tonight, k? I've cried enough today.\n"
        ],
        [
         "11",
         "spam",
         "SIX chances to win CASH! From 100 to 20,000 pounds txt> CSH11 and send to 87575. Cost 150p/day, 6days, 16+ TsandCs apply Reply HL 4 info\n"
        ],
        [
         "12",
         "spam",
         "URGENT! You have won a 1 week FREE membership in our £100,000 Prize Jackpot! Txt the word: CLAIM to No: 81010 T&C www.dbuk.net LCCLTD POBOX 4403LDNW1A7RW18\n"
        ],
        [
         "13",
         "ham",
         "I've been searching for the right words to thank you for this breather. I promise i wont take your help for granted and will fulfil my promise. You have been wonderful and a blessing at all times.\n"
        ],
        [
         "14",
         "ham",
         "I HAVE A DATE ON SUNDAY WITH WILL!!\n"
        ],
        [
         "15",
         "spam",
         "XXXMobileMovieClub: To use your credit, click the WAP link in the next txt message or click here>> http://wap. xxxmobilemovieclub.com?n=QJKGIGHJJGCBL\n"
        ],
        [
         "16",
         "ham",
         "Oh k...i'm watching here:)\n"
        ],
        [
         "17",
         "ham",
         "Eh u remember how 2 spell his name... Yes i did. He v naughty make until i v wet.\n"
        ],
        [
         "18",
         "ham",
         "Fine if thats the way u feel. Thats the way its gota b\n"
        ],
        [
         "19",
         "spam",
         "England v Macedonia - dont miss the goals/team news. Txt ur national team to 87077 eg ENGLAND to 87077 Try:WALES, SCOTLAND 4txt/ú1.20 POBOXox36504W45WQ 16+\n"
        ],
        [
         "20",
         "ham",
         "Is that seriously how you spell his name?\n"
        ],
        [
         "21",
         "ham",
         "I‘m going to try for 2 months ha ha only joking\n"
        ],
        [
         "22",
         "ham",
         "So ü pay first lar... Then when is da stock comin...\n"
        ],
        [
         "23",
         "ham",
         "Aft i finish my lunch then i go str down lor. Ard 3 smth lor. U finish ur lunch already?\n"
        ],
        [
         "24",
         "ham",
         "Ffffffffff. Alright no way I can meet up with you sooner?\n"
        ],
        [
         "25",
         "ham",
         "Just forced myself to eat a slice. I'm really not hungry tho. This sucks. Mark is getting worried. He knows I'm sick when I turn down pizza. Lol\n"
        ],
        [
         "26",
         "ham",
         "Lol your always so convincing.\n"
        ],
        [
         "27",
         "ham",
         "Did you catch the bus ? Are you frying an egg ? Did you make a tea? Are you eating your mom's left over dinner ? Do you feel my Love ?\n"
        ],
        [
         "28",
         "ham",
         "I'm back &amp; we're packing the car now, I'll let you know if there's room\n"
        ],
        [
         "29",
         "ham",
         "Ahhh. Work. I vaguely remember that! What does it feel like? Lol\n"
        ],
        [
         "30",
         "ham",
         "Wait that's still not all that clear, were you not sure about me being sarcastic or that that's why x doesn't want to live with us\n"
        ],
        [
         "31",
         "ham",
         "Yeah he got in at 2 and was v apologetic. n had fallen out and she was actin like spoilt child and he got caught up in that. Till 2! But we won't go there! Not doing too badly cheers. You? \n"
        ],
        [
         "32",
         "ham",
         "K tell me anything about you.\n"
        ],
        [
         "33",
         "ham",
         "For fear of fainting with the of all that housework you just did? Quick have a cuppa\n"
        ],
        [
         "34",
         "spam",
         "Thanks for your subscription to Ringtone UK your mobile will be charged £5/month Please confirm by replying YES or NO. If you reply NO you will not be charged\n"
        ],
        [
         "35",
         "ham",
         "Yup... Ok i go home look at the timings then i msg ü again... Xuhui going to learn on 2nd may too but her lesson is at 8am\n"
        ],
        [
         "36",
         "ham",
         "Oops, I'll let you know when my roommate's done\n"
        ],
        [
         "37",
         "ham",
         "I see the letter B on my car\n"
        ],
        [
         "38",
         "ham",
         "Anything lor... U decide...\n"
        ],
        [
         "39",
         "ham",
         "Hello! How's you and how did saturday go? I was just texting to see if you'd decided to do anything tomo. Not that i'm trying to invite myself or anything!\n"
        ],
        [
         "40",
         "ham",
         "Pls go ahead with watts. I just wanted to be sure. Do have a great weekend. Abiola\n"
        ],
        [
         "41",
         "ham",
         "Did I forget to tell you ? I want you , I need you, I crave you ... But most of all ... I love you my sweet Arabian steed ... Mmmmmm ... Yummy\n"
        ],
        [
         "42",
         "spam",
         "07732584351 - Rodger Burns - MSG = We tried to call you re your reply to our sms for a free nokia mobile + free camcorder. Please call now 08000930705 for delivery tomorrow\n"
        ],
        [
         "43",
         "ham",
         "WHO ARE YOU SEEING?\n"
        ],
        [
         "44",
         "ham",
         "Great! I hope you like your man well endowed. I am  &lt;#&gt;  inches...\n"
        ],
        [
         "45",
         "ham",
         "No calls..messages..missed calls\n"
        ],
        [
         "46",
         "ham",
         "Didn't you get hep b immunisation in nigeria.\n"
        ],
        [
         "47",
         "ham",
         "Fair enough, anything going on?\n"
        ],
        [
         "48",
         "ham",
         "Yeah hopefully, if tyler can't do it I could maybe ask around a bit\n"
        ],
        [
         "49",
         "ham",
         "U don't know how stubborn I am. I didn't even want to go to the hospital. I kept telling Mark I'm not a weak sucker. Hospitals are for weak suckers.\n"
        ]
       ],
       "shape": {
        "columns": 2,
        "rows": 5574
       }
      },
      "text/html": [
       "<div>\n",
       "<style scoped>\n",
       "    .dataframe tbody tr th:only-of-type {\n",
       "        vertical-align: middle;\n",
       "    }\n",
       "\n",
       "    .dataframe tbody tr th {\n",
       "        vertical-align: top;\n",
       "    }\n",
       "\n",
       "    .dataframe thead th {\n",
       "        text-align: right;\n",
       "    }\n",
       "</style>\n",
       "<table border=\"1\" class=\"dataframe\">\n",
       "  <thead>\n",
       "    <tr style=\"text-align: right;\">\n",
       "      <th></th>\n",
       "      <th>Category</th>\n",
       "      <th>Message</th>\n",
       "    </tr>\n",
       "  </thead>\n",
       "  <tbody>\n",
       "    <tr>\n",
       "      <th>0</th>\n",
       "      <td>ham</td>\n",
       "      <td>Go until jurong point, crazy.. Available only ...</td>\n",
       "    </tr>\n",
       "    <tr>\n",
       "      <th>1</th>\n",
       "      <td>ham</td>\n",
       "      <td>Ok lar... Joking wif u oni...\\n</td>\n",
       "    </tr>\n",
       "    <tr>\n",
       "      <th>2</th>\n",
       "      <td>spam</td>\n",
       "      <td>Free entry in 2 a wkly comp to win FA Cup fina...</td>\n",
       "    </tr>\n",
       "    <tr>\n",
       "      <th>3</th>\n",
       "      <td>ham</td>\n",
       "      <td>U dun say so early hor... U c already then say...</td>\n",
       "    </tr>\n",
       "    <tr>\n",
       "      <th>4</th>\n",
       "      <td>ham</td>\n",
       "      <td>Nah I don't think he goes to usf, he lives aro...</td>\n",
       "    </tr>\n",
       "    <tr>\n",
       "      <th>...</th>\n",
       "      <td>...</td>\n",
       "      <td>...</td>\n",
       "    </tr>\n",
       "    <tr>\n",
       "      <th>5569</th>\n",
       "      <td>spam</td>\n",
       "      <td>This is the 2nd time we have tried 2 contact u...</td>\n",
       "    </tr>\n",
       "    <tr>\n",
       "      <th>5570</th>\n",
       "      <td>ham</td>\n",
       "      <td>Will ü b going to esplanade fr home?\\n</td>\n",
       "    </tr>\n",
       "    <tr>\n",
       "      <th>5571</th>\n",
       "      <td>ham</td>\n",
       "      <td>Pity, * was in mood for that. So...any other s...</td>\n",
       "    </tr>\n",
       "    <tr>\n",
       "      <th>5572</th>\n",
       "      <td>ham</td>\n",
       "      <td>The guy did some bitching but I acted like i'd...</td>\n",
       "    </tr>\n",
       "    <tr>\n",
       "      <th>5573</th>\n",
       "      <td>ham</td>\n",
       "      <td>Rofl. Its true to its name\\n</td>\n",
       "    </tr>\n",
       "  </tbody>\n",
       "</table>\n",
       "<p>5574 rows × 2 columns</p>\n",
       "</div>"
      ],
      "text/plain": [
       "     Category                                            Message\n",
       "0         ham  Go until jurong point, crazy.. Available only ...\n",
       "1         ham                    Ok lar... Joking wif u oni...\\n\n",
       "2        spam  Free entry in 2 a wkly comp to win FA Cup fina...\n",
       "3         ham  U dun say so early hor... U c already then say...\n",
       "4         ham  Nah I don't think he goes to usf, he lives aro...\n",
       "...       ...                                                ...\n",
       "5569     spam  This is the 2nd time we have tried 2 contact u...\n",
       "5570      ham             Will ü b going to esplanade fr home?\\n\n",
       "5571      ham  Pity, * was in mood for that. So...any other s...\n",
       "5572      ham  The guy did some bitching but I acted like i'd...\n",
       "5573      ham                       Rofl. Its true to its name\\n\n",
       "\n",
       "[5574 rows x 2 columns]"
      ]
     },
     "execution_count": 93,
     "metadata": {},
     "output_type": "execute_result"
    }
   ],
   "source": [
    "category_list = []\n",
    "message_list = []\n",
    "\n",
    "with open('./data/SMSSpamCollection') as f:\n",
    "    for line in f:\n",
    "        row = line.split('\\t', maxsplit=1)\n",
    "        category_list.append(row[0])\n",
    "        message_list.append(row[1])\n",
    "\n",
    "dict = {'Category': category_list, 'Message': message_list}\n",
    "df = pd.DataFrame(data=dict)\n",
    "df"
   ]
  },
  {
   "cell_type": "code",
   "execution_count": 94,
   "metadata": {},
   "outputs": [
    {
     "data": {
      "text/plain": [
       "Category\n",
       "ham     4827\n",
       "spam     747\n",
       "Name: count, dtype: int64"
      ]
     },
     "execution_count": 94,
     "metadata": {},
     "output_type": "execute_result"
    }
   ],
   "source": [
    "df['Category'].value_counts()"
   ]
  },
  {
   "cell_type": "code",
   "execution_count": 95,
   "metadata": {},
   "outputs": [
    {
     "data": {
      "text/plain": [
       "Category\n",
       "ham     0.865985\n",
       "spam    0.134015\n",
       "Name: proportion, dtype: float64"
      ]
     },
     "execution_count": 95,
     "metadata": {},
     "output_type": "execute_result"
    }
   ],
   "source": [
    "df['Category'].value_counts(normalize=True)"
   ]
  },
  {
   "cell_type": "markdown",
   "metadata": {},
   "source": [
    "## Text Preprossessing"
   ]
  },
  {
   "cell_type": "code",
   "execution_count": 96,
   "metadata": {},
   "outputs": [],
   "source": [
    "df_cleaning = df.copy()"
   ]
  },
  {
   "cell_type": "code",
   "execution_count": 97,
   "metadata": {},
   "outputs": [
    {
     "data": {
      "application/vnd.microsoft.datawrangler.viewer.v0+json": {
       "columns": [
        {
         "name": "index",
         "rawType": "int64",
         "type": "integer"
        },
        {
         "name": "Category",
         "rawType": "object",
         "type": "string"
        },
        {
         "name": "Message",
         "rawType": "object",
         "type": "string"
        },
        {
         "name": "lower_message",
         "rawType": "object",
         "type": "string"
        }
       ],
       "conversionMethod": "pd.DataFrame",
       "ref": "c036f8cc-50ed-4e82-b2b0-c85f333c8d77",
       "rows": [
        [
         "0",
         "ham",
         "Go until jurong point, crazy.. Available only in bugis n great world la e buffet... Cine there got amore wat...\n",
         "go until jurong point, crazy.. available only in bugis n great world la e buffet... cine there got amore wat...\n"
        ],
        [
         "1",
         "ham",
         "Ok lar... Joking wif u oni...\n",
         "ok lar... joking wif u oni...\n"
        ],
        [
         "2",
         "spam",
         "Free entry in 2 a wkly comp to win FA Cup final tkts 21st May 2005. Text FA to 87121 to receive entry question(std txt rate)T&C's apply 08452810075over18's\n",
         "free entry in 2 a wkly comp to win fa cup final tkts 21st may 2005. text fa to 87121 to receive entry question(std txt rate)t&c's apply 08452810075over18's\n"
        ],
        [
         "3",
         "ham",
         "U dun say so early hor... U c already then say...\n",
         "u dun say so early hor... u c already then say...\n"
        ],
        [
         "4",
         "ham",
         "Nah I don't think he goes to usf, he lives around here though\n",
         "nah i don't think he goes to usf, he lives around here though\n"
        ],
        [
         "5",
         "spam",
         "FreeMsg Hey there darling it's been 3 week's now and no word back! I'd like some fun you up for it still? Tb ok! XxX std chgs to send, £1.50 to rcv\n",
         "freemsg hey there darling it's been 3 week's now and no word back! i'd like some fun you up for it still? tb ok! xxx std chgs to send, £1.50 to rcv\n"
        ],
        [
         "6",
         "ham",
         "Even my brother is not like to speak with me. They treat me like aids patent.\n",
         "even my brother is not like to speak with me. they treat me like aids patent.\n"
        ],
        [
         "7",
         "ham",
         "As per your request 'Melle Melle (Oru Minnaminunginte Nurungu Vettam)' has been set as your callertune for all Callers. Press *9 to copy your friends Callertune\n",
         "as per your request 'melle melle (oru minnaminunginte nurungu vettam)' has been set as your callertune for all callers. press *9 to copy your friends callertune\n"
        ],
        [
         "8",
         "spam",
         "WINNER!! As a valued network customer you have been selected to receivea £900 prize reward! To claim call 09061701461. Claim code KL341. Valid 12 hours only.\n",
         "winner!! as a valued network customer you have been selected to receivea £900 prize reward! to claim call 09061701461. claim code kl341. valid 12 hours only.\n"
        ],
        [
         "9",
         "spam",
         "Had your mobile 11 months or more? U R entitled to Update to the latest colour mobiles with camera for Free! Call The Mobile Update Co FREE on 08002986030\n",
         "had your mobile 11 months or more? u r entitled to update to the latest colour mobiles with camera for free! call the mobile update co free on 08002986030\n"
        ],
        [
         "10",
         "ham",
         "I'm gonna be home soon and i don't want to talk about this stuff anymore tonight, k? I've cried enough today.\n",
         "i'm gonna be home soon and i don't want to talk about this stuff anymore tonight, k? i've cried enough today.\n"
        ],
        [
         "11",
         "spam",
         "SIX chances to win CASH! From 100 to 20,000 pounds txt> CSH11 and send to 87575. Cost 150p/day, 6days, 16+ TsandCs apply Reply HL 4 info\n",
         "six chances to win cash! from 100 to 20,000 pounds txt> csh11 and send to 87575. cost 150p/day, 6days, 16+ tsandcs apply reply hl 4 info\n"
        ],
        [
         "12",
         "spam",
         "URGENT! You have won a 1 week FREE membership in our £100,000 Prize Jackpot! Txt the word: CLAIM to No: 81010 T&C www.dbuk.net LCCLTD POBOX 4403LDNW1A7RW18\n",
         "urgent! you have won a 1 week free membership in our £100,000 prize jackpot! txt the word: claim to no: 81010 t&c www.dbuk.net lccltd pobox 4403ldnw1a7rw18\n"
        ],
        [
         "13",
         "ham",
         "I've been searching for the right words to thank you for this breather. I promise i wont take your help for granted and will fulfil my promise. You have been wonderful and a blessing at all times.\n",
         "i've been searching for the right words to thank you for this breather. i promise i wont take your help for granted and will fulfil my promise. you have been wonderful and a blessing at all times.\n"
        ],
        [
         "14",
         "ham",
         "I HAVE A DATE ON SUNDAY WITH WILL!!\n",
         "i have a date on sunday with will!!\n"
        ],
        [
         "15",
         "spam",
         "XXXMobileMovieClub: To use your credit, click the WAP link in the next txt message or click here>> http://wap. xxxmobilemovieclub.com?n=QJKGIGHJJGCBL\n",
         "xxxmobilemovieclub: to use your credit, click the wap link in the next txt message or click here>> http://wap. xxxmobilemovieclub.com?n=qjkgighjjgcbl\n"
        ],
        [
         "16",
         "ham",
         "Oh k...i'm watching here:)\n",
         "oh k...i'm watching here:)\n"
        ],
        [
         "17",
         "ham",
         "Eh u remember how 2 spell his name... Yes i did. He v naughty make until i v wet.\n",
         "eh u remember how 2 spell his name... yes i did. he v naughty make until i v wet.\n"
        ],
        [
         "18",
         "ham",
         "Fine if thats the way u feel. Thats the way its gota b\n",
         "fine if thats the way u feel. thats the way its gota b\n"
        ],
        [
         "19",
         "spam",
         "England v Macedonia - dont miss the goals/team news. Txt ur national team to 87077 eg ENGLAND to 87077 Try:WALES, SCOTLAND 4txt/ú1.20 POBOXox36504W45WQ 16+\n",
         "england v macedonia - dont miss the goals/team news. txt ur national team to 87077 eg england to 87077 try:wales, scotland 4txt/ú1.20 poboxox36504w45wq 16+\n"
        ],
        [
         "20",
         "ham",
         "Is that seriously how you spell his name?\n",
         "is that seriously how you spell his name?\n"
        ],
        [
         "21",
         "ham",
         "I‘m going to try for 2 months ha ha only joking\n",
         "i‘m going to try for 2 months ha ha only joking\n"
        ],
        [
         "22",
         "ham",
         "So ü pay first lar... Then when is da stock comin...\n",
         "so ü pay first lar... then when is da stock comin...\n"
        ],
        [
         "23",
         "ham",
         "Aft i finish my lunch then i go str down lor. Ard 3 smth lor. U finish ur lunch already?\n",
         "aft i finish my lunch then i go str down lor. ard 3 smth lor. u finish ur lunch already?\n"
        ],
        [
         "24",
         "ham",
         "Ffffffffff. Alright no way I can meet up with you sooner?\n",
         "ffffffffff. alright no way i can meet up with you sooner?\n"
        ],
        [
         "25",
         "ham",
         "Just forced myself to eat a slice. I'm really not hungry tho. This sucks. Mark is getting worried. He knows I'm sick when I turn down pizza. Lol\n",
         "just forced myself to eat a slice. i'm really not hungry tho. this sucks. mark is getting worried. he knows i'm sick when i turn down pizza. lol\n"
        ],
        [
         "26",
         "ham",
         "Lol your always so convincing.\n",
         "lol your always so convincing.\n"
        ],
        [
         "27",
         "ham",
         "Did you catch the bus ? Are you frying an egg ? Did you make a tea? Are you eating your mom's left over dinner ? Do you feel my Love ?\n",
         "did you catch the bus ? are you frying an egg ? did you make a tea? are you eating your mom's left over dinner ? do you feel my love ?\n"
        ],
        [
         "28",
         "ham",
         "I'm back &amp; we're packing the car now, I'll let you know if there's room\n",
         "i'm back &amp; we're packing the car now, i'll let you know if there's room\n"
        ],
        [
         "29",
         "ham",
         "Ahhh. Work. I vaguely remember that! What does it feel like? Lol\n",
         "ahhh. work. i vaguely remember that! what does it feel like? lol\n"
        ],
        [
         "30",
         "ham",
         "Wait that's still not all that clear, were you not sure about me being sarcastic or that that's why x doesn't want to live with us\n",
         "wait that's still not all that clear, were you not sure about me being sarcastic or that that's why x doesn't want to live with us\n"
        ],
        [
         "31",
         "ham",
         "Yeah he got in at 2 and was v apologetic. n had fallen out and she was actin like spoilt child and he got caught up in that. Till 2! But we won't go there! Not doing too badly cheers. You? \n",
         "yeah he got in at 2 and was v apologetic. n had fallen out and she was actin like spoilt child and he got caught up in that. till 2! but we won't go there! not doing too badly cheers. you? \n"
        ],
        [
         "32",
         "ham",
         "K tell me anything about you.\n",
         "k tell me anything about you.\n"
        ],
        [
         "33",
         "ham",
         "For fear of fainting with the of all that housework you just did? Quick have a cuppa\n",
         "for fear of fainting with the of all that housework you just did? quick have a cuppa\n"
        ],
        [
         "34",
         "spam",
         "Thanks for your subscription to Ringtone UK your mobile will be charged £5/month Please confirm by replying YES or NO. If you reply NO you will not be charged\n",
         "thanks for your subscription to ringtone uk your mobile will be charged £5/month please confirm by replying yes or no. if you reply no you will not be charged\n"
        ],
        [
         "35",
         "ham",
         "Yup... Ok i go home look at the timings then i msg ü again... Xuhui going to learn on 2nd may too but her lesson is at 8am\n",
         "yup... ok i go home look at the timings then i msg ü again... xuhui going to learn on 2nd may too but her lesson is at 8am\n"
        ],
        [
         "36",
         "ham",
         "Oops, I'll let you know when my roommate's done\n",
         "oops, i'll let you know when my roommate's done\n"
        ],
        [
         "37",
         "ham",
         "I see the letter B on my car\n",
         "i see the letter b on my car\n"
        ],
        [
         "38",
         "ham",
         "Anything lor... U decide...\n",
         "anything lor... u decide...\n"
        ],
        [
         "39",
         "ham",
         "Hello! How's you and how did saturday go? I was just texting to see if you'd decided to do anything tomo. Not that i'm trying to invite myself or anything!\n",
         "hello! how's you and how did saturday go? i was just texting to see if you'd decided to do anything tomo. not that i'm trying to invite myself or anything!\n"
        ],
        [
         "40",
         "ham",
         "Pls go ahead with watts. I just wanted to be sure. Do have a great weekend. Abiola\n",
         "pls go ahead with watts. i just wanted to be sure. do have a great weekend. abiola\n"
        ],
        [
         "41",
         "ham",
         "Did I forget to tell you ? I want you , I need you, I crave you ... But most of all ... I love you my sweet Arabian steed ... Mmmmmm ... Yummy\n",
         "did i forget to tell you ? i want you , i need you, i crave you ... but most of all ... i love you my sweet arabian steed ... mmmmmm ... yummy\n"
        ],
        [
         "42",
         "spam",
         "07732584351 - Rodger Burns - MSG = We tried to call you re your reply to our sms for a free nokia mobile + free camcorder. Please call now 08000930705 for delivery tomorrow\n",
         "07732584351 - rodger burns - msg = we tried to call you re your reply to our sms for a free nokia mobile + free camcorder. please call now 08000930705 for delivery tomorrow\n"
        ],
        [
         "43",
         "ham",
         "WHO ARE YOU SEEING?\n",
         "who are you seeing?\n"
        ],
        [
         "44",
         "ham",
         "Great! I hope you like your man well endowed. I am  &lt;#&gt;  inches...\n",
         "great! i hope you like your man well endowed. i am  &lt;#&gt;  inches...\n"
        ],
        [
         "45",
         "ham",
         "No calls..messages..missed calls\n",
         "no calls..messages..missed calls\n"
        ],
        [
         "46",
         "ham",
         "Didn't you get hep b immunisation in nigeria.\n",
         "didn't you get hep b immunisation in nigeria.\n"
        ],
        [
         "47",
         "ham",
         "Fair enough, anything going on?\n",
         "fair enough, anything going on?\n"
        ],
        [
         "48",
         "ham",
         "Yeah hopefully, if tyler can't do it I could maybe ask around a bit\n",
         "yeah hopefully, if tyler can't do it i could maybe ask around a bit\n"
        ],
        [
         "49",
         "ham",
         "U don't know how stubborn I am. I didn't even want to go to the hospital. I kept telling Mark I'm not a weak sucker. Hospitals are for weak suckers.\n",
         "u don't know how stubborn i am. i didn't even want to go to the hospital. i kept telling mark i'm not a weak sucker. hospitals are for weak suckers.\n"
        ]
       ],
       "shape": {
        "columns": 3,
        "rows": 5574
       }
      },
      "text/html": [
       "<div>\n",
       "<style scoped>\n",
       "    .dataframe tbody tr th:only-of-type {\n",
       "        vertical-align: middle;\n",
       "    }\n",
       "\n",
       "    .dataframe tbody tr th {\n",
       "        vertical-align: top;\n",
       "    }\n",
       "\n",
       "    .dataframe thead th {\n",
       "        text-align: right;\n",
       "    }\n",
       "</style>\n",
       "<table border=\"1\" class=\"dataframe\">\n",
       "  <thead>\n",
       "    <tr style=\"text-align: right;\">\n",
       "      <th></th>\n",
       "      <th>Category</th>\n",
       "      <th>Message</th>\n",
       "      <th>lower_message</th>\n",
       "    </tr>\n",
       "  </thead>\n",
       "  <tbody>\n",
       "    <tr>\n",
       "      <th>0</th>\n",
       "      <td>ham</td>\n",
       "      <td>Go until jurong point, crazy.. Available only ...</td>\n",
       "      <td>go until jurong point, crazy.. available only ...</td>\n",
       "    </tr>\n",
       "    <tr>\n",
       "      <th>1</th>\n",
       "      <td>ham</td>\n",
       "      <td>Ok lar... Joking wif u oni...\\n</td>\n",
       "      <td>ok lar... joking wif u oni...\\n</td>\n",
       "    </tr>\n",
       "    <tr>\n",
       "      <th>2</th>\n",
       "      <td>spam</td>\n",
       "      <td>Free entry in 2 a wkly comp to win FA Cup fina...</td>\n",
       "      <td>free entry in 2 a wkly comp to win fa cup fina...</td>\n",
       "    </tr>\n",
       "    <tr>\n",
       "      <th>3</th>\n",
       "      <td>ham</td>\n",
       "      <td>U dun say so early hor... U c already then say...</td>\n",
       "      <td>u dun say so early hor... u c already then say...</td>\n",
       "    </tr>\n",
       "    <tr>\n",
       "      <th>4</th>\n",
       "      <td>ham</td>\n",
       "      <td>Nah I don't think he goes to usf, he lives aro...</td>\n",
       "      <td>nah i don't think he goes to usf, he lives aro...</td>\n",
       "    </tr>\n",
       "    <tr>\n",
       "      <th>...</th>\n",
       "      <td>...</td>\n",
       "      <td>...</td>\n",
       "      <td>...</td>\n",
       "    </tr>\n",
       "    <tr>\n",
       "      <th>5569</th>\n",
       "      <td>spam</td>\n",
       "      <td>This is the 2nd time we have tried 2 contact u...</td>\n",
       "      <td>this is the 2nd time we have tried 2 contact u...</td>\n",
       "    </tr>\n",
       "    <tr>\n",
       "      <th>5570</th>\n",
       "      <td>ham</td>\n",
       "      <td>Will ü b going to esplanade fr home?\\n</td>\n",
       "      <td>will ü b going to esplanade fr home?\\n</td>\n",
       "    </tr>\n",
       "    <tr>\n",
       "      <th>5571</th>\n",
       "      <td>ham</td>\n",
       "      <td>Pity, * was in mood for that. So...any other s...</td>\n",
       "      <td>pity, * was in mood for that. so...any other s...</td>\n",
       "    </tr>\n",
       "    <tr>\n",
       "      <th>5572</th>\n",
       "      <td>ham</td>\n",
       "      <td>The guy did some bitching but I acted like i'd...</td>\n",
       "      <td>the guy did some bitching but i acted like i'd...</td>\n",
       "    </tr>\n",
       "    <tr>\n",
       "      <th>5573</th>\n",
       "      <td>ham</td>\n",
       "      <td>Rofl. Its true to its name\\n</td>\n",
       "      <td>rofl. its true to its name\\n</td>\n",
       "    </tr>\n",
       "  </tbody>\n",
       "</table>\n",
       "<p>5574 rows × 3 columns</p>\n",
       "</div>"
      ],
      "text/plain": [
       "     Category                                            Message  \\\n",
       "0         ham  Go until jurong point, crazy.. Available only ...   \n",
       "1         ham                    Ok lar... Joking wif u oni...\\n   \n",
       "2        spam  Free entry in 2 a wkly comp to win FA Cup fina...   \n",
       "3         ham  U dun say so early hor... U c already then say...   \n",
       "4         ham  Nah I don't think he goes to usf, he lives aro...   \n",
       "...       ...                                                ...   \n",
       "5569     spam  This is the 2nd time we have tried 2 contact u...   \n",
       "5570      ham             Will ü b going to esplanade fr home?\\n   \n",
       "5571      ham  Pity, * was in mood for that. So...any other s...   \n",
       "5572      ham  The guy did some bitching but I acted like i'd...   \n",
       "5573      ham                       Rofl. Its true to its name\\n   \n",
       "\n",
       "                                          lower_message  \n",
       "0     go until jurong point, crazy.. available only ...  \n",
       "1                       ok lar... joking wif u oni...\\n  \n",
       "2     free entry in 2 a wkly comp to win fa cup fina...  \n",
       "3     u dun say so early hor... u c already then say...  \n",
       "4     nah i don't think he goes to usf, he lives aro...  \n",
       "...                                                 ...  \n",
       "5569  this is the 2nd time we have tried 2 contact u...  \n",
       "5570             will ü b going to esplanade fr home?\\n  \n",
       "5571  pity, * was in mood for that. so...any other s...  \n",
       "5572  the guy did some bitching but i acted like i'd...  \n",
       "5573                       rofl. its true to its name\\n  \n",
       "\n",
       "[5574 rows x 3 columns]"
      ]
     },
     "execution_count": 97,
     "metadata": {},
     "output_type": "execute_result"
    }
   ],
   "source": [
    "df_cleaning['lower_message'] = df_cleaning['Message'].str.lower()\n",
    "df_cleaning"
   ]
  },
  {
   "cell_type": "code",
   "execution_count": 98,
   "metadata": {},
   "outputs": [
    {
     "data": {
      "application/vnd.microsoft.datawrangler.viewer.v0+json": {
       "columns": [
        {
         "name": "index",
         "rawType": "int64",
         "type": "integer"
        },
        {
         "name": "Category",
         "rawType": "object",
         "type": "string"
        },
        {
         "name": "Message",
         "rawType": "object",
         "type": "string"
        },
        {
         "name": "lower_message",
         "rawType": "object",
         "type": "string"
        },
        {
         "name": "message_wo_punct",
         "rawType": "object",
         "type": "string"
        }
       ],
       "conversionMethod": "pd.DataFrame",
       "ref": "b7730c0c-8f26-4d0e-ab3a-25b22b7499b6",
       "rows": [
        [
         "0",
         "ham",
         "Go until jurong point, crazy.. Available only in bugis n great world la e buffet... Cine there got amore wat...\n",
         "go until jurong point, crazy.. available only in bugis n great world la e buffet... cine there got amore wat...\n",
         "go until jurong point crazy available only in bugis n great world la e buffet cine there got amore wat\n"
        ],
        [
         "1",
         "ham",
         "Ok lar... Joking wif u oni...\n",
         "ok lar... joking wif u oni...\n",
         "ok lar joking wif u oni\n"
        ],
        [
         "2",
         "spam",
         "Free entry in 2 a wkly comp to win FA Cup final tkts 21st May 2005. Text FA to 87121 to receive entry question(std txt rate)T&C's apply 08452810075over18's\n",
         "free entry in 2 a wkly comp to win fa cup final tkts 21st may 2005. text fa to 87121 to receive entry question(std txt rate)t&c's apply 08452810075over18's\n",
         "free entry in 2 a wkly comp to win fa cup final tkts 21st may 2005 text fa to 87121 to receive entry questionstd txt ratetcs apply 08452810075over18s\n"
        ],
        [
         "3",
         "ham",
         "U dun say so early hor... U c already then say...\n",
         "u dun say so early hor... u c already then say...\n",
         "u dun say so early hor u c already then say\n"
        ],
        [
         "4",
         "ham",
         "Nah I don't think he goes to usf, he lives around here though\n",
         "nah i don't think he goes to usf, he lives around here though\n",
         "nah i dont think he goes to usf he lives around here though\n"
        ],
        [
         "5",
         "spam",
         "FreeMsg Hey there darling it's been 3 week's now and no word back! I'd like some fun you up for it still? Tb ok! XxX std chgs to send, £1.50 to rcv\n",
         "freemsg hey there darling it's been 3 week's now and no word back! i'd like some fun you up for it still? tb ok! xxx std chgs to send, £1.50 to rcv\n",
         "freemsg hey there darling its been 3 weeks now and no word back id like some fun you up for it still tb ok xxx std chgs to send £150 to rcv\n"
        ],
        [
         "6",
         "ham",
         "Even my brother is not like to speak with me. They treat me like aids patent.\n",
         "even my brother is not like to speak with me. they treat me like aids patent.\n",
         "even my brother is not like to speak with me they treat me like aids patent\n"
        ],
        [
         "7",
         "ham",
         "As per your request 'Melle Melle (Oru Minnaminunginte Nurungu Vettam)' has been set as your callertune for all Callers. Press *9 to copy your friends Callertune\n",
         "as per your request 'melle melle (oru minnaminunginte nurungu vettam)' has been set as your callertune for all callers. press *9 to copy your friends callertune\n",
         "as per your request melle melle oru minnaminunginte nurungu vettam has been set as your callertune for all callers press 9 to copy your friends callertune\n"
        ],
        [
         "8",
         "spam",
         "WINNER!! As a valued network customer you have been selected to receivea £900 prize reward! To claim call 09061701461. Claim code KL341. Valid 12 hours only.\n",
         "winner!! as a valued network customer you have been selected to receivea £900 prize reward! to claim call 09061701461. claim code kl341. valid 12 hours only.\n",
         "winner as a valued network customer you have been selected to receivea £900 prize reward to claim call 09061701461 claim code kl341 valid 12 hours only\n"
        ],
        [
         "9",
         "spam",
         "Had your mobile 11 months or more? U R entitled to Update to the latest colour mobiles with camera for Free! Call The Mobile Update Co FREE on 08002986030\n",
         "had your mobile 11 months or more? u r entitled to update to the latest colour mobiles with camera for free! call the mobile update co free on 08002986030\n",
         "had your mobile 11 months or more u r entitled to update to the latest colour mobiles with camera for free call the mobile update co free on 08002986030\n"
        ],
        [
         "10",
         "ham",
         "I'm gonna be home soon and i don't want to talk about this stuff anymore tonight, k? I've cried enough today.\n",
         "i'm gonna be home soon and i don't want to talk about this stuff anymore tonight, k? i've cried enough today.\n",
         "im gonna be home soon and i dont want to talk about this stuff anymore tonight k ive cried enough today\n"
        ],
        [
         "11",
         "spam",
         "SIX chances to win CASH! From 100 to 20,000 pounds txt> CSH11 and send to 87575. Cost 150p/day, 6days, 16+ TsandCs apply Reply HL 4 info\n",
         "six chances to win cash! from 100 to 20,000 pounds txt> csh11 and send to 87575. cost 150p/day, 6days, 16+ tsandcs apply reply hl 4 info\n",
         "six chances to win cash from 100 to 20000 pounds txt csh11 and send to 87575 cost 150pday 6days 16 tsandcs apply reply hl 4 info\n"
        ],
        [
         "12",
         "spam",
         "URGENT! You have won a 1 week FREE membership in our £100,000 Prize Jackpot! Txt the word: CLAIM to No: 81010 T&C www.dbuk.net LCCLTD POBOX 4403LDNW1A7RW18\n",
         "urgent! you have won a 1 week free membership in our £100,000 prize jackpot! txt the word: claim to no: 81010 t&c www.dbuk.net lccltd pobox 4403ldnw1a7rw18\n",
         "urgent you have won a 1 week free membership in our £100000 prize jackpot txt the word claim to no 81010 tc wwwdbuknet lccltd pobox 4403ldnw1a7rw18\n"
        ],
        [
         "13",
         "ham",
         "I've been searching for the right words to thank you for this breather. I promise i wont take your help for granted and will fulfil my promise. You have been wonderful and a blessing at all times.\n",
         "i've been searching for the right words to thank you for this breather. i promise i wont take your help for granted and will fulfil my promise. you have been wonderful and a blessing at all times.\n",
         "ive been searching for the right words to thank you for this breather i promise i wont take your help for granted and will fulfil my promise you have been wonderful and a blessing at all times\n"
        ],
        [
         "14",
         "ham",
         "I HAVE A DATE ON SUNDAY WITH WILL!!\n",
         "i have a date on sunday with will!!\n",
         "i have a date on sunday with will\n"
        ],
        [
         "15",
         "spam",
         "XXXMobileMovieClub: To use your credit, click the WAP link in the next txt message or click here>> http://wap. xxxmobilemovieclub.com?n=QJKGIGHJJGCBL\n",
         "xxxmobilemovieclub: to use your credit, click the wap link in the next txt message or click here>> http://wap. xxxmobilemovieclub.com?n=qjkgighjjgcbl\n",
         "xxxmobilemovieclub to use your credit click the wap link in the next txt message or click here httpwap xxxmobilemovieclubcomnqjkgighjjgcbl\n"
        ],
        [
         "16",
         "ham",
         "Oh k...i'm watching here:)\n",
         "oh k...i'm watching here:)\n",
         "oh kim watching here\n"
        ],
        [
         "17",
         "ham",
         "Eh u remember how 2 spell his name... Yes i did. He v naughty make until i v wet.\n",
         "eh u remember how 2 spell his name... yes i did. he v naughty make until i v wet.\n",
         "eh u remember how 2 spell his name yes i did he v naughty make until i v wet\n"
        ],
        [
         "18",
         "ham",
         "Fine if thats the way u feel. Thats the way its gota b\n",
         "fine if thats the way u feel. thats the way its gota b\n",
         "fine if thats the way u feel thats the way its gota b\n"
        ],
        [
         "19",
         "spam",
         "England v Macedonia - dont miss the goals/team news. Txt ur national team to 87077 eg ENGLAND to 87077 Try:WALES, SCOTLAND 4txt/ú1.20 POBOXox36504W45WQ 16+\n",
         "england v macedonia - dont miss the goals/team news. txt ur national team to 87077 eg england to 87077 try:wales, scotland 4txt/ú1.20 poboxox36504w45wq 16+\n",
         "england v macedonia  dont miss the goalsteam news txt ur national team to 87077 eg england to 87077 trywales scotland 4txtú120 poboxox36504w45wq 16\n"
        ],
        [
         "20",
         "ham",
         "Is that seriously how you spell his name?\n",
         "is that seriously how you spell his name?\n",
         "is that seriously how you spell his name\n"
        ],
        [
         "21",
         "ham",
         "I‘m going to try for 2 months ha ha only joking\n",
         "i‘m going to try for 2 months ha ha only joking\n",
         "i‘m going to try for 2 months ha ha only joking\n"
        ],
        [
         "22",
         "ham",
         "So ü pay first lar... Then when is da stock comin...\n",
         "so ü pay first lar... then when is da stock comin...\n",
         "so ü pay first lar then when is da stock comin\n"
        ],
        [
         "23",
         "ham",
         "Aft i finish my lunch then i go str down lor. Ard 3 smth lor. U finish ur lunch already?\n",
         "aft i finish my lunch then i go str down lor. ard 3 smth lor. u finish ur lunch already?\n",
         "aft i finish my lunch then i go str down lor ard 3 smth lor u finish ur lunch already\n"
        ],
        [
         "24",
         "ham",
         "Ffffffffff. Alright no way I can meet up with you sooner?\n",
         "ffffffffff. alright no way i can meet up with you sooner?\n",
         "ffffffffff alright no way i can meet up with you sooner\n"
        ],
        [
         "25",
         "ham",
         "Just forced myself to eat a slice. I'm really not hungry tho. This sucks. Mark is getting worried. He knows I'm sick when I turn down pizza. Lol\n",
         "just forced myself to eat a slice. i'm really not hungry tho. this sucks. mark is getting worried. he knows i'm sick when i turn down pizza. lol\n",
         "just forced myself to eat a slice im really not hungry tho this sucks mark is getting worried he knows im sick when i turn down pizza lol\n"
        ],
        [
         "26",
         "ham",
         "Lol your always so convincing.\n",
         "lol your always so convincing.\n",
         "lol your always so convincing\n"
        ],
        [
         "27",
         "ham",
         "Did you catch the bus ? Are you frying an egg ? Did you make a tea? Are you eating your mom's left over dinner ? Do you feel my Love ?\n",
         "did you catch the bus ? are you frying an egg ? did you make a tea? are you eating your mom's left over dinner ? do you feel my love ?\n",
         "did you catch the bus  are you frying an egg  did you make a tea are you eating your moms left over dinner  do you feel my love \n"
        ],
        [
         "28",
         "ham",
         "I'm back &amp; we're packing the car now, I'll let you know if there's room\n",
         "i'm back &amp; we're packing the car now, i'll let you know if there's room\n",
         "im back amp were packing the car now ill let you know if theres room\n"
        ],
        [
         "29",
         "ham",
         "Ahhh. Work. I vaguely remember that! What does it feel like? Lol\n",
         "ahhh. work. i vaguely remember that! what does it feel like? lol\n",
         "ahhh work i vaguely remember that what does it feel like lol\n"
        ],
        [
         "30",
         "ham",
         "Wait that's still not all that clear, were you not sure about me being sarcastic or that that's why x doesn't want to live with us\n",
         "wait that's still not all that clear, were you not sure about me being sarcastic or that that's why x doesn't want to live with us\n",
         "wait thats still not all that clear were you not sure about me being sarcastic or that thats why x doesnt want to live with us\n"
        ],
        [
         "31",
         "ham",
         "Yeah he got in at 2 and was v apologetic. n had fallen out and she was actin like spoilt child and he got caught up in that. Till 2! But we won't go there! Not doing too badly cheers. You? \n",
         "yeah he got in at 2 and was v apologetic. n had fallen out and she was actin like spoilt child and he got caught up in that. till 2! but we won't go there! not doing too badly cheers. you? \n",
         "yeah he got in at 2 and was v apologetic n had fallen out and she was actin like spoilt child and he got caught up in that till 2 but we wont go there not doing too badly cheers you \n"
        ],
        [
         "32",
         "ham",
         "K tell me anything about you.\n",
         "k tell me anything about you.\n",
         "k tell me anything about you\n"
        ],
        [
         "33",
         "ham",
         "For fear of fainting with the of all that housework you just did? Quick have a cuppa\n",
         "for fear of fainting with the of all that housework you just did? quick have a cuppa\n",
         "for fear of fainting with the of all that housework you just did quick have a cuppa\n"
        ],
        [
         "34",
         "spam",
         "Thanks for your subscription to Ringtone UK your mobile will be charged £5/month Please confirm by replying YES or NO. If you reply NO you will not be charged\n",
         "thanks for your subscription to ringtone uk your mobile will be charged £5/month please confirm by replying yes or no. if you reply no you will not be charged\n",
         "thanks for your subscription to ringtone uk your mobile will be charged £5month please confirm by replying yes or no if you reply no you will not be charged\n"
        ],
        [
         "35",
         "ham",
         "Yup... Ok i go home look at the timings then i msg ü again... Xuhui going to learn on 2nd may too but her lesson is at 8am\n",
         "yup... ok i go home look at the timings then i msg ü again... xuhui going to learn on 2nd may too but her lesson is at 8am\n",
         "yup ok i go home look at the timings then i msg ü again xuhui going to learn on 2nd may too but her lesson is at 8am\n"
        ],
        [
         "36",
         "ham",
         "Oops, I'll let you know when my roommate's done\n",
         "oops, i'll let you know when my roommate's done\n",
         "oops ill let you know when my roommates done\n"
        ],
        [
         "37",
         "ham",
         "I see the letter B on my car\n",
         "i see the letter b on my car\n",
         "i see the letter b on my car\n"
        ],
        [
         "38",
         "ham",
         "Anything lor... U decide...\n",
         "anything lor... u decide...\n",
         "anything lor u decide\n"
        ],
        [
         "39",
         "ham",
         "Hello! How's you and how did saturday go? I was just texting to see if you'd decided to do anything tomo. Not that i'm trying to invite myself or anything!\n",
         "hello! how's you and how did saturday go? i was just texting to see if you'd decided to do anything tomo. not that i'm trying to invite myself or anything!\n",
         "hello hows you and how did saturday go i was just texting to see if youd decided to do anything tomo not that im trying to invite myself or anything\n"
        ],
        [
         "40",
         "ham",
         "Pls go ahead with watts. I just wanted to be sure. Do have a great weekend. Abiola\n",
         "pls go ahead with watts. i just wanted to be sure. do have a great weekend. abiola\n",
         "pls go ahead with watts i just wanted to be sure do have a great weekend abiola\n"
        ],
        [
         "41",
         "ham",
         "Did I forget to tell you ? I want you , I need you, I crave you ... But most of all ... I love you my sweet Arabian steed ... Mmmmmm ... Yummy\n",
         "did i forget to tell you ? i want you , i need you, i crave you ... but most of all ... i love you my sweet arabian steed ... mmmmmm ... yummy\n",
         "did i forget to tell you  i want you  i need you i crave you  but most of all  i love you my sweet arabian steed  mmmmmm  yummy\n"
        ],
        [
         "42",
         "spam",
         "07732584351 - Rodger Burns - MSG = We tried to call you re your reply to our sms for a free nokia mobile + free camcorder. Please call now 08000930705 for delivery tomorrow\n",
         "07732584351 - rodger burns - msg = we tried to call you re your reply to our sms for a free nokia mobile + free camcorder. please call now 08000930705 for delivery tomorrow\n",
         "07732584351  rodger burns  msg  we tried to call you re your reply to our sms for a free nokia mobile  free camcorder please call now 08000930705 for delivery tomorrow\n"
        ],
        [
         "43",
         "ham",
         "WHO ARE YOU SEEING?\n",
         "who are you seeing?\n",
         "who are you seeing\n"
        ],
        [
         "44",
         "ham",
         "Great! I hope you like your man well endowed. I am  &lt;#&gt;  inches...\n",
         "great! i hope you like your man well endowed. i am  &lt;#&gt;  inches...\n",
         "great i hope you like your man well endowed i am  ltgt  inches\n"
        ],
        [
         "45",
         "ham",
         "No calls..messages..missed calls\n",
         "no calls..messages..missed calls\n",
         "no callsmessagesmissed calls\n"
        ],
        [
         "46",
         "ham",
         "Didn't you get hep b immunisation in nigeria.\n",
         "didn't you get hep b immunisation in nigeria.\n",
         "didnt you get hep b immunisation in nigeria\n"
        ],
        [
         "47",
         "ham",
         "Fair enough, anything going on?\n",
         "fair enough, anything going on?\n",
         "fair enough anything going on\n"
        ],
        [
         "48",
         "ham",
         "Yeah hopefully, if tyler can't do it I could maybe ask around a bit\n",
         "yeah hopefully, if tyler can't do it i could maybe ask around a bit\n",
         "yeah hopefully if tyler cant do it i could maybe ask around a bit\n"
        ],
        [
         "49",
         "ham",
         "U don't know how stubborn I am. I didn't even want to go to the hospital. I kept telling Mark I'm not a weak sucker. Hospitals are for weak suckers.\n",
         "u don't know how stubborn i am. i didn't even want to go to the hospital. i kept telling mark i'm not a weak sucker. hospitals are for weak suckers.\n",
         "u dont know how stubborn i am i didnt even want to go to the hospital i kept telling mark im not a weak sucker hospitals are for weak suckers\n"
        ]
       ],
       "shape": {
        "columns": 4,
        "rows": 5574
       }
      },
      "text/html": [
       "<div>\n",
       "<style scoped>\n",
       "    .dataframe tbody tr th:only-of-type {\n",
       "        vertical-align: middle;\n",
       "    }\n",
       "\n",
       "    .dataframe tbody tr th {\n",
       "        vertical-align: top;\n",
       "    }\n",
       "\n",
       "    .dataframe thead th {\n",
       "        text-align: right;\n",
       "    }\n",
       "</style>\n",
       "<table border=\"1\" class=\"dataframe\">\n",
       "  <thead>\n",
       "    <tr style=\"text-align: right;\">\n",
       "      <th></th>\n",
       "      <th>Category</th>\n",
       "      <th>Message</th>\n",
       "      <th>lower_message</th>\n",
       "      <th>message_wo_punct</th>\n",
       "    </tr>\n",
       "  </thead>\n",
       "  <tbody>\n",
       "    <tr>\n",
       "      <th>0</th>\n",
       "      <td>ham</td>\n",
       "      <td>Go until jurong point, crazy.. Available only ...</td>\n",
       "      <td>go until jurong point, crazy.. available only ...</td>\n",
       "      <td>go until jurong point crazy available only in ...</td>\n",
       "    </tr>\n",
       "    <tr>\n",
       "      <th>1</th>\n",
       "      <td>ham</td>\n",
       "      <td>Ok lar... Joking wif u oni...\\n</td>\n",
       "      <td>ok lar... joking wif u oni...\\n</td>\n",
       "      <td>ok lar joking wif u oni\\n</td>\n",
       "    </tr>\n",
       "    <tr>\n",
       "      <th>2</th>\n",
       "      <td>spam</td>\n",
       "      <td>Free entry in 2 a wkly comp to win FA Cup fina...</td>\n",
       "      <td>free entry in 2 a wkly comp to win fa cup fina...</td>\n",
       "      <td>free entry in 2 a wkly comp to win fa cup fina...</td>\n",
       "    </tr>\n",
       "    <tr>\n",
       "      <th>3</th>\n",
       "      <td>ham</td>\n",
       "      <td>U dun say so early hor... U c already then say...</td>\n",
       "      <td>u dun say so early hor... u c already then say...</td>\n",
       "      <td>u dun say so early hor u c already then say\\n</td>\n",
       "    </tr>\n",
       "    <tr>\n",
       "      <th>4</th>\n",
       "      <td>ham</td>\n",
       "      <td>Nah I don't think he goes to usf, he lives aro...</td>\n",
       "      <td>nah i don't think he goes to usf, he lives aro...</td>\n",
       "      <td>nah i dont think he goes to usf he lives aroun...</td>\n",
       "    </tr>\n",
       "    <tr>\n",
       "      <th>...</th>\n",
       "      <td>...</td>\n",
       "      <td>...</td>\n",
       "      <td>...</td>\n",
       "      <td>...</td>\n",
       "    </tr>\n",
       "    <tr>\n",
       "      <th>5569</th>\n",
       "      <td>spam</td>\n",
       "      <td>This is the 2nd time we have tried 2 contact u...</td>\n",
       "      <td>this is the 2nd time we have tried 2 contact u...</td>\n",
       "      <td>this is the 2nd time we have tried 2 contact u...</td>\n",
       "    </tr>\n",
       "    <tr>\n",
       "      <th>5570</th>\n",
       "      <td>ham</td>\n",
       "      <td>Will ü b going to esplanade fr home?\\n</td>\n",
       "      <td>will ü b going to esplanade fr home?\\n</td>\n",
       "      <td>will ü b going to esplanade fr home\\n</td>\n",
       "    </tr>\n",
       "    <tr>\n",
       "      <th>5571</th>\n",
       "      <td>ham</td>\n",
       "      <td>Pity, * was in mood for that. So...any other s...</td>\n",
       "      <td>pity, * was in mood for that. so...any other s...</td>\n",
       "      <td>pity  was in mood for that soany other suggest...</td>\n",
       "    </tr>\n",
       "    <tr>\n",
       "      <th>5572</th>\n",
       "      <td>ham</td>\n",
       "      <td>The guy did some bitching but I acted like i'd...</td>\n",
       "      <td>the guy did some bitching but i acted like i'd...</td>\n",
       "      <td>the guy did some bitching but i acted like id ...</td>\n",
       "    </tr>\n",
       "    <tr>\n",
       "      <th>5573</th>\n",
       "      <td>ham</td>\n",
       "      <td>Rofl. Its true to its name\\n</td>\n",
       "      <td>rofl. its true to its name\\n</td>\n",
       "      <td>rofl its true to its name\\n</td>\n",
       "    </tr>\n",
       "  </tbody>\n",
       "</table>\n",
       "<p>5574 rows × 4 columns</p>\n",
       "</div>"
      ],
      "text/plain": [
       "     Category                                            Message  \\\n",
       "0         ham  Go until jurong point, crazy.. Available only ...   \n",
       "1         ham                    Ok lar... Joking wif u oni...\\n   \n",
       "2        spam  Free entry in 2 a wkly comp to win FA Cup fina...   \n",
       "3         ham  U dun say so early hor... U c already then say...   \n",
       "4         ham  Nah I don't think he goes to usf, he lives aro...   \n",
       "...       ...                                                ...   \n",
       "5569     spam  This is the 2nd time we have tried 2 contact u...   \n",
       "5570      ham             Will ü b going to esplanade fr home?\\n   \n",
       "5571      ham  Pity, * was in mood for that. So...any other s...   \n",
       "5572      ham  The guy did some bitching but I acted like i'd...   \n",
       "5573      ham                       Rofl. Its true to its name\\n   \n",
       "\n",
       "                                          lower_message  \\\n",
       "0     go until jurong point, crazy.. available only ...   \n",
       "1                       ok lar... joking wif u oni...\\n   \n",
       "2     free entry in 2 a wkly comp to win fa cup fina...   \n",
       "3     u dun say so early hor... u c already then say...   \n",
       "4     nah i don't think he goes to usf, he lives aro...   \n",
       "...                                                 ...   \n",
       "5569  this is the 2nd time we have tried 2 contact u...   \n",
       "5570             will ü b going to esplanade fr home?\\n   \n",
       "5571  pity, * was in mood for that. so...any other s...   \n",
       "5572  the guy did some bitching but i acted like i'd...   \n",
       "5573                       rofl. its true to its name\\n   \n",
       "\n",
       "                                       message_wo_punct  \n",
       "0     go until jurong point crazy available only in ...  \n",
       "1                             ok lar joking wif u oni\\n  \n",
       "2     free entry in 2 a wkly comp to win fa cup fina...  \n",
       "3         u dun say so early hor u c already then say\\n  \n",
       "4     nah i dont think he goes to usf he lives aroun...  \n",
       "...                                                 ...  \n",
       "5569  this is the 2nd time we have tried 2 contact u...  \n",
       "5570              will ü b going to esplanade fr home\\n  \n",
       "5571  pity  was in mood for that soany other suggest...  \n",
       "5572  the guy did some bitching but i acted like id ...  \n",
       "5573                        rofl its true to its name\\n  \n",
       "\n",
       "[5574 rows x 4 columns]"
      ]
     },
     "execution_count": 98,
     "metadata": {},
     "output_type": "execute_result"
    }
   ],
   "source": [
    "PUNCT_TO_REMOVE = string.punctuation\n",
    "def remove_punctuation(text):\n",
    "    \"\"\"custom function to remove the punctuation\"\"\"\n",
    "    return text.translate(str.maketrans('', '', PUNCT_TO_REMOVE))\n",
    "\n",
    "df_cleaning['message_wo_punct'] = df_cleaning[\"lower_message\"].apply(lambda text: remove_punctuation(text))\n",
    "df_cleaning"
   ]
  },
  {
   "cell_type": "code",
   "execution_count": 99,
   "metadata": {},
   "outputs": [
    {
     "data": {
      "application/vnd.microsoft.datawrangler.viewer.v0+json": {
       "columns": [
        {
         "name": "index",
         "rawType": "int64",
         "type": "integer"
        },
        {
         "name": "Category",
         "rawType": "object",
         "type": "string"
        },
        {
         "name": "Message",
         "rawType": "object",
         "type": "string"
        },
        {
         "name": "lower_message",
         "rawType": "object",
         "type": "string"
        },
        {
         "name": "message_wo_punct",
         "rawType": "object",
         "type": "string"
        },
        {
         "name": "message_no_stopwords",
         "rawType": "object",
         "type": "string"
        }
       ],
       "conversionMethod": "pd.DataFrame",
       "ref": "66936a05-d20c-4e96-b708-ea3a9cc2cd83",
       "rows": [
        [
         "0",
         "ham",
         "Go until jurong point, crazy.. Available only in bugis n great world la e buffet... Cine there got amore wat...\n",
         "go until jurong point, crazy.. available only in bugis n great world la e buffet... cine there got amore wat...\n",
         "go until jurong point crazy available only in bugis n great world la e buffet cine there got amore wat\n",
         "go jurong point crazy available bugis n great world la e buffet cine got amore wat"
        ],
        [
         "1",
         "ham",
         "Ok lar... Joking wif u oni...\n",
         "ok lar... joking wif u oni...\n",
         "ok lar joking wif u oni\n",
         "ok lar joking wif u oni"
        ],
        [
         "2",
         "spam",
         "Free entry in 2 a wkly comp to win FA Cup final tkts 21st May 2005. Text FA to 87121 to receive entry question(std txt rate)T&C's apply 08452810075over18's\n",
         "free entry in 2 a wkly comp to win fa cup final tkts 21st may 2005. text fa to 87121 to receive entry question(std txt rate)t&c's apply 08452810075over18's\n",
         "free entry in 2 a wkly comp to win fa cup final tkts 21st may 2005 text fa to 87121 to receive entry questionstd txt ratetcs apply 08452810075over18s\n",
         "free entry 2 wkly comp win fa cup final tkts 21st may 2005 text fa 87121 receive entry questionstd txt ratetcs apply 08452810075over18s"
        ],
        [
         "3",
         "ham",
         "U dun say so early hor... U c already then say...\n",
         "u dun say so early hor... u c already then say...\n",
         "u dun say so early hor u c already then say\n",
         "u dun say early hor u c already say"
        ],
        [
         "4",
         "ham",
         "Nah I don't think he goes to usf, he lives around here though\n",
         "nah i don't think he goes to usf, he lives around here though\n",
         "nah i dont think he goes to usf he lives around here though\n",
         "nah dont think goes usf lives around though"
        ],
        [
         "5",
         "spam",
         "FreeMsg Hey there darling it's been 3 week's now and no word back! I'd like some fun you up for it still? Tb ok! XxX std chgs to send, £1.50 to rcv\n",
         "freemsg hey there darling it's been 3 week's now and no word back! i'd like some fun you up for it still? tb ok! xxx std chgs to send, £1.50 to rcv\n",
         "freemsg hey there darling its been 3 weeks now and no word back id like some fun you up for it still tb ok xxx std chgs to send £150 to rcv\n",
         "freemsg hey darling 3 weeks word back id like fun still tb ok xxx std chgs send £150 rcv"
        ],
        [
         "6",
         "ham",
         "Even my brother is not like to speak with me. They treat me like aids patent.\n",
         "even my brother is not like to speak with me. they treat me like aids patent.\n",
         "even my brother is not like to speak with me they treat me like aids patent\n",
         "even brother like speak treat like aids patent"
        ],
        [
         "7",
         "ham",
         "As per your request 'Melle Melle (Oru Minnaminunginte Nurungu Vettam)' has been set as your callertune for all Callers. Press *9 to copy your friends Callertune\n",
         "as per your request 'melle melle (oru minnaminunginte nurungu vettam)' has been set as your callertune for all callers. press *9 to copy your friends callertune\n",
         "as per your request melle melle oru minnaminunginte nurungu vettam has been set as your callertune for all callers press 9 to copy your friends callertune\n",
         "per request melle melle oru minnaminunginte nurungu vettam set callertune callers press 9 copy friends callertune"
        ],
        [
         "8",
         "spam",
         "WINNER!! As a valued network customer you have been selected to receivea £900 prize reward! To claim call 09061701461. Claim code KL341. Valid 12 hours only.\n",
         "winner!! as a valued network customer you have been selected to receivea £900 prize reward! to claim call 09061701461. claim code kl341. valid 12 hours only.\n",
         "winner as a valued network customer you have been selected to receivea £900 prize reward to claim call 09061701461 claim code kl341 valid 12 hours only\n",
         "winner valued network customer selected receivea £900 prize reward claim call 09061701461 claim code kl341 valid 12 hours"
        ],
        [
         "9",
         "spam",
         "Had your mobile 11 months or more? U R entitled to Update to the latest colour mobiles with camera for Free! Call The Mobile Update Co FREE on 08002986030\n",
         "had your mobile 11 months or more? u r entitled to update to the latest colour mobiles with camera for free! call the mobile update co free on 08002986030\n",
         "had your mobile 11 months or more u r entitled to update to the latest colour mobiles with camera for free call the mobile update co free on 08002986030\n",
         "mobile 11 months u r entitled update latest colour mobiles camera free call mobile update co free 08002986030"
        ],
        [
         "10",
         "ham",
         "I'm gonna be home soon and i don't want to talk about this stuff anymore tonight, k? I've cried enough today.\n",
         "i'm gonna be home soon and i don't want to talk about this stuff anymore tonight, k? i've cried enough today.\n",
         "im gonna be home soon and i dont want to talk about this stuff anymore tonight k ive cried enough today\n",
         "im gonna home soon dont want talk stuff anymore tonight k ive cried enough today"
        ],
        [
         "11",
         "spam",
         "SIX chances to win CASH! From 100 to 20,000 pounds txt> CSH11 and send to 87575. Cost 150p/day, 6days, 16+ TsandCs apply Reply HL 4 info\n",
         "six chances to win cash! from 100 to 20,000 pounds txt> csh11 and send to 87575. cost 150p/day, 6days, 16+ tsandcs apply reply hl 4 info\n",
         "six chances to win cash from 100 to 20000 pounds txt csh11 and send to 87575 cost 150pday 6days 16 tsandcs apply reply hl 4 info\n",
         "six chances win cash 100 20000 pounds txt csh11 send 87575 cost 150pday 6days 16 tsandcs apply reply hl 4 info"
        ],
        [
         "12",
         "spam",
         "URGENT! You have won a 1 week FREE membership in our £100,000 Prize Jackpot! Txt the word: CLAIM to No: 81010 T&C www.dbuk.net LCCLTD POBOX 4403LDNW1A7RW18\n",
         "urgent! you have won a 1 week free membership in our £100,000 prize jackpot! txt the word: claim to no: 81010 t&c www.dbuk.net lccltd pobox 4403ldnw1a7rw18\n",
         "urgent you have won a 1 week free membership in our £100000 prize jackpot txt the word claim to no 81010 tc wwwdbuknet lccltd pobox 4403ldnw1a7rw18\n",
         "urgent 1 week free membership £100000 prize jackpot txt word claim 81010 tc wwwdbuknet lccltd pobox 4403ldnw1a7rw18"
        ],
        [
         "13",
         "ham",
         "I've been searching for the right words to thank you for this breather. I promise i wont take your help for granted and will fulfil my promise. You have been wonderful and a blessing at all times.\n",
         "i've been searching for the right words to thank you for this breather. i promise i wont take your help for granted and will fulfil my promise. you have been wonderful and a blessing at all times.\n",
         "ive been searching for the right words to thank you for this breather i promise i wont take your help for granted and will fulfil my promise you have been wonderful and a blessing at all times\n",
         "ive searching right words thank breather promise wont take help granted fulfil promise wonderful blessing times"
        ],
        [
         "14",
         "ham",
         "I HAVE A DATE ON SUNDAY WITH WILL!!\n",
         "i have a date on sunday with will!!\n",
         "i have a date on sunday with will\n",
         "date sunday"
        ],
        [
         "15",
         "spam",
         "XXXMobileMovieClub: To use your credit, click the WAP link in the next txt message or click here>> http://wap. xxxmobilemovieclub.com?n=QJKGIGHJJGCBL\n",
         "xxxmobilemovieclub: to use your credit, click the wap link in the next txt message or click here>> http://wap. xxxmobilemovieclub.com?n=qjkgighjjgcbl\n",
         "xxxmobilemovieclub to use your credit click the wap link in the next txt message or click here httpwap xxxmobilemovieclubcomnqjkgighjjgcbl\n",
         "xxxmobilemovieclub use credit click wap link next txt message click httpwap xxxmobilemovieclubcomnqjkgighjjgcbl"
        ],
        [
         "16",
         "ham",
         "Oh k...i'm watching here:)\n",
         "oh k...i'm watching here:)\n",
         "oh kim watching here\n",
         "oh kim watching"
        ],
        [
         "17",
         "ham",
         "Eh u remember how 2 spell his name... Yes i did. He v naughty make until i v wet.\n",
         "eh u remember how 2 spell his name... yes i did. he v naughty make until i v wet.\n",
         "eh u remember how 2 spell his name yes i did he v naughty make until i v wet\n",
         "eh u remember 2 spell name yes v naughty make v wet"
        ],
        [
         "18",
         "ham",
         "Fine if thats the way u feel. Thats the way its gota b\n",
         "fine if thats the way u feel. thats the way its gota b\n",
         "fine if thats the way u feel thats the way its gota b\n",
         "fine thats way u feel thats way gota b"
        ],
        [
         "19",
         "spam",
         "England v Macedonia - dont miss the goals/team news. Txt ur national team to 87077 eg ENGLAND to 87077 Try:WALES, SCOTLAND 4txt/ú1.20 POBOXox36504W45WQ 16+\n",
         "england v macedonia - dont miss the goals/team news. txt ur national team to 87077 eg england to 87077 try:wales, scotland 4txt/ú1.20 poboxox36504w45wq 16+\n",
         "england v macedonia  dont miss the goalsteam news txt ur national team to 87077 eg england to 87077 trywales scotland 4txtú120 poboxox36504w45wq 16\n",
         "england v macedonia dont miss goalsteam news txt ur national team 87077 eg england 87077 trywales scotland 4txtú120 poboxox36504w45wq 16"
        ],
        [
         "20",
         "ham",
         "Is that seriously how you spell his name?\n",
         "is that seriously how you spell his name?\n",
         "is that seriously how you spell his name\n",
         "seriously spell name"
        ],
        [
         "21",
         "ham",
         "I‘m going to try for 2 months ha ha only joking\n",
         "i‘m going to try for 2 months ha ha only joking\n",
         "i‘m going to try for 2 months ha ha only joking\n",
         "i‘m going try 2 months ha ha joking"
        ],
        [
         "22",
         "ham",
         "So ü pay first lar... Then when is da stock comin...\n",
         "so ü pay first lar... then when is da stock comin...\n",
         "so ü pay first lar then when is da stock comin\n",
         "ü pay first lar da stock comin"
        ],
        [
         "23",
         "ham",
         "Aft i finish my lunch then i go str down lor. Ard 3 smth lor. U finish ur lunch already?\n",
         "aft i finish my lunch then i go str down lor. ard 3 smth lor. u finish ur lunch already?\n",
         "aft i finish my lunch then i go str down lor ard 3 smth lor u finish ur lunch already\n",
         "aft finish lunch go str lor ard 3 smth lor u finish ur lunch already"
        ],
        [
         "24",
         "ham",
         "Ffffffffff. Alright no way I can meet up with you sooner?\n",
         "ffffffffff. alright no way i can meet up with you sooner?\n",
         "ffffffffff alright no way i can meet up with you sooner\n",
         "ffffffffff alright way meet sooner"
        ],
        [
         "25",
         "ham",
         "Just forced myself to eat a slice. I'm really not hungry tho. This sucks. Mark is getting worried. He knows I'm sick when I turn down pizza. Lol\n",
         "just forced myself to eat a slice. i'm really not hungry tho. this sucks. mark is getting worried. he knows i'm sick when i turn down pizza. lol\n",
         "just forced myself to eat a slice im really not hungry tho this sucks mark is getting worried he knows im sick when i turn down pizza lol\n",
         "forced eat slice im really hungry tho sucks mark getting worried knows im sick turn pizza lol"
        ],
        [
         "26",
         "ham",
         "Lol your always so convincing.\n",
         "lol your always so convincing.\n",
         "lol your always so convincing\n",
         "lol always convincing"
        ],
        [
         "27",
         "ham",
         "Did you catch the bus ? Are you frying an egg ? Did you make a tea? Are you eating your mom's left over dinner ? Do you feel my Love ?\n",
         "did you catch the bus ? are you frying an egg ? did you make a tea? are you eating your mom's left over dinner ? do you feel my love ?\n",
         "did you catch the bus  are you frying an egg  did you make a tea are you eating your moms left over dinner  do you feel my love \n",
         "catch bus frying egg make tea eating moms left dinner feel love"
        ],
        [
         "28",
         "ham",
         "I'm back &amp; we're packing the car now, I'll let you know if there's room\n",
         "i'm back &amp; we're packing the car now, i'll let you know if there's room\n",
         "im back amp were packing the car now ill let you know if theres room\n",
         "im back amp packing car ill let know theres room"
        ],
        [
         "29",
         "ham",
         "Ahhh. Work. I vaguely remember that! What does it feel like? Lol\n",
         "ahhh. work. i vaguely remember that! what does it feel like? lol\n",
         "ahhh work i vaguely remember that what does it feel like lol\n",
         "ahhh work vaguely remember feel like lol"
        ],
        [
         "30",
         "ham",
         "Wait that's still not all that clear, were you not sure about me being sarcastic or that that's why x doesn't want to live with us\n",
         "wait that's still not all that clear, were you not sure about me being sarcastic or that that's why x doesn't want to live with us\n",
         "wait thats still not all that clear were you not sure about me being sarcastic or that thats why x doesnt want to live with us\n",
         "wait thats still clear sure sarcastic thats x doesnt want live us"
        ],
        [
         "31",
         "ham",
         "Yeah he got in at 2 and was v apologetic. n had fallen out and she was actin like spoilt child and he got caught up in that. Till 2! But we won't go there! Not doing too badly cheers. You? \n",
         "yeah he got in at 2 and was v apologetic. n had fallen out and she was actin like spoilt child and he got caught up in that. till 2! but we won't go there! not doing too badly cheers. you? \n",
         "yeah he got in at 2 and was v apologetic n had fallen out and she was actin like spoilt child and he got caught up in that till 2 but we wont go there not doing too badly cheers you \n",
         "yeah got 2 v apologetic n fallen actin like spoilt child got caught till 2 wont go badly cheers"
        ],
        [
         "32",
         "ham",
         "K tell me anything about you.\n",
         "k tell me anything about you.\n",
         "k tell me anything about you\n",
         "k tell anything"
        ],
        [
         "33",
         "ham",
         "For fear of fainting with the of all that housework you just did? Quick have a cuppa\n",
         "for fear of fainting with the of all that housework you just did? quick have a cuppa\n",
         "for fear of fainting with the of all that housework you just did quick have a cuppa\n",
         "fear fainting housework quick cuppa"
        ],
        [
         "34",
         "spam",
         "Thanks for your subscription to Ringtone UK your mobile will be charged £5/month Please confirm by replying YES or NO. If you reply NO you will not be charged\n",
         "thanks for your subscription to ringtone uk your mobile will be charged £5/month please confirm by replying yes or no. if you reply no you will not be charged\n",
         "thanks for your subscription to ringtone uk your mobile will be charged £5month please confirm by replying yes or no if you reply no you will not be charged\n",
         "thanks subscription ringtone uk mobile charged £5month please confirm replying yes reply charged"
        ],
        [
         "35",
         "ham",
         "Yup... Ok i go home look at the timings then i msg ü again... Xuhui going to learn on 2nd may too but her lesson is at 8am\n",
         "yup... ok i go home look at the timings then i msg ü again... xuhui going to learn on 2nd may too but her lesson is at 8am\n",
         "yup ok i go home look at the timings then i msg ü again xuhui going to learn on 2nd may too but her lesson is at 8am\n",
         "yup ok go home look timings msg ü xuhui going learn 2nd may lesson 8am"
        ],
        [
         "36",
         "ham",
         "Oops, I'll let you know when my roommate's done\n",
         "oops, i'll let you know when my roommate's done\n",
         "oops ill let you know when my roommates done\n",
         "oops ill let know roommates done"
        ],
        [
         "37",
         "ham",
         "I see the letter B on my car\n",
         "i see the letter b on my car\n",
         "i see the letter b on my car\n",
         "see letter b car"
        ],
        [
         "38",
         "ham",
         "Anything lor... U decide...\n",
         "anything lor... u decide...\n",
         "anything lor u decide\n",
         "anything lor u decide"
        ],
        [
         "39",
         "ham",
         "Hello! How's you and how did saturday go? I was just texting to see if you'd decided to do anything tomo. Not that i'm trying to invite myself or anything!\n",
         "hello! how's you and how did saturday go? i was just texting to see if you'd decided to do anything tomo. not that i'm trying to invite myself or anything!\n",
         "hello hows you and how did saturday go i was just texting to see if youd decided to do anything tomo not that im trying to invite myself or anything\n",
         "hello hows saturday go texting see youd decided anything tomo im trying invite anything"
        ],
        [
         "40",
         "ham",
         "Pls go ahead with watts. I just wanted to be sure. Do have a great weekend. Abiola\n",
         "pls go ahead with watts. i just wanted to be sure. do have a great weekend. abiola\n",
         "pls go ahead with watts i just wanted to be sure do have a great weekend abiola\n",
         "pls go ahead watts wanted sure great weekend abiola"
        ],
        [
         "41",
         "ham",
         "Did I forget to tell you ? I want you , I need you, I crave you ... But most of all ... I love you my sweet Arabian steed ... Mmmmmm ... Yummy\n",
         "did i forget to tell you ? i want you , i need you, i crave you ... but most of all ... i love you my sweet arabian steed ... mmmmmm ... yummy\n",
         "did i forget to tell you  i want you  i need you i crave you  but most of all  i love you my sweet arabian steed  mmmmmm  yummy\n",
         "forget tell want need crave love sweet arabian steed mmmmmm yummy"
        ],
        [
         "42",
         "spam",
         "07732584351 - Rodger Burns - MSG = We tried to call you re your reply to our sms for a free nokia mobile + free camcorder. Please call now 08000930705 for delivery tomorrow\n",
         "07732584351 - rodger burns - msg = we tried to call you re your reply to our sms for a free nokia mobile + free camcorder. please call now 08000930705 for delivery tomorrow\n",
         "07732584351  rodger burns  msg  we tried to call you re your reply to our sms for a free nokia mobile  free camcorder please call now 08000930705 for delivery tomorrow\n",
         "07732584351 rodger burns msg tried call reply sms free nokia mobile free camcorder please call 08000930705 delivery tomorrow"
        ],
        [
         "43",
         "ham",
         "WHO ARE YOU SEEING?\n",
         "who are you seeing?\n",
         "who are you seeing\n",
         "seeing"
        ],
        [
         "44",
         "ham",
         "Great! I hope you like your man well endowed. I am  &lt;#&gt;  inches...\n",
         "great! i hope you like your man well endowed. i am  &lt;#&gt;  inches...\n",
         "great i hope you like your man well endowed i am  ltgt  inches\n",
         "great hope like man well endowed ltgt inches"
        ],
        [
         "45",
         "ham",
         "No calls..messages..missed calls\n",
         "no calls..messages..missed calls\n",
         "no callsmessagesmissed calls\n",
         "callsmessagesmissed calls"
        ],
        [
         "46",
         "ham",
         "Didn't you get hep b immunisation in nigeria.\n",
         "didn't you get hep b immunisation in nigeria.\n",
         "didnt you get hep b immunisation in nigeria\n",
         "didnt get hep b immunisation nigeria"
        ],
        [
         "47",
         "ham",
         "Fair enough, anything going on?\n",
         "fair enough, anything going on?\n",
         "fair enough anything going on\n",
         "fair enough anything going"
        ],
        [
         "48",
         "ham",
         "Yeah hopefully, if tyler can't do it I could maybe ask around a bit\n",
         "yeah hopefully, if tyler can't do it i could maybe ask around a bit\n",
         "yeah hopefully if tyler cant do it i could maybe ask around a bit\n",
         "yeah hopefully tyler cant could maybe ask around bit"
        ],
        [
         "49",
         "ham",
         "U don't know how stubborn I am. I didn't even want to go to the hospital. I kept telling Mark I'm not a weak sucker. Hospitals are for weak suckers.\n",
         "u don't know how stubborn i am. i didn't even want to go to the hospital. i kept telling mark i'm not a weak sucker. hospitals are for weak suckers.\n",
         "u dont know how stubborn i am i didnt even want to go to the hospital i kept telling mark im not a weak sucker hospitals are for weak suckers\n",
         "u dont know stubborn didnt even want go hospital kept telling mark im weak sucker hospitals weak suckers"
        ]
       ],
       "shape": {
        "columns": 5,
        "rows": 5574
       }
      },
      "text/html": [
       "<div>\n",
       "<style scoped>\n",
       "    .dataframe tbody tr th:only-of-type {\n",
       "        vertical-align: middle;\n",
       "    }\n",
       "\n",
       "    .dataframe tbody tr th {\n",
       "        vertical-align: top;\n",
       "    }\n",
       "\n",
       "    .dataframe thead th {\n",
       "        text-align: right;\n",
       "    }\n",
       "</style>\n",
       "<table border=\"1\" class=\"dataframe\">\n",
       "  <thead>\n",
       "    <tr style=\"text-align: right;\">\n",
       "      <th></th>\n",
       "      <th>Category</th>\n",
       "      <th>Message</th>\n",
       "      <th>lower_message</th>\n",
       "      <th>message_wo_punct</th>\n",
       "      <th>message_no_stopwords</th>\n",
       "    </tr>\n",
       "  </thead>\n",
       "  <tbody>\n",
       "    <tr>\n",
       "      <th>0</th>\n",
       "      <td>ham</td>\n",
       "      <td>Go until jurong point, crazy.. Available only ...</td>\n",
       "      <td>go until jurong point, crazy.. available only ...</td>\n",
       "      <td>go until jurong point crazy available only in ...</td>\n",
       "      <td>go jurong point crazy available bugis n great ...</td>\n",
       "    </tr>\n",
       "    <tr>\n",
       "      <th>1</th>\n",
       "      <td>ham</td>\n",
       "      <td>Ok lar... Joking wif u oni...\\n</td>\n",
       "      <td>ok lar... joking wif u oni...\\n</td>\n",
       "      <td>ok lar joking wif u oni\\n</td>\n",
       "      <td>ok lar joking wif u oni</td>\n",
       "    </tr>\n",
       "    <tr>\n",
       "      <th>2</th>\n",
       "      <td>spam</td>\n",
       "      <td>Free entry in 2 a wkly comp to win FA Cup fina...</td>\n",
       "      <td>free entry in 2 a wkly comp to win fa cup fina...</td>\n",
       "      <td>free entry in 2 a wkly comp to win fa cup fina...</td>\n",
       "      <td>free entry 2 wkly comp win fa cup final tkts 2...</td>\n",
       "    </tr>\n",
       "    <tr>\n",
       "      <th>3</th>\n",
       "      <td>ham</td>\n",
       "      <td>U dun say so early hor... U c already then say...</td>\n",
       "      <td>u dun say so early hor... u c already then say...</td>\n",
       "      <td>u dun say so early hor u c already then say\\n</td>\n",
       "      <td>u dun say early hor u c already say</td>\n",
       "    </tr>\n",
       "    <tr>\n",
       "      <th>4</th>\n",
       "      <td>ham</td>\n",
       "      <td>Nah I don't think he goes to usf, he lives aro...</td>\n",
       "      <td>nah i don't think he goes to usf, he lives aro...</td>\n",
       "      <td>nah i dont think he goes to usf he lives aroun...</td>\n",
       "      <td>nah dont think goes usf lives around though</td>\n",
       "    </tr>\n",
       "    <tr>\n",
       "      <th>...</th>\n",
       "      <td>...</td>\n",
       "      <td>...</td>\n",
       "      <td>...</td>\n",
       "      <td>...</td>\n",
       "      <td>...</td>\n",
       "    </tr>\n",
       "    <tr>\n",
       "      <th>5569</th>\n",
       "      <td>spam</td>\n",
       "      <td>This is the 2nd time we have tried 2 contact u...</td>\n",
       "      <td>this is the 2nd time we have tried 2 contact u...</td>\n",
       "      <td>this is the 2nd time we have tried 2 contact u...</td>\n",
       "      <td>2nd time tried 2 contact u u £750 pound prize ...</td>\n",
       "    </tr>\n",
       "    <tr>\n",
       "      <th>5570</th>\n",
       "      <td>ham</td>\n",
       "      <td>Will ü b going to esplanade fr home?\\n</td>\n",
       "      <td>will ü b going to esplanade fr home?\\n</td>\n",
       "      <td>will ü b going to esplanade fr home\\n</td>\n",
       "      <td>ü b going esplanade fr home</td>\n",
       "    </tr>\n",
       "    <tr>\n",
       "      <th>5571</th>\n",
       "      <td>ham</td>\n",
       "      <td>Pity, * was in mood for that. So...any other s...</td>\n",
       "      <td>pity, * was in mood for that. so...any other s...</td>\n",
       "      <td>pity  was in mood for that soany other suggest...</td>\n",
       "      <td>pity mood soany suggestions</td>\n",
       "    </tr>\n",
       "    <tr>\n",
       "      <th>5572</th>\n",
       "      <td>ham</td>\n",
       "      <td>The guy did some bitching but I acted like i'd...</td>\n",
       "      <td>the guy did some bitching but i acted like i'd...</td>\n",
       "      <td>the guy did some bitching but i acted like id ...</td>\n",
       "      <td>guy bitching acted like id interested buying s...</td>\n",
       "    </tr>\n",
       "    <tr>\n",
       "      <th>5573</th>\n",
       "      <td>ham</td>\n",
       "      <td>Rofl. Its true to its name\\n</td>\n",
       "      <td>rofl. its true to its name\\n</td>\n",
       "      <td>rofl its true to its name\\n</td>\n",
       "      <td>rofl true name</td>\n",
       "    </tr>\n",
       "  </tbody>\n",
       "</table>\n",
       "<p>5574 rows × 5 columns</p>\n",
       "</div>"
      ],
      "text/plain": [
       "     Category                                            Message  \\\n",
       "0         ham  Go until jurong point, crazy.. Available only ...   \n",
       "1         ham                    Ok lar... Joking wif u oni...\\n   \n",
       "2        spam  Free entry in 2 a wkly comp to win FA Cup fina...   \n",
       "3         ham  U dun say so early hor... U c already then say...   \n",
       "4         ham  Nah I don't think he goes to usf, he lives aro...   \n",
       "...       ...                                                ...   \n",
       "5569     spam  This is the 2nd time we have tried 2 contact u...   \n",
       "5570      ham             Will ü b going to esplanade fr home?\\n   \n",
       "5571      ham  Pity, * was in mood for that. So...any other s...   \n",
       "5572      ham  The guy did some bitching but I acted like i'd...   \n",
       "5573      ham                       Rofl. Its true to its name\\n   \n",
       "\n",
       "                                          lower_message  \\\n",
       "0     go until jurong point, crazy.. available only ...   \n",
       "1                       ok lar... joking wif u oni...\\n   \n",
       "2     free entry in 2 a wkly comp to win fa cup fina...   \n",
       "3     u dun say so early hor... u c already then say...   \n",
       "4     nah i don't think he goes to usf, he lives aro...   \n",
       "...                                                 ...   \n",
       "5569  this is the 2nd time we have tried 2 contact u...   \n",
       "5570             will ü b going to esplanade fr home?\\n   \n",
       "5571  pity, * was in mood for that. so...any other s...   \n",
       "5572  the guy did some bitching but i acted like i'd...   \n",
       "5573                       rofl. its true to its name\\n   \n",
       "\n",
       "                                       message_wo_punct  \\\n",
       "0     go until jurong point crazy available only in ...   \n",
       "1                             ok lar joking wif u oni\\n   \n",
       "2     free entry in 2 a wkly comp to win fa cup fina...   \n",
       "3         u dun say so early hor u c already then say\\n   \n",
       "4     nah i dont think he goes to usf he lives aroun...   \n",
       "...                                                 ...   \n",
       "5569  this is the 2nd time we have tried 2 contact u...   \n",
       "5570              will ü b going to esplanade fr home\\n   \n",
       "5571  pity  was in mood for that soany other suggest...   \n",
       "5572  the guy did some bitching but i acted like id ...   \n",
       "5573                        rofl its true to its name\\n   \n",
       "\n",
       "                                   message_no_stopwords  \n",
       "0     go jurong point crazy available bugis n great ...  \n",
       "1                               ok lar joking wif u oni  \n",
       "2     free entry 2 wkly comp win fa cup final tkts 2...  \n",
       "3                   u dun say early hor u c already say  \n",
       "4           nah dont think goes usf lives around though  \n",
       "...                                                 ...  \n",
       "5569  2nd time tried 2 contact u u £750 pound prize ...  \n",
       "5570                        ü b going esplanade fr home  \n",
       "5571                        pity mood soany suggestions  \n",
       "5572  guy bitching acted like id interested buying s...  \n",
       "5573                                     rofl true name  \n",
       "\n",
       "[5574 rows x 5 columns]"
      ]
     },
     "execution_count": 99,
     "metadata": {},
     "output_type": "execute_result"
    }
   ],
   "source": [
    "from nltk.corpus import stopwords\n",
    "\n",
    "STOPWORDS = set(stopwords.words('english'))\n",
    "def remove_stopwords(text):\n",
    "    \"\"\"custom function to remove the stopwords\"\"\"\n",
    "    return \" \".join([word for word in str(text).split() if word not in STOPWORDS])\n",
    "\n",
    "df_cleaning['message_no_stopwords'] = df_cleaning['message_wo_punct'].apply(lambda text: remove_stopwords(text))\n",
    "df_cleaning"
   ]
  },
  {
   "cell_type": "code",
   "execution_count": 100,
   "metadata": {},
   "outputs": [
    {
     "data": {
      "application/vnd.microsoft.datawrangler.viewer.v0+json": {
       "columns": [
        {
         "name": "index",
         "rawType": "int64",
         "type": "integer"
        },
        {
         "name": "Category",
         "rawType": "object",
         "type": "string"
        },
        {
         "name": "Message",
         "rawType": "object",
         "type": "string"
        },
        {
         "name": "lower_message",
         "rawType": "object",
         "type": "string"
        },
        {
         "name": "message_wo_punct",
         "rawType": "object",
         "type": "string"
        },
        {
         "name": "message_no_stopwords",
         "rawType": "object",
         "type": "string"
        },
        {
         "name": "message_lemmatized",
         "rawType": "object",
         "type": "string"
        }
       ],
       "conversionMethod": "pd.DataFrame",
       "ref": "46d030bb-fe00-4b78-b815-6fee9edcb7b9",
       "rows": [
        [
         "0",
         "ham",
         "Go until jurong point, crazy.. Available only in bugis n great world la e buffet... Cine there got amore wat...\n",
         "go until jurong point, crazy.. available only in bugis n great world la e buffet... cine there got amore wat...\n",
         "go until jurong point crazy available only in bugis n great world la e buffet cine there got amore wat\n",
         "go jurong point crazy available bugis n great world la e buffet cine got amore wat",
         "go jurong point crazy available bugis n great world la e buffet cine get amore wat"
        ],
        [
         "1",
         "ham",
         "Ok lar... Joking wif u oni...\n",
         "ok lar... joking wif u oni...\n",
         "ok lar joking wif u oni\n",
         "ok lar joking wif u oni",
         "ok lar joking wif u oni"
        ],
        [
         "2",
         "spam",
         "Free entry in 2 a wkly comp to win FA Cup final tkts 21st May 2005. Text FA to 87121 to receive entry question(std txt rate)T&C's apply 08452810075over18's\n",
         "free entry in 2 a wkly comp to win fa cup final tkts 21st may 2005. text fa to 87121 to receive entry question(std txt rate)t&c's apply 08452810075over18's\n",
         "free entry in 2 a wkly comp to win fa cup final tkts 21st may 2005 text fa to 87121 to receive entry questionstd txt ratetcs apply 08452810075over18s\n",
         "free entry 2 wkly comp win fa cup final tkts 21st may 2005 text fa 87121 receive entry questionstd txt ratetcs apply 08452810075over18s",
         "free entry 2 wkly comp win fa cup final tkts 21st may 2005 text fa 87121 receive entry questionstd txt ratetcs apply 08452810075over18s"
        ],
        [
         "3",
         "ham",
         "U dun say so early hor... U c already then say...\n",
         "u dun say so early hor... u c already then say...\n",
         "u dun say so early hor u c already then say\n",
         "u dun say early hor u c already say",
         "u dun say early hor u c already say"
        ],
        [
         "4",
         "ham",
         "Nah I don't think he goes to usf, he lives around here though\n",
         "nah i don't think he goes to usf, he lives around here though\n",
         "nah i dont think he goes to usf he lives around here though\n",
         "nah dont think goes usf lives around though",
         "nah dont think go usf life around though"
        ],
        [
         "5",
         "spam",
         "FreeMsg Hey there darling it's been 3 week's now and no word back! I'd like some fun you up for it still? Tb ok! XxX std chgs to send, £1.50 to rcv\n",
         "freemsg hey there darling it's been 3 week's now and no word back! i'd like some fun you up for it still? tb ok! xxx std chgs to send, £1.50 to rcv\n",
         "freemsg hey there darling its been 3 weeks now and no word back id like some fun you up for it still tb ok xxx std chgs to send £150 to rcv\n",
         "freemsg hey darling 3 weeks word back id like fun still tb ok xxx std chgs send £150 rcv",
         "freemsg hey darling 3 week word back id like fun still tb ok xxx std chgs send £150 rcv"
        ],
        [
         "6",
         "ham",
         "Even my brother is not like to speak with me. They treat me like aids patent.\n",
         "even my brother is not like to speak with me. they treat me like aids patent.\n",
         "even my brother is not like to speak with me they treat me like aids patent\n",
         "even brother like speak treat like aids patent",
         "even brother like speak treat like aid patent"
        ],
        [
         "7",
         "ham",
         "As per your request 'Melle Melle (Oru Minnaminunginte Nurungu Vettam)' has been set as your callertune for all Callers. Press *9 to copy your friends Callertune\n",
         "as per your request 'melle melle (oru minnaminunginte nurungu vettam)' has been set as your callertune for all callers. press *9 to copy your friends callertune\n",
         "as per your request melle melle oru minnaminunginte nurungu vettam has been set as your callertune for all callers press 9 to copy your friends callertune\n",
         "per request melle melle oru minnaminunginte nurungu vettam set callertune callers press 9 copy friends callertune",
         "per request melle melle oru minnaminunginte nurungu vettam set callertune caller press 9 copy friend callertune"
        ],
        [
         "8",
         "spam",
         "WINNER!! As a valued network customer you have been selected to receivea £900 prize reward! To claim call 09061701461. Claim code KL341. Valid 12 hours only.\n",
         "winner!! as a valued network customer you have been selected to receivea £900 prize reward! to claim call 09061701461. claim code kl341. valid 12 hours only.\n",
         "winner as a valued network customer you have been selected to receivea £900 prize reward to claim call 09061701461 claim code kl341 valid 12 hours only\n",
         "winner valued network customer selected receivea £900 prize reward claim call 09061701461 claim code kl341 valid 12 hours",
         "winner value network customer select receivea £900 prize reward claim call 09061701461 claim code kl341 valid 12 hour"
        ],
        [
         "9",
         "spam",
         "Had your mobile 11 months or more? U R entitled to Update to the latest colour mobiles with camera for Free! Call The Mobile Update Co FREE on 08002986030\n",
         "had your mobile 11 months or more? u r entitled to update to the latest colour mobiles with camera for free! call the mobile update co free on 08002986030\n",
         "had your mobile 11 months or more u r entitled to update to the latest colour mobiles with camera for free call the mobile update co free on 08002986030\n",
         "mobile 11 months u r entitled update latest colour mobiles camera free call mobile update co free 08002986030",
         "mobile 11 month u r entitle update late colour mobile camera free call mobile update co free 08002986030"
        ],
        [
         "10",
         "ham",
         "I'm gonna be home soon and i don't want to talk about this stuff anymore tonight, k? I've cried enough today.\n",
         "i'm gonna be home soon and i don't want to talk about this stuff anymore tonight, k? i've cried enough today.\n",
         "im gonna be home soon and i dont want to talk about this stuff anymore tonight k ive cried enough today\n",
         "im gonna home soon dont want talk stuff anymore tonight k ive cried enough today",
         "im gonna home soon dont want talk stuff anymore tonight k ive cry enough today"
        ],
        [
         "11",
         "spam",
         "SIX chances to win CASH! From 100 to 20,000 pounds txt> CSH11 and send to 87575. Cost 150p/day, 6days, 16+ TsandCs apply Reply HL 4 info\n",
         "six chances to win cash! from 100 to 20,000 pounds txt> csh11 and send to 87575. cost 150p/day, 6days, 16+ tsandcs apply reply hl 4 info\n",
         "six chances to win cash from 100 to 20000 pounds txt csh11 and send to 87575 cost 150pday 6days 16 tsandcs apply reply hl 4 info\n",
         "six chances win cash 100 20000 pounds txt csh11 send 87575 cost 150pday 6days 16 tsandcs apply reply hl 4 info",
         "six chance win cash 100 20000 pound txt csh11 send 87575 cost 150pday 6days 16 tsandcs apply reply hl 4 info"
        ],
        [
         "12",
         "spam",
         "URGENT! You have won a 1 week FREE membership in our £100,000 Prize Jackpot! Txt the word: CLAIM to No: 81010 T&C www.dbuk.net LCCLTD POBOX 4403LDNW1A7RW18\n",
         "urgent! you have won a 1 week free membership in our £100,000 prize jackpot! txt the word: claim to no: 81010 t&c www.dbuk.net lccltd pobox 4403ldnw1a7rw18\n",
         "urgent you have won a 1 week free membership in our £100000 prize jackpot txt the word claim to no 81010 tc wwwdbuknet lccltd pobox 4403ldnw1a7rw18\n",
         "urgent 1 week free membership £100000 prize jackpot txt word claim 81010 tc wwwdbuknet lccltd pobox 4403ldnw1a7rw18",
         "urgent 1 week free membership £100000 prize jackpot txt word claim 81010 tc wwwdbuknet lccltd pobox 4403ldnw1a7rw18"
        ],
        [
         "13",
         "ham",
         "I've been searching for the right words to thank you for this breather. I promise i wont take your help for granted and will fulfil my promise. You have been wonderful and a blessing at all times.\n",
         "i've been searching for the right words to thank you for this breather. i promise i wont take your help for granted and will fulfil my promise. you have been wonderful and a blessing at all times.\n",
         "ive been searching for the right words to thank you for this breather i promise i wont take your help for granted and will fulfil my promise you have been wonderful and a blessing at all times\n",
         "ive searching right words thank breather promise wont take help granted fulfil promise wonderful blessing times",
         "ive search right word thank breather promise wont take help grant fulfil promise wonderful blessing time"
        ],
        [
         "14",
         "ham",
         "I HAVE A DATE ON SUNDAY WITH WILL!!\n",
         "i have a date on sunday with will!!\n",
         "i have a date on sunday with will\n",
         "date sunday",
         "date sunday"
        ],
        [
         "15",
         "spam",
         "XXXMobileMovieClub: To use your credit, click the WAP link in the next txt message or click here>> http://wap. xxxmobilemovieclub.com?n=QJKGIGHJJGCBL\n",
         "xxxmobilemovieclub: to use your credit, click the wap link in the next txt message or click here>> http://wap. xxxmobilemovieclub.com?n=qjkgighjjgcbl\n",
         "xxxmobilemovieclub to use your credit click the wap link in the next txt message or click here httpwap xxxmobilemovieclubcomnqjkgighjjgcbl\n",
         "xxxmobilemovieclub use credit click wap link next txt message click httpwap xxxmobilemovieclubcomnqjkgighjjgcbl",
         "xxxmobilemovieclub use credit click wap link next txt message click httpwap xxxmobilemovieclubcomnqjkgighjjgcbl"
        ],
        [
         "16",
         "ham",
         "Oh k...i'm watching here:)\n",
         "oh k...i'm watching here:)\n",
         "oh kim watching here\n",
         "oh kim watching",
         "oh kim watch"
        ],
        [
         "17",
         "ham",
         "Eh u remember how 2 spell his name... Yes i did. He v naughty make until i v wet.\n",
         "eh u remember how 2 spell his name... yes i did. he v naughty make until i v wet.\n",
         "eh u remember how 2 spell his name yes i did he v naughty make until i v wet\n",
         "eh u remember 2 spell name yes v naughty make v wet",
         "eh u remember 2 spell name yes v naughty make v wet"
        ],
        [
         "18",
         "ham",
         "Fine if thats the way u feel. Thats the way its gota b\n",
         "fine if thats the way u feel. thats the way its gota b\n",
         "fine if thats the way u feel thats the way its gota b\n",
         "fine thats way u feel thats way gota b",
         "fine thats way u feel thats way gota b"
        ],
        [
         "19",
         "spam",
         "England v Macedonia - dont miss the goals/team news. Txt ur national team to 87077 eg ENGLAND to 87077 Try:WALES, SCOTLAND 4txt/ú1.20 POBOXox36504W45WQ 16+\n",
         "england v macedonia - dont miss the goals/team news. txt ur national team to 87077 eg england to 87077 try:wales, scotland 4txt/ú1.20 poboxox36504w45wq 16+\n",
         "england v macedonia  dont miss the goalsteam news txt ur national team to 87077 eg england to 87077 trywales scotland 4txtú120 poboxox36504w45wq 16\n",
         "england v macedonia dont miss goalsteam news txt ur national team 87077 eg england 87077 trywales scotland 4txtú120 poboxox36504w45wq 16",
         "england v macedonia dont miss goalsteam news txt ur national team 87077 eg england 87077 trywales scotland 4txtú120 poboxox36504w45wq 16"
        ],
        [
         "20",
         "ham",
         "Is that seriously how you spell his name?\n",
         "is that seriously how you spell his name?\n",
         "is that seriously how you spell his name\n",
         "seriously spell name",
         "seriously spell name"
        ],
        [
         "21",
         "ham",
         "I‘m going to try for 2 months ha ha only joking\n",
         "i‘m going to try for 2 months ha ha only joking\n",
         "i‘m going to try for 2 months ha ha only joking\n",
         "i‘m going try 2 months ha ha joking",
         "i‘m go try 2 month ha ha joking"
        ],
        [
         "22",
         "ham",
         "So ü pay first lar... Then when is da stock comin...\n",
         "so ü pay first lar... then when is da stock comin...\n",
         "so ü pay first lar then when is da stock comin\n",
         "ü pay first lar da stock comin",
         "ü pay first lar da stock comin"
        ],
        [
         "23",
         "ham",
         "Aft i finish my lunch then i go str down lor. Ard 3 smth lor. U finish ur lunch already?\n",
         "aft i finish my lunch then i go str down lor. ard 3 smth lor. u finish ur lunch already?\n",
         "aft i finish my lunch then i go str down lor ard 3 smth lor u finish ur lunch already\n",
         "aft finish lunch go str lor ard 3 smth lor u finish ur lunch already",
         "aft finish lunch go str lor ard 3 smth lor u finish ur lunch already"
        ],
        [
         "24",
         "ham",
         "Ffffffffff. Alright no way I can meet up with you sooner?\n",
         "ffffffffff. alright no way i can meet up with you sooner?\n",
         "ffffffffff alright no way i can meet up with you sooner\n",
         "ffffffffff alright way meet sooner",
         "ffffffffff alright way meet sooner"
        ],
        [
         "25",
         "ham",
         "Just forced myself to eat a slice. I'm really not hungry tho. This sucks. Mark is getting worried. He knows I'm sick when I turn down pizza. Lol\n",
         "just forced myself to eat a slice. i'm really not hungry tho. this sucks. mark is getting worried. he knows i'm sick when i turn down pizza. lol\n",
         "just forced myself to eat a slice im really not hungry tho this sucks mark is getting worried he knows im sick when i turn down pizza lol\n",
         "forced eat slice im really hungry tho sucks mark getting worried knows im sick turn pizza lol",
         "force eat slice im really hungry tho suck mark get worried know im sick turn pizza lol"
        ],
        [
         "26",
         "ham",
         "Lol your always so convincing.\n",
         "lol your always so convincing.\n",
         "lol your always so convincing\n",
         "lol always convincing",
         "lol always convince"
        ],
        [
         "27",
         "ham",
         "Did you catch the bus ? Are you frying an egg ? Did you make a tea? Are you eating your mom's left over dinner ? Do you feel my Love ?\n",
         "did you catch the bus ? are you frying an egg ? did you make a tea? are you eating your mom's left over dinner ? do you feel my love ?\n",
         "did you catch the bus  are you frying an egg  did you make a tea are you eating your moms left over dinner  do you feel my love \n",
         "catch bus frying egg make tea eating moms left dinner feel love",
         "catch bus fry egg make tea eating mom leave dinner feel love"
        ],
        [
         "28",
         "ham",
         "I'm back &amp; we're packing the car now, I'll let you know if there's room\n",
         "i'm back &amp; we're packing the car now, i'll let you know if there's room\n",
         "im back amp were packing the car now ill let you know if theres room\n",
         "im back amp packing car ill let know theres room",
         "im back amp pack car ill let know theres room"
        ],
        [
         "29",
         "ham",
         "Ahhh. Work. I vaguely remember that! What does it feel like? Lol\n",
         "ahhh. work. i vaguely remember that! what does it feel like? lol\n",
         "ahhh work i vaguely remember that what does it feel like lol\n",
         "ahhh work vaguely remember feel like lol",
         "ahhh work vaguely remember feel like lol"
        ],
        [
         "30",
         "ham",
         "Wait that's still not all that clear, were you not sure about me being sarcastic or that that's why x doesn't want to live with us\n",
         "wait that's still not all that clear, were you not sure about me being sarcastic or that that's why x doesn't want to live with us\n",
         "wait thats still not all that clear were you not sure about me being sarcastic or that thats why x doesnt want to live with us\n",
         "wait thats still clear sure sarcastic thats x doesnt want live us",
         "wait thats still clear sure sarcastic thats x doesnt want live u"
        ],
        [
         "31",
         "ham",
         "Yeah he got in at 2 and was v apologetic. n had fallen out and she was actin like spoilt child and he got caught up in that. Till 2! But we won't go there! Not doing too badly cheers. You? \n",
         "yeah he got in at 2 and was v apologetic. n had fallen out and she was actin like spoilt child and he got caught up in that. till 2! but we won't go there! not doing too badly cheers. you? \n",
         "yeah he got in at 2 and was v apologetic n had fallen out and she was actin like spoilt child and he got caught up in that till 2 but we wont go there not doing too badly cheers you \n",
         "yeah got 2 v apologetic n fallen actin like spoilt child got caught till 2 wont go badly cheers",
         "yeah get 2 v apologetic n fall actin like spoilt child get catch till 2 wont go badly cheer"
        ],
        [
         "32",
         "ham",
         "K tell me anything about you.\n",
         "k tell me anything about you.\n",
         "k tell me anything about you\n",
         "k tell anything",
         "k tell anything"
        ],
        [
         "33",
         "ham",
         "For fear of fainting with the of all that housework you just did? Quick have a cuppa\n",
         "for fear of fainting with the of all that housework you just did? quick have a cuppa\n",
         "for fear of fainting with the of all that housework you just did quick have a cuppa\n",
         "fear fainting housework quick cuppa",
         "fear faint housework quick cuppa"
        ],
        [
         "34",
         "spam",
         "Thanks for your subscription to Ringtone UK your mobile will be charged £5/month Please confirm by replying YES or NO. If you reply NO you will not be charged\n",
         "thanks for your subscription to ringtone uk your mobile will be charged £5/month please confirm by replying yes or no. if you reply no you will not be charged\n",
         "thanks for your subscription to ringtone uk your mobile will be charged £5month please confirm by replying yes or no if you reply no you will not be charged\n",
         "thanks subscription ringtone uk mobile charged £5month please confirm replying yes reply charged",
         "thanks subscription ringtone uk mobile charge £5month please confirm reply yes reply charge"
        ],
        [
         "35",
         "ham",
         "Yup... Ok i go home look at the timings then i msg ü again... Xuhui going to learn on 2nd may too but her lesson is at 8am\n",
         "yup... ok i go home look at the timings then i msg ü again... xuhui going to learn on 2nd may too but her lesson is at 8am\n",
         "yup ok i go home look at the timings then i msg ü again xuhui going to learn on 2nd may too but her lesson is at 8am\n",
         "yup ok go home look timings msg ü xuhui going learn 2nd may lesson 8am",
         "yup ok go home look timing msg ü xuhui go learn 2nd may lesson 8am"
        ],
        [
         "36",
         "ham",
         "Oops, I'll let you know when my roommate's done\n",
         "oops, i'll let you know when my roommate's done\n",
         "oops ill let you know when my roommates done\n",
         "oops ill let know roommates done",
         "oops ill let know roommates do"
        ],
        [
         "37",
         "ham",
         "I see the letter B on my car\n",
         "i see the letter b on my car\n",
         "i see the letter b on my car\n",
         "see letter b car",
         "see letter b car"
        ],
        [
         "38",
         "ham",
         "Anything lor... U decide...\n",
         "anything lor... u decide...\n",
         "anything lor u decide\n",
         "anything lor u decide",
         "anything lor u decide"
        ],
        [
         "39",
         "ham",
         "Hello! How's you and how did saturday go? I was just texting to see if you'd decided to do anything tomo. Not that i'm trying to invite myself or anything!\n",
         "hello! how's you and how did saturday go? i was just texting to see if you'd decided to do anything tomo. not that i'm trying to invite myself or anything!\n",
         "hello hows you and how did saturday go i was just texting to see if youd decided to do anything tomo not that im trying to invite myself or anything\n",
         "hello hows saturday go texting see youd decided anything tomo im trying invite anything",
         "hello hows saturday go texting see youd decide anything tomo im try invite anything"
        ],
        [
         "40",
         "ham",
         "Pls go ahead with watts. I just wanted to be sure. Do have a great weekend. Abiola\n",
         "pls go ahead with watts. i just wanted to be sure. do have a great weekend. abiola\n",
         "pls go ahead with watts i just wanted to be sure do have a great weekend abiola\n",
         "pls go ahead watts wanted sure great weekend abiola",
         "pls go ahead watts wanted sure great weekend abiola"
        ],
        [
         "41",
         "ham",
         "Did I forget to tell you ? I want you , I need you, I crave you ... But most of all ... I love you my sweet Arabian steed ... Mmmmmm ... Yummy\n",
         "did i forget to tell you ? i want you , i need you, i crave you ... but most of all ... i love you my sweet arabian steed ... mmmmmm ... yummy\n",
         "did i forget to tell you  i want you  i need you i crave you  but most of all  i love you my sweet arabian steed  mmmmmm  yummy\n",
         "forget tell want need crave love sweet arabian steed mmmmmm yummy",
         "forget tell want need crave love sweet arabian steed mmmmmm yummy"
        ],
        [
         "42",
         "spam",
         "07732584351 - Rodger Burns - MSG = We tried to call you re your reply to our sms for a free nokia mobile + free camcorder. Please call now 08000930705 for delivery tomorrow\n",
         "07732584351 - rodger burns - msg = we tried to call you re your reply to our sms for a free nokia mobile + free camcorder. please call now 08000930705 for delivery tomorrow\n",
         "07732584351  rodger burns  msg  we tried to call you re your reply to our sms for a free nokia mobile  free camcorder please call now 08000930705 for delivery tomorrow\n",
         "07732584351 rodger burns msg tried call reply sms free nokia mobile free camcorder please call 08000930705 delivery tomorrow",
         "07732584351 rodger burn msg try call reply sms free nokia mobile free camcorder please call 08000930705 delivery tomorrow"
        ],
        [
         "43",
         "ham",
         "WHO ARE YOU SEEING?\n",
         "who are you seeing?\n",
         "who are you seeing\n",
         "seeing",
         "see"
        ],
        [
         "44",
         "ham",
         "Great! I hope you like your man well endowed. I am  &lt;#&gt;  inches...\n",
         "great! i hope you like your man well endowed. i am  &lt;#&gt;  inches...\n",
         "great i hope you like your man well endowed i am  ltgt  inches\n",
         "great hope like man well endowed ltgt inches",
         "great hope like man well endow ltgt inch"
        ],
        [
         "45",
         "ham",
         "No calls..messages..missed calls\n",
         "no calls..messages..missed calls\n",
         "no callsmessagesmissed calls\n",
         "callsmessagesmissed calls",
         "callsmessagesmissed call"
        ],
        [
         "46",
         "ham",
         "Didn't you get hep b immunisation in nigeria.\n",
         "didn't you get hep b immunisation in nigeria.\n",
         "didnt you get hep b immunisation in nigeria\n",
         "didnt get hep b immunisation nigeria",
         "didnt get hep b immunisation nigeria"
        ],
        [
         "47",
         "ham",
         "Fair enough, anything going on?\n",
         "fair enough, anything going on?\n",
         "fair enough anything going on\n",
         "fair enough anything going",
         "fair enough anything go"
        ],
        [
         "48",
         "ham",
         "Yeah hopefully, if tyler can't do it I could maybe ask around a bit\n",
         "yeah hopefully, if tyler can't do it i could maybe ask around a bit\n",
         "yeah hopefully if tyler cant do it i could maybe ask around a bit\n",
         "yeah hopefully tyler cant could maybe ask around bit",
         "yeah hopefully tyler cant could maybe ask around bit"
        ],
        [
         "49",
         "ham",
         "U don't know how stubborn I am. I didn't even want to go to the hospital. I kept telling Mark I'm not a weak sucker. Hospitals are for weak suckers.\n",
         "u don't know how stubborn i am. i didn't even want to go to the hospital. i kept telling mark i'm not a weak sucker. hospitals are for weak suckers.\n",
         "u dont know how stubborn i am i didnt even want to go to the hospital i kept telling mark im not a weak sucker hospitals are for weak suckers\n",
         "u dont know stubborn didnt even want go hospital kept telling mark im weak sucker hospitals weak suckers",
         "u dont know stubborn didnt even want go hospital kept tell mark im weak sucker hospital weak sucker"
        ]
       ],
       "shape": {
        "columns": 6,
        "rows": 5574
       }
      },
      "text/html": [
       "<div>\n",
       "<style scoped>\n",
       "    .dataframe tbody tr th:only-of-type {\n",
       "        vertical-align: middle;\n",
       "    }\n",
       "\n",
       "    .dataframe tbody tr th {\n",
       "        vertical-align: top;\n",
       "    }\n",
       "\n",
       "    .dataframe thead th {\n",
       "        text-align: right;\n",
       "    }\n",
       "</style>\n",
       "<table border=\"1\" class=\"dataframe\">\n",
       "  <thead>\n",
       "    <tr style=\"text-align: right;\">\n",
       "      <th></th>\n",
       "      <th>Category</th>\n",
       "      <th>Message</th>\n",
       "      <th>lower_message</th>\n",
       "      <th>message_wo_punct</th>\n",
       "      <th>message_no_stopwords</th>\n",
       "      <th>message_lemmatized</th>\n",
       "    </tr>\n",
       "  </thead>\n",
       "  <tbody>\n",
       "    <tr>\n",
       "      <th>0</th>\n",
       "      <td>ham</td>\n",
       "      <td>Go until jurong point, crazy.. Available only ...</td>\n",
       "      <td>go until jurong point, crazy.. available only ...</td>\n",
       "      <td>go until jurong point crazy available only in ...</td>\n",
       "      <td>go jurong point crazy available bugis n great ...</td>\n",
       "      <td>go jurong point crazy available bugis n great ...</td>\n",
       "    </tr>\n",
       "    <tr>\n",
       "      <th>1</th>\n",
       "      <td>ham</td>\n",
       "      <td>Ok lar... Joking wif u oni...\\n</td>\n",
       "      <td>ok lar... joking wif u oni...\\n</td>\n",
       "      <td>ok lar joking wif u oni\\n</td>\n",
       "      <td>ok lar joking wif u oni</td>\n",
       "      <td>ok lar joking wif u oni</td>\n",
       "    </tr>\n",
       "    <tr>\n",
       "      <th>2</th>\n",
       "      <td>spam</td>\n",
       "      <td>Free entry in 2 a wkly comp to win FA Cup fina...</td>\n",
       "      <td>free entry in 2 a wkly comp to win fa cup fina...</td>\n",
       "      <td>free entry in 2 a wkly comp to win fa cup fina...</td>\n",
       "      <td>free entry 2 wkly comp win fa cup final tkts 2...</td>\n",
       "      <td>free entry 2 wkly comp win fa cup final tkts 2...</td>\n",
       "    </tr>\n",
       "    <tr>\n",
       "      <th>3</th>\n",
       "      <td>ham</td>\n",
       "      <td>U dun say so early hor... U c already then say...</td>\n",
       "      <td>u dun say so early hor... u c already then say...</td>\n",
       "      <td>u dun say so early hor u c already then say\\n</td>\n",
       "      <td>u dun say early hor u c already say</td>\n",
       "      <td>u dun say early hor u c already say</td>\n",
       "    </tr>\n",
       "    <tr>\n",
       "      <th>4</th>\n",
       "      <td>ham</td>\n",
       "      <td>Nah I don't think he goes to usf, he lives aro...</td>\n",
       "      <td>nah i don't think he goes to usf, he lives aro...</td>\n",
       "      <td>nah i dont think he goes to usf he lives aroun...</td>\n",
       "      <td>nah dont think goes usf lives around though</td>\n",
       "      <td>nah dont think go usf life around though</td>\n",
       "    </tr>\n",
       "    <tr>\n",
       "      <th>...</th>\n",
       "      <td>...</td>\n",
       "      <td>...</td>\n",
       "      <td>...</td>\n",
       "      <td>...</td>\n",
       "      <td>...</td>\n",
       "      <td>...</td>\n",
       "    </tr>\n",
       "    <tr>\n",
       "      <th>5569</th>\n",
       "      <td>spam</td>\n",
       "      <td>This is the 2nd time we have tried 2 contact u...</td>\n",
       "      <td>this is the 2nd time we have tried 2 contact u...</td>\n",
       "      <td>this is the 2nd time we have tried 2 contact u...</td>\n",
       "      <td>2nd time tried 2 contact u u £750 pound prize ...</td>\n",
       "      <td>2nd time try 2 contact u u £750 pound prize 2 ...</td>\n",
       "    </tr>\n",
       "    <tr>\n",
       "      <th>5570</th>\n",
       "      <td>ham</td>\n",
       "      <td>Will ü b going to esplanade fr home?\\n</td>\n",
       "      <td>will ü b going to esplanade fr home?\\n</td>\n",
       "      <td>will ü b going to esplanade fr home\\n</td>\n",
       "      <td>ü b going esplanade fr home</td>\n",
       "      <td>ü b go esplanade fr home</td>\n",
       "    </tr>\n",
       "    <tr>\n",
       "      <th>5571</th>\n",
       "      <td>ham</td>\n",
       "      <td>Pity, * was in mood for that. So...any other s...</td>\n",
       "      <td>pity, * was in mood for that. so...any other s...</td>\n",
       "      <td>pity  was in mood for that soany other suggest...</td>\n",
       "      <td>pity mood soany suggestions</td>\n",
       "      <td>pity mood soany suggestion</td>\n",
       "    </tr>\n",
       "    <tr>\n",
       "      <th>5572</th>\n",
       "      <td>ham</td>\n",
       "      <td>The guy did some bitching but I acted like i'd...</td>\n",
       "      <td>the guy did some bitching but i acted like i'd...</td>\n",
       "      <td>the guy did some bitching but i acted like id ...</td>\n",
       "      <td>guy bitching acted like id interested buying s...</td>\n",
       "      <td>guy bitch act like id interested buying someth...</td>\n",
       "    </tr>\n",
       "    <tr>\n",
       "      <th>5573</th>\n",
       "      <td>ham</td>\n",
       "      <td>Rofl. Its true to its name\\n</td>\n",
       "      <td>rofl. its true to its name\\n</td>\n",
       "      <td>rofl its true to its name\\n</td>\n",
       "      <td>rofl true name</td>\n",
       "      <td>rofl true name</td>\n",
       "    </tr>\n",
       "  </tbody>\n",
       "</table>\n",
       "<p>5574 rows × 6 columns</p>\n",
       "</div>"
      ],
      "text/plain": [
       "     Category                                            Message  \\\n",
       "0         ham  Go until jurong point, crazy.. Available only ...   \n",
       "1         ham                    Ok lar... Joking wif u oni...\\n   \n",
       "2        spam  Free entry in 2 a wkly comp to win FA Cup fina...   \n",
       "3         ham  U dun say so early hor... U c already then say...   \n",
       "4         ham  Nah I don't think he goes to usf, he lives aro...   \n",
       "...       ...                                                ...   \n",
       "5569     spam  This is the 2nd time we have tried 2 contact u...   \n",
       "5570      ham             Will ü b going to esplanade fr home?\\n   \n",
       "5571      ham  Pity, * was in mood for that. So...any other s...   \n",
       "5572      ham  The guy did some bitching but I acted like i'd...   \n",
       "5573      ham                       Rofl. Its true to its name\\n   \n",
       "\n",
       "                                          lower_message  \\\n",
       "0     go until jurong point, crazy.. available only ...   \n",
       "1                       ok lar... joking wif u oni...\\n   \n",
       "2     free entry in 2 a wkly comp to win fa cup fina...   \n",
       "3     u dun say so early hor... u c already then say...   \n",
       "4     nah i don't think he goes to usf, he lives aro...   \n",
       "...                                                 ...   \n",
       "5569  this is the 2nd time we have tried 2 contact u...   \n",
       "5570             will ü b going to esplanade fr home?\\n   \n",
       "5571  pity, * was in mood for that. so...any other s...   \n",
       "5572  the guy did some bitching but i acted like i'd...   \n",
       "5573                       rofl. its true to its name\\n   \n",
       "\n",
       "                                       message_wo_punct  \\\n",
       "0     go until jurong point crazy available only in ...   \n",
       "1                             ok lar joking wif u oni\\n   \n",
       "2     free entry in 2 a wkly comp to win fa cup fina...   \n",
       "3         u dun say so early hor u c already then say\\n   \n",
       "4     nah i dont think he goes to usf he lives aroun...   \n",
       "...                                                 ...   \n",
       "5569  this is the 2nd time we have tried 2 contact u...   \n",
       "5570              will ü b going to esplanade fr home\\n   \n",
       "5571  pity  was in mood for that soany other suggest...   \n",
       "5572  the guy did some bitching but i acted like id ...   \n",
       "5573                        rofl its true to its name\\n   \n",
       "\n",
       "                                   message_no_stopwords  \\\n",
       "0     go jurong point crazy available bugis n great ...   \n",
       "1                               ok lar joking wif u oni   \n",
       "2     free entry 2 wkly comp win fa cup final tkts 2...   \n",
       "3                   u dun say early hor u c already say   \n",
       "4           nah dont think goes usf lives around though   \n",
       "...                                                 ...   \n",
       "5569  2nd time tried 2 contact u u £750 pound prize ...   \n",
       "5570                        ü b going esplanade fr home   \n",
       "5571                        pity mood soany suggestions   \n",
       "5572  guy bitching acted like id interested buying s...   \n",
       "5573                                     rofl true name   \n",
       "\n",
       "                                     message_lemmatized  \n",
       "0     go jurong point crazy available bugis n great ...  \n",
       "1                               ok lar joking wif u oni  \n",
       "2     free entry 2 wkly comp win fa cup final tkts 2...  \n",
       "3                   u dun say early hor u c already say  \n",
       "4              nah dont think go usf life around though  \n",
       "...                                                 ...  \n",
       "5569  2nd time try 2 contact u u £750 pound prize 2 ...  \n",
       "5570                           ü b go esplanade fr home  \n",
       "5571                         pity mood soany suggestion  \n",
       "5572  guy bitch act like id interested buying someth...  \n",
       "5573                                     rofl true name  \n",
       "\n",
       "[5574 rows x 6 columns]"
      ]
     },
     "execution_count": 100,
     "metadata": {},
     "output_type": "execute_result"
    }
   ],
   "source": [
    "from nltk.corpus import wordnet\n",
    "from nltk.stem import WordNetLemmatizer\n",
    "\n",
    "lemmatizer = WordNetLemmatizer()\n",
    "wordnet_map = {\"N\":wordnet.NOUN, \"V\":wordnet.VERB, \"J\":wordnet.ADJ, \"R\":wordnet.ADV}\n",
    "def lemmatize_words(text):\n",
    "    pos_tagged_text = nltk.pos_tag(text.split(), lang='eng')\n",
    "    return \" \".join([lemmatizer.lemmatize(word, wordnet_map.get(pos[0], wordnet.NOUN)) for word, pos in pos_tagged_text])\n",
    "\n",
    "df_cleaning['message_lemmatized'] = df_cleaning['message_no_stopwords'].apply(lambda text: lemmatize_words(text))\n",
    "df_cleaning"
   ]
  },
  {
   "cell_type": "code",
   "execution_count": 101,
   "metadata": {},
   "outputs": [
    {
     "name": "stderr",
     "output_type": "stream",
     "text": [
      "/var/folders/4s/pf1zdv_x4_qcflpq4m943q0m0000gn/T/ipykernel_91514/2587618853.py:1: FutureWarning: Downcasting behavior in `replace` is deprecated and will be removed in a future version. To retain the old behavior, explicitly call `result.infer_objects(copy=False)`. To opt-in to the future behavior, set `pd.set_option('future.no_silent_downcasting', True)`\n",
      "  df_cleaning['Category'] = df_cleaning['Category'].replace(['ham', 'spam'], [0, 1])\n"
     ]
    },
    {
     "data": {
      "application/vnd.microsoft.datawrangler.viewer.v0+json": {
       "columns": [
        {
         "name": "index",
         "rawType": "int64",
         "type": "integer"
        },
        {
         "name": "Category",
         "rawType": "int64",
         "type": "integer"
        },
        {
         "name": "Message",
         "rawType": "object",
         "type": "string"
        },
        {
         "name": "lower_message",
         "rawType": "object",
         "type": "string"
        },
        {
         "name": "message_wo_punct",
         "rawType": "object",
         "type": "string"
        },
        {
         "name": "message_no_stopwords",
         "rawType": "object",
         "type": "string"
        },
        {
         "name": "message_lemmatized",
         "rawType": "object",
         "type": "string"
        }
       ],
       "conversionMethod": "pd.DataFrame",
       "ref": "0ee3a8be-525d-4b5f-97cd-e94fad41978a",
       "rows": [
        [
         "0",
         "0",
         "Go until jurong point, crazy.. Available only in bugis n great world la e buffet... Cine there got amore wat...\n",
         "go until jurong point, crazy.. available only in bugis n great world la e buffet... cine there got amore wat...\n",
         "go until jurong point crazy available only in bugis n great world la e buffet cine there got amore wat\n",
         "go jurong point crazy available bugis n great world la e buffet cine got amore wat",
         "go jurong point crazy available bugis n great world la e buffet cine get amore wat"
        ],
        [
         "1",
         "0",
         "Ok lar... Joking wif u oni...\n",
         "ok lar... joking wif u oni...\n",
         "ok lar joking wif u oni\n",
         "ok lar joking wif u oni",
         "ok lar joking wif u oni"
        ],
        [
         "2",
         "1",
         "Free entry in 2 a wkly comp to win FA Cup final tkts 21st May 2005. Text FA to 87121 to receive entry question(std txt rate)T&C's apply 08452810075over18's\n",
         "free entry in 2 a wkly comp to win fa cup final tkts 21st may 2005. text fa to 87121 to receive entry question(std txt rate)t&c's apply 08452810075over18's\n",
         "free entry in 2 a wkly comp to win fa cup final tkts 21st may 2005 text fa to 87121 to receive entry questionstd txt ratetcs apply 08452810075over18s\n",
         "free entry 2 wkly comp win fa cup final tkts 21st may 2005 text fa 87121 receive entry questionstd txt ratetcs apply 08452810075over18s",
         "free entry 2 wkly comp win fa cup final tkts 21st may 2005 text fa 87121 receive entry questionstd txt ratetcs apply 08452810075over18s"
        ],
        [
         "3",
         "0",
         "U dun say so early hor... U c already then say...\n",
         "u dun say so early hor... u c already then say...\n",
         "u dun say so early hor u c already then say\n",
         "u dun say early hor u c already say",
         "u dun say early hor u c already say"
        ],
        [
         "4",
         "0",
         "Nah I don't think he goes to usf, he lives around here though\n",
         "nah i don't think he goes to usf, he lives around here though\n",
         "nah i dont think he goes to usf he lives around here though\n",
         "nah dont think goes usf lives around though",
         "nah dont think go usf life around though"
        ],
        [
         "5",
         "1",
         "FreeMsg Hey there darling it's been 3 week's now and no word back! I'd like some fun you up for it still? Tb ok! XxX std chgs to send, £1.50 to rcv\n",
         "freemsg hey there darling it's been 3 week's now and no word back! i'd like some fun you up for it still? tb ok! xxx std chgs to send, £1.50 to rcv\n",
         "freemsg hey there darling its been 3 weeks now and no word back id like some fun you up for it still tb ok xxx std chgs to send £150 to rcv\n",
         "freemsg hey darling 3 weeks word back id like fun still tb ok xxx std chgs send £150 rcv",
         "freemsg hey darling 3 week word back id like fun still tb ok xxx std chgs send £150 rcv"
        ],
        [
         "6",
         "0",
         "Even my brother is not like to speak with me. They treat me like aids patent.\n",
         "even my brother is not like to speak with me. they treat me like aids patent.\n",
         "even my brother is not like to speak with me they treat me like aids patent\n",
         "even brother like speak treat like aids patent",
         "even brother like speak treat like aid patent"
        ],
        [
         "7",
         "0",
         "As per your request 'Melle Melle (Oru Minnaminunginte Nurungu Vettam)' has been set as your callertune for all Callers. Press *9 to copy your friends Callertune\n",
         "as per your request 'melle melle (oru minnaminunginte nurungu vettam)' has been set as your callertune for all callers. press *9 to copy your friends callertune\n",
         "as per your request melle melle oru minnaminunginte nurungu vettam has been set as your callertune for all callers press 9 to copy your friends callertune\n",
         "per request melle melle oru minnaminunginte nurungu vettam set callertune callers press 9 copy friends callertune",
         "per request melle melle oru minnaminunginte nurungu vettam set callertune caller press 9 copy friend callertune"
        ],
        [
         "8",
         "1",
         "WINNER!! As a valued network customer you have been selected to receivea £900 prize reward! To claim call 09061701461. Claim code KL341. Valid 12 hours only.\n",
         "winner!! as a valued network customer you have been selected to receivea £900 prize reward! to claim call 09061701461. claim code kl341. valid 12 hours only.\n",
         "winner as a valued network customer you have been selected to receivea £900 prize reward to claim call 09061701461 claim code kl341 valid 12 hours only\n",
         "winner valued network customer selected receivea £900 prize reward claim call 09061701461 claim code kl341 valid 12 hours",
         "winner value network customer select receivea £900 prize reward claim call 09061701461 claim code kl341 valid 12 hour"
        ],
        [
         "9",
         "1",
         "Had your mobile 11 months or more? U R entitled to Update to the latest colour mobiles with camera for Free! Call The Mobile Update Co FREE on 08002986030\n",
         "had your mobile 11 months or more? u r entitled to update to the latest colour mobiles with camera for free! call the mobile update co free on 08002986030\n",
         "had your mobile 11 months or more u r entitled to update to the latest colour mobiles with camera for free call the mobile update co free on 08002986030\n",
         "mobile 11 months u r entitled update latest colour mobiles camera free call mobile update co free 08002986030",
         "mobile 11 month u r entitle update late colour mobile camera free call mobile update co free 08002986030"
        ],
        [
         "10",
         "0",
         "I'm gonna be home soon and i don't want to talk about this stuff anymore tonight, k? I've cried enough today.\n",
         "i'm gonna be home soon and i don't want to talk about this stuff anymore tonight, k? i've cried enough today.\n",
         "im gonna be home soon and i dont want to talk about this stuff anymore tonight k ive cried enough today\n",
         "im gonna home soon dont want talk stuff anymore tonight k ive cried enough today",
         "im gonna home soon dont want talk stuff anymore tonight k ive cry enough today"
        ],
        [
         "11",
         "1",
         "SIX chances to win CASH! From 100 to 20,000 pounds txt> CSH11 and send to 87575. Cost 150p/day, 6days, 16+ TsandCs apply Reply HL 4 info\n",
         "six chances to win cash! from 100 to 20,000 pounds txt> csh11 and send to 87575. cost 150p/day, 6days, 16+ tsandcs apply reply hl 4 info\n",
         "six chances to win cash from 100 to 20000 pounds txt csh11 and send to 87575 cost 150pday 6days 16 tsandcs apply reply hl 4 info\n",
         "six chances win cash 100 20000 pounds txt csh11 send 87575 cost 150pday 6days 16 tsandcs apply reply hl 4 info",
         "six chance win cash 100 20000 pound txt csh11 send 87575 cost 150pday 6days 16 tsandcs apply reply hl 4 info"
        ],
        [
         "12",
         "1",
         "URGENT! You have won a 1 week FREE membership in our £100,000 Prize Jackpot! Txt the word: CLAIM to No: 81010 T&C www.dbuk.net LCCLTD POBOX 4403LDNW1A7RW18\n",
         "urgent! you have won a 1 week free membership in our £100,000 prize jackpot! txt the word: claim to no: 81010 t&c www.dbuk.net lccltd pobox 4403ldnw1a7rw18\n",
         "urgent you have won a 1 week free membership in our £100000 prize jackpot txt the word claim to no 81010 tc wwwdbuknet lccltd pobox 4403ldnw1a7rw18\n",
         "urgent 1 week free membership £100000 prize jackpot txt word claim 81010 tc wwwdbuknet lccltd pobox 4403ldnw1a7rw18",
         "urgent 1 week free membership £100000 prize jackpot txt word claim 81010 tc wwwdbuknet lccltd pobox 4403ldnw1a7rw18"
        ],
        [
         "13",
         "0",
         "I've been searching for the right words to thank you for this breather. I promise i wont take your help for granted and will fulfil my promise. You have been wonderful and a blessing at all times.\n",
         "i've been searching for the right words to thank you for this breather. i promise i wont take your help for granted and will fulfil my promise. you have been wonderful and a blessing at all times.\n",
         "ive been searching for the right words to thank you for this breather i promise i wont take your help for granted and will fulfil my promise you have been wonderful and a blessing at all times\n",
         "ive searching right words thank breather promise wont take help granted fulfil promise wonderful blessing times",
         "ive search right word thank breather promise wont take help grant fulfil promise wonderful blessing time"
        ],
        [
         "14",
         "0",
         "I HAVE A DATE ON SUNDAY WITH WILL!!\n",
         "i have a date on sunday with will!!\n",
         "i have a date on sunday with will\n",
         "date sunday",
         "date sunday"
        ],
        [
         "15",
         "1",
         "XXXMobileMovieClub: To use your credit, click the WAP link in the next txt message or click here>> http://wap. xxxmobilemovieclub.com?n=QJKGIGHJJGCBL\n",
         "xxxmobilemovieclub: to use your credit, click the wap link in the next txt message or click here>> http://wap. xxxmobilemovieclub.com?n=qjkgighjjgcbl\n",
         "xxxmobilemovieclub to use your credit click the wap link in the next txt message or click here httpwap xxxmobilemovieclubcomnqjkgighjjgcbl\n",
         "xxxmobilemovieclub use credit click wap link next txt message click httpwap xxxmobilemovieclubcomnqjkgighjjgcbl",
         "xxxmobilemovieclub use credit click wap link next txt message click httpwap xxxmobilemovieclubcomnqjkgighjjgcbl"
        ],
        [
         "16",
         "0",
         "Oh k...i'm watching here:)\n",
         "oh k...i'm watching here:)\n",
         "oh kim watching here\n",
         "oh kim watching",
         "oh kim watch"
        ],
        [
         "17",
         "0",
         "Eh u remember how 2 spell his name... Yes i did. He v naughty make until i v wet.\n",
         "eh u remember how 2 spell his name... yes i did. he v naughty make until i v wet.\n",
         "eh u remember how 2 spell his name yes i did he v naughty make until i v wet\n",
         "eh u remember 2 spell name yes v naughty make v wet",
         "eh u remember 2 spell name yes v naughty make v wet"
        ],
        [
         "18",
         "0",
         "Fine if thats the way u feel. Thats the way its gota b\n",
         "fine if thats the way u feel. thats the way its gota b\n",
         "fine if thats the way u feel thats the way its gota b\n",
         "fine thats way u feel thats way gota b",
         "fine thats way u feel thats way gota b"
        ],
        [
         "19",
         "1",
         "England v Macedonia - dont miss the goals/team news. Txt ur national team to 87077 eg ENGLAND to 87077 Try:WALES, SCOTLAND 4txt/ú1.20 POBOXox36504W45WQ 16+\n",
         "england v macedonia - dont miss the goals/team news. txt ur national team to 87077 eg england to 87077 try:wales, scotland 4txt/ú1.20 poboxox36504w45wq 16+\n",
         "england v macedonia  dont miss the goalsteam news txt ur national team to 87077 eg england to 87077 trywales scotland 4txtú120 poboxox36504w45wq 16\n",
         "england v macedonia dont miss goalsteam news txt ur national team 87077 eg england 87077 trywales scotland 4txtú120 poboxox36504w45wq 16",
         "england v macedonia dont miss goalsteam news txt ur national team 87077 eg england 87077 trywales scotland 4txtú120 poboxox36504w45wq 16"
        ],
        [
         "20",
         "0",
         "Is that seriously how you spell his name?\n",
         "is that seriously how you spell his name?\n",
         "is that seriously how you spell his name\n",
         "seriously spell name",
         "seriously spell name"
        ],
        [
         "21",
         "0",
         "I‘m going to try for 2 months ha ha only joking\n",
         "i‘m going to try for 2 months ha ha only joking\n",
         "i‘m going to try for 2 months ha ha only joking\n",
         "i‘m going try 2 months ha ha joking",
         "i‘m go try 2 month ha ha joking"
        ],
        [
         "22",
         "0",
         "So ü pay first lar... Then when is da stock comin...\n",
         "so ü pay first lar... then when is da stock comin...\n",
         "so ü pay first lar then when is da stock comin\n",
         "ü pay first lar da stock comin",
         "ü pay first lar da stock comin"
        ],
        [
         "23",
         "0",
         "Aft i finish my lunch then i go str down lor. Ard 3 smth lor. U finish ur lunch already?\n",
         "aft i finish my lunch then i go str down lor. ard 3 smth lor. u finish ur lunch already?\n",
         "aft i finish my lunch then i go str down lor ard 3 smth lor u finish ur lunch already\n",
         "aft finish lunch go str lor ard 3 smth lor u finish ur lunch already",
         "aft finish lunch go str lor ard 3 smth lor u finish ur lunch already"
        ],
        [
         "24",
         "0",
         "Ffffffffff. Alright no way I can meet up with you sooner?\n",
         "ffffffffff. alright no way i can meet up with you sooner?\n",
         "ffffffffff alright no way i can meet up with you sooner\n",
         "ffffffffff alright way meet sooner",
         "ffffffffff alright way meet sooner"
        ],
        [
         "25",
         "0",
         "Just forced myself to eat a slice. I'm really not hungry tho. This sucks. Mark is getting worried. He knows I'm sick when I turn down pizza. Lol\n",
         "just forced myself to eat a slice. i'm really not hungry tho. this sucks. mark is getting worried. he knows i'm sick when i turn down pizza. lol\n",
         "just forced myself to eat a slice im really not hungry tho this sucks mark is getting worried he knows im sick when i turn down pizza lol\n",
         "forced eat slice im really hungry tho sucks mark getting worried knows im sick turn pizza lol",
         "force eat slice im really hungry tho suck mark get worried know im sick turn pizza lol"
        ],
        [
         "26",
         "0",
         "Lol your always so convincing.\n",
         "lol your always so convincing.\n",
         "lol your always so convincing\n",
         "lol always convincing",
         "lol always convince"
        ],
        [
         "27",
         "0",
         "Did you catch the bus ? Are you frying an egg ? Did you make a tea? Are you eating your mom's left over dinner ? Do you feel my Love ?\n",
         "did you catch the bus ? are you frying an egg ? did you make a tea? are you eating your mom's left over dinner ? do you feel my love ?\n",
         "did you catch the bus  are you frying an egg  did you make a tea are you eating your moms left over dinner  do you feel my love \n",
         "catch bus frying egg make tea eating moms left dinner feel love",
         "catch bus fry egg make tea eating mom leave dinner feel love"
        ],
        [
         "28",
         "0",
         "I'm back &amp; we're packing the car now, I'll let you know if there's room\n",
         "i'm back &amp; we're packing the car now, i'll let you know if there's room\n",
         "im back amp were packing the car now ill let you know if theres room\n",
         "im back amp packing car ill let know theres room",
         "im back amp pack car ill let know theres room"
        ],
        [
         "29",
         "0",
         "Ahhh. Work. I vaguely remember that! What does it feel like? Lol\n",
         "ahhh. work. i vaguely remember that! what does it feel like? lol\n",
         "ahhh work i vaguely remember that what does it feel like lol\n",
         "ahhh work vaguely remember feel like lol",
         "ahhh work vaguely remember feel like lol"
        ],
        [
         "30",
         "0",
         "Wait that's still not all that clear, were you not sure about me being sarcastic or that that's why x doesn't want to live with us\n",
         "wait that's still not all that clear, were you not sure about me being sarcastic or that that's why x doesn't want to live with us\n",
         "wait thats still not all that clear were you not sure about me being sarcastic or that thats why x doesnt want to live with us\n",
         "wait thats still clear sure sarcastic thats x doesnt want live us",
         "wait thats still clear sure sarcastic thats x doesnt want live u"
        ],
        [
         "31",
         "0",
         "Yeah he got in at 2 and was v apologetic. n had fallen out and she was actin like spoilt child and he got caught up in that. Till 2! But we won't go there! Not doing too badly cheers. You? \n",
         "yeah he got in at 2 and was v apologetic. n had fallen out and she was actin like spoilt child and he got caught up in that. till 2! but we won't go there! not doing too badly cheers. you? \n",
         "yeah he got in at 2 and was v apologetic n had fallen out and she was actin like spoilt child and he got caught up in that till 2 but we wont go there not doing too badly cheers you \n",
         "yeah got 2 v apologetic n fallen actin like spoilt child got caught till 2 wont go badly cheers",
         "yeah get 2 v apologetic n fall actin like spoilt child get catch till 2 wont go badly cheer"
        ],
        [
         "32",
         "0",
         "K tell me anything about you.\n",
         "k tell me anything about you.\n",
         "k tell me anything about you\n",
         "k tell anything",
         "k tell anything"
        ],
        [
         "33",
         "0",
         "For fear of fainting with the of all that housework you just did? Quick have a cuppa\n",
         "for fear of fainting with the of all that housework you just did? quick have a cuppa\n",
         "for fear of fainting with the of all that housework you just did quick have a cuppa\n",
         "fear fainting housework quick cuppa",
         "fear faint housework quick cuppa"
        ],
        [
         "34",
         "1",
         "Thanks for your subscription to Ringtone UK your mobile will be charged £5/month Please confirm by replying YES or NO. If you reply NO you will not be charged\n",
         "thanks for your subscription to ringtone uk your mobile will be charged £5/month please confirm by replying yes or no. if you reply no you will not be charged\n",
         "thanks for your subscription to ringtone uk your mobile will be charged £5month please confirm by replying yes or no if you reply no you will not be charged\n",
         "thanks subscription ringtone uk mobile charged £5month please confirm replying yes reply charged",
         "thanks subscription ringtone uk mobile charge £5month please confirm reply yes reply charge"
        ],
        [
         "35",
         "0",
         "Yup... Ok i go home look at the timings then i msg ü again... Xuhui going to learn on 2nd may too but her lesson is at 8am\n",
         "yup... ok i go home look at the timings then i msg ü again... xuhui going to learn on 2nd may too but her lesson is at 8am\n",
         "yup ok i go home look at the timings then i msg ü again xuhui going to learn on 2nd may too but her lesson is at 8am\n",
         "yup ok go home look timings msg ü xuhui going learn 2nd may lesson 8am",
         "yup ok go home look timing msg ü xuhui go learn 2nd may lesson 8am"
        ],
        [
         "36",
         "0",
         "Oops, I'll let you know when my roommate's done\n",
         "oops, i'll let you know when my roommate's done\n",
         "oops ill let you know when my roommates done\n",
         "oops ill let know roommates done",
         "oops ill let know roommates do"
        ],
        [
         "37",
         "0",
         "I see the letter B on my car\n",
         "i see the letter b on my car\n",
         "i see the letter b on my car\n",
         "see letter b car",
         "see letter b car"
        ],
        [
         "38",
         "0",
         "Anything lor... U decide...\n",
         "anything lor... u decide...\n",
         "anything lor u decide\n",
         "anything lor u decide",
         "anything lor u decide"
        ],
        [
         "39",
         "0",
         "Hello! How's you and how did saturday go? I was just texting to see if you'd decided to do anything tomo. Not that i'm trying to invite myself or anything!\n",
         "hello! how's you and how did saturday go? i was just texting to see if you'd decided to do anything tomo. not that i'm trying to invite myself or anything!\n",
         "hello hows you and how did saturday go i was just texting to see if youd decided to do anything tomo not that im trying to invite myself or anything\n",
         "hello hows saturday go texting see youd decided anything tomo im trying invite anything",
         "hello hows saturday go texting see youd decide anything tomo im try invite anything"
        ],
        [
         "40",
         "0",
         "Pls go ahead with watts. I just wanted to be sure. Do have a great weekend. Abiola\n",
         "pls go ahead with watts. i just wanted to be sure. do have a great weekend. abiola\n",
         "pls go ahead with watts i just wanted to be sure do have a great weekend abiola\n",
         "pls go ahead watts wanted sure great weekend abiola",
         "pls go ahead watts wanted sure great weekend abiola"
        ],
        [
         "41",
         "0",
         "Did I forget to tell you ? I want you , I need you, I crave you ... But most of all ... I love you my sweet Arabian steed ... Mmmmmm ... Yummy\n",
         "did i forget to tell you ? i want you , i need you, i crave you ... but most of all ... i love you my sweet arabian steed ... mmmmmm ... yummy\n",
         "did i forget to tell you  i want you  i need you i crave you  but most of all  i love you my sweet arabian steed  mmmmmm  yummy\n",
         "forget tell want need crave love sweet arabian steed mmmmmm yummy",
         "forget tell want need crave love sweet arabian steed mmmmmm yummy"
        ],
        [
         "42",
         "1",
         "07732584351 - Rodger Burns - MSG = We tried to call you re your reply to our sms for a free nokia mobile + free camcorder. Please call now 08000930705 for delivery tomorrow\n",
         "07732584351 - rodger burns - msg = we tried to call you re your reply to our sms for a free nokia mobile + free camcorder. please call now 08000930705 for delivery tomorrow\n",
         "07732584351  rodger burns  msg  we tried to call you re your reply to our sms for a free nokia mobile  free camcorder please call now 08000930705 for delivery tomorrow\n",
         "07732584351 rodger burns msg tried call reply sms free nokia mobile free camcorder please call 08000930705 delivery tomorrow",
         "07732584351 rodger burn msg try call reply sms free nokia mobile free camcorder please call 08000930705 delivery tomorrow"
        ],
        [
         "43",
         "0",
         "WHO ARE YOU SEEING?\n",
         "who are you seeing?\n",
         "who are you seeing\n",
         "seeing",
         "see"
        ],
        [
         "44",
         "0",
         "Great! I hope you like your man well endowed. I am  &lt;#&gt;  inches...\n",
         "great! i hope you like your man well endowed. i am  &lt;#&gt;  inches...\n",
         "great i hope you like your man well endowed i am  ltgt  inches\n",
         "great hope like man well endowed ltgt inches",
         "great hope like man well endow ltgt inch"
        ],
        [
         "45",
         "0",
         "No calls..messages..missed calls\n",
         "no calls..messages..missed calls\n",
         "no callsmessagesmissed calls\n",
         "callsmessagesmissed calls",
         "callsmessagesmissed call"
        ],
        [
         "46",
         "0",
         "Didn't you get hep b immunisation in nigeria.\n",
         "didn't you get hep b immunisation in nigeria.\n",
         "didnt you get hep b immunisation in nigeria\n",
         "didnt get hep b immunisation nigeria",
         "didnt get hep b immunisation nigeria"
        ],
        [
         "47",
         "0",
         "Fair enough, anything going on?\n",
         "fair enough, anything going on?\n",
         "fair enough anything going on\n",
         "fair enough anything going",
         "fair enough anything go"
        ],
        [
         "48",
         "0",
         "Yeah hopefully, if tyler can't do it I could maybe ask around a bit\n",
         "yeah hopefully, if tyler can't do it i could maybe ask around a bit\n",
         "yeah hopefully if tyler cant do it i could maybe ask around a bit\n",
         "yeah hopefully tyler cant could maybe ask around bit",
         "yeah hopefully tyler cant could maybe ask around bit"
        ],
        [
         "49",
         "0",
         "U don't know how stubborn I am. I didn't even want to go to the hospital. I kept telling Mark I'm not a weak sucker. Hospitals are for weak suckers.\n",
         "u don't know how stubborn i am. i didn't even want to go to the hospital. i kept telling mark i'm not a weak sucker. hospitals are for weak suckers.\n",
         "u dont know how stubborn i am i didnt even want to go to the hospital i kept telling mark im not a weak sucker hospitals are for weak suckers\n",
         "u dont know stubborn didnt even want go hospital kept telling mark im weak sucker hospitals weak suckers",
         "u dont know stubborn didnt even want go hospital kept tell mark im weak sucker hospital weak sucker"
        ]
       ],
       "shape": {
        "columns": 6,
        "rows": 5574
       }
      },
      "text/html": [
       "<div>\n",
       "<style scoped>\n",
       "    .dataframe tbody tr th:only-of-type {\n",
       "        vertical-align: middle;\n",
       "    }\n",
       "\n",
       "    .dataframe tbody tr th {\n",
       "        vertical-align: top;\n",
       "    }\n",
       "\n",
       "    .dataframe thead th {\n",
       "        text-align: right;\n",
       "    }\n",
       "</style>\n",
       "<table border=\"1\" class=\"dataframe\">\n",
       "  <thead>\n",
       "    <tr style=\"text-align: right;\">\n",
       "      <th></th>\n",
       "      <th>Category</th>\n",
       "      <th>Message</th>\n",
       "      <th>lower_message</th>\n",
       "      <th>message_wo_punct</th>\n",
       "      <th>message_no_stopwords</th>\n",
       "      <th>message_lemmatized</th>\n",
       "    </tr>\n",
       "  </thead>\n",
       "  <tbody>\n",
       "    <tr>\n",
       "      <th>0</th>\n",
       "      <td>0</td>\n",
       "      <td>Go until jurong point, crazy.. Available only ...</td>\n",
       "      <td>go until jurong point, crazy.. available only ...</td>\n",
       "      <td>go until jurong point crazy available only in ...</td>\n",
       "      <td>go jurong point crazy available bugis n great ...</td>\n",
       "      <td>go jurong point crazy available bugis n great ...</td>\n",
       "    </tr>\n",
       "    <tr>\n",
       "      <th>1</th>\n",
       "      <td>0</td>\n",
       "      <td>Ok lar... Joking wif u oni...\\n</td>\n",
       "      <td>ok lar... joking wif u oni...\\n</td>\n",
       "      <td>ok lar joking wif u oni\\n</td>\n",
       "      <td>ok lar joking wif u oni</td>\n",
       "      <td>ok lar joking wif u oni</td>\n",
       "    </tr>\n",
       "    <tr>\n",
       "      <th>2</th>\n",
       "      <td>1</td>\n",
       "      <td>Free entry in 2 a wkly comp to win FA Cup fina...</td>\n",
       "      <td>free entry in 2 a wkly comp to win fa cup fina...</td>\n",
       "      <td>free entry in 2 a wkly comp to win fa cup fina...</td>\n",
       "      <td>free entry 2 wkly comp win fa cup final tkts 2...</td>\n",
       "      <td>free entry 2 wkly comp win fa cup final tkts 2...</td>\n",
       "    </tr>\n",
       "    <tr>\n",
       "      <th>3</th>\n",
       "      <td>0</td>\n",
       "      <td>U dun say so early hor... U c already then say...</td>\n",
       "      <td>u dun say so early hor... u c already then say...</td>\n",
       "      <td>u dun say so early hor u c already then say\\n</td>\n",
       "      <td>u dun say early hor u c already say</td>\n",
       "      <td>u dun say early hor u c already say</td>\n",
       "    </tr>\n",
       "    <tr>\n",
       "      <th>4</th>\n",
       "      <td>0</td>\n",
       "      <td>Nah I don't think he goes to usf, he lives aro...</td>\n",
       "      <td>nah i don't think he goes to usf, he lives aro...</td>\n",
       "      <td>nah i dont think he goes to usf he lives aroun...</td>\n",
       "      <td>nah dont think goes usf lives around though</td>\n",
       "      <td>nah dont think go usf life around though</td>\n",
       "    </tr>\n",
       "    <tr>\n",
       "      <th>...</th>\n",
       "      <td>...</td>\n",
       "      <td>...</td>\n",
       "      <td>...</td>\n",
       "      <td>...</td>\n",
       "      <td>...</td>\n",
       "      <td>...</td>\n",
       "    </tr>\n",
       "    <tr>\n",
       "      <th>5569</th>\n",
       "      <td>1</td>\n",
       "      <td>This is the 2nd time we have tried 2 contact u...</td>\n",
       "      <td>this is the 2nd time we have tried 2 contact u...</td>\n",
       "      <td>this is the 2nd time we have tried 2 contact u...</td>\n",
       "      <td>2nd time tried 2 contact u u £750 pound prize ...</td>\n",
       "      <td>2nd time try 2 contact u u £750 pound prize 2 ...</td>\n",
       "    </tr>\n",
       "    <tr>\n",
       "      <th>5570</th>\n",
       "      <td>0</td>\n",
       "      <td>Will ü b going to esplanade fr home?\\n</td>\n",
       "      <td>will ü b going to esplanade fr home?\\n</td>\n",
       "      <td>will ü b going to esplanade fr home\\n</td>\n",
       "      <td>ü b going esplanade fr home</td>\n",
       "      <td>ü b go esplanade fr home</td>\n",
       "    </tr>\n",
       "    <tr>\n",
       "      <th>5571</th>\n",
       "      <td>0</td>\n",
       "      <td>Pity, * was in mood for that. So...any other s...</td>\n",
       "      <td>pity, * was in mood for that. so...any other s...</td>\n",
       "      <td>pity  was in mood for that soany other suggest...</td>\n",
       "      <td>pity mood soany suggestions</td>\n",
       "      <td>pity mood soany suggestion</td>\n",
       "    </tr>\n",
       "    <tr>\n",
       "      <th>5572</th>\n",
       "      <td>0</td>\n",
       "      <td>The guy did some bitching but I acted like i'd...</td>\n",
       "      <td>the guy did some bitching but i acted like i'd...</td>\n",
       "      <td>the guy did some bitching but i acted like id ...</td>\n",
       "      <td>guy bitching acted like id interested buying s...</td>\n",
       "      <td>guy bitch act like id interested buying someth...</td>\n",
       "    </tr>\n",
       "    <tr>\n",
       "      <th>5573</th>\n",
       "      <td>0</td>\n",
       "      <td>Rofl. Its true to its name\\n</td>\n",
       "      <td>rofl. its true to its name\\n</td>\n",
       "      <td>rofl its true to its name\\n</td>\n",
       "      <td>rofl true name</td>\n",
       "      <td>rofl true name</td>\n",
       "    </tr>\n",
       "  </tbody>\n",
       "</table>\n",
       "<p>5574 rows × 6 columns</p>\n",
       "</div>"
      ],
      "text/plain": [
       "      Category                                            Message  \\\n",
       "0            0  Go until jurong point, crazy.. Available only ...   \n",
       "1            0                    Ok lar... Joking wif u oni...\\n   \n",
       "2            1  Free entry in 2 a wkly comp to win FA Cup fina...   \n",
       "3            0  U dun say so early hor... U c already then say...   \n",
       "4            0  Nah I don't think he goes to usf, he lives aro...   \n",
       "...        ...                                                ...   \n",
       "5569         1  This is the 2nd time we have tried 2 contact u...   \n",
       "5570         0             Will ü b going to esplanade fr home?\\n   \n",
       "5571         0  Pity, * was in mood for that. So...any other s...   \n",
       "5572         0  The guy did some bitching but I acted like i'd...   \n",
       "5573         0                       Rofl. Its true to its name\\n   \n",
       "\n",
       "                                          lower_message  \\\n",
       "0     go until jurong point, crazy.. available only ...   \n",
       "1                       ok lar... joking wif u oni...\\n   \n",
       "2     free entry in 2 a wkly comp to win fa cup fina...   \n",
       "3     u dun say so early hor... u c already then say...   \n",
       "4     nah i don't think he goes to usf, he lives aro...   \n",
       "...                                                 ...   \n",
       "5569  this is the 2nd time we have tried 2 contact u...   \n",
       "5570             will ü b going to esplanade fr home?\\n   \n",
       "5571  pity, * was in mood for that. so...any other s...   \n",
       "5572  the guy did some bitching but i acted like i'd...   \n",
       "5573                       rofl. its true to its name\\n   \n",
       "\n",
       "                                       message_wo_punct  \\\n",
       "0     go until jurong point crazy available only in ...   \n",
       "1                             ok lar joking wif u oni\\n   \n",
       "2     free entry in 2 a wkly comp to win fa cup fina...   \n",
       "3         u dun say so early hor u c already then say\\n   \n",
       "4     nah i dont think he goes to usf he lives aroun...   \n",
       "...                                                 ...   \n",
       "5569  this is the 2nd time we have tried 2 contact u...   \n",
       "5570              will ü b going to esplanade fr home\\n   \n",
       "5571  pity  was in mood for that soany other suggest...   \n",
       "5572  the guy did some bitching but i acted like id ...   \n",
       "5573                        rofl its true to its name\\n   \n",
       "\n",
       "                                   message_no_stopwords  \\\n",
       "0     go jurong point crazy available bugis n great ...   \n",
       "1                               ok lar joking wif u oni   \n",
       "2     free entry 2 wkly comp win fa cup final tkts 2...   \n",
       "3                   u dun say early hor u c already say   \n",
       "4           nah dont think goes usf lives around though   \n",
       "...                                                 ...   \n",
       "5569  2nd time tried 2 contact u u £750 pound prize ...   \n",
       "5570                        ü b going esplanade fr home   \n",
       "5571                        pity mood soany suggestions   \n",
       "5572  guy bitching acted like id interested buying s...   \n",
       "5573                                     rofl true name   \n",
       "\n",
       "                                     message_lemmatized  \n",
       "0     go jurong point crazy available bugis n great ...  \n",
       "1                               ok lar joking wif u oni  \n",
       "2     free entry 2 wkly comp win fa cup final tkts 2...  \n",
       "3                   u dun say early hor u c already say  \n",
       "4              nah dont think go usf life around though  \n",
       "...                                                 ...  \n",
       "5569  2nd time try 2 contact u u £750 pound prize 2 ...  \n",
       "5570                           ü b go esplanade fr home  \n",
       "5571                         pity mood soany suggestion  \n",
       "5572  guy bitch act like id interested buying someth...  \n",
       "5573                                     rofl true name  \n",
       "\n",
       "[5574 rows x 6 columns]"
      ]
     },
     "execution_count": 101,
     "metadata": {},
     "output_type": "execute_result"
    }
   ],
   "source": [
    "df_cleaning['Category'] = df_cleaning['Category'].replace(['ham', 'spam'], [0, 1])\n",
    "df_cleaning"
   ]
  },
  {
   "cell_type": "code",
   "execution_count": 102,
   "metadata": {},
   "outputs": [
    {
     "name": "stdout",
     "output_type": "stream",
     "text": [
      "Shape (number of strings, number of unique words):\n",
      "(4459, 7497)\n",
      "List of unique words:\n",
      "['008704050406' '0089my' '0121' ... 'zyada' 'üll' '〨ud']\n",
      "Vector Matrix for training data:\n",
      "[[0. 0. 0. ... 0. 0. 0.]\n",
      " [0. 0. 0. ... 0. 0. 0.]\n",
      " [0. 0. 0. ... 0. 0. 0.]\n",
      " ...\n",
      " [0. 0. 0. ... 0. 0. 0.]\n",
      " [0. 0. 0. ... 0. 0. 0.]\n",
      " [0. 0. 0. ... 0. 0. 0.]]\n"
     ]
    }
   ],
   "source": [
    "from sklearn.model_selection import train_test_split\n",
    "from sklearn.feature_extraction.text import TfidfVectorizer\n",
    "from sklearn.metrics import confusion_matrix, classification_report, ConfusionMatrixDisplay, accuracy_score\n",
    "X_train, X_test, y_train, y_test = train_test_split(df_cleaning['message_lemmatized'], df_cleaning['Category'], test_size=.2, random_state=42)\n",
    "\n",
    "tfidf_vectorizer = TfidfVectorizer()\n",
    "X_train_tfidf = tfidf_vectorizer.fit_transform(X_train)\n",
    "X_test_tfidf = tfidf_vectorizer.transform(X_test)\n",
    "\n",
    "print(\"Shape (number of strings, number of unique words):\")\n",
    "print(X_train_tfidf.shape)\n",
    "print('List of unique words:')\n",
    "print(tfidf_vectorizer.get_feature_names_out())\n",
    "print(\"Vector Matrix for training data:\")\n",
    "print(X_train_tfidf.toarray())"
   ]
  },
  {
   "cell_type": "code",
   "execution_count": 103,
   "metadata": {},
   "outputs": [
    {
     "name": "stdout",
     "output_type": "stream",
     "text": [
      "Test Data:\n",
      "Accuracy: 0.9623318385650225\n",
      "              precision    recall  f1-score   support\n",
      "\n",
      "           0       0.96      1.00      0.98       954\n",
      "           1       0.97      0.76      0.85       161\n",
      "\n",
      "    accuracy                           0.96      1115\n",
      "   macro avg       0.97      0.88      0.92      1115\n",
      "weighted avg       0.96      0.96      0.96      1115\n",
      "\n",
      "Train Data:\n",
      "Accuracy: 0.967032967032967\n",
      "              precision    recall  f1-score   support\n",
      "\n",
      "           0       0.96      1.00      0.98      3873\n",
      "           1       0.99      0.75      0.86       586\n",
      "\n",
      "    accuracy                           0.97      4459\n",
      "   macro avg       0.98      0.88      0.92      4459\n",
      "weighted avg       0.97      0.97      0.97      4459\n",
      "\n"
     ]
    }
   ],
   "source": [
    "from sklearn.linear_model import LogisticRegression\n",
    "\n",
    "lr_classifier = LogisticRegression(random_state=42)\n",
    "lr_classifier.fit(X_train_tfidf, y_train)\n",
    "\n",
    "y_pred_lr = lr_classifier.predict(X_test_tfidf)\n",
    "\n",
    "class_report_lr = classification_report(y_test, y_pred_lr)\n",
    "print(\"Test Data:\")\n",
    "print(\"Accuracy:\", accuracy_score(y_test, y_pred_lr))\n",
    "print(class_report_lr)\n",
    "\n",
    "y_train_pred = lr_classifier.predict(X_train_tfidf)\n",
    "class_report_train = classification_report(y_train, y_train_pred)\n",
    "print(\"Train Data:\")\n",
    "print(\"Accuracy:\", accuracy_score(y_train, y_train_pred))\n",
    "print(class_report_train)"
   ]
  },
  {
   "cell_type": "code",
   "execution_count": 104,
   "metadata": {},
   "outputs": [
    {
     "name": "stdout",
     "output_type": "stream",
     "text": [
      "Test Data:\n"
     ]
    },
    {
     "data": {
      "text/plain": [
       "<sklearn.metrics._plot.confusion_matrix.ConfusionMatrixDisplay at 0x14cf76bc0>"
      ]
     },
     "execution_count": 104,
     "metadata": {},
     "output_type": "execute_result"
    },
    {
     "data": {
      "image/png": "[encoded data removed]",
      "text/plain": [
       "<Figure size 640x480 with 2 Axes>"
      ]
     },
     "metadata": {},
     "output_type": "display_data"
    }
   ],
   "source": [
    "print(\"Test Data:\")\n",
    "cm = confusion_matrix(y_test, y_pred_lr)\n",
    "disp = ConfusionMatrixDisplay(cm)\n",
    "disp.plot()"
   ]
  },
  {
   "cell_type": "code",
   "execution_count": 105,
   "metadata": {},
   "outputs": [
    {
     "name": "stdout",
     "output_type": "stream",
     "text": [
      "Train Data:\n"
     ]
    },
    {
     "data": {
      "text/plain": [
       "<sklearn.metrics._plot.confusion_matrix.ConfusionMatrixDisplay at 0x14b015f90>"
      ]
     },
     "execution_count": 105,
     "metadata": {},
     "output_type": "execute_result"
    },
    {
     "data": {
      "image/png": "[encoded data removed]",
      "text/plain": [
       "<Figure size 640x480 with 2 Axes>"
      ]
     },
     "metadata": {},
     "output_type": "display_data"
    }
   ],
   "source": [
    "print(\"Train Data:\")\n",
    "cm = confusion_matrix(y_train, y_train_pred)\n",
    "disp = ConfusionMatrixDisplay(cm)\n",
    "disp.plot()"
   ]
  },
  {
   "cell_type": "code",
   "execution_count": 106,
   "metadata": {},
   "outputs": [
    {
     "data": {
      "text/plain": [
       "<bound method NDFrame.head of                                      message_lemmatized  label\n",
       "0     go jurong point crazy available bugis n great ...      0\n",
       "1                               ok lar joking wif u oni      0\n",
       "2     free entry 2 wkly comp win fa cup final tkts 2...      1\n",
       "3                   u dun say early hor u c already say      0\n",
       "4              nah dont think go usf life around though      0\n",
       "...                                                 ...    ...\n",
       "9649  07732584351 rodger burn msg try call reply sms...      1\n",
       "9650  private 2003 account statement 07808247860 sho...      1\n",
       "9651  dear 0776xxxxxxx uve invite xchat final attemp...      1\n",
       "9652  44 7732584351 want new nokia 3510i colour phon...      1\n",
       "9653  ur go 2 bahamas callfreefone 08081560665 speak...      1\n",
       "\n",
       "[9654 rows x 2 columns]>"
      ]
     },
     "execution_count": 106,
     "metadata": {},
     "output_type": "execute_result"
    }
   ],
   "source": [
    "from imblearn.over_sampling import RandomOverSampler\n",
    "\n",
    "X = df_cleaning[['message_lemmatized']]\n",
    "y = df_cleaning['Category']\n",
    "\n",
    "oversampler = RandomOverSampler(random_state=42)\n",
    "\n",
    "X_resampled, y_resampled = oversampler.fit_resample(X, y)\n",
    "\n",
    "df_balanced = pd.DataFrame(X_resampled, columns=X.columns)\n",
    "df_balanced['label'] = y_resampled\n",
    "\n",
    "df_balanced['label'].value_counts()\n",
    "df_balanced.head"
   ]
  },
  {
   "cell_type": "code",
   "execution_count": 107,
   "metadata": {},
   "outputs": [
    {
     "name": "stdout",
     "output_type": "stream",
     "text": [
      "Shape (number of strings, number of unique words):\n",
      "(7723, 7768)\n",
      "List of unique words:\n",
      "['008704050406' '0089my' '0121' ... 'zyada' 'üll' '〨ud']\n",
      "Vector Matrix for training data:\n",
      "[[0. 0. 0. ... 0. 0. 0.]\n",
      " [0. 0. 0. ... 0. 0. 0.]\n",
      " [0. 0. 0. ... 0. 0. 0.]\n",
      " ...\n",
      " [0. 0. 0. ... 0. 0. 0.]\n",
      " [0. 0. 0. ... 0. 0. 0.]\n",
      " [0. 0. 0. ... 0. 0. 0.]]\n"
     ]
    }
   ],
   "source": [
    "from sklearn.model_selection import train_test_split\n",
    "from sklearn.feature_extraction.text import TfidfVectorizer\n",
    "from sklearn.metrics import confusion_matrix, classification_report, ConfusionMatrixDisplay\n",
    "\n",
    "X_train, X_test, y_train, y_test = train_test_split(df_balanced['message_lemmatized'], df_balanced['label'], test_size=.2, random_state=42)\n",
    "\n",
    "tfidf_vectorizer = TfidfVectorizer()\n",
    "X_train_tfidf = tfidf_vectorizer.fit_transform(X_train)\n",
    "X_test_tfidf = tfidf_vectorizer.transform(X_test)\n",
    "\n",
    "print(\"Shape (number of strings, number of unique words):\")\n",
    "print(X_train_tfidf.shape)\n",
    "print('List of unique words:')\n",
    "print(tfidf_vectorizer.get_feature_names_out())\n",
    "print(\"Vector Matrix for training data:\")\n",
    "print(X_train_tfidf.toarray())"
   ]
  },
  {
   "cell_type": "code",
   "execution_count": 108,
   "metadata": {},
   "outputs": [
    {
     "name": "stdout",
     "output_type": "stream",
     "text": [
      "Test Data:\n",
      "Accuracy:  0.9875712066286898\n",
      "              precision    recall  f1-score   support\n",
      "\n",
      "           0       0.99      0.99      0.99       994\n",
      "           1       0.99      0.99      0.99       937\n",
      "\n",
      "    accuracy                           0.99      1931\n",
      "   macro avg       0.99      0.99      0.99      1931\n",
      "weighted avg       0.99      0.99      0.99      1931\n",
      "\n",
      "Train Data:\n",
      "Accuracy:  0.9918425482325521\n",
      "              precision    recall  f1-score   support\n",
      "\n",
      "           0       0.99      0.99      0.99      3833\n",
      "           1       0.99      0.99      0.99      3890\n",
      "\n",
      "    accuracy                           0.99      7723\n",
      "   macro avg       0.99      0.99      0.99      7723\n",
      "weighted avg       0.99      0.99      0.99      7723\n",
      "\n"
     ]
    }
   ],
   "source": [
    "from sklearn.linear_model import LogisticRegression\n",
    "\n",
    "lr_classifier = LogisticRegression(random_state=42)\n",
    "lr_classifier.fit(X_train_tfidf, y_train)\n",
    "\n",
    "y_pred_lr = lr_classifier.predict(X_test_tfidf)\n",
    "\n",
    "class_report_lr = classification_report(y_test, y_pred_lr)\n",
    "print(\"Test Data:\")\n",
    "print(\"Accuracy: \", accuracy_score(y_test, y_pred_lr))\n",
    "print(class_report_lr)\n",
    "\n",
    "y_train_pred = lr_classifier.predict(X_train_tfidf)\n",
    "class_report_train = classification_report(y_train, y_train_pred)\n",
    "print(\"Train Data:\")\n",
    "print(\"Accuracy: \", accuracy_score(y_train, y_train_pred))\n",
    "print(class_report_train)"
   ]
  },
  {
   "cell_type": "code",
   "execution_count": 109,
   "metadata": {},
   "outputs": [
    {
     "name": "stdout",
     "output_type": "stream",
     "text": [
      "Test Data:\n"
     ]
    },
    {
     "data": {
      "text/plain": [
       "<sklearn.metrics._plot.confusion_matrix.ConfusionMatrixDisplay at 0x14dc8da20>"
      ]
     },
     "execution_count": 109,
     "metadata": {},
     "output_type": "execute_result"
    },
    {
     "data": {
      "image/png": "[encoded data removed]",
      "text/plain": [
       "<Figure size 640x480 with 2 Axes>"
      ]
     },
     "metadata": {},
     "output_type": "display_data"
    }
   ],
   "source": [
    "print(\"Test Data:\")\n",
    "cm = confusion_matrix(y_test, y_pred_lr)\n",
    "disp = ConfusionMatrixDisplay(cm)\n",
    "disp.plot()"
   ]
  },
  {
   "cell_type": "code",
   "execution_count": 110,
   "metadata": {},
   "outputs": [
    {
     "name": "stdout",
     "output_type": "stream",
     "text": [
      "Train Data:\n"
     ]
    },
    {
     "data": {
      "text/plain": [
       "<sklearn.metrics._plot.confusion_matrix.ConfusionMatrixDisplay at 0x1275f1c60>"
      ]
     },
     "execution_count": 110,
     "metadata": {},
     "output_type": "execute_result"
    },
    {
     "data": {
      "image/png": "[encoded data removed]",
      "text/plain": [
       "<Figure size 640x480 with 2 Axes>"
      ]
     },
     "metadata": {},
     "output_type": "display_data"
    }
   ],
   "source": [
    "print(\"Train Data:\")\n",
    "cm = confusion_matrix(y_train, y_train_pred)\n",
    "disp = ConfusionMatrixDisplay(cm)\n",
    "disp.plot()"
   ]
  },
  {
   "cell_type": "code",
   "execution_count": null,
   "metadata": {},
   "outputs": [],
   "source": []
  }
 ],
 "metadata": {
  "kernelspec": {
   "display_name": "Python (fis_default)",
   "language": "python",
   "name": "fis_default"
  },
  "language_info": {
   "codemirror_mode": {
    "name": "ipython",
    "version": 3
   },
   "file_extension": ".py",
   "mimetype": "text/x-python",
   "name": "python",
   "nbconvert_exporter": "python",
   "pygments_lexer": "ipython3",
   "version": "3.10.16"
  }
 },
 "nbformat": 4,
 "nbformat_minor": 2
}
