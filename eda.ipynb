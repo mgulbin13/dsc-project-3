{
 "cells": [
  {
   "cell_type": "code",
   "execution_count": 257,
   "metadata": {},
   "outputs": [],
   "source": [
    "import pandas as pd\n",
    "import string\n",
    "import nltk"
   ]
  },
  {
   "cell_type": "code",
   "execution_count": 258,
   "metadata": {},
   "outputs": [
    {
     "name": "stderr",
     "output_type": "stream",
     "text": [
      "/var/folders/4s/pf1zdv_x4_qcflpq4m943q0m0000gn/T/ipykernel_91514/4088057831.py:12: FutureWarning: Downcasting behavior in `replace` is deprecated and will be removed in a future version. To retain the old behavior, explicitly call `result.infer_objects(copy=False)`. To opt-in to the future behavior, set `pd.set_option('future.no_silent_downcasting', True)`\n",
      "  df['Category'] = df['Category'].replace(['ham', 'spam'], [0, 1])\n"
     ]
    },
    {
     "data": {
      "application/vnd.microsoft.datawrangler.viewer.v0+json": {
       "columns": [
        {
         "name": "index",
         "rawType": "int64",
         "type": "integer"
        },
        {
         "name": "Category",
         "rawType": "int64",
         "type": "integer"
        },
        {
         "name": "Message",
         "rawType": "object",
         "type": "string"
        }
       ],
       "conversionMethod": "pd.DataFrame",
       "ref": "23a2af25-0c79-44a8-aa5d-d8d90be62572",
       "rows": [
        [
         "0",
         "0",
         "Go until jurong point, crazy.. Available only in bugis n great world la e buffet... Cine there got amore wat...\n"
        ],
        [
         "1",
         "0",
         "Ok lar... Joking wif u oni...\n"
        ],
        [
         "2",
         "1",
         "Free entry in 2 a wkly comp to win FA Cup final tkts 21st May 2005. Text FA to 87121 to receive entry question(std txt rate)T&C's apply 08452810075over18's\n"
        ],
        [
         "3",
         "0",
         "U dun say so early hor... U c already then say...\n"
        ],
        [
         "4",
         "0",
         "Nah I don't think he goes to usf, he lives around here though\n"
        ],
        [
         "5",
         "1",
         "FreeMsg Hey there darling it's been 3 week's now and no word back! I'd like some fun you up for it still? Tb ok! XxX std chgs to send, £1.50 to rcv\n"
        ],
        [
         "6",
         "0",
         "Even my brother is not like to speak with me. They treat me like aids patent.\n"
        ],
        [
         "7",
         "0",
         "As per your request 'Melle Melle (Oru Minnaminunginte Nurungu Vettam)' has been set as your callertune for all Callers. Press *9 to copy your friends Callertune\n"
        ],
        [
         "8",
         "1",
         "WINNER!! As a valued network customer you have been selected to receivea £900 prize reward! To claim call 09061701461. Claim code KL341. Valid 12 hours only.\n"
        ],
        [
         "9",
         "1",
         "Had your mobile 11 months or more? U R entitled to Update to the latest colour mobiles with camera for Free! Call The Mobile Update Co FREE on 08002986030\n"
        ],
        [
         "10",
         "0",
         "I'm gonna be home soon and i don't want to talk about this stuff anymore tonight, k? I've cried enough today.\n"
        ],
        [
         "11",
         "1",
         "SIX chances to win CASH! From 100 to 20,000 pounds txt> CSH11 and send to 87575. Cost 150p/day, 6days, 16+ TsandCs apply Reply HL 4 info\n"
        ],
        [
         "12",
         "1",
         "URGENT! You have won a 1 week FREE membership in our £100,000 Prize Jackpot! Txt the word: CLAIM to No: 81010 T&C www.dbuk.net LCCLTD POBOX 4403LDNW1A7RW18\n"
        ],
        [
         "13",
         "0",
         "I've been searching for the right words to thank you for this breather. I promise i wont take your help for granted and will fulfil my promise. You have been wonderful and a blessing at all times.\n"
        ],
        [
         "14",
         "0",
         "I HAVE A DATE ON SUNDAY WITH WILL!!\n"
        ],
        [
         "15",
         "1",
         "XXXMobileMovieClub: To use your credit, click the WAP link in the next txt message or click here>> http://wap. xxxmobilemovieclub.com?n=QJKGIGHJJGCBL\n"
        ],
        [
         "16",
         "0",
         "Oh k...i'm watching here:)\n"
        ],
        [
         "17",
         "0",
         "Eh u remember how 2 spell his name... Yes i did. He v naughty make until i v wet.\n"
        ],
        [
         "18",
         "0",
         "Fine if thats the way u feel. Thats the way its gota b\n"
        ],
        [
         "19",
         "1",
         "England v Macedonia - dont miss the goals/team news. Txt ur national team to 87077 eg ENGLAND to 87077 Try:WALES, SCOTLAND 4txt/ú1.20 POBOXox36504W45WQ 16+\n"
        ],
        [
         "20",
         "0",
         "Is that seriously how you spell his name?\n"
        ],
        [
         "21",
         "0",
         "I‘m going to try for 2 months ha ha only joking\n"
        ],
        [
         "22",
         "0",
         "So ü pay first lar... Then when is da stock comin...\n"
        ],
        [
         "23",
         "0",
         "Aft i finish my lunch then i go str down lor. Ard 3 smth lor. U finish ur lunch already?\n"
        ],
        [
         "24",
         "0",
         "Ffffffffff. Alright no way I can meet up with you sooner?\n"
        ],
        [
         "25",
         "0",
         "Just forced myself to eat a slice. I'm really not hungry tho. This sucks. Mark is getting worried. He knows I'm sick when I turn down pizza. Lol\n"
        ],
        [
         "26",
         "0",
         "Lol your always so convincing.\n"
        ],
        [
         "27",
         "0",
         "Did you catch the bus ? Are you frying an egg ? Did you make a tea? Are you eating your mom's left over dinner ? Do you feel my Love ?\n"
        ],
        [
         "28",
         "0",
         "I'm back &amp; we're packing the car now, I'll let you know if there's room\n"
        ],
        [
         "29",
         "0",
         "Ahhh. Work. I vaguely remember that! What does it feel like? Lol\n"
        ],
        [
         "30",
         "0",
         "Wait that's still not all that clear, were you not sure about me being sarcastic or that that's why x doesn't want to live with us\n"
        ],
        [
         "31",
         "0",
         "Yeah he got in at 2 and was v apologetic. n had fallen out and she was actin like spoilt child and he got caught up in that. Till 2! But we won't go there! Not doing too badly cheers. You? \n"
        ],
        [
         "32",
         "0",
         "K tell me anything about you.\n"
        ],
        [
         "33",
         "0",
         "For fear of fainting with the of all that housework you just did? Quick have a cuppa\n"
        ],
        [
         "34",
         "1",
         "Thanks for your subscription to Ringtone UK your mobile will be charged £5/month Please confirm by replying YES or NO. If you reply NO you will not be charged\n"
        ],
        [
         "35",
         "0",
         "Yup... Ok i go home look at the timings then i msg ü again... Xuhui going to learn on 2nd may too but her lesson is at 8am\n"
        ],
        [
         "36",
         "0",
         "Oops, I'll let you know when my roommate's done\n"
        ],
        [
         "37",
         "0",
         "I see the letter B on my car\n"
        ],
        [
         "38",
         "0",
         "Anything lor... U decide...\n"
        ],
        [
         "39",
         "0",
         "Hello! How's you and how did saturday go? I was just texting to see if you'd decided to do anything tomo. Not that i'm trying to invite myself or anything!\n"
        ],
        [
         "40",
         "0",
         "Pls go ahead with watts. I just wanted to be sure. Do have a great weekend. Abiola\n"
        ],
        [
         "41",
         "0",
         "Did I forget to tell you ? I want you , I need you, I crave you ... But most of all ... I love you my sweet Arabian steed ... Mmmmmm ... Yummy\n"
        ],
        [
         "42",
         "1",
         "07732584351 - Rodger Burns - MSG = We tried to call you re your reply to our sms for a free nokia mobile + free camcorder. Please call now 08000930705 for delivery tomorrow\n"
        ],
        [
         "43",
         "0",
         "WHO ARE YOU SEEING?\n"
        ],
        [
         "44",
         "0",
         "Great! I hope you like your man well endowed. I am  &lt;#&gt;  inches...\n"
        ],
        [
         "45",
         "0",
         "No calls..messages..missed calls\n"
        ],
        [
         "46",
         "0",
         "Didn't you get hep b immunisation in nigeria.\n"
        ],
        [
         "47",
         "0",
         "Fair enough, anything going on?\n"
        ],
        [
         "48",
         "0",
         "Yeah hopefully, if tyler can't do it I could maybe ask around a bit\n"
        ],
        [
         "49",
         "0",
         "U don't know how stubborn I am. I didn't even want to go to the hospital. I kept telling Mark I'm not a weak sucker. Hospitals are for weak suckers.\n"
        ]
       ],
       "shape": {
        "columns": 2,
        "rows": 5574
       }
      },
      "text/html": [
       "<div>\n",
       "<style scoped>\n",
       "    .dataframe tbody tr th:only-of-type {\n",
       "        vertical-align: middle;\n",
       "    }\n",
       "\n",
       "    .dataframe tbody tr th {\n",
       "        vertical-align: top;\n",
       "    }\n",
       "\n",
       "    .dataframe thead th {\n",
       "        text-align: right;\n",
       "    }\n",
       "</style>\n",
       "<table border=\"1\" class=\"dataframe\">\n",
       "  <thead>\n",
       "    <tr style=\"text-align: right;\">\n",
       "      <th></th>\n",
       "      <th>Category</th>\n",
       "      <th>Message</th>\n",
       "    </tr>\n",
       "  </thead>\n",
       "  <tbody>\n",
       "    <tr>\n",
       "      <th>0</th>\n",
       "      <td>0</td>\n",
       "      <td>Go until jurong point, crazy.. Available only ...</td>\n",
       "    </tr>\n",
       "    <tr>\n",
       "      <th>1</th>\n",
       "      <td>0</td>\n",
       "      <td>Ok lar... Joking wif u oni...\\n</td>\n",
       "    </tr>\n",
       "    <tr>\n",
       "      <th>2</th>\n",
       "      <td>1</td>\n",
       "      <td>Free entry in 2 a wkly comp to win FA Cup fina...</td>\n",
       "    </tr>\n",
       "    <tr>\n",
       "      <th>3</th>\n",
       "      <td>0</td>\n",
       "      <td>U dun say so early hor... U c already then say...</td>\n",
       "    </tr>\n",
       "    <tr>\n",
       "      <th>4</th>\n",
       "      <td>0</td>\n",
       "      <td>Nah I don't think he goes to usf, he lives aro...</td>\n",
       "    </tr>\n",
       "    <tr>\n",
       "      <th>...</th>\n",
       "      <td>...</td>\n",
       "      <td>...</td>\n",
       "    </tr>\n",
       "    <tr>\n",
       "      <th>5569</th>\n",
       "      <td>1</td>\n",
       "      <td>This is the 2nd time we have tried 2 contact u...</td>\n",
       "    </tr>\n",
       "    <tr>\n",
       "      <th>5570</th>\n",
       "      <td>0</td>\n",
       "      <td>Will ü b going to esplanade fr home?\\n</td>\n",
       "    </tr>\n",
       "    <tr>\n",
       "      <th>5571</th>\n",
       "      <td>0</td>\n",
       "      <td>Pity, * was in mood for that. So...any other s...</td>\n",
       "    </tr>\n",
       "    <tr>\n",
       "      <th>5572</th>\n",
       "      <td>0</td>\n",
       "      <td>The guy did some bitching but I acted like i'd...</td>\n",
       "    </tr>\n",
       "    <tr>\n",
       "      <th>5573</th>\n",
       "      <td>0</td>\n",
       "      <td>Rofl. Its true to its name\\n</td>\n",
       "    </tr>\n",
       "  </tbody>\n",
       "</table>\n",
       "<p>5574 rows × 2 columns</p>\n",
       "</div>"
      ],
      "text/plain": [
       "      Category                                            Message\n",
       "0            0  Go until jurong point, crazy.. Available only ...\n",
       "1            0                    Ok lar... Joking wif u oni...\\n\n",
       "2            1  Free entry in 2 a wkly comp to win FA Cup fina...\n",
       "3            0  U dun say so early hor... U c already then say...\n",
       "4            0  Nah I don't think he goes to usf, he lives aro...\n",
       "...        ...                                                ...\n",
       "5569         1  This is the 2nd time we have tried 2 contact u...\n",
       "5570         0             Will ü b going to esplanade fr home?\\n\n",
       "5571         0  Pity, * was in mood for that. So...any other s...\n",
       "5572         0  The guy did some bitching but I acted like i'd...\n",
       "5573         0                       Rofl. Its true to its name\\n\n",
       "\n",
       "[5574 rows x 2 columns]"
      ]
     },
     "execution_count": 258,
     "metadata": {},
     "output_type": "execute_result"
    }
   ],
   "source": [
    "category_list = []\n",
    "message_list = []\n",
    "\n",
    "with open('./data/SMSSpamCollection') as f:\n",
    "    for line in f:\n",
    "        row = line.split('\\t', maxsplit=1)\n",
    "        category_list.append(row[0])\n",
    "        message_list.append(row[1])\n",
    "\n",
    "dict = {'Category': category_list, 'Message': message_list}\n",
    "df = pd.DataFrame(data=dict)\n",
    "df['Category'] = df['Category'].replace(['ham', 'spam'], [0, 1])\n",
    "df"
   ]
  },
  {
   "cell_type": "code",
   "execution_count": 259,
   "metadata": {},
   "outputs": [
    {
     "data": {
      "text/plain": [
       "Category\n",
       "0    4827\n",
       "1     747\n",
       "Name: count, dtype: int64"
      ]
     },
     "execution_count": 259,
     "metadata": {},
     "output_type": "execute_result"
    }
   ],
   "source": [
    "df['Category'].value_counts()"
   ]
  },
  {
   "cell_type": "code",
   "execution_count": 260,
   "metadata": {},
   "outputs": [
    {
     "data": {
      "text/plain": [
       "Category\n",
       "0    0.865985\n",
       "1    0.134015\n",
       "Name: proportion, dtype: float64"
      ]
     },
     "execution_count": 260,
     "metadata": {},
     "output_type": "execute_result"
    }
   ],
   "source": [
    "df['Category'].value_counts(normalize=True)"
   ]
  },
  {
   "cell_type": "code",
   "execution_count": 261,
   "metadata": {},
   "outputs": [
    {
     "data": {
      "text/plain": [
       "Category\n",
       "0    4827\n",
       "1     947\n",
       "Name: count, dtype: int64"
      ]
     },
     "execution_count": 261,
     "metadata": {},
     "output_type": "execute_result"
    }
   ],
   "source": [
    "new_spam_df = pd.read_csv('./data/spam-text-messages.txt')\n",
    "new_spam_df = new_spam_df.drop(columns=['message_id']).rename(columns={\"message_text\": \"Message\", \"spam_label\" : \"Category\"})\n",
    "df = pd.concat([new_spam_df, df])\n",
    "df['Category'].value_counts()"
   ]
  },
  {
   "cell_type": "markdown",
   "metadata": {},
   "source": [
    "## Text Preprossessing"
   ]
  },
  {
   "cell_type": "code",
   "execution_count": 262,
   "metadata": {},
   "outputs": [],
   "source": [
    "df_cleaning = df.copy()"
   ]
  },
  {
   "cell_type": "code",
   "execution_count": 263,
   "metadata": {},
   "outputs": [
    {
     "data": {
      "application/vnd.microsoft.datawrangler.viewer.v0+json": {
       "columns": [
        {
         "name": "index",
         "rawType": "int64",
         "type": "integer"
        },
        {
         "name": "Message",
         "rawType": "object",
         "type": "string"
        },
        {
         "name": "Category",
         "rawType": "int64",
         "type": "integer"
        },
        {
         "name": "lower_message",
         "rawType": "object",
         "type": "string"
        }
       ],
       "conversionMethod": "pd.DataFrame",
       "ref": "b377c2db-56d0-4dd6-859d-ad4b3b71ca94",
       "rows": [
        [
         "0",
         "URGENT: Your mobile number has won $500,000 in our prize draw! Call now to claim: +1-555-123-4567. Don't miss this chance!",
         "1",
         "urgent: your mobile number has won $500,000 in our prize draw! call now to claim: +1-555-123-4567. don't miss this chance!"
        ],
        [
         "1",
         "CONGRATULATIONS! You've been selected for a free iPhone 14! Click here to claim: www.free-iphone-claim.xyz",
         "1",
         "congratulations! you've been selected for a free iphone 14! click here to claim: www.free-iphone-claim.xyz"
        ],
        [
         "2",
         "Your package delivery #8742 is pending. Update delivery address within 24hrs: bit.ly/pkg-update",
         "1",
         "your package delivery #8742 is pending. update delivery address within 24hrs: bit.ly/pkg-update"
        ],
        [
         "3",
         "NETFLIX: Your account has been suspended. Update your payment info: netflx-account-verify.com",
         "1",
         "netflix: your account has been suspended. update your payment info: netflx-account-verify.com"
        ],
        [
         "4",
         "50% OFF at Fashion World! Limited time offer. Shop now: fw-sales.site/discount",
         "1",
         "50% off at fashion world! limited time offer. shop now: fw-sales.site/discount"
        ],
        [
         "5",
         "Your bank account has been compromised. Call security team now: 888-555-9876",
         "1",
         "your bank account has been compromised. call security team now: 888-555-9876"
        ],
        [
         "6",
         "Dear customer, your Apple ID has been locked for security reasons. Verify identity: secure-apple-id.com",
         "1",
         "dear customer, your apple id has been locked for security reasons. verify identity: secure-apple-id.com"
        ],
        [
         "7",
         "BREAKING: New government regulation allows citizens to clear ALL debt legally. Find out how: debt-freedom.xyz",
         "1",
         "breaking: new government regulation allows citizens to clear all debt legally. find out how: debt-freedom.xyz"
        ],
        [
         "8",
         "Hi this is Jenny from dating service. I saw your profile and want to meet. Text me: +1-555-765-4321",
         "1",
         "hi this is jenny from dating service. i saw your profile and want to meet. text me: +1-555-765-4321"
        ],
        [
         "9",
         "FINAL NOTICE: Your car warranty is about to expire. Last chance to extend coverage. Call: 800-555-1234",
         "1",
         "final notice: your car warranty is about to expire. last chance to extend coverage. call: 800-555-1234"
        ],
        [
         "10",
         "ALERT: Unusual activity detected in your account. Verify transactions: secure-bank-verify.com",
         "1",
         "alert: unusual activity detected in your account. verify transactions: secure-bank-verify.com"
        ],
        [
         "11",
         "Congratulations! You've been pre-approved for a $50,000 loan with low interest. Apply now: ez-loan-apply.com",
         "1",
         "congratulations! you've been pre-approved for a $50,000 loan with low interest. apply now: ez-loan-apply.com"
        ],
        [
         "12",
         "Your utility bill payment failed. Service will be disconnected in 24 hours. Update payment: utilitypay-secure.com",
         "1",
         "your utility bill payment failed. service will be disconnected in 24 hours. update payment: utilitypay-secure.com"
        ],
        [
         "13",
         "You have 1 unread message from your secret admirer. View now: date-match.xyz/message",
         "1",
         "you have 1 unread message from your secret admirer. view now: date-match.xyz/message"
        ],
        [
         "14",
         "ATTENTION: Your Social Security Number has been suspended due to suspicious activity. Call: 866-555-4321",
         "1",
         "attention: your social security number has been suspended due to suspicious activity. call: 866-555-4321"
        ],
        [
         "15",
         "Your prescription is ready for pickup. Get 70% discount with this code: RX7042. Details: meds-discount.site",
         "1",
         "your prescription is ready for pickup. get 70% discount with this code: rx7042. details: meds-discount.site"
        ],
        [
         "16",
         "You have won a $1,000 Walmart gift card. Claim now: walmart-gift.xyz/claim",
         "1",
         "you have won a $1,000 walmart gift card. claim now: walmart-gift.xyz/claim"
        ],
        [
         "17",
         "This is your carrier: Your phone bill is past due. Avoid service interruption: mobilepay-now.com",
         "1",
         "this is your carrier: your phone bill is past due. avoid service interruption: mobilepay-now.com"
        ],
        [
         "18",
         "URGENT Tax Refund: You are eligible for $1,249.50 tax refund. Submit claim: tax-refund-gov.xyz",
         "1",
         "urgent tax refund: you are eligible for $1,249.50 tax refund. submit claim: tax-refund-gov.xyz"
        ],
        [
         "19",
         "Your order #43298 has been shipped. Track delivery status: amaz0n-tracking.site",
         "1",
         "your order #43298 has been shipped. track delivery status: amaz0n-tracking.site"
        ],
        [
         "20",
         "Investment Alert: This penny stock is set to explode 500% next week! Buy now: stock-goldmine.xyz",
         "1",
         "investment alert: this penny stock is set to explode 500% next week! buy now: stock-goldmine.xyz"
        ],
        [
         "21",
         "Your account access will be terminated. Verify identity: secure-account-verify.com",
         "1",
         "your account access will be terminated. verify identity: secure-account-verify.com"
        ],
        [
         "22",
         "FINAL WARNING: Your vehicle is showing in our system as uninsured. Avoid penalties: auto-insure-now.site",
         "1",
         "final warning: your vehicle is showing in our system as uninsured. avoid penalties: auto-insure-now.site"
        ],
        [
         "23",
         "IMPORTANT: Your recent payment was declined. Update payment method: paypal-secure-update.com",
         "1",
         "important: your recent payment was declined. update payment method: paypal-secure-update.com"
        ],
        [
         "24",
         "Congratulations! You've been selected for our exclusive survey. Complete for $90 reward: survey-rewards.xyz",
         "1",
         "congratulations! you've been selected for our exclusive survey. complete for $90 reward: survey-rewards.xyz"
        ],
        [
         "25",
         "ATTENTION CUSTOMER: Your internet service will be disconnected. Pay now: internet-billing.site",
         "1",
         "attention customer: your internet service will be disconnected. pay now: internet-billing.site"
        ],
        [
         "26",
         "Your CV was found in our database. $95k position available. Apply now: career-opportunity.xyz",
         "1",
         "your cv was found in our database. $95k position available. apply now: career-opportunity.xyz"
        ],
        [
         "27",
         "COURT NOTICE: You are scheduled to appear. Case #CR7231. Details: court-notice.site",
         "1",
         "court notice: you are scheduled to appear. case #cr7231. details: court-notice.site"
        ],
        [
         "28",
         "Your phone has 3 virus! Click to scan and remove: virus-removal.xyz",
         "1",
         "your phone has 3 virus! click to scan and remove: virus-removal.xyz"
        ],
        [
         "29",
         "FREE: Get your credit score and report now! Limited offer: free-credit-check.site",
         "1",
         "free: get your credit score and report now! limited offer: free-credit-check.site"
        ],
        [
         "30",
         "WINNER ALERT: You've been selected to receive a $250 Amazon gift card. Claim now: amazon-rewards.site",
         "1",
         "winner alert: you've been selected to receive a $250 amazon gift card. claim now: amazon-rewards.site"
        ],
        [
         "31",
         "URGENT: Your credit card has been charged $499. If unauthorized call: +1-888-555-3214",
         "1",
         "urgent: your credit card has been charged $499. if unauthorized call: +1-888-555-3214"
        ],
        [
         "32",
         "Your Apple iCloud account will be deleted in 24 hours. Verify now: secure-icloud-verify.com",
         "1",
         "your apple icloud account will be deleted in 24 hours. verify now: secure-icloud-verify.com"
        ],
        [
         "33",
         "ATTENTION: We've been trying to reach you about your car's extended warranty. Last chance: 800-555-9876",
         "1",
         "attention: we've been trying to reach you about your car's extended warranty. last chance: 800-555-9876"
        ],
        [
         "34",
         "Congratulations! You qualify for student loan forgiveness. Apply here: loan-forgive-gov.xyz",
         "1",
         "congratulations! you qualify for student loan forgiveness. apply here: loan-forgive-gov.xyz"
        ],
        [
         "35",
         "SECURITY ALERT: Suspicious sign-in attempt on your Google account. Verify now: google-secure-verify.com",
         "1",
         "security alert: suspicious sign-in attempt on your google account. verify now: google-secure-verify.com"
        ],
        [
         "36",
         "Your parcel #UK45692 is on hold. Confirm delivery address: royal-mail-delivery.site",
         "1",
         "your parcel #uk45692 is on hold. confirm delivery address: royal-mail-delivery.site"
        ],
        [
         "37",
         "50% OFF EVERYTHING at Nike! Limited time offer: nike-special-deals.xyz",
         "1",
         "50% off everything at nike! limited time offer: nike-special-deals.xyz"
        ],
        [
         "38",
         "ACTION REQUIRED: Your PayPal account has been limited. Update info: paypal-account-service.com",
         "1",
         "action required: your paypal account has been limited. update info: paypal-account-service.com"
        ],
        [
         "39",
         "URGENT: Your electricity will be disconnected tonight. Pay now: utility-pay-online.site",
         "1",
         "urgent: your electricity will be disconnected tonight. pay now: utility-pay-online.site"
        ],
        [
         "40",
         "Your Bitcoin wallet has been credited with 0.5 BTC. Confirm receipt: bitcoin-wallet-verify.xyz",
         "1",
         "your bitcoin wallet has been credited with 0.5 btc. confirm receipt: bitcoin-wallet-verify.xyz"
        ],
        [
         "41",
         "FINAL NOTICE: Your tax records are out of date. Avoid penalties: irs-tax-update.site",
         "1",
         "final notice: your tax records are out of date. avoid penalties: irs-tax-update.site"
        ],
        [
         "42",
         "You've been selected for a $50 Starbucks gift card! Claim now: starbucks-rewards.xyz",
         "1",
         "you've been selected for a $50 starbucks gift card! claim now: starbucks-rewards.xyz"
        ],
        [
         "43",
         "Your Instagram account will be permanently deleted. Verify ownership: instagram-verify.site",
         "1",
         "your instagram account will be permanently deleted. verify ownership: instagram-verify.site"
        ],
        [
         "44",
         "URGENT: Your phone service will be suspended. Update billing info: mobile-service-update.com",
         "1",
         "urgent: your phone service will be suspended. update billing info: mobile-service-update.com"
        ],
        [
         "45",
         "Congratulations! You're prequalified for a new credit card with $10,000 limit: premier-credit-offer.site",
         "1",
         "congratulations! you're prequalified for a new credit card with $10,000 limit: premier-credit-offer.site"
        ],
        [
         "46",
         "Your flight reservation #AX78542 has been changed. Confirm details: airline-update.xyz",
         "1",
         "your flight reservation #ax78542 has been changed. confirm details: airline-update.xyz"
        ],
        [
         "47",
         "LAST CHANCE: Claim your free laptop from our annual giveaway: free-laptop-giveaway.site",
         "1",
         "last chance: claim your free laptop from our annual giveaway: free-laptop-giveaway.site"
        ],
        [
         "48",
         "Your Facebook account has been reported. Verify to avoid suspension: facebook-security-team.xyz",
         "1",
         "your facebook account has been reported. verify to avoid suspension: facebook-security-team.xyz"
        ],
        [
         "49",
         "Congratulations! You've won 2nd prize in Coca-Cola sweepstakes. Claim $5,000: coke-prize.site",
         "1",
         "congratulations! you've won 2nd prize in coca-cola sweepstakes. claim $5,000: coke-prize.site"
        ]
       ],
       "shape": {
        "columns": 3,
        "rows": 5774
       }
      },
      "text/html": [
       "<div>\n",
       "<style scoped>\n",
       "    .dataframe tbody tr th:only-of-type {\n",
       "        vertical-align: middle;\n",
       "    }\n",
       "\n",
       "    .dataframe tbody tr th {\n",
       "        vertical-align: top;\n",
       "    }\n",
       "\n",
       "    .dataframe thead th {\n",
       "        text-align: right;\n",
       "    }\n",
       "</style>\n",
       "<table border=\"1\" class=\"dataframe\">\n",
       "  <thead>\n",
       "    <tr style=\"text-align: right;\">\n",
       "      <th></th>\n",
       "      <th>Message</th>\n",
       "      <th>Category</th>\n",
       "      <th>lower_message</th>\n",
       "    </tr>\n",
       "  </thead>\n",
       "  <tbody>\n",
       "    <tr>\n",
       "      <th>0</th>\n",
       "      <td>URGENT: Your mobile number has won $500,000 in...</td>\n",
       "      <td>1</td>\n",
       "      <td>urgent: your mobile number has won $500,000 in...</td>\n",
       "    </tr>\n",
       "    <tr>\n",
       "      <th>1</th>\n",
       "      <td>CONGRATULATIONS! You've been selected for a fr...</td>\n",
       "      <td>1</td>\n",
       "      <td>congratulations! you've been selected for a fr...</td>\n",
       "    </tr>\n",
       "    <tr>\n",
       "      <th>2</th>\n",
       "      <td>Your package delivery #8742 is pending. Update...</td>\n",
       "      <td>1</td>\n",
       "      <td>your package delivery #8742 is pending. update...</td>\n",
       "    </tr>\n",
       "    <tr>\n",
       "      <th>3</th>\n",
       "      <td>NETFLIX: Your account has been suspended. Upda...</td>\n",
       "      <td>1</td>\n",
       "      <td>netflix: your account has been suspended. upda...</td>\n",
       "    </tr>\n",
       "    <tr>\n",
       "      <th>4</th>\n",
       "      <td>50% OFF at Fashion World! Limited time offer. ...</td>\n",
       "      <td>1</td>\n",
       "      <td>50% off at fashion world! limited time offer. ...</td>\n",
       "    </tr>\n",
       "    <tr>\n",
       "      <th>...</th>\n",
       "      <td>...</td>\n",
       "      <td>...</td>\n",
       "      <td>...</td>\n",
       "    </tr>\n",
       "    <tr>\n",
       "      <th>5569</th>\n",
       "      <td>This is the 2nd time we have tried 2 contact u...</td>\n",
       "      <td>1</td>\n",
       "      <td>this is the 2nd time we have tried 2 contact u...</td>\n",
       "    </tr>\n",
       "    <tr>\n",
       "      <th>5570</th>\n",
       "      <td>Will ü b going to esplanade fr home?\\n</td>\n",
       "      <td>0</td>\n",
       "      <td>will ü b going to esplanade fr home?\\n</td>\n",
       "    </tr>\n",
       "    <tr>\n",
       "      <th>5571</th>\n",
       "      <td>Pity, * was in mood for that. So...any other s...</td>\n",
       "      <td>0</td>\n",
       "      <td>pity, * was in mood for that. so...any other s...</td>\n",
       "    </tr>\n",
       "    <tr>\n",
       "      <th>5572</th>\n",
       "      <td>The guy did some bitching but I acted like i'd...</td>\n",
       "      <td>0</td>\n",
       "      <td>the guy did some bitching but i acted like i'd...</td>\n",
       "    </tr>\n",
       "    <tr>\n",
       "      <th>5573</th>\n",
       "      <td>Rofl. Its true to its name\\n</td>\n",
       "      <td>0</td>\n",
       "      <td>rofl. its true to its name\\n</td>\n",
       "    </tr>\n",
       "  </tbody>\n",
       "</table>\n",
       "<p>5774 rows × 3 columns</p>\n",
       "</div>"
      ],
      "text/plain": [
       "                                                Message  Category  \\\n",
       "0     URGENT: Your mobile number has won $500,000 in...         1   \n",
       "1     CONGRATULATIONS! You've been selected for a fr...         1   \n",
       "2     Your package delivery #8742 is pending. Update...         1   \n",
       "3     NETFLIX: Your account has been suspended. Upda...         1   \n",
       "4     50% OFF at Fashion World! Limited time offer. ...         1   \n",
       "...                                                 ...       ...   \n",
       "5569  This is the 2nd time we have tried 2 contact u...         1   \n",
       "5570             Will ü b going to esplanade fr home?\\n         0   \n",
       "5571  Pity, * was in mood for that. So...any other s...         0   \n",
       "5572  The guy did some bitching but I acted like i'd...         0   \n",
       "5573                       Rofl. Its true to its name\\n         0   \n",
       "\n",
       "                                          lower_message  \n",
       "0     urgent: your mobile number has won $500,000 in...  \n",
       "1     congratulations! you've been selected for a fr...  \n",
       "2     your package delivery #8742 is pending. update...  \n",
       "3     netflix: your account has been suspended. upda...  \n",
       "4     50% off at fashion world! limited time offer. ...  \n",
       "...                                                 ...  \n",
       "5569  this is the 2nd time we have tried 2 contact u...  \n",
       "5570             will ü b going to esplanade fr home?\\n  \n",
       "5571  pity, * was in mood for that. so...any other s...  \n",
       "5572  the guy did some bitching but i acted like i'd...  \n",
       "5573                       rofl. its true to its name\\n  \n",
       "\n",
       "[5774 rows x 3 columns]"
      ]
     },
     "execution_count": 263,
     "metadata": {},
     "output_type": "execute_result"
    }
   ],
   "source": [
    "df_cleaning['lower_message'] = df_cleaning['Message'].str.lower()\n",
    "df_cleaning"
   ]
  },
  {
   "cell_type": "code",
   "execution_count": 264,
   "metadata": {},
   "outputs": [
    {
     "data": {
      "application/vnd.microsoft.datawrangler.viewer.v0+json": {
       "columns": [
        {
         "name": "index",
         "rawType": "int64",
         "type": "integer"
        },
        {
         "name": "Message",
         "rawType": "object",
         "type": "string"
        },
        {
         "name": "Category",
         "rawType": "int64",
         "type": "integer"
        },
        {
         "name": "lower_message",
         "rawType": "object",
         "type": "string"
        },
        {
         "name": "message_wo_punct",
         "rawType": "object",
         "type": "string"
        }
       ],
       "conversionMethod": "pd.DataFrame",
       "ref": "36a4af9c-37fb-4aaa-88a2-e140292440c3",
       "rows": [
        [
         "0",
         "URGENT: Your mobile number has won $500,000 in our prize draw! Call now to claim: +1-555-123-4567. Don't miss this chance!",
         "1",
         "urgent: your mobile number has won $500,000 in our prize draw! call now to claim: +1-555-123-4567. don't miss this chance!",
         "urgent your mobile number has won 500000 in our prize draw call now to claim 15551234567 dont miss this chance"
        ],
        [
         "1",
         "CONGRATULATIONS! You've been selected for a free iPhone 14! Click here to claim: www.free-iphone-claim.xyz",
         "1",
         "congratulations! you've been selected for a free iphone 14! click here to claim: www.free-iphone-claim.xyz",
         "congratulations youve been selected for a free iphone 14 click here to claim wwwfreeiphoneclaimxyz"
        ],
        [
         "2",
         "Your package delivery #8742 is pending. Update delivery address within 24hrs: bit.ly/pkg-update",
         "1",
         "your package delivery #8742 is pending. update delivery address within 24hrs: bit.ly/pkg-update",
         "your package delivery 8742 is pending update delivery address within 24hrs bitlypkgupdate"
        ],
        [
         "3",
         "NETFLIX: Your account has been suspended. Update your payment info: netflx-account-verify.com",
         "1",
         "netflix: your account has been suspended. update your payment info: netflx-account-verify.com",
         "netflix your account has been suspended update your payment info netflxaccountverifycom"
        ],
        [
         "4",
         "50% OFF at Fashion World! Limited time offer. Shop now: fw-sales.site/discount",
         "1",
         "50% off at fashion world! limited time offer. shop now: fw-sales.site/discount",
         "50 off at fashion world limited time offer shop now fwsalessitediscount"
        ],
        [
         "5",
         "Your bank account has been compromised. Call security team now: 888-555-9876",
         "1",
         "your bank account has been compromised. call security team now: 888-555-9876",
         "your bank account has been compromised call security team now 8885559876"
        ],
        [
         "6",
         "Dear customer, your Apple ID has been locked for security reasons. Verify identity: secure-apple-id.com",
         "1",
         "dear customer, your apple id has been locked for security reasons. verify identity: secure-apple-id.com",
         "dear customer your apple id has been locked for security reasons verify identity secureappleidcom"
        ],
        [
         "7",
         "BREAKING: New government regulation allows citizens to clear ALL debt legally. Find out how: debt-freedom.xyz",
         "1",
         "breaking: new government regulation allows citizens to clear all debt legally. find out how: debt-freedom.xyz",
         "breaking new government regulation allows citizens to clear all debt legally find out how debtfreedomxyz"
        ],
        [
         "8",
         "Hi this is Jenny from dating service. I saw your profile and want to meet. Text me: +1-555-765-4321",
         "1",
         "hi this is jenny from dating service. i saw your profile and want to meet. text me: +1-555-765-4321",
         "hi this is jenny from dating service i saw your profile and want to meet text me 15557654321"
        ],
        [
         "9",
         "FINAL NOTICE: Your car warranty is about to expire. Last chance to extend coverage. Call: 800-555-1234",
         "1",
         "final notice: your car warranty is about to expire. last chance to extend coverage. call: 800-555-1234",
         "final notice your car warranty is about to expire last chance to extend coverage call 8005551234"
        ],
        [
         "10",
         "ALERT: Unusual activity detected in your account. Verify transactions: secure-bank-verify.com",
         "1",
         "alert: unusual activity detected in your account. verify transactions: secure-bank-verify.com",
         "alert unusual activity detected in your account verify transactions securebankverifycom"
        ],
        [
         "11",
         "Congratulations! You've been pre-approved for a $50,000 loan with low interest. Apply now: ez-loan-apply.com",
         "1",
         "congratulations! you've been pre-approved for a $50,000 loan with low interest. apply now: ez-loan-apply.com",
         "congratulations youve been preapproved for a 50000 loan with low interest apply now ezloanapplycom"
        ],
        [
         "12",
         "Your utility bill payment failed. Service will be disconnected in 24 hours. Update payment: utilitypay-secure.com",
         "1",
         "your utility bill payment failed. service will be disconnected in 24 hours. update payment: utilitypay-secure.com",
         "your utility bill payment failed service will be disconnected in 24 hours update payment utilitypaysecurecom"
        ],
        [
         "13",
         "You have 1 unread message from your secret admirer. View now: date-match.xyz/message",
         "1",
         "you have 1 unread message from your secret admirer. view now: date-match.xyz/message",
         "you have 1 unread message from your secret admirer view now datematchxyzmessage"
        ],
        [
         "14",
         "ATTENTION: Your Social Security Number has been suspended due to suspicious activity. Call: 866-555-4321",
         "1",
         "attention: your social security number has been suspended due to suspicious activity. call: 866-555-4321",
         "attention your social security number has been suspended due to suspicious activity call 8665554321"
        ],
        [
         "15",
         "Your prescription is ready for pickup. Get 70% discount with this code: RX7042. Details: meds-discount.site",
         "1",
         "your prescription is ready for pickup. get 70% discount with this code: rx7042. details: meds-discount.site",
         "your prescription is ready for pickup get 70 discount with this code rx7042 details medsdiscountsite"
        ],
        [
         "16",
         "You have won a $1,000 Walmart gift card. Claim now: walmart-gift.xyz/claim",
         "1",
         "you have won a $1,000 walmart gift card. claim now: walmart-gift.xyz/claim",
         "you have won a 1000 walmart gift card claim now walmartgiftxyzclaim"
        ],
        [
         "17",
         "This is your carrier: Your phone bill is past due. Avoid service interruption: mobilepay-now.com",
         "1",
         "this is your carrier: your phone bill is past due. avoid service interruption: mobilepay-now.com",
         "this is your carrier your phone bill is past due avoid service interruption mobilepaynowcom"
        ],
        [
         "18",
         "URGENT Tax Refund: You are eligible for $1,249.50 tax refund. Submit claim: tax-refund-gov.xyz",
         "1",
         "urgent tax refund: you are eligible for $1,249.50 tax refund. submit claim: tax-refund-gov.xyz",
         "urgent tax refund you are eligible for 124950 tax refund submit claim taxrefundgovxyz"
        ],
        [
         "19",
         "Your order #43298 has been shipped. Track delivery status: amaz0n-tracking.site",
         "1",
         "your order #43298 has been shipped. track delivery status: amaz0n-tracking.site",
         "your order 43298 has been shipped track delivery status amaz0ntrackingsite"
        ],
        [
         "20",
         "Investment Alert: This penny stock is set to explode 500% next week! Buy now: stock-goldmine.xyz",
         "1",
         "investment alert: this penny stock is set to explode 500% next week! buy now: stock-goldmine.xyz",
         "investment alert this penny stock is set to explode 500 next week buy now stockgoldminexyz"
        ],
        [
         "21",
         "Your account access will be terminated. Verify identity: secure-account-verify.com",
         "1",
         "your account access will be terminated. verify identity: secure-account-verify.com",
         "your account access will be terminated verify identity secureaccountverifycom"
        ],
        [
         "22",
         "FINAL WARNING: Your vehicle is showing in our system as uninsured. Avoid penalties: auto-insure-now.site",
         "1",
         "final warning: your vehicle is showing in our system as uninsured. avoid penalties: auto-insure-now.site",
         "final warning your vehicle is showing in our system as uninsured avoid penalties autoinsurenowsite"
        ],
        [
         "23",
         "IMPORTANT: Your recent payment was declined. Update payment method: paypal-secure-update.com",
         "1",
         "important: your recent payment was declined. update payment method: paypal-secure-update.com",
         "important your recent payment was declined update payment method paypalsecureupdatecom"
        ],
        [
         "24",
         "Congratulations! You've been selected for our exclusive survey. Complete for $90 reward: survey-rewards.xyz",
         "1",
         "congratulations! you've been selected for our exclusive survey. complete for $90 reward: survey-rewards.xyz",
         "congratulations youve been selected for our exclusive survey complete for 90 reward surveyrewardsxyz"
        ],
        [
         "25",
         "ATTENTION CUSTOMER: Your internet service will be disconnected. Pay now: internet-billing.site",
         "1",
         "attention customer: your internet service will be disconnected. pay now: internet-billing.site",
         "attention customer your internet service will be disconnected pay now internetbillingsite"
        ],
        [
         "26",
         "Your CV was found in our database. $95k position available. Apply now: career-opportunity.xyz",
         "1",
         "your cv was found in our database. $95k position available. apply now: career-opportunity.xyz",
         "your cv was found in our database 95k position available apply now careeropportunityxyz"
        ],
        [
         "27",
         "COURT NOTICE: You are scheduled to appear. Case #CR7231. Details: court-notice.site",
         "1",
         "court notice: you are scheduled to appear. case #cr7231. details: court-notice.site",
         "court notice you are scheduled to appear case cr7231 details courtnoticesite"
        ],
        [
         "28",
         "Your phone has 3 virus! Click to scan and remove: virus-removal.xyz",
         "1",
         "your phone has 3 virus! click to scan and remove: virus-removal.xyz",
         "your phone has 3 virus click to scan and remove virusremovalxyz"
        ],
        [
         "29",
         "FREE: Get your credit score and report now! Limited offer: free-credit-check.site",
         "1",
         "free: get your credit score and report now! limited offer: free-credit-check.site",
         "free get your credit score and report now limited offer freecreditchecksite"
        ],
        [
         "30",
         "WINNER ALERT: You've been selected to receive a $250 Amazon gift card. Claim now: amazon-rewards.site",
         "1",
         "winner alert: you've been selected to receive a $250 amazon gift card. claim now: amazon-rewards.site",
         "winner alert youve been selected to receive a 250 amazon gift card claim now amazonrewardssite"
        ],
        [
         "31",
         "URGENT: Your credit card has been charged $499. If unauthorized call: +1-888-555-3214",
         "1",
         "urgent: your credit card has been charged $499. if unauthorized call: +1-888-555-3214",
         "urgent your credit card has been charged 499 if unauthorized call 18885553214"
        ],
        [
         "32",
         "Your Apple iCloud account will be deleted in 24 hours. Verify now: secure-icloud-verify.com",
         "1",
         "your apple icloud account will be deleted in 24 hours. verify now: secure-icloud-verify.com",
         "your apple icloud account will be deleted in 24 hours verify now secureicloudverifycom"
        ],
        [
         "33",
         "ATTENTION: We've been trying to reach you about your car's extended warranty. Last chance: 800-555-9876",
         "1",
         "attention: we've been trying to reach you about your car's extended warranty. last chance: 800-555-9876",
         "attention weve been trying to reach you about your cars extended warranty last chance 8005559876"
        ],
        [
         "34",
         "Congratulations! You qualify for student loan forgiveness. Apply here: loan-forgive-gov.xyz",
         "1",
         "congratulations! you qualify for student loan forgiveness. apply here: loan-forgive-gov.xyz",
         "congratulations you qualify for student loan forgiveness apply here loanforgivegovxyz"
        ],
        [
         "35",
         "SECURITY ALERT: Suspicious sign-in attempt on your Google account. Verify now: google-secure-verify.com",
         "1",
         "security alert: suspicious sign-in attempt on your google account. verify now: google-secure-verify.com",
         "security alert suspicious signin attempt on your google account verify now googlesecureverifycom"
        ],
        [
         "36",
         "Your parcel #UK45692 is on hold. Confirm delivery address: royal-mail-delivery.site",
         "1",
         "your parcel #uk45692 is on hold. confirm delivery address: royal-mail-delivery.site",
         "your parcel uk45692 is on hold confirm delivery address royalmaildeliverysite"
        ],
        [
         "37",
         "50% OFF EVERYTHING at Nike! Limited time offer: nike-special-deals.xyz",
         "1",
         "50% off everything at nike! limited time offer: nike-special-deals.xyz",
         "50 off everything at nike limited time offer nikespecialdealsxyz"
        ],
        [
         "38",
         "ACTION REQUIRED: Your PayPal account has been limited. Update info: paypal-account-service.com",
         "1",
         "action required: your paypal account has been limited. update info: paypal-account-service.com",
         "action required your paypal account has been limited update info paypalaccountservicecom"
        ],
        [
         "39",
         "URGENT: Your electricity will be disconnected tonight. Pay now: utility-pay-online.site",
         "1",
         "urgent: your electricity will be disconnected tonight. pay now: utility-pay-online.site",
         "urgent your electricity will be disconnected tonight pay now utilitypayonlinesite"
        ],
        [
         "40",
         "Your Bitcoin wallet has been credited with 0.5 BTC. Confirm receipt: bitcoin-wallet-verify.xyz",
         "1",
         "your bitcoin wallet has been credited with 0.5 btc. confirm receipt: bitcoin-wallet-verify.xyz",
         "your bitcoin wallet has been credited with 05 btc confirm receipt bitcoinwalletverifyxyz"
        ],
        [
         "41",
         "FINAL NOTICE: Your tax records are out of date. Avoid penalties: irs-tax-update.site",
         "1",
         "final notice: your tax records are out of date. avoid penalties: irs-tax-update.site",
         "final notice your tax records are out of date avoid penalties irstaxupdatesite"
        ],
        [
         "42",
         "You've been selected for a $50 Starbucks gift card! Claim now: starbucks-rewards.xyz",
         "1",
         "you've been selected for a $50 starbucks gift card! claim now: starbucks-rewards.xyz",
         "youve been selected for a 50 starbucks gift card claim now starbucksrewardsxyz"
        ],
        [
         "43",
         "Your Instagram account will be permanently deleted. Verify ownership: instagram-verify.site",
         "1",
         "your instagram account will be permanently deleted. verify ownership: instagram-verify.site",
         "your instagram account will be permanently deleted verify ownership instagramverifysite"
        ],
        [
         "44",
         "URGENT: Your phone service will be suspended. Update billing info: mobile-service-update.com",
         "1",
         "urgent: your phone service will be suspended. update billing info: mobile-service-update.com",
         "urgent your phone service will be suspended update billing info mobileserviceupdatecom"
        ],
        [
         "45",
         "Congratulations! You're prequalified for a new credit card with $10,000 limit: premier-credit-offer.site",
         "1",
         "congratulations! you're prequalified for a new credit card with $10,000 limit: premier-credit-offer.site",
         "congratulations youre prequalified for a new credit card with 10000 limit premiercreditoffersite"
        ],
        [
         "46",
         "Your flight reservation #AX78542 has been changed. Confirm details: airline-update.xyz",
         "1",
         "your flight reservation #ax78542 has been changed. confirm details: airline-update.xyz",
         "your flight reservation ax78542 has been changed confirm details airlineupdatexyz"
        ],
        [
         "47",
         "LAST CHANCE: Claim your free laptop from our annual giveaway: free-laptop-giveaway.site",
         "1",
         "last chance: claim your free laptop from our annual giveaway: free-laptop-giveaway.site",
         "last chance claim your free laptop from our annual giveaway freelaptopgiveawaysite"
        ],
        [
         "48",
         "Your Facebook account has been reported. Verify to avoid suspension: facebook-security-team.xyz",
         "1",
         "your facebook account has been reported. verify to avoid suspension: facebook-security-team.xyz",
         "your facebook account has been reported verify to avoid suspension facebooksecurityteamxyz"
        ],
        [
         "49",
         "Congratulations! You've won 2nd prize in Coca-Cola sweepstakes. Claim $5,000: coke-prize.site",
         "1",
         "congratulations! you've won 2nd prize in coca-cola sweepstakes. claim $5,000: coke-prize.site",
         "congratulations youve won 2nd prize in cocacola sweepstakes claim 5000 cokeprizesite"
        ]
       ],
       "shape": {
        "columns": 4,
        "rows": 5774
       }
      },
      "text/html": [
       "<div>\n",
       "<style scoped>\n",
       "    .dataframe tbody tr th:only-of-type {\n",
       "        vertical-align: middle;\n",
       "    }\n",
       "\n",
       "    .dataframe tbody tr th {\n",
       "        vertical-align: top;\n",
       "    }\n",
       "\n",
       "    .dataframe thead th {\n",
       "        text-align: right;\n",
       "    }\n",
       "</style>\n",
       "<table border=\"1\" class=\"dataframe\">\n",
       "  <thead>\n",
       "    <tr style=\"text-align: right;\">\n",
       "      <th></th>\n",
       "      <th>Message</th>\n",
       "      <th>Category</th>\n",
       "      <th>lower_message</th>\n",
       "      <th>message_wo_punct</th>\n",
       "    </tr>\n",
       "  </thead>\n",
       "  <tbody>\n",
       "    <tr>\n",
       "      <th>0</th>\n",
       "      <td>URGENT: Your mobile number has won $500,000 in...</td>\n",
       "      <td>1</td>\n",
       "      <td>urgent: your mobile number has won $500,000 in...</td>\n",
       "      <td>urgent your mobile number has won 500000 in ou...</td>\n",
       "    </tr>\n",
       "    <tr>\n",
       "      <th>1</th>\n",
       "      <td>CONGRATULATIONS! You've been selected for a fr...</td>\n",
       "      <td>1</td>\n",
       "      <td>congratulations! you've been selected for a fr...</td>\n",
       "      <td>congratulations youve been selected for a free...</td>\n",
       "    </tr>\n",
       "    <tr>\n",
       "      <th>2</th>\n",
       "      <td>Your package delivery #8742 is pending. Update...</td>\n",
       "      <td>1</td>\n",
       "      <td>your package delivery #8742 is pending. update...</td>\n",
       "      <td>your package delivery 8742 is pending update d...</td>\n",
       "    </tr>\n",
       "    <tr>\n",
       "      <th>3</th>\n",
       "      <td>NETFLIX: Your account has been suspended. Upda...</td>\n",
       "      <td>1</td>\n",
       "      <td>netflix: your account has been suspended. upda...</td>\n",
       "      <td>netflix your account has been suspended update...</td>\n",
       "    </tr>\n",
       "    <tr>\n",
       "      <th>4</th>\n",
       "      <td>50% OFF at Fashion World! Limited time offer. ...</td>\n",
       "      <td>1</td>\n",
       "      <td>50% off at fashion world! limited time offer. ...</td>\n",
       "      <td>50 off at fashion world limited time offer sho...</td>\n",
       "    </tr>\n",
       "    <tr>\n",
       "      <th>...</th>\n",
       "      <td>...</td>\n",
       "      <td>...</td>\n",
       "      <td>...</td>\n",
       "      <td>...</td>\n",
       "    </tr>\n",
       "    <tr>\n",
       "      <th>5569</th>\n",
       "      <td>This is the 2nd time we have tried 2 contact u...</td>\n",
       "      <td>1</td>\n",
       "      <td>this is the 2nd time we have tried 2 contact u...</td>\n",
       "      <td>this is the 2nd time we have tried 2 contact u...</td>\n",
       "    </tr>\n",
       "    <tr>\n",
       "      <th>5570</th>\n",
       "      <td>Will ü b going to esplanade fr home?\\n</td>\n",
       "      <td>0</td>\n",
       "      <td>will ü b going to esplanade fr home?\\n</td>\n",
       "      <td>will ü b going to esplanade fr home\\n</td>\n",
       "    </tr>\n",
       "    <tr>\n",
       "      <th>5571</th>\n",
       "      <td>Pity, * was in mood for that. So...any other s...</td>\n",
       "      <td>0</td>\n",
       "      <td>pity, * was in mood for that. so...any other s...</td>\n",
       "      <td>pity  was in mood for that soany other suggest...</td>\n",
       "    </tr>\n",
       "    <tr>\n",
       "      <th>5572</th>\n",
       "      <td>The guy did some bitching but I acted like i'd...</td>\n",
       "      <td>0</td>\n",
       "      <td>the guy did some bitching but i acted like i'd...</td>\n",
       "      <td>the guy did some bitching but i acted like id ...</td>\n",
       "    </tr>\n",
       "    <tr>\n",
       "      <th>5573</th>\n",
       "      <td>Rofl. Its true to its name\\n</td>\n",
       "      <td>0</td>\n",
       "      <td>rofl. its true to its name\\n</td>\n",
       "      <td>rofl its true to its name\\n</td>\n",
       "    </tr>\n",
       "  </tbody>\n",
       "</table>\n",
       "<p>5774 rows × 4 columns</p>\n",
       "</div>"
      ],
      "text/plain": [
       "                                                Message  Category  \\\n",
       "0     URGENT: Your mobile number has won $500,000 in...         1   \n",
       "1     CONGRATULATIONS! You've been selected for a fr...         1   \n",
       "2     Your package delivery #8742 is pending. Update...         1   \n",
       "3     NETFLIX: Your account has been suspended. Upda...         1   \n",
       "4     50% OFF at Fashion World! Limited time offer. ...         1   \n",
       "...                                                 ...       ...   \n",
       "5569  This is the 2nd time we have tried 2 contact u...         1   \n",
       "5570             Will ü b going to esplanade fr home?\\n         0   \n",
       "5571  Pity, * was in mood for that. So...any other s...         0   \n",
       "5572  The guy did some bitching but I acted like i'd...         0   \n",
       "5573                       Rofl. Its true to its name\\n         0   \n",
       "\n",
       "                                          lower_message  \\\n",
       "0     urgent: your mobile number has won $500,000 in...   \n",
       "1     congratulations! you've been selected for a fr...   \n",
       "2     your package delivery #8742 is pending. update...   \n",
       "3     netflix: your account has been suspended. upda...   \n",
       "4     50% off at fashion world! limited time offer. ...   \n",
       "...                                                 ...   \n",
       "5569  this is the 2nd time we have tried 2 contact u...   \n",
       "5570             will ü b going to esplanade fr home?\\n   \n",
       "5571  pity, * was in mood for that. so...any other s...   \n",
       "5572  the guy did some bitching but i acted like i'd...   \n",
       "5573                       rofl. its true to its name\\n   \n",
       "\n",
       "                                       message_wo_punct  \n",
       "0     urgent your mobile number has won 500000 in ou...  \n",
       "1     congratulations youve been selected for a free...  \n",
       "2     your package delivery 8742 is pending update d...  \n",
       "3     netflix your account has been suspended update...  \n",
       "4     50 off at fashion world limited time offer sho...  \n",
       "...                                                 ...  \n",
       "5569  this is the 2nd time we have tried 2 contact u...  \n",
       "5570              will ü b going to esplanade fr home\\n  \n",
       "5571  pity  was in mood for that soany other suggest...  \n",
       "5572  the guy did some bitching but i acted like id ...  \n",
       "5573                        rofl its true to its name\\n  \n",
       "\n",
       "[5774 rows x 4 columns]"
      ]
     },
     "execution_count": 264,
     "metadata": {},
     "output_type": "execute_result"
    }
   ],
   "source": [
    "PUNCT_TO_REMOVE = string.punctuation\n",
    "def remove_punctuation(text):\n",
    "    \"\"\"custom function to remove the punctuation\"\"\"\n",
    "    return text.translate(str.maketrans('', '', PUNCT_TO_REMOVE))\n",
    "\n",
    "df_cleaning['message_wo_punct'] = df_cleaning[\"lower_message\"].apply(lambda text: remove_punctuation(text))\n",
    "df_cleaning"
   ]
  },
  {
   "cell_type": "code",
   "execution_count": 265,
   "metadata": {},
   "outputs": [
    {
     "data": {
      "application/vnd.microsoft.datawrangler.viewer.v0+json": {
       "columns": [
        {
         "name": "index",
         "rawType": "int64",
         "type": "integer"
        },
        {
         "name": "Message",
         "rawType": "object",
         "type": "string"
        },
        {
         "name": "Category",
         "rawType": "int64",
         "type": "integer"
        },
        {
         "name": "lower_message",
         "rawType": "object",
         "type": "string"
        },
        {
         "name": "message_wo_punct",
         "rawType": "object",
         "type": "string"
        },
        {
         "name": "message_no_stopwords",
         "rawType": "object",
         "type": "string"
        }
       ],
       "conversionMethod": "pd.DataFrame",
       "ref": "ff14aaae-167f-4e5a-b539-a49847e3e911",
       "rows": [
        [
         "0",
         "URGENT: Your mobile number has won $500,000 in our prize draw! Call now to claim: +1-555-123-4567. Don't miss this chance!",
         "1",
         "urgent: your mobile number has won $500,000 in our prize draw! call now to claim: +1-555-123-4567. don't miss this chance!",
         "urgent your mobile number has won 500000 in our prize draw call now to claim 15551234567 dont miss this chance",
         "urgent mobile number 500000 prize draw call claim 15551234567 dont miss chance"
        ],
        [
         "1",
         "CONGRATULATIONS! You've been selected for a free iPhone 14! Click here to claim: www.free-iphone-claim.xyz",
         "1",
         "congratulations! you've been selected for a free iphone 14! click here to claim: www.free-iphone-claim.xyz",
         "congratulations youve been selected for a free iphone 14 click here to claim wwwfreeiphoneclaimxyz",
         "congratulations youve selected free iphone 14 click claim wwwfreeiphoneclaimxyz"
        ],
        [
         "2",
         "Your package delivery #8742 is pending. Update delivery address within 24hrs: bit.ly/pkg-update",
         "1",
         "your package delivery #8742 is pending. update delivery address within 24hrs: bit.ly/pkg-update",
         "your package delivery 8742 is pending update delivery address within 24hrs bitlypkgupdate",
         "package delivery 8742 pending update delivery address within 24hrs bitlypkgupdate"
        ],
        [
         "3",
         "NETFLIX: Your account has been suspended. Update your payment info: netflx-account-verify.com",
         "1",
         "netflix: your account has been suspended. update your payment info: netflx-account-verify.com",
         "netflix your account has been suspended update your payment info netflxaccountverifycom",
         "netflix account suspended update payment info netflxaccountverifycom"
        ],
        [
         "4",
         "50% OFF at Fashion World! Limited time offer. Shop now: fw-sales.site/discount",
         "1",
         "50% off at fashion world! limited time offer. shop now: fw-sales.site/discount",
         "50 off at fashion world limited time offer shop now fwsalessitediscount",
         "50 fashion world limited time offer shop fwsalessitediscount"
        ],
        [
         "5",
         "Your bank account has been compromised. Call security team now: 888-555-9876",
         "1",
         "your bank account has been compromised. call security team now: 888-555-9876",
         "your bank account has been compromised call security team now 8885559876",
         "bank account compromised call security team 8885559876"
        ],
        [
         "6",
         "Dear customer, your Apple ID has been locked for security reasons. Verify identity: secure-apple-id.com",
         "1",
         "dear customer, your apple id has been locked for security reasons. verify identity: secure-apple-id.com",
         "dear customer your apple id has been locked for security reasons verify identity secureappleidcom",
         "dear customer apple id locked security reasons verify identity secureappleidcom"
        ],
        [
         "7",
         "BREAKING: New government regulation allows citizens to clear ALL debt legally. Find out how: debt-freedom.xyz",
         "1",
         "breaking: new government regulation allows citizens to clear all debt legally. find out how: debt-freedom.xyz",
         "breaking new government regulation allows citizens to clear all debt legally find out how debtfreedomxyz",
         "breaking new government regulation allows citizens clear debt legally find debtfreedomxyz"
        ],
        [
         "8",
         "Hi this is Jenny from dating service. I saw your profile and want to meet. Text me: +1-555-765-4321",
         "1",
         "hi this is jenny from dating service. i saw your profile and want to meet. text me: +1-555-765-4321",
         "hi this is jenny from dating service i saw your profile and want to meet text me 15557654321",
         "hi jenny dating service saw profile want meet text 15557654321"
        ],
        [
         "9",
         "FINAL NOTICE: Your car warranty is about to expire. Last chance to extend coverage. Call: 800-555-1234",
         "1",
         "final notice: your car warranty is about to expire. last chance to extend coverage. call: 800-555-1234",
         "final notice your car warranty is about to expire last chance to extend coverage call 8005551234",
         "final notice car warranty expire last chance extend coverage call 8005551234"
        ],
        [
         "10",
         "ALERT: Unusual activity detected in your account. Verify transactions: secure-bank-verify.com",
         "1",
         "alert: unusual activity detected in your account. verify transactions: secure-bank-verify.com",
         "alert unusual activity detected in your account verify transactions securebankverifycom",
         "alert unusual activity detected account verify transactions securebankverifycom"
        ],
        [
         "11",
         "Congratulations! You've been pre-approved for a $50,000 loan with low interest. Apply now: ez-loan-apply.com",
         "1",
         "congratulations! you've been pre-approved for a $50,000 loan with low interest. apply now: ez-loan-apply.com",
         "congratulations youve been preapproved for a 50000 loan with low interest apply now ezloanapplycom",
         "congratulations youve preapproved 50000 loan low interest apply ezloanapplycom"
        ],
        [
         "12",
         "Your utility bill payment failed. Service will be disconnected in 24 hours. Update payment: utilitypay-secure.com",
         "1",
         "your utility bill payment failed. service will be disconnected in 24 hours. update payment: utilitypay-secure.com",
         "your utility bill payment failed service will be disconnected in 24 hours update payment utilitypaysecurecom",
         "utility bill payment failed service disconnected 24 hours update payment utilitypaysecurecom"
        ],
        [
         "13",
         "You have 1 unread message from your secret admirer. View now: date-match.xyz/message",
         "1",
         "you have 1 unread message from your secret admirer. view now: date-match.xyz/message",
         "you have 1 unread message from your secret admirer view now datematchxyzmessage",
         "1 unread message secret admirer view datematchxyzmessage"
        ],
        [
         "14",
         "ATTENTION: Your Social Security Number has been suspended due to suspicious activity. Call: 866-555-4321",
         "1",
         "attention: your social security number has been suspended due to suspicious activity. call: 866-555-4321",
         "attention your social security number has been suspended due to suspicious activity call 8665554321",
         "attention social security number suspended due suspicious activity call 8665554321"
        ],
        [
         "15",
         "Your prescription is ready for pickup. Get 70% discount with this code: RX7042. Details: meds-discount.site",
         "1",
         "your prescription is ready for pickup. get 70% discount with this code: rx7042. details: meds-discount.site",
         "your prescription is ready for pickup get 70 discount with this code rx7042 details medsdiscountsite",
         "prescription ready pickup get 70 discount code rx7042 details medsdiscountsite"
        ],
        [
         "16",
         "You have won a $1,000 Walmart gift card. Claim now: walmart-gift.xyz/claim",
         "1",
         "you have won a $1,000 walmart gift card. claim now: walmart-gift.xyz/claim",
         "you have won a 1000 walmart gift card claim now walmartgiftxyzclaim",
         "1000 walmart gift card claim walmartgiftxyzclaim"
        ],
        [
         "17",
         "This is your carrier: Your phone bill is past due. Avoid service interruption: mobilepay-now.com",
         "1",
         "this is your carrier: your phone bill is past due. avoid service interruption: mobilepay-now.com",
         "this is your carrier your phone bill is past due avoid service interruption mobilepaynowcom",
         "carrier phone bill past due avoid service interruption mobilepaynowcom"
        ],
        [
         "18",
         "URGENT Tax Refund: You are eligible for $1,249.50 tax refund. Submit claim: tax-refund-gov.xyz",
         "1",
         "urgent tax refund: you are eligible for $1,249.50 tax refund. submit claim: tax-refund-gov.xyz",
         "urgent tax refund you are eligible for 124950 tax refund submit claim taxrefundgovxyz",
         "urgent tax refund eligible 124950 tax refund submit claim taxrefundgovxyz"
        ],
        [
         "19",
         "Your order #43298 has been shipped. Track delivery status: amaz0n-tracking.site",
         "1",
         "your order #43298 has been shipped. track delivery status: amaz0n-tracking.site",
         "your order 43298 has been shipped track delivery status amaz0ntrackingsite",
         "order 43298 shipped track delivery status amaz0ntrackingsite"
        ],
        [
         "20",
         "Investment Alert: This penny stock is set to explode 500% next week! Buy now: stock-goldmine.xyz",
         "1",
         "investment alert: this penny stock is set to explode 500% next week! buy now: stock-goldmine.xyz",
         "investment alert this penny stock is set to explode 500 next week buy now stockgoldminexyz",
         "investment alert penny stock set explode 500 next week buy stockgoldminexyz"
        ],
        [
         "21",
         "Your account access will be terminated. Verify identity: secure-account-verify.com",
         "1",
         "your account access will be terminated. verify identity: secure-account-verify.com",
         "your account access will be terminated verify identity secureaccountverifycom",
         "account access terminated verify identity secureaccountverifycom"
        ],
        [
         "22",
         "FINAL WARNING: Your vehicle is showing in our system as uninsured. Avoid penalties: auto-insure-now.site",
         "1",
         "final warning: your vehicle is showing in our system as uninsured. avoid penalties: auto-insure-now.site",
         "final warning your vehicle is showing in our system as uninsured avoid penalties autoinsurenowsite",
         "final warning vehicle showing system uninsured avoid penalties autoinsurenowsite"
        ],
        [
         "23",
         "IMPORTANT: Your recent payment was declined. Update payment method: paypal-secure-update.com",
         "1",
         "important: your recent payment was declined. update payment method: paypal-secure-update.com",
         "important your recent payment was declined update payment method paypalsecureupdatecom",
         "important recent payment declined update payment method paypalsecureupdatecom"
        ],
        [
         "24",
         "Congratulations! You've been selected for our exclusive survey. Complete for $90 reward: survey-rewards.xyz",
         "1",
         "congratulations! you've been selected for our exclusive survey. complete for $90 reward: survey-rewards.xyz",
         "congratulations youve been selected for our exclusive survey complete for 90 reward surveyrewardsxyz",
         "congratulations youve selected exclusive survey complete 90 reward surveyrewardsxyz"
        ],
        [
         "25",
         "ATTENTION CUSTOMER: Your internet service will be disconnected. Pay now: internet-billing.site",
         "1",
         "attention customer: your internet service will be disconnected. pay now: internet-billing.site",
         "attention customer your internet service will be disconnected pay now internetbillingsite",
         "attention customer internet service disconnected pay internetbillingsite"
        ],
        [
         "26",
         "Your CV was found in our database. $95k position available. Apply now: career-opportunity.xyz",
         "1",
         "your cv was found in our database. $95k position available. apply now: career-opportunity.xyz",
         "your cv was found in our database 95k position available apply now careeropportunityxyz",
         "cv found database 95k position available apply careeropportunityxyz"
        ],
        [
         "27",
         "COURT NOTICE: You are scheduled to appear. Case #CR7231. Details: court-notice.site",
         "1",
         "court notice: you are scheduled to appear. case #cr7231. details: court-notice.site",
         "court notice you are scheduled to appear case cr7231 details courtnoticesite",
         "court notice scheduled appear case cr7231 details courtnoticesite"
        ],
        [
         "28",
         "Your phone has 3 virus! Click to scan and remove: virus-removal.xyz",
         "1",
         "your phone has 3 virus! click to scan and remove: virus-removal.xyz",
         "your phone has 3 virus click to scan and remove virusremovalxyz",
         "phone 3 virus click scan remove virusremovalxyz"
        ],
        [
         "29",
         "FREE: Get your credit score and report now! Limited offer: free-credit-check.site",
         "1",
         "free: get your credit score and report now! limited offer: free-credit-check.site",
         "free get your credit score and report now limited offer freecreditchecksite",
         "free get credit score report limited offer freecreditchecksite"
        ],
        [
         "30",
         "WINNER ALERT: You've been selected to receive a $250 Amazon gift card. Claim now: amazon-rewards.site",
         "1",
         "winner alert: you've been selected to receive a $250 amazon gift card. claim now: amazon-rewards.site",
         "winner alert youve been selected to receive a 250 amazon gift card claim now amazonrewardssite",
         "winner alert youve selected receive 250 amazon gift card claim amazonrewardssite"
        ],
        [
         "31",
         "URGENT: Your credit card has been charged $499. If unauthorized call: +1-888-555-3214",
         "1",
         "urgent: your credit card has been charged $499. if unauthorized call: +1-888-555-3214",
         "urgent your credit card has been charged 499 if unauthorized call 18885553214",
         "urgent credit card charged 499 unauthorized call 18885553214"
        ],
        [
         "32",
         "Your Apple iCloud account will be deleted in 24 hours. Verify now: secure-icloud-verify.com",
         "1",
         "your apple icloud account will be deleted in 24 hours. verify now: secure-icloud-verify.com",
         "your apple icloud account will be deleted in 24 hours verify now secureicloudverifycom",
         "apple icloud account deleted 24 hours verify secureicloudverifycom"
        ],
        [
         "33",
         "ATTENTION: We've been trying to reach you about your car's extended warranty. Last chance: 800-555-9876",
         "1",
         "attention: we've been trying to reach you about your car's extended warranty. last chance: 800-555-9876",
         "attention weve been trying to reach you about your cars extended warranty last chance 8005559876",
         "attention weve trying reach cars extended warranty last chance 8005559876"
        ],
        [
         "34",
         "Congratulations! You qualify for student loan forgiveness. Apply here: loan-forgive-gov.xyz",
         "1",
         "congratulations! you qualify for student loan forgiveness. apply here: loan-forgive-gov.xyz",
         "congratulations you qualify for student loan forgiveness apply here loanforgivegovxyz",
         "congratulations qualify student loan forgiveness apply loanforgivegovxyz"
        ],
        [
         "35",
         "SECURITY ALERT: Suspicious sign-in attempt on your Google account. Verify now: google-secure-verify.com",
         "1",
         "security alert: suspicious sign-in attempt on your google account. verify now: google-secure-verify.com",
         "security alert suspicious signin attempt on your google account verify now googlesecureverifycom",
         "security alert suspicious signin attempt google account verify googlesecureverifycom"
        ],
        [
         "36",
         "Your parcel #UK45692 is on hold. Confirm delivery address: royal-mail-delivery.site",
         "1",
         "your parcel #uk45692 is on hold. confirm delivery address: royal-mail-delivery.site",
         "your parcel uk45692 is on hold confirm delivery address royalmaildeliverysite",
         "parcel uk45692 hold confirm delivery address royalmaildeliverysite"
        ],
        [
         "37",
         "50% OFF EVERYTHING at Nike! Limited time offer: nike-special-deals.xyz",
         "1",
         "50% off everything at nike! limited time offer: nike-special-deals.xyz",
         "50 off everything at nike limited time offer nikespecialdealsxyz",
         "50 everything nike limited time offer nikespecialdealsxyz"
        ],
        [
         "38",
         "ACTION REQUIRED: Your PayPal account has been limited. Update info: paypal-account-service.com",
         "1",
         "action required: your paypal account has been limited. update info: paypal-account-service.com",
         "action required your paypal account has been limited update info paypalaccountservicecom",
         "action required paypal account limited update info paypalaccountservicecom"
        ],
        [
         "39",
         "URGENT: Your electricity will be disconnected tonight. Pay now: utility-pay-online.site",
         "1",
         "urgent: your electricity will be disconnected tonight. pay now: utility-pay-online.site",
         "urgent your electricity will be disconnected tonight pay now utilitypayonlinesite",
         "urgent electricity disconnected tonight pay utilitypayonlinesite"
        ],
        [
         "40",
         "Your Bitcoin wallet has been credited with 0.5 BTC. Confirm receipt: bitcoin-wallet-verify.xyz",
         "1",
         "your bitcoin wallet has been credited with 0.5 btc. confirm receipt: bitcoin-wallet-verify.xyz",
         "your bitcoin wallet has been credited with 05 btc confirm receipt bitcoinwalletverifyxyz",
         "bitcoin wallet credited 05 btc confirm receipt bitcoinwalletverifyxyz"
        ],
        [
         "41",
         "FINAL NOTICE: Your tax records are out of date. Avoid penalties: irs-tax-update.site",
         "1",
         "final notice: your tax records are out of date. avoid penalties: irs-tax-update.site",
         "final notice your tax records are out of date avoid penalties irstaxupdatesite",
         "final notice tax records date avoid penalties irstaxupdatesite"
        ],
        [
         "42",
         "You've been selected for a $50 Starbucks gift card! Claim now: starbucks-rewards.xyz",
         "1",
         "you've been selected for a $50 starbucks gift card! claim now: starbucks-rewards.xyz",
         "youve been selected for a 50 starbucks gift card claim now starbucksrewardsxyz",
         "youve selected 50 starbucks gift card claim starbucksrewardsxyz"
        ],
        [
         "43",
         "Your Instagram account will be permanently deleted. Verify ownership: instagram-verify.site",
         "1",
         "your instagram account will be permanently deleted. verify ownership: instagram-verify.site",
         "your instagram account will be permanently deleted verify ownership instagramverifysite",
         "instagram account permanently deleted verify ownership instagramverifysite"
        ],
        [
         "44",
         "URGENT: Your phone service will be suspended. Update billing info: mobile-service-update.com",
         "1",
         "urgent: your phone service will be suspended. update billing info: mobile-service-update.com",
         "urgent your phone service will be suspended update billing info mobileserviceupdatecom",
         "urgent phone service suspended update billing info mobileserviceupdatecom"
        ],
        [
         "45",
         "Congratulations! You're prequalified for a new credit card with $10,000 limit: premier-credit-offer.site",
         "1",
         "congratulations! you're prequalified for a new credit card with $10,000 limit: premier-credit-offer.site",
         "congratulations youre prequalified for a new credit card with 10000 limit premiercreditoffersite",
         "congratulations youre prequalified new credit card 10000 limit premiercreditoffersite"
        ],
        [
         "46",
         "Your flight reservation #AX78542 has been changed. Confirm details: airline-update.xyz",
         "1",
         "your flight reservation #ax78542 has been changed. confirm details: airline-update.xyz",
         "your flight reservation ax78542 has been changed confirm details airlineupdatexyz",
         "flight reservation ax78542 changed confirm details airlineupdatexyz"
        ],
        [
         "47",
         "LAST CHANCE: Claim your free laptop from our annual giveaway: free-laptop-giveaway.site",
         "1",
         "last chance: claim your free laptop from our annual giveaway: free-laptop-giveaway.site",
         "last chance claim your free laptop from our annual giveaway freelaptopgiveawaysite",
         "last chance claim free laptop annual giveaway freelaptopgiveawaysite"
        ],
        [
         "48",
         "Your Facebook account has been reported. Verify to avoid suspension: facebook-security-team.xyz",
         "1",
         "your facebook account has been reported. verify to avoid suspension: facebook-security-team.xyz",
         "your facebook account has been reported verify to avoid suspension facebooksecurityteamxyz",
         "facebook account reported verify avoid suspension facebooksecurityteamxyz"
        ],
        [
         "49",
         "Congratulations! You've won 2nd prize in Coca-Cola sweepstakes. Claim $5,000: coke-prize.site",
         "1",
         "congratulations! you've won 2nd prize in coca-cola sweepstakes. claim $5,000: coke-prize.site",
         "congratulations youve won 2nd prize in cocacola sweepstakes claim 5000 cokeprizesite",
         "congratulations youve 2nd prize cocacola sweepstakes claim 5000 cokeprizesite"
        ]
       ],
       "shape": {
        "columns": 5,
        "rows": 5774
       }
      },
      "text/html": [
       "<div>\n",
       "<style scoped>\n",
       "    .dataframe tbody tr th:only-of-type {\n",
       "        vertical-align: middle;\n",
       "    }\n",
       "\n",
       "    .dataframe tbody tr th {\n",
       "        vertical-align: top;\n",
       "    }\n",
       "\n",
       "    .dataframe thead th {\n",
       "        text-align: right;\n",
       "    }\n",
       "</style>\n",
       "<table border=\"1\" class=\"dataframe\">\n",
       "  <thead>\n",
       "    <tr style=\"text-align: right;\">\n",
       "      <th></th>\n",
       "      <th>Message</th>\n",
       "      <th>Category</th>\n",
       "      <th>lower_message</th>\n",
       "      <th>message_wo_punct</th>\n",
       "      <th>message_no_stopwords</th>\n",
       "    </tr>\n",
       "  </thead>\n",
       "  <tbody>\n",
       "    <tr>\n",
       "      <th>0</th>\n",
       "      <td>URGENT: Your mobile number has won $500,000 in...</td>\n",
       "      <td>1</td>\n",
       "      <td>urgent: your mobile number has won $500,000 in...</td>\n",
       "      <td>urgent your mobile number has won 500000 in ou...</td>\n",
       "      <td>urgent mobile number 500000 prize draw call cl...</td>\n",
       "    </tr>\n",
       "    <tr>\n",
       "      <th>1</th>\n",
       "      <td>CONGRATULATIONS! You've been selected for a fr...</td>\n",
       "      <td>1</td>\n",
       "      <td>congratulations! you've been selected for a fr...</td>\n",
       "      <td>congratulations youve been selected for a free...</td>\n",
       "      <td>congratulations youve selected free iphone 14 ...</td>\n",
       "    </tr>\n",
       "    <tr>\n",
       "      <th>2</th>\n",
       "      <td>Your package delivery #8742 is pending. Update...</td>\n",
       "      <td>1</td>\n",
       "      <td>your package delivery #8742 is pending. update...</td>\n",
       "      <td>your package delivery 8742 is pending update d...</td>\n",
       "      <td>package delivery 8742 pending update delivery ...</td>\n",
       "    </tr>\n",
       "    <tr>\n",
       "      <th>3</th>\n",
       "      <td>NETFLIX: Your account has been suspended. Upda...</td>\n",
       "      <td>1</td>\n",
       "      <td>netflix: your account has been suspended. upda...</td>\n",
       "      <td>netflix your account has been suspended update...</td>\n",
       "      <td>netflix account suspended update payment info ...</td>\n",
       "    </tr>\n",
       "    <tr>\n",
       "      <th>4</th>\n",
       "      <td>50% OFF at Fashion World! Limited time offer. ...</td>\n",
       "      <td>1</td>\n",
       "      <td>50% off at fashion world! limited time offer. ...</td>\n",
       "      <td>50 off at fashion world limited time offer sho...</td>\n",
       "      <td>50 fashion world limited time offer shop fwsal...</td>\n",
       "    </tr>\n",
       "    <tr>\n",
       "      <th>...</th>\n",
       "      <td>...</td>\n",
       "      <td>...</td>\n",
       "      <td>...</td>\n",
       "      <td>...</td>\n",
       "      <td>...</td>\n",
       "    </tr>\n",
       "    <tr>\n",
       "      <th>5569</th>\n",
       "      <td>This is the 2nd time we have tried 2 contact u...</td>\n",
       "      <td>1</td>\n",
       "      <td>this is the 2nd time we have tried 2 contact u...</td>\n",
       "      <td>this is the 2nd time we have tried 2 contact u...</td>\n",
       "      <td>2nd time tried 2 contact u u £750 pound prize ...</td>\n",
       "    </tr>\n",
       "    <tr>\n",
       "      <th>5570</th>\n",
       "      <td>Will ü b going to esplanade fr home?\\n</td>\n",
       "      <td>0</td>\n",
       "      <td>will ü b going to esplanade fr home?\\n</td>\n",
       "      <td>will ü b going to esplanade fr home\\n</td>\n",
       "      <td>ü b going esplanade fr home</td>\n",
       "    </tr>\n",
       "    <tr>\n",
       "      <th>5571</th>\n",
       "      <td>Pity, * was in mood for that. So...any other s...</td>\n",
       "      <td>0</td>\n",
       "      <td>pity, * was in mood for that. so...any other s...</td>\n",
       "      <td>pity  was in mood for that soany other suggest...</td>\n",
       "      <td>pity mood soany suggestions</td>\n",
       "    </tr>\n",
       "    <tr>\n",
       "      <th>5572</th>\n",
       "      <td>The guy did some bitching but I acted like i'd...</td>\n",
       "      <td>0</td>\n",
       "      <td>the guy did some bitching but i acted like i'd...</td>\n",
       "      <td>the guy did some bitching but i acted like id ...</td>\n",
       "      <td>guy bitching acted like id interested buying s...</td>\n",
       "    </tr>\n",
       "    <tr>\n",
       "      <th>5573</th>\n",
       "      <td>Rofl. Its true to its name\\n</td>\n",
       "      <td>0</td>\n",
       "      <td>rofl. its true to its name\\n</td>\n",
       "      <td>rofl its true to its name\\n</td>\n",
       "      <td>rofl true name</td>\n",
       "    </tr>\n",
       "  </tbody>\n",
       "</table>\n",
       "<p>5774 rows × 5 columns</p>\n",
       "</div>"
      ],
      "text/plain": [
       "                                                Message  Category  \\\n",
       "0     URGENT: Your mobile number has won $500,000 in...         1   \n",
       "1     CONGRATULATIONS! You've been selected for a fr...         1   \n",
       "2     Your package delivery #8742 is pending. Update...         1   \n",
       "3     NETFLIX: Your account has been suspended. Upda...         1   \n",
       "4     50% OFF at Fashion World! Limited time offer. ...         1   \n",
       "...                                                 ...       ...   \n",
       "5569  This is the 2nd time we have tried 2 contact u...         1   \n",
       "5570             Will ü b going to esplanade fr home?\\n         0   \n",
       "5571  Pity, * was in mood for that. So...any other s...         0   \n",
       "5572  The guy did some bitching but I acted like i'd...         0   \n",
       "5573                       Rofl. Its true to its name\\n         0   \n",
       "\n",
       "                                          lower_message  \\\n",
       "0     urgent: your mobile number has won $500,000 in...   \n",
       "1     congratulations! you've been selected for a fr...   \n",
       "2     your package delivery #8742 is pending. update...   \n",
       "3     netflix: your account has been suspended. upda...   \n",
       "4     50% off at fashion world! limited time offer. ...   \n",
       "...                                                 ...   \n",
       "5569  this is the 2nd time we have tried 2 contact u...   \n",
       "5570             will ü b going to esplanade fr home?\\n   \n",
       "5571  pity, * was in mood for that. so...any other s...   \n",
       "5572  the guy did some bitching but i acted like i'd...   \n",
       "5573                       rofl. its true to its name\\n   \n",
       "\n",
       "                                       message_wo_punct  \\\n",
       "0     urgent your mobile number has won 500000 in ou...   \n",
       "1     congratulations youve been selected for a free...   \n",
       "2     your package delivery 8742 is pending update d...   \n",
       "3     netflix your account has been suspended update...   \n",
       "4     50 off at fashion world limited time offer sho...   \n",
       "...                                                 ...   \n",
       "5569  this is the 2nd time we have tried 2 contact u...   \n",
       "5570              will ü b going to esplanade fr home\\n   \n",
       "5571  pity  was in mood for that soany other suggest...   \n",
       "5572  the guy did some bitching but i acted like id ...   \n",
       "5573                        rofl its true to its name\\n   \n",
       "\n",
       "                                   message_no_stopwords  \n",
       "0     urgent mobile number 500000 prize draw call cl...  \n",
       "1     congratulations youve selected free iphone 14 ...  \n",
       "2     package delivery 8742 pending update delivery ...  \n",
       "3     netflix account suspended update payment info ...  \n",
       "4     50 fashion world limited time offer shop fwsal...  \n",
       "...                                                 ...  \n",
       "5569  2nd time tried 2 contact u u £750 pound prize ...  \n",
       "5570                        ü b going esplanade fr home  \n",
       "5571                        pity mood soany suggestions  \n",
       "5572  guy bitching acted like id interested buying s...  \n",
       "5573                                     rofl true name  \n",
       "\n",
       "[5774 rows x 5 columns]"
      ]
     },
     "execution_count": 265,
     "metadata": {},
     "output_type": "execute_result"
    }
   ],
   "source": [
    "from nltk.corpus import stopwords\n",
    "\n",
    "STOPWORDS = set(stopwords.words('english'))\n",
    "def remove_stopwords(text):\n",
    "    \"\"\"custom function to remove the stopwords\"\"\"\n",
    "    return \" \".join([word for word in str(text).split() if word not in STOPWORDS])\n",
    "\n",
    "df_cleaning['message_no_stopwords'] = df_cleaning['message_wo_punct'].apply(lambda text: remove_stopwords(text))\n",
    "df_cleaning"
   ]
  },
  {
   "cell_type": "code",
   "execution_count": 266,
   "metadata": {},
   "outputs": [
    {
     "data": {
      "application/vnd.microsoft.datawrangler.viewer.v0+json": {
       "columns": [
        {
         "name": "index",
         "rawType": "int64",
         "type": "integer"
        },
        {
         "name": "Message",
         "rawType": "object",
         "type": "string"
        },
        {
         "name": "Category",
         "rawType": "int64",
         "type": "integer"
        },
        {
         "name": "lower_message",
         "rawType": "object",
         "type": "string"
        },
        {
         "name": "message_wo_punct",
         "rawType": "object",
         "type": "string"
        },
        {
         "name": "message_no_stopwords",
         "rawType": "object",
         "type": "string"
        },
        {
         "name": "message_lemmatized",
         "rawType": "object",
         "type": "string"
        }
       ],
       "conversionMethod": "pd.DataFrame",
       "ref": "ce479f97-4b97-4237-ad93-373e64a0f795",
       "rows": [
        [
         "0",
         "URGENT: Your mobile number has won $500,000 in our prize draw! Call now to claim: +1-555-123-4567. Don't miss this chance!",
         "1",
         "urgent: your mobile number has won $500,000 in our prize draw! call now to claim: +1-555-123-4567. don't miss this chance!",
         "urgent your mobile number has won 500000 in our prize draw call now to claim 15551234567 dont miss this chance",
         "urgent mobile number 500000 prize draw call claim 15551234567 dont miss chance",
         "urgent mobile number 500000 prize draw call claim 15551234567 dont miss chance"
        ],
        [
         "1",
         "CONGRATULATIONS! You've been selected for a free iPhone 14! Click here to claim: www.free-iphone-claim.xyz",
         "1",
         "congratulations! you've been selected for a free iphone 14! click here to claim: www.free-iphone-claim.xyz",
         "congratulations youve been selected for a free iphone 14 click here to claim wwwfreeiphoneclaimxyz",
         "congratulations youve selected free iphone 14 click claim wwwfreeiphoneclaimxyz",
         "congratulation youve select free iphone 14 click claim wwwfreeiphoneclaimxyz"
        ],
        [
         "2",
         "Your package delivery #8742 is pending. Update delivery address within 24hrs: bit.ly/pkg-update",
         "1",
         "your package delivery #8742 is pending. update delivery address within 24hrs: bit.ly/pkg-update",
         "your package delivery 8742 is pending update delivery address within 24hrs bitlypkgupdate",
         "package delivery 8742 pending update delivery address within 24hrs bitlypkgupdate",
         "package delivery 8742 pending update delivery address within 24hrs bitlypkgupdate"
        ],
        [
         "3",
         "NETFLIX: Your account has been suspended. Update your payment info: netflx-account-verify.com",
         "1",
         "netflix: your account has been suspended. update your payment info: netflx-account-verify.com",
         "netflix your account has been suspended update your payment info netflxaccountverifycom",
         "netflix account suspended update payment info netflxaccountverifycom",
         "netflix account suspend update payment info netflxaccountverifycom"
        ],
        [
         "4",
         "50% OFF at Fashion World! Limited time offer. Shop now: fw-sales.site/discount",
         "1",
         "50% off at fashion world! limited time offer. shop now: fw-sales.site/discount",
         "50 off at fashion world limited time offer shop now fwsalessitediscount",
         "50 fashion world limited time offer shop fwsalessitediscount",
         "50 fashion world limit time offer shop fwsalessitediscount"
        ],
        [
         "5",
         "Your bank account has been compromised. Call security team now: 888-555-9876",
         "1",
         "your bank account has been compromised. call security team now: 888-555-9876",
         "your bank account has been compromised call security team now 8885559876",
         "bank account compromised call security team 8885559876",
         "bank account compromise call security team 8885559876"
        ],
        [
         "6",
         "Dear customer, your Apple ID has been locked for security reasons. Verify identity: secure-apple-id.com",
         "1",
         "dear customer, your apple id has been locked for security reasons. verify identity: secure-apple-id.com",
         "dear customer your apple id has been locked for security reasons verify identity secureappleidcom",
         "dear customer apple id locked security reasons verify identity secureappleidcom",
         "dear customer apple id lock security reason verify identity secureappleidcom"
        ],
        [
         "7",
         "BREAKING: New government regulation allows citizens to clear ALL debt legally. Find out how: debt-freedom.xyz",
         "1",
         "breaking: new government regulation allows citizens to clear all debt legally. find out how: debt-freedom.xyz",
         "breaking new government regulation allows citizens to clear all debt legally find out how debtfreedomxyz",
         "breaking new government regulation allows citizens clear debt legally find debtfreedomxyz",
         "break new government regulation allow citizen clear debt legally find debtfreedomxyz"
        ],
        [
         "8",
         "Hi this is Jenny from dating service. I saw your profile and want to meet. Text me: +1-555-765-4321",
         "1",
         "hi this is jenny from dating service. i saw your profile and want to meet. text me: +1-555-765-4321",
         "hi this is jenny from dating service i saw your profile and want to meet text me 15557654321",
         "hi jenny dating service saw profile want meet text 15557654321",
         "hi jenny date service saw profile want meet text 15557654321"
        ],
        [
         "9",
         "FINAL NOTICE: Your car warranty is about to expire. Last chance to extend coverage. Call: 800-555-1234",
         "1",
         "final notice: your car warranty is about to expire. last chance to extend coverage. call: 800-555-1234",
         "final notice your car warranty is about to expire last chance to extend coverage call 8005551234",
         "final notice car warranty expire last chance extend coverage call 8005551234",
         "final notice car warranty expire last chance extend coverage call 8005551234"
        ],
        [
         "10",
         "ALERT: Unusual activity detected in your account. Verify transactions: secure-bank-verify.com",
         "1",
         "alert: unusual activity detected in your account. verify transactions: secure-bank-verify.com",
         "alert unusual activity detected in your account verify transactions securebankverifycom",
         "alert unusual activity detected account verify transactions securebankverifycom",
         "alert unusual activity detect account verify transaction securebankverifycom"
        ],
        [
         "11",
         "Congratulations! You've been pre-approved for a $50,000 loan with low interest. Apply now: ez-loan-apply.com",
         "1",
         "congratulations! you've been pre-approved for a $50,000 loan with low interest. apply now: ez-loan-apply.com",
         "congratulations youve been preapproved for a 50000 loan with low interest apply now ezloanapplycom",
         "congratulations youve preapproved 50000 loan low interest apply ezloanapplycom",
         "congratulation youve preapproved 50000 loan low interest apply ezloanapplycom"
        ],
        [
         "12",
         "Your utility bill payment failed. Service will be disconnected in 24 hours. Update payment: utilitypay-secure.com",
         "1",
         "your utility bill payment failed. service will be disconnected in 24 hours. update payment: utilitypay-secure.com",
         "your utility bill payment failed service will be disconnected in 24 hours update payment utilitypaysecurecom",
         "utility bill payment failed service disconnected 24 hours update payment utilitypaysecurecom",
         "utility bill payment fail service disconnect 24 hour update payment utilitypaysecurecom"
        ],
        [
         "13",
         "You have 1 unread message from your secret admirer. View now: date-match.xyz/message",
         "1",
         "you have 1 unread message from your secret admirer. view now: date-match.xyz/message",
         "you have 1 unread message from your secret admirer view now datematchxyzmessage",
         "1 unread message secret admirer view datematchxyzmessage",
         "1 unread message secret admirer view datematchxyzmessage"
        ],
        [
         "14",
         "ATTENTION: Your Social Security Number has been suspended due to suspicious activity. Call: 866-555-4321",
         "1",
         "attention: your social security number has been suspended due to suspicious activity. call: 866-555-4321",
         "attention your social security number has been suspended due to suspicious activity call 8665554321",
         "attention social security number suspended due suspicious activity call 8665554321",
         "attention social security number suspend due suspicious activity call 8665554321"
        ],
        [
         "15",
         "Your prescription is ready for pickup. Get 70% discount with this code: RX7042. Details: meds-discount.site",
         "1",
         "your prescription is ready for pickup. get 70% discount with this code: rx7042. details: meds-discount.site",
         "your prescription is ready for pickup get 70 discount with this code rx7042 details medsdiscountsite",
         "prescription ready pickup get 70 discount code rx7042 details medsdiscountsite",
         "prescription ready pickup get 70 discount code rx7042 detail medsdiscountsite"
        ],
        [
         "16",
         "You have won a $1,000 Walmart gift card. Claim now: walmart-gift.xyz/claim",
         "1",
         "you have won a $1,000 walmart gift card. claim now: walmart-gift.xyz/claim",
         "you have won a 1000 walmart gift card claim now walmartgiftxyzclaim",
         "1000 walmart gift card claim walmartgiftxyzclaim",
         "1000 walmart gift card claim walmartgiftxyzclaim"
        ],
        [
         "17",
         "This is your carrier: Your phone bill is past due. Avoid service interruption: mobilepay-now.com",
         "1",
         "this is your carrier: your phone bill is past due. avoid service interruption: mobilepay-now.com",
         "this is your carrier your phone bill is past due avoid service interruption mobilepaynowcom",
         "carrier phone bill past due avoid service interruption mobilepaynowcom",
         "carrier phone bill past due avoid service interruption mobilepaynowcom"
        ],
        [
         "18",
         "URGENT Tax Refund: You are eligible for $1,249.50 tax refund. Submit claim: tax-refund-gov.xyz",
         "1",
         "urgent tax refund: you are eligible for $1,249.50 tax refund. submit claim: tax-refund-gov.xyz",
         "urgent tax refund you are eligible for 124950 tax refund submit claim taxrefundgovxyz",
         "urgent tax refund eligible 124950 tax refund submit claim taxrefundgovxyz",
         "urgent tax refund eligible 124950 tax refund submit claim taxrefundgovxyz"
        ],
        [
         "19",
         "Your order #43298 has been shipped. Track delivery status: amaz0n-tracking.site",
         "1",
         "your order #43298 has been shipped. track delivery status: amaz0n-tracking.site",
         "your order 43298 has been shipped track delivery status amaz0ntrackingsite",
         "order 43298 shipped track delivery status amaz0ntrackingsite",
         "order 43298 ship track delivery status amaz0ntrackingsite"
        ],
        [
         "20",
         "Investment Alert: This penny stock is set to explode 500% next week! Buy now: stock-goldmine.xyz",
         "1",
         "investment alert: this penny stock is set to explode 500% next week! buy now: stock-goldmine.xyz",
         "investment alert this penny stock is set to explode 500 next week buy now stockgoldminexyz",
         "investment alert penny stock set explode 500 next week buy stockgoldminexyz",
         "investment alert penny stock set explode 500 next week buy stockgoldminexyz"
        ],
        [
         "21",
         "Your account access will be terminated. Verify identity: secure-account-verify.com",
         "1",
         "your account access will be terminated. verify identity: secure-account-verify.com",
         "your account access will be terminated verify identity secureaccountverifycom",
         "account access terminated verify identity secureaccountverifycom",
         "account access terminate verify identity secureaccountverifycom"
        ],
        [
         "22",
         "FINAL WARNING: Your vehicle is showing in our system as uninsured. Avoid penalties: auto-insure-now.site",
         "1",
         "final warning: your vehicle is showing in our system as uninsured. avoid penalties: auto-insure-now.site",
         "final warning your vehicle is showing in our system as uninsured avoid penalties autoinsurenowsite",
         "final warning vehicle showing system uninsured avoid penalties autoinsurenowsite",
         "final warning vehicle show system uninsured avoid penalty autoinsurenowsite"
        ],
        [
         "23",
         "IMPORTANT: Your recent payment was declined. Update payment method: paypal-secure-update.com",
         "1",
         "important: your recent payment was declined. update payment method: paypal-secure-update.com",
         "important your recent payment was declined update payment method paypalsecureupdatecom",
         "important recent payment declined update payment method paypalsecureupdatecom",
         "important recent payment decline update payment method paypalsecureupdatecom"
        ],
        [
         "24",
         "Congratulations! You've been selected for our exclusive survey. Complete for $90 reward: survey-rewards.xyz",
         "1",
         "congratulations! you've been selected for our exclusive survey. complete for $90 reward: survey-rewards.xyz",
         "congratulations youve been selected for our exclusive survey complete for 90 reward surveyrewardsxyz",
         "congratulations youve selected exclusive survey complete 90 reward surveyrewardsxyz",
         "congratulation youve select exclusive survey complete 90 reward surveyrewardsxyz"
        ],
        [
         "25",
         "ATTENTION CUSTOMER: Your internet service will be disconnected. Pay now: internet-billing.site",
         "1",
         "attention customer: your internet service will be disconnected. pay now: internet-billing.site",
         "attention customer your internet service will be disconnected pay now internetbillingsite",
         "attention customer internet service disconnected pay internetbillingsite",
         "attention customer internet service disconnect pay internetbillingsite"
        ],
        [
         "26",
         "Your CV was found in our database. $95k position available. Apply now: career-opportunity.xyz",
         "1",
         "your cv was found in our database. $95k position available. apply now: career-opportunity.xyz",
         "your cv was found in our database 95k position available apply now careeropportunityxyz",
         "cv found database 95k position available apply careeropportunityxyz",
         "cv find database 95k position available apply careeropportunityxyz"
        ],
        [
         "27",
         "COURT NOTICE: You are scheduled to appear. Case #CR7231. Details: court-notice.site",
         "1",
         "court notice: you are scheduled to appear. case #cr7231. details: court-notice.site",
         "court notice you are scheduled to appear case cr7231 details courtnoticesite",
         "court notice scheduled appear case cr7231 details courtnoticesite",
         "court notice schedule appear case cr7231 detail courtnoticesite"
        ],
        [
         "28",
         "Your phone has 3 virus! Click to scan and remove: virus-removal.xyz",
         "1",
         "your phone has 3 virus! click to scan and remove: virus-removal.xyz",
         "your phone has 3 virus click to scan and remove virusremovalxyz",
         "phone 3 virus click scan remove virusremovalxyz",
         "phone 3 virus click scan remove virusremovalxyz"
        ],
        [
         "29",
         "FREE: Get your credit score and report now! Limited offer: free-credit-check.site",
         "1",
         "free: get your credit score and report now! limited offer: free-credit-check.site",
         "free get your credit score and report now limited offer freecreditchecksite",
         "free get credit score report limited offer freecreditchecksite",
         "free get credit score report limit offer freecreditchecksite"
        ],
        [
         "30",
         "WINNER ALERT: You've been selected to receive a $250 Amazon gift card. Claim now: amazon-rewards.site",
         "1",
         "winner alert: you've been selected to receive a $250 amazon gift card. claim now: amazon-rewards.site",
         "winner alert youve been selected to receive a 250 amazon gift card claim now amazonrewardssite",
         "winner alert youve selected receive 250 amazon gift card claim amazonrewardssite",
         "winner alert youve select receive 250 amazon gift card claim amazonrewardssite"
        ],
        [
         "31",
         "URGENT: Your credit card has been charged $499. If unauthorized call: +1-888-555-3214",
         "1",
         "urgent: your credit card has been charged $499. if unauthorized call: +1-888-555-3214",
         "urgent your credit card has been charged 499 if unauthorized call 18885553214",
         "urgent credit card charged 499 unauthorized call 18885553214",
         "urgent credit card charge 499 unauthorized call 18885553214"
        ],
        [
         "32",
         "Your Apple iCloud account will be deleted in 24 hours. Verify now: secure-icloud-verify.com",
         "1",
         "your apple icloud account will be deleted in 24 hours. verify now: secure-icloud-verify.com",
         "your apple icloud account will be deleted in 24 hours verify now secureicloudverifycom",
         "apple icloud account deleted 24 hours verify secureicloudverifycom",
         "apple icloud account delete 24 hour verify secureicloudverifycom"
        ],
        [
         "33",
         "ATTENTION: We've been trying to reach you about your car's extended warranty. Last chance: 800-555-9876",
         "1",
         "attention: we've been trying to reach you about your car's extended warranty. last chance: 800-555-9876",
         "attention weve been trying to reach you about your cars extended warranty last chance 8005559876",
         "attention weve trying reach cars extended warranty last chance 8005559876",
         "attention weve try reach car extend warranty last chance 8005559876"
        ],
        [
         "34",
         "Congratulations! You qualify for student loan forgiveness. Apply here: loan-forgive-gov.xyz",
         "1",
         "congratulations! you qualify for student loan forgiveness. apply here: loan-forgive-gov.xyz",
         "congratulations you qualify for student loan forgiveness apply here loanforgivegovxyz",
         "congratulations qualify student loan forgiveness apply loanforgivegovxyz",
         "congratulation qualify student loan forgiveness apply loanforgivegovxyz"
        ],
        [
         "35",
         "SECURITY ALERT: Suspicious sign-in attempt on your Google account. Verify now: google-secure-verify.com",
         "1",
         "security alert: suspicious sign-in attempt on your google account. verify now: google-secure-verify.com",
         "security alert suspicious signin attempt on your google account verify now googlesecureverifycom",
         "security alert suspicious signin attempt google account verify googlesecureverifycom",
         "security alert suspicious signin attempt google account verify googlesecureverifycom"
        ],
        [
         "36",
         "Your parcel #UK45692 is on hold. Confirm delivery address: royal-mail-delivery.site",
         "1",
         "your parcel #uk45692 is on hold. confirm delivery address: royal-mail-delivery.site",
         "your parcel uk45692 is on hold confirm delivery address royalmaildeliverysite",
         "parcel uk45692 hold confirm delivery address royalmaildeliverysite",
         "parcel uk45692 hold confirm delivery address royalmaildeliverysite"
        ],
        [
         "37",
         "50% OFF EVERYTHING at Nike! Limited time offer: nike-special-deals.xyz",
         "1",
         "50% off everything at nike! limited time offer: nike-special-deals.xyz",
         "50 off everything at nike limited time offer nikespecialdealsxyz",
         "50 everything nike limited time offer nikespecialdealsxyz",
         "50 everything nike limited time offer nikespecialdealsxyz"
        ],
        [
         "38",
         "ACTION REQUIRED: Your PayPal account has been limited. Update info: paypal-account-service.com",
         "1",
         "action required: your paypal account has been limited. update info: paypal-account-service.com",
         "action required your paypal account has been limited update info paypalaccountservicecom",
         "action required paypal account limited update info paypalaccountservicecom",
         "action require paypal account limited update info paypalaccountservicecom"
        ],
        [
         "39",
         "URGENT: Your electricity will be disconnected tonight. Pay now: utility-pay-online.site",
         "1",
         "urgent: your electricity will be disconnected tonight. pay now: utility-pay-online.site",
         "urgent your electricity will be disconnected tonight pay now utilitypayonlinesite",
         "urgent electricity disconnected tonight pay utilitypayonlinesite",
         "urgent electricity disconnect tonight pay utilitypayonlinesite"
        ],
        [
         "40",
         "Your Bitcoin wallet has been credited with 0.5 BTC. Confirm receipt: bitcoin-wallet-verify.xyz",
         "1",
         "your bitcoin wallet has been credited with 0.5 btc. confirm receipt: bitcoin-wallet-verify.xyz",
         "your bitcoin wallet has been credited with 05 btc confirm receipt bitcoinwalletverifyxyz",
         "bitcoin wallet credited 05 btc confirm receipt bitcoinwalletverifyxyz",
         "bitcoin wallet credit 05 btc confirm receipt bitcoinwalletverifyxyz"
        ],
        [
         "41",
         "FINAL NOTICE: Your tax records are out of date. Avoid penalties: irs-tax-update.site",
         "1",
         "final notice: your tax records are out of date. avoid penalties: irs-tax-update.site",
         "final notice your tax records are out of date avoid penalties irstaxupdatesite",
         "final notice tax records date avoid penalties irstaxupdatesite",
         "final notice tax record date avoid penalty irstaxupdatesite"
        ],
        [
         "42",
         "You've been selected for a $50 Starbucks gift card! Claim now: starbucks-rewards.xyz",
         "1",
         "you've been selected for a $50 starbucks gift card! claim now: starbucks-rewards.xyz",
         "youve been selected for a 50 starbucks gift card claim now starbucksrewardsxyz",
         "youve selected 50 starbucks gift card claim starbucksrewardsxyz",
         "youve select 50 starbucks gift card claim starbucksrewardsxyz"
        ],
        [
         "43",
         "Your Instagram account will be permanently deleted. Verify ownership: instagram-verify.site",
         "1",
         "your instagram account will be permanently deleted. verify ownership: instagram-verify.site",
         "your instagram account will be permanently deleted verify ownership instagramverifysite",
         "instagram account permanently deleted verify ownership instagramverifysite",
         "instagram account permanently delete verify ownership instagramverifysite"
        ],
        [
         "44",
         "URGENT: Your phone service will be suspended. Update billing info: mobile-service-update.com",
         "1",
         "urgent: your phone service will be suspended. update billing info: mobile-service-update.com",
         "urgent your phone service will be suspended update billing info mobileserviceupdatecom",
         "urgent phone service suspended update billing info mobileserviceupdatecom",
         "urgent phone service suspend update billing info mobileserviceupdatecom"
        ],
        [
         "45",
         "Congratulations! You're prequalified for a new credit card with $10,000 limit: premier-credit-offer.site",
         "1",
         "congratulations! you're prequalified for a new credit card with $10,000 limit: premier-credit-offer.site",
         "congratulations youre prequalified for a new credit card with 10000 limit premiercreditoffersite",
         "congratulations youre prequalified new credit card 10000 limit premiercreditoffersite",
         "congratulation youre prequalified new credit card 10000 limit premiercreditoffersite"
        ],
        [
         "46",
         "Your flight reservation #AX78542 has been changed. Confirm details: airline-update.xyz",
         "1",
         "your flight reservation #ax78542 has been changed. confirm details: airline-update.xyz",
         "your flight reservation ax78542 has been changed confirm details airlineupdatexyz",
         "flight reservation ax78542 changed confirm details airlineupdatexyz",
         "flight reservation ax78542 change confirm detail airlineupdatexyz"
        ],
        [
         "47",
         "LAST CHANCE: Claim your free laptop from our annual giveaway: free-laptop-giveaway.site",
         "1",
         "last chance: claim your free laptop from our annual giveaway: free-laptop-giveaway.site",
         "last chance claim your free laptop from our annual giveaway freelaptopgiveawaysite",
         "last chance claim free laptop annual giveaway freelaptopgiveawaysite",
         "last chance claim free laptop annual giveaway freelaptopgiveawaysite"
        ],
        [
         "48",
         "Your Facebook account has been reported. Verify to avoid suspension: facebook-security-team.xyz",
         "1",
         "your facebook account has been reported. verify to avoid suspension: facebook-security-team.xyz",
         "your facebook account has been reported verify to avoid suspension facebooksecurityteamxyz",
         "facebook account reported verify avoid suspension facebooksecurityteamxyz",
         "facebook account report verify avoid suspension facebooksecurityteamxyz"
        ],
        [
         "49",
         "Congratulations! You've won 2nd prize in Coca-Cola sweepstakes. Claim $5,000: coke-prize.site",
         "1",
         "congratulations! you've won 2nd prize in coca-cola sweepstakes. claim $5,000: coke-prize.site",
         "congratulations youve won 2nd prize in cocacola sweepstakes claim 5000 cokeprizesite",
         "congratulations youve 2nd prize cocacola sweepstakes claim 5000 cokeprizesite",
         "congratulation youve 2nd prize cocacola sweepstakes claim 5000 cokeprizesite"
        ]
       ],
       "shape": {
        "columns": 6,
        "rows": 5774
       }
      },
      "text/html": [
       "<div>\n",
       "<style scoped>\n",
       "    .dataframe tbody tr th:only-of-type {\n",
       "        vertical-align: middle;\n",
       "    }\n",
       "\n",
       "    .dataframe tbody tr th {\n",
       "        vertical-align: top;\n",
       "    }\n",
       "\n",
       "    .dataframe thead th {\n",
       "        text-align: right;\n",
       "    }\n",
       "</style>\n",
       "<table border=\"1\" class=\"dataframe\">\n",
       "  <thead>\n",
       "    <tr style=\"text-align: right;\">\n",
       "      <th></th>\n",
       "      <th>Message</th>\n",
       "      <th>Category</th>\n",
       "      <th>lower_message</th>\n",
       "      <th>message_wo_punct</th>\n",
       "      <th>message_no_stopwords</th>\n",
       "      <th>message_lemmatized</th>\n",
       "    </tr>\n",
       "  </thead>\n",
       "  <tbody>\n",
       "    <tr>\n",
       "      <th>0</th>\n",
       "      <td>URGENT: Your mobile number has won $500,000 in...</td>\n",
       "      <td>1</td>\n",
       "      <td>urgent: your mobile number has won $500,000 in...</td>\n",
       "      <td>urgent your mobile number has won 500000 in ou...</td>\n",
       "      <td>urgent mobile number 500000 prize draw call cl...</td>\n",
       "      <td>urgent mobile number 500000 prize draw call cl...</td>\n",
       "    </tr>\n",
       "    <tr>\n",
       "      <th>1</th>\n",
       "      <td>CONGRATULATIONS! You've been selected for a fr...</td>\n",
       "      <td>1</td>\n",
       "      <td>congratulations! you've been selected for a fr...</td>\n",
       "      <td>congratulations youve been selected for a free...</td>\n",
       "      <td>congratulations youve selected free iphone 14 ...</td>\n",
       "      <td>congratulation youve select free iphone 14 cli...</td>\n",
       "    </tr>\n",
       "    <tr>\n",
       "      <th>2</th>\n",
       "      <td>Your package delivery #8742 is pending. Update...</td>\n",
       "      <td>1</td>\n",
       "      <td>your package delivery #8742 is pending. update...</td>\n",
       "      <td>your package delivery 8742 is pending update d...</td>\n",
       "      <td>package delivery 8742 pending update delivery ...</td>\n",
       "      <td>package delivery 8742 pending update delivery ...</td>\n",
       "    </tr>\n",
       "    <tr>\n",
       "      <th>3</th>\n",
       "      <td>NETFLIX: Your account has been suspended. Upda...</td>\n",
       "      <td>1</td>\n",
       "      <td>netflix: your account has been suspended. upda...</td>\n",
       "      <td>netflix your account has been suspended update...</td>\n",
       "      <td>netflix account suspended update payment info ...</td>\n",
       "      <td>netflix account suspend update payment info ne...</td>\n",
       "    </tr>\n",
       "    <tr>\n",
       "      <th>4</th>\n",
       "      <td>50% OFF at Fashion World! Limited time offer. ...</td>\n",
       "      <td>1</td>\n",
       "      <td>50% off at fashion world! limited time offer. ...</td>\n",
       "      <td>50 off at fashion world limited time offer sho...</td>\n",
       "      <td>50 fashion world limited time offer shop fwsal...</td>\n",
       "      <td>50 fashion world limit time offer shop fwsales...</td>\n",
       "    </tr>\n",
       "    <tr>\n",
       "      <th>...</th>\n",
       "      <td>...</td>\n",
       "      <td>...</td>\n",
       "      <td>...</td>\n",
       "      <td>...</td>\n",
       "      <td>...</td>\n",
       "      <td>...</td>\n",
       "    </tr>\n",
       "    <tr>\n",
       "      <th>5569</th>\n",
       "      <td>This is the 2nd time we have tried 2 contact u...</td>\n",
       "      <td>1</td>\n",
       "      <td>this is the 2nd time we have tried 2 contact u...</td>\n",
       "      <td>this is the 2nd time we have tried 2 contact u...</td>\n",
       "      <td>2nd time tried 2 contact u u £750 pound prize ...</td>\n",
       "      <td>2nd time try 2 contact u u £750 pound prize 2 ...</td>\n",
       "    </tr>\n",
       "    <tr>\n",
       "      <th>5570</th>\n",
       "      <td>Will ü b going to esplanade fr home?\\n</td>\n",
       "      <td>0</td>\n",
       "      <td>will ü b going to esplanade fr home?\\n</td>\n",
       "      <td>will ü b going to esplanade fr home\\n</td>\n",
       "      <td>ü b going esplanade fr home</td>\n",
       "      <td>ü b go esplanade fr home</td>\n",
       "    </tr>\n",
       "    <tr>\n",
       "      <th>5571</th>\n",
       "      <td>Pity, * was in mood for that. So...any other s...</td>\n",
       "      <td>0</td>\n",
       "      <td>pity, * was in mood for that. so...any other s...</td>\n",
       "      <td>pity  was in mood for that soany other suggest...</td>\n",
       "      <td>pity mood soany suggestions</td>\n",
       "      <td>pity mood soany suggestion</td>\n",
       "    </tr>\n",
       "    <tr>\n",
       "      <th>5572</th>\n",
       "      <td>The guy did some bitching but I acted like i'd...</td>\n",
       "      <td>0</td>\n",
       "      <td>the guy did some bitching but i acted like i'd...</td>\n",
       "      <td>the guy did some bitching but i acted like id ...</td>\n",
       "      <td>guy bitching acted like id interested buying s...</td>\n",
       "      <td>guy bitch act like id interested buying someth...</td>\n",
       "    </tr>\n",
       "    <tr>\n",
       "      <th>5573</th>\n",
       "      <td>Rofl. Its true to its name\\n</td>\n",
       "      <td>0</td>\n",
       "      <td>rofl. its true to its name\\n</td>\n",
       "      <td>rofl its true to its name\\n</td>\n",
       "      <td>rofl true name</td>\n",
       "      <td>rofl true name</td>\n",
       "    </tr>\n",
       "  </tbody>\n",
       "</table>\n",
       "<p>5774 rows × 6 columns</p>\n",
       "</div>"
      ],
      "text/plain": [
       "                                                Message  Category  \\\n",
       "0     URGENT: Your mobile number has won $500,000 in...         1   \n",
       "1     CONGRATULATIONS! You've been selected for a fr...         1   \n",
       "2     Your package delivery #8742 is pending. Update...         1   \n",
       "3     NETFLIX: Your account has been suspended. Upda...         1   \n",
       "4     50% OFF at Fashion World! Limited time offer. ...         1   \n",
       "...                                                 ...       ...   \n",
       "5569  This is the 2nd time we have tried 2 contact u...         1   \n",
       "5570             Will ü b going to esplanade fr home?\\n         0   \n",
       "5571  Pity, * was in mood for that. So...any other s...         0   \n",
       "5572  The guy did some bitching but I acted like i'd...         0   \n",
       "5573                       Rofl. Its true to its name\\n         0   \n",
       "\n",
       "                                          lower_message  \\\n",
       "0     urgent: your mobile number has won $500,000 in...   \n",
       "1     congratulations! you've been selected for a fr...   \n",
       "2     your package delivery #8742 is pending. update...   \n",
       "3     netflix: your account has been suspended. upda...   \n",
       "4     50% off at fashion world! limited time offer. ...   \n",
       "...                                                 ...   \n",
       "5569  this is the 2nd time we have tried 2 contact u...   \n",
       "5570             will ü b going to esplanade fr home?\\n   \n",
       "5571  pity, * was in mood for that. so...any other s...   \n",
       "5572  the guy did some bitching but i acted like i'd...   \n",
       "5573                       rofl. its true to its name\\n   \n",
       "\n",
       "                                       message_wo_punct  \\\n",
       "0     urgent your mobile number has won 500000 in ou...   \n",
       "1     congratulations youve been selected for a free...   \n",
       "2     your package delivery 8742 is pending update d...   \n",
       "3     netflix your account has been suspended update...   \n",
       "4     50 off at fashion world limited time offer sho...   \n",
       "...                                                 ...   \n",
       "5569  this is the 2nd time we have tried 2 contact u...   \n",
       "5570              will ü b going to esplanade fr home\\n   \n",
       "5571  pity  was in mood for that soany other suggest...   \n",
       "5572  the guy did some bitching but i acted like id ...   \n",
       "5573                        rofl its true to its name\\n   \n",
       "\n",
       "                                   message_no_stopwords  \\\n",
       "0     urgent mobile number 500000 prize draw call cl...   \n",
       "1     congratulations youve selected free iphone 14 ...   \n",
       "2     package delivery 8742 pending update delivery ...   \n",
       "3     netflix account suspended update payment info ...   \n",
       "4     50 fashion world limited time offer shop fwsal...   \n",
       "...                                                 ...   \n",
       "5569  2nd time tried 2 contact u u £750 pound prize ...   \n",
       "5570                        ü b going esplanade fr home   \n",
       "5571                        pity mood soany suggestions   \n",
       "5572  guy bitching acted like id interested buying s...   \n",
       "5573                                     rofl true name   \n",
       "\n",
       "                                     message_lemmatized  \n",
       "0     urgent mobile number 500000 prize draw call cl...  \n",
       "1     congratulation youve select free iphone 14 cli...  \n",
       "2     package delivery 8742 pending update delivery ...  \n",
       "3     netflix account suspend update payment info ne...  \n",
       "4     50 fashion world limit time offer shop fwsales...  \n",
       "...                                                 ...  \n",
       "5569  2nd time try 2 contact u u £750 pound prize 2 ...  \n",
       "5570                           ü b go esplanade fr home  \n",
       "5571                         pity mood soany suggestion  \n",
       "5572  guy bitch act like id interested buying someth...  \n",
       "5573                                     rofl true name  \n",
       "\n",
       "[5774 rows x 6 columns]"
      ]
     },
     "execution_count": 266,
     "metadata": {},
     "output_type": "execute_result"
    }
   ],
   "source": [
    "from nltk.corpus import wordnet\n",
    "from nltk.stem import WordNetLemmatizer\n",
    "\n",
    "lemmatizer = WordNetLemmatizer()\n",
    "wordnet_map = {\"N\":wordnet.NOUN, \"V\":wordnet.VERB, \"J\":wordnet.ADJ, \"R\":wordnet.ADV}\n",
    "def lemmatize_words(text):\n",
    "    pos_tagged_text = nltk.pos_tag(text.split(), lang='eng')\n",
    "    return \" \".join([lemmatizer.lemmatize(word, wordnet_map.get(pos[0], wordnet.NOUN)) for word, pos in pos_tagged_text])\n",
    "\n",
    "df_cleaning['message_lemmatized'] = df_cleaning['message_no_stopwords'].apply(lambda text: lemmatize_words(text))\n",
    "df_cleaning"
   ]
  },
  {
   "cell_type": "code",
   "execution_count": 267,
   "metadata": {},
   "outputs": [
    {
     "data": {
      "application/vnd.microsoft.datawrangler.viewer.v0+json": {
       "columns": [
        {
         "name": "index",
         "rawType": "int64",
         "type": "integer"
        },
        {
         "name": "Message",
         "rawType": "object",
         "type": "string"
        },
        {
         "name": "Category",
         "rawType": "int64",
         "type": "integer"
        },
        {
         "name": "lower_message",
         "rawType": "object",
         "type": "string"
        },
        {
         "name": "message_wo_punct",
         "rawType": "object",
         "type": "string"
        },
        {
         "name": "message_no_stopwords",
         "rawType": "object",
         "type": "string"
        },
        {
         "name": "message_lemmatized",
         "rawType": "object",
         "type": "string"
        }
       ],
       "conversionMethod": "pd.DataFrame",
       "ref": "b4f66811-1be4-4ec7-a14f-cafbfdb2d232",
       "rows": [
        [
         "0",
         "URGENT: Your mobile number has won $500,000 in our prize draw! Call now to claim: +1-555-123-4567. Don't miss this chance!",
         "1",
         "urgent: your mobile number has won $500,000 in our prize draw! call now to claim: +1-555-123-4567. don't miss this chance!",
         "urgent your mobile number has won 500000 in our prize draw call now to claim 15551234567 dont miss this chance",
         "urgent mobile number 500000 prize draw call claim 15551234567 dont miss chance",
         "urgent mobile number 500000 prize draw call claim 15551234567 dont miss chance"
        ],
        [
         "1",
         "CONGRATULATIONS! You've been selected for a free iPhone 14! Click here to claim: www.free-iphone-claim.xyz",
         "1",
         "congratulations! you've been selected for a free iphone 14! click here to claim: www.free-iphone-claim.xyz",
         "congratulations youve been selected for a free iphone 14 click here to claim wwwfreeiphoneclaimxyz",
         "congratulations youve selected free iphone 14 click claim wwwfreeiphoneclaimxyz",
         "congratulation youve select free iphone 14 click claim wwwfreeiphoneclaimxyz"
        ],
        [
         "2",
         "Your package delivery #8742 is pending. Update delivery address within 24hrs: bit.ly/pkg-update",
         "1",
         "your package delivery #8742 is pending. update delivery address within 24hrs: bit.ly/pkg-update",
         "your package delivery 8742 is pending update delivery address within 24hrs bitlypkgupdate",
         "package delivery 8742 pending update delivery address within 24hrs bitlypkgupdate",
         "package delivery 8742 pending update delivery address within 24hrs bitlypkgupdate"
        ],
        [
         "3",
         "NETFLIX: Your account has been suspended. Update your payment info: netflx-account-verify.com",
         "1",
         "netflix: your account has been suspended. update your payment info: netflx-account-verify.com",
         "netflix your account has been suspended update your payment info netflxaccountverifycom",
         "netflix account suspended update payment info netflxaccountverifycom",
         "netflix account suspend update payment info netflxaccountverifycom"
        ],
        [
         "4",
         "50% OFF at Fashion World! Limited time offer. Shop now: fw-sales.site/discount",
         "1",
         "50% off at fashion world! limited time offer. shop now: fw-sales.site/discount",
         "50 off at fashion world limited time offer shop now fwsalessitediscount",
         "50 fashion world limited time offer shop fwsalessitediscount",
         "50 fashion world limit time offer shop fwsalessitediscount"
        ],
        [
         "5",
         "Your bank account has been compromised. Call security team now: 888-555-9876",
         "1",
         "your bank account has been compromised. call security team now: 888-555-9876",
         "your bank account has been compromised call security team now 8885559876",
         "bank account compromised call security team 8885559876",
         "bank account compromise call security team 8885559876"
        ],
        [
         "6",
         "Dear customer, your Apple ID has been locked for security reasons. Verify identity: secure-apple-id.com",
         "1",
         "dear customer, your apple id has been locked for security reasons. verify identity: secure-apple-id.com",
         "dear customer your apple id has been locked for security reasons verify identity secureappleidcom",
         "dear customer apple id locked security reasons verify identity secureappleidcom",
         "dear customer apple id lock security reason verify identity secureappleidcom"
        ],
        [
         "7",
         "BREAKING: New government regulation allows citizens to clear ALL debt legally. Find out how: debt-freedom.xyz",
         "1",
         "breaking: new government regulation allows citizens to clear all debt legally. find out how: debt-freedom.xyz",
         "breaking new government regulation allows citizens to clear all debt legally find out how debtfreedomxyz",
         "breaking new government regulation allows citizens clear debt legally find debtfreedomxyz",
         "break new government regulation allow citizen clear debt legally find debtfreedomxyz"
        ],
        [
         "8",
         "Hi this is Jenny from dating service. I saw your profile and want to meet. Text me: +1-555-765-4321",
         "1",
         "hi this is jenny from dating service. i saw your profile and want to meet. text me: +1-555-765-4321",
         "hi this is jenny from dating service i saw your profile and want to meet text me 15557654321",
         "hi jenny dating service saw profile want meet text 15557654321",
         "hi jenny date service saw profile want meet text 15557654321"
        ],
        [
         "9",
         "FINAL NOTICE: Your car warranty is about to expire. Last chance to extend coverage. Call: 800-555-1234",
         "1",
         "final notice: your car warranty is about to expire. last chance to extend coverage. call: 800-555-1234",
         "final notice your car warranty is about to expire last chance to extend coverage call 8005551234",
         "final notice car warranty expire last chance extend coverage call 8005551234",
         "final notice car warranty expire last chance extend coverage call 8005551234"
        ],
        [
         "10",
         "ALERT: Unusual activity detected in your account. Verify transactions: secure-bank-verify.com",
         "1",
         "alert: unusual activity detected in your account. verify transactions: secure-bank-verify.com",
         "alert unusual activity detected in your account verify transactions securebankverifycom",
         "alert unusual activity detected account verify transactions securebankverifycom",
         "alert unusual activity detect account verify transaction securebankverifycom"
        ],
        [
         "11",
         "Congratulations! You've been pre-approved for a $50,000 loan with low interest. Apply now: ez-loan-apply.com",
         "1",
         "congratulations! you've been pre-approved for a $50,000 loan with low interest. apply now: ez-loan-apply.com",
         "congratulations youve been preapproved for a 50000 loan with low interest apply now ezloanapplycom",
         "congratulations youve preapproved 50000 loan low interest apply ezloanapplycom",
         "congratulation youve preapproved 50000 loan low interest apply ezloanapplycom"
        ],
        [
         "12",
         "Your utility bill payment failed. Service will be disconnected in 24 hours. Update payment: utilitypay-secure.com",
         "1",
         "your utility bill payment failed. service will be disconnected in 24 hours. update payment: utilitypay-secure.com",
         "your utility bill payment failed service will be disconnected in 24 hours update payment utilitypaysecurecom",
         "utility bill payment failed service disconnected 24 hours update payment utilitypaysecurecom",
         "utility bill payment fail service disconnect 24 hour update payment utilitypaysecurecom"
        ],
        [
         "13",
         "You have 1 unread message from your secret admirer. View now: date-match.xyz/message",
         "1",
         "you have 1 unread message from your secret admirer. view now: date-match.xyz/message",
         "you have 1 unread message from your secret admirer view now datematchxyzmessage",
         "1 unread message secret admirer view datematchxyzmessage",
         "1 unread message secret admirer view datematchxyzmessage"
        ],
        [
         "14",
         "ATTENTION: Your Social Security Number has been suspended due to suspicious activity. Call: 866-555-4321",
         "1",
         "attention: your social security number has been suspended due to suspicious activity. call: 866-555-4321",
         "attention your social security number has been suspended due to suspicious activity call 8665554321",
         "attention social security number suspended due suspicious activity call 8665554321",
         "attention social security number suspend due suspicious activity call 8665554321"
        ],
        [
         "15",
         "Your prescription is ready for pickup. Get 70% discount with this code: RX7042. Details: meds-discount.site",
         "1",
         "your prescription is ready for pickup. get 70% discount with this code: rx7042. details: meds-discount.site",
         "your prescription is ready for pickup get 70 discount with this code rx7042 details medsdiscountsite",
         "prescription ready pickup get 70 discount code rx7042 details medsdiscountsite",
         "prescription ready pickup get 70 discount code rx7042 detail medsdiscountsite"
        ],
        [
         "16",
         "You have won a $1,000 Walmart gift card. Claim now: walmart-gift.xyz/claim",
         "1",
         "you have won a $1,000 walmart gift card. claim now: walmart-gift.xyz/claim",
         "you have won a 1000 walmart gift card claim now walmartgiftxyzclaim",
         "1000 walmart gift card claim walmartgiftxyzclaim",
         "1000 walmart gift card claim walmartgiftxyzclaim"
        ],
        [
         "17",
         "This is your carrier: Your phone bill is past due. Avoid service interruption: mobilepay-now.com",
         "1",
         "this is your carrier: your phone bill is past due. avoid service interruption: mobilepay-now.com",
         "this is your carrier your phone bill is past due avoid service interruption mobilepaynowcom",
         "carrier phone bill past due avoid service interruption mobilepaynowcom",
         "carrier phone bill past due avoid service interruption mobilepaynowcom"
        ],
        [
         "18",
         "URGENT Tax Refund: You are eligible for $1,249.50 tax refund. Submit claim: tax-refund-gov.xyz",
         "1",
         "urgent tax refund: you are eligible for $1,249.50 tax refund. submit claim: tax-refund-gov.xyz",
         "urgent tax refund you are eligible for 124950 tax refund submit claim taxrefundgovxyz",
         "urgent tax refund eligible 124950 tax refund submit claim taxrefundgovxyz",
         "urgent tax refund eligible 124950 tax refund submit claim taxrefundgovxyz"
        ],
        [
         "19",
         "Your order #43298 has been shipped. Track delivery status: amaz0n-tracking.site",
         "1",
         "your order #43298 has been shipped. track delivery status: amaz0n-tracking.site",
         "your order 43298 has been shipped track delivery status amaz0ntrackingsite",
         "order 43298 shipped track delivery status amaz0ntrackingsite",
         "order 43298 ship track delivery status amaz0ntrackingsite"
        ],
        [
         "20",
         "Investment Alert: This penny stock is set to explode 500% next week! Buy now: stock-goldmine.xyz",
         "1",
         "investment alert: this penny stock is set to explode 500% next week! buy now: stock-goldmine.xyz",
         "investment alert this penny stock is set to explode 500 next week buy now stockgoldminexyz",
         "investment alert penny stock set explode 500 next week buy stockgoldminexyz",
         "investment alert penny stock set explode 500 next week buy stockgoldminexyz"
        ],
        [
         "21",
         "Your account access will be terminated. Verify identity: secure-account-verify.com",
         "1",
         "your account access will be terminated. verify identity: secure-account-verify.com",
         "your account access will be terminated verify identity secureaccountverifycom",
         "account access terminated verify identity secureaccountverifycom",
         "account access terminate verify identity secureaccountverifycom"
        ],
        [
         "22",
         "FINAL WARNING: Your vehicle is showing in our system as uninsured. Avoid penalties: auto-insure-now.site",
         "1",
         "final warning: your vehicle is showing in our system as uninsured. avoid penalties: auto-insure-now.site",
         "final warning your vehicle is showing in our system as uninsured avoid penalties autoinsurenowsite",
         "final warning vehicle showing system uninsured avoid penalties autoinsurenowsite",
         "final warning vehicle show system uninsured avoid penalty autoinsurenowsite"
        ],
        [
         "23",
         "IMPORTANT: Your recent payment was declined. Update payment method: paypal-secure-update.com",
         "1",
         "important: your recent payment was declined. update payment method: paypal-secure-update.com",
         "important your recent payment was declined update payment method paypalsecureupdatecom",
         "important recent payment declined update payment method paypalsecureupdatecom",
         "important recent payment decline update payment method paypalsecureupdatecom"
        ],
        [
         "24",
         "Congratulations! You've been selected for our exclusive survey. Complete for $90 reward: survey-rewards.xyz",
         "1",
         "congratulations! you've been selected for our exclusive survey. complete for $90 reward: survey-rewards.xyz",
         "congratulations youve been selected for our exclusive survey complete for 90 reward surveyrewardsxyz",
         "congratulations youve selected exclusive survey complete 90 reward surveyrewardsxyz",
         "congratulation youve select exclusive survey complete 90 reward surveyrewardsxyz"
        ],
        [
         "25",
         "ATTENTION CUSTOMER: Your internet service will be disconnected. Pay now: internet-billing.site",
         "1",
         "attention customer: your internet service will be disconnected. pay now: internet-billing.site",
         "attention customer your internet service will be disconnected pay now internetbillingsite",
         "attention customer internet service disconnected pay internetbillingsite",
         "attention customer internet service disconnect pay internetbillingsite"
        ],
        [
         "26",
         "Your CV was found in our database. $95k position available. Apply now: career-opportunity.xyz",
         "1",
         "your cv was found in our database. $95k position available. apply now: career-opportunity.xyz",
         "your cv was found in our database 95k position available apply now careeropportunityxyz",
         "cv found database 95k position available apply careeropportunityxyz",
         "cv find database 95k position available apply careeropportunityxyz"
        ],
        [
         "27",
         "COURT NOTICE: You are scheduled to appear. Case #CR7231. Details: court-notice.site",
         "1",
         "court notice: you are scheduled to appear. case #cr7231. details: court-notice.site",
         "court notice you are scheduled to appear case cr7231 details courtnoticesite",
         "court notice scheduled appear case cr7231 details courtnoticesite",
         "court notice schedule appear case cr7231 detail courtnoticesite"
        ],
        [
         "28",
         "Your phone has 3 virus! Click to scan and remove: virus-removal.xyz",
         "1",
         "your phone has 3 virus! click to scan and remove: virus-removal.xyz",
         "your phone has 3 virus click to scan and remove virusremovalxyz",
         "phone 3 virus click scan remove virusremovalxyz",
         "phone 3 virus click scan remove virusremovalxyz"
        ],
        [
         "29",
         "FREE: Get your credit score and report now! Limited offer: free-credit-check.site",
         "1",
         "free: get your credit score and report now! limited offer: free-credit-check.site",
         "free get your credit score and report now limited offer freecreditchecksite",
         "free get credit score report limited offer freecreditchecksite",
         "free get credit score report limit offer freecreditchecksite"
        ],
        [
         "30",
         "WINNER ALERT: You've been selected to receive a $250 Amazon gift card. Claim now: amazon-rewards.site",
         "1",
         "winner alert: you've been selected to receive a $250 amazon gift card. claim now: amazon-rewards.site",
         "winner alert youve been selected to receive a 250 amazon gift card claim now amazonrewardssite",
         "winner alert youve selected receive 250 amazon gift card claim amazonrewardssite",
         "winner alert youve select receive 250 amazon gift card claim amazonrewardssite"
        ],
        [
         "31",
         "URGENT: Your credit card has been charged $499. If unauthorized call: +1-888-555-3214",
         "1",
         "urgent: your credit card has been charged $499. if unauthorized call: +1-888-555-3214",
         "urgent your credit card has been charged 499 if unauthorized call 18885553214",
         "urgent credit card charged 499 unauthorized call 18885553214",
         "urgent credit card charge 499 unauthorized call 18885553214"
        ],
        [
         "32",
         "Your Apple iCloud account will be deleted in 24 hours. Verify now: secure-icloud-verify.com",
         "1",
         "your apple icloud account will be deleted in 24 hours. verify now: secure-icloud-verify.com",
         "your apple icloud account will be deleted in 24 hours verify now secureicloudverifycom",
         "apple icloud account deleted 24 hours verify secureicloudverifycom",
         "apple icloud account delete 24 hour verify secureicloudverifycom"
        ],
        [
         "33",
         "ATTENTION: We've been trying to reach you about your car's extended warranty. Last chance: 800-555-9876",
         "1",
         "attention: we've been trying to reach you about your car's extended warranty. last chance: 800-555-9876",
         "attention weve been trying to reach you about your cars extended warranty last chance 8005559876",
         "attention weve trying reach cars extended warranty last chance 8005559876",
         "attention weve try reach car extend warranty last chance 8005559876"
        ],
        [
         "34",
         "Congratulations! You qualify for student loan forgiveness. Apply here: loan-forgive-gov.xyz",
         "1",
         "congratulations! you qualify for student loan forgiveness. apply here: loan-forgive-gov.xyz",
         "congratulations you qualify for student loan forgiveness apply here loanforgivegovxyz",
         "congratulations qualify student loan forgiveness apply loanforgivegovxyz",
         "congratulation qualify student loan forgiveness apply loanforgivegovxyz"
        ],
        [
         "35",
         "SECURITY ALERT: Suspicious sign-in attempt on your Google account. Verify now: google-secure-verify.com",
         "1",
         "security alert: suspicious sign-in attempt on your google account. verify now: google-secure-verify.com",
         "security alert suspicious signin attempt on your google account verify now googlesecureverifycom",
         "security alert suspicious signin attempt google account verify googlesecureverifycom",
         "security alert suspicious signin attempt google account verify googlesecureverifycom"
        ],
        [
         "36",
         "Your parcel #UK45692 is on hold. Confirm delivery address: royal-mail-delivery.site",
         "1",
         "your parcel #uk45692 is on hold. confirm delivery address: royal-mail-delivery.site",
         "your parcel uk45692 is on hold confirm delivery address royalmaildeliverysite",
         "parcel uk45692 hold confirm delivery address royalmaildeliverysite",
         "parcel uk45692 hold confirm delivery address royalmaildeliverysite"
        ],
        [
         "37",
         "50% OFF EVERYTHING at Nike! Limited time offer: nike-special-deals.xyz",
         "1",
         "50% off everything at nike! limited time offer: nike-special-deals.xyz",
         "50 off everything at nike limited time offer nikespecialdealsxyz",
         "50 everything nike limited time offer nikespecialdealsxyz",
         "50 everything nike limited time offer nikespecialdealsxyz"
        ],
        [
         "38",
         "ACTION REQUIRED: Your PayPal account has been limited. Update info: paypal-account-service.com",
         "1",
         "action required: your paypal account has been limited. update info: paypal-account-service.com",
         "action required your paypal account has been limited update info paypalaccountservicecom",
         "action required paypal account limited update info paypalaccountservicecom",
         "action require paypal account limited update info paypalaccountservicecom"
        ],
        [
         "39",
         "URGENT: Your electricity will be disconnected tonight. Pay now: utility-pay-online.site",
         "1",
         "urgent: your electricity will be disconnected tonight. pay now: utility-pay-online.site",
         "urgent your electricity will be disconnected tonight pay now utilitypayonlinesite",
         "urgent electricity disconnected tonight pay utilitypayonlinesite",
         "urgent electricity disconnect tonight pay utilitypayonlinesite"
        ],
        [
         "40",
         "Your Bitcoin wallet has been credited with 0.5 BTC. Confirm receipt: bitcoin-wallet-verify.xyz",
         "1",
         "your bitcoin wallet has been credited with 0.5 btc. confirm receipt: bitcoin-wallet-verify.xyz",
         "your bitcoin wallet has been credited with 05 btc confirm receipt bitcoinwalletverifyxyz",
         "bitcoin wallet credited 05 btc confirm receipt bitcoinwalletverifyxyz",
         "bitcoin wallet credit 05 btc confirm receipt bitcoinwalletverifyxyz"
        ],
        [
         "41",
         "FINAL NOTICE: Your tax records are out of date. Avoid penalties: irs-tax-update.site",
         "1",
         "final notice: your tax records are out of date. avoid penalties: irs-tax-update.site",
         "final notice your tax records are out of date avoid penalties irstaxupdatesite",
         "final notice tax records date avoid penalties irstaxupdatesite",
         "final notice tax record date avoid penalty irstaxupdatesite"
        ],
        [
         "42",
         "You've been selected for a $50 Starbucks gift card! Claim now: starbucks-rewards.xyz",
         "1",
         "you've been selected for a $50 starbucks gift card! claim now: starbucks-rewards.xyz",
         "youve been selected for a 50 starbucks gift card claim now starbucksrewardsxyz",
         "youve selected 50 starbucks gift card claim starbucksrewardsxyz",
         "youve select 50 starbucks gift card claim starbucksrewardsxyz"
        ],
        [
         "43",
         "Your Instagram account will be permanently deleted. Verify ownership: instagram-verify.site",
         "1",
         "your instagram account will be permanently deleted. verify ownership: instagram-verify.site",
         "your instagram account will be permanently deleted verify ownership instagramverifysite",
         "instagram account permanently deleted verify ownership instagramverifysite",
         "instagram account permanently delete verify ownership instagramverifysite"
        ],
        [
         "44",
         "URGENT: Your phone service will be suspended. Update billing info: mobile-service-update.com",
         "1",
         "urgent: your phone service will be suspended. update billing info: mobile-service-update.com",
         "urgent your phone service will be suspended update billing info mobileserviceupdatecom",
         "urgent phone service suspended update billing info mobileserviceupdatecom",
         "urgent phone service suspend update billing info mobileserviceupdatecom"
        ],
        [
         "45",
         "Congratulations! You're prequalified for a new credit card with $10,000 limit: premier-credit-offer.site",
         "1",
         "congratulations! you're prequalified for a new credit card with $10,000 limit: premier-credit-offer.site",
         "congratulations youre prequalified for a new credit card with 10000 limit premiercreditoffersite",
         "congratulations youre prequalified new credit card 10000 limit premiercreditoffersite",
         "congratulation youre prequalified new credit card 10000 limit premiercreditoffersite"
        ],
        [
         "46",
         "Your flight reservation #AX78542 has been changed. Confirm details: airline-update.xyz",
         "1",
         "your flight reservation #ax78542 has been changed. confirm details: airline-update.xyz",
         "your flight reservation ax78542 has been changed confirm details airlineupdatexyz",
         "flight reservation ax78542 changed confirm details airlineupdatexyz",
         "flight reservation ax78542 change confirm detail airlineupdatexyz"
        ],
        [
         "47",
         "LAST CHANCE: Claim your free laptop from our annual giveaway: free-laptop-giveaway.site",
         "1",
         "last chance: claim your free laptop from our annual giveaway: free-laptop-giveaway.site",
         "last chance claim your free laptop from our annual giveaway freelaptopgiveawaysite",
         "last chance claim free laptop annual giveaway freelaptopgiveawaysite",
         "last chance claim free laptop annual giveaway freelaptopgiveawaysite"
        ],
        [
         "48",
         "Your Facebook account has been reported. Verify to avoid suspension: facebook-security-team.xyz",
         "1",
         "your facebook account has been reported. verify to avoid suspension: facebook-security-team.xyz",
         "your facebook account has been reported verify to avoid suspension facebooksecurityteamxyz",
         "facebook account reported verify avoid suspension facebooksecurityteamxyz",
         "facebook account report verify avoid suspension facebooksecurityteamxyz"
        ],
        [
         "49",
         "Congratulations! You've won 2nd prize in Coca-Cola sweepstakes. Claim $5,000: coke-prize.site",
         "1",
         "congratulations! you've won 2nd prize in coca-cola sweepstakes. claim $5,000: coke-prize.site",
         "congratulations youve won 2nd prize in cocacola sweepstakes claim 5000 cokeprizesite",
         "congratulations youve 2nd prize cocacola sweepstakes claim 5000 cokeprizesite",
         "congratulation youve 2nd prize cocacola sweepstakes claim 5000 cokeprizesite"
        ]
       ],
       "shape": {
        "columns": 6,
        "rows": 5774
       }
      },
      "text/html": [
       "<div>\n",
       "<style scoped>\n",
       "    .dataframe tbody tr th:only-of-type {\n",
       "        vertical-align: middle;\n",
       "    }\n",
       "\n",
       "    .dataframe tbody tr th {\n",
       "        vertical-align: top;\n",
       "    }\n",
       "\n",
       "    .dataframe thead th {\n",
       "        text-align: right;\n",
       "    }\n",
       "</style>\n",
       "<table border=\"1\" class=\"dataframe\">\n",
       "  <thead>\n",
       "    <tr style=\"text-align: right;\">\n",
       "      <th></th>\n",
       "      <th>Message</th>\n",
       "      <th>Category</th>\n",
       "      <th>lower_message</th>\n",
       "      <th>message_wo_punct</th>\n",
       "      <th>message_no_stopwords</th>\n",
       "      <th>message_lemmatized</th>\n",
       "    </tr>\n",
       "  </thead>\n",
       "  <tbody>\n",
       "    <tr>\n",
       "      <th>0</th>\n",
       "      <td>URGENT: Your mobile number has won $500,000 in...</td>\n",
       "      <td>1</td>\n",
       "      <td>urgent: your mobile number has won $500,000 in...</td>\n",
       "      <td>urgent your mobile number has won 500000 in ou...</td>\n",
       "      <td>urgent mobile number 500000 prize draw call cl...</td>\n",
       "      <td>urgent mobile number 500000 prize draw call cl...</td>\n",
       "    </tr>\n",
       "    <tr>\n",
       "      <th>1</th>\n",
       "      <td>CONGRATULATIONS! You've been selected for a fr...</td>\n",
       "      <td>1</td>\n",
       "      <td>congratulations! you've been selected for a fr...</td>\n",
       "      <td>congratulations youve been selected for a free...</td>\n",
       "      <td>congratulations youve selected free iphone 14 ...</td>\n",
       "      <td>congratulation youve select free iphone 14 cli...</td>\n",
       "    </tr>\n",
       "    <tr>\n",
       "      <th>2</th>\n",
       "      <td>Your package delivery #8742 is pending. Update...</td>\n",
       "      <td>1</td>\n",
       "      <td>your package delivery #8742 is pending. update...</td>\n",
       "      <td>your package delivery 8742 is pending update d...</td>\n",
       "      <td>package delivery 8742 pending update delivery ...</td>\n",
       "      <td>package delivery 8742 pending update delivery ...</td>\n",
       "    </tr>\n",
       "    <tr>\n",
       "      <th>3</th>\n",
       "      <td>NETFLIX: Your account has been suspended. Upda...</td>\n",
       "      <td>1</td>\n",
       "      <td>netflix: your account has been suspended. upda...</td>\n",
       "      <td>netflix your account has been suspended update...</td>\n",
       "      <td>netflix account suspended update payment info ...</td>\n",
       "      <td>netflix account suspend update payment info ne...</td>\n",
       "    </tr>\n",
       "    <tr>\n",
       "      <th>4</th>\n",
       "      <td>50% OFF at Fashion World! Limited time offer. ...</td>\n",
       "      <td>1</td>\n",
       "      <td>50% off at fashion world! limited time offer. ...</td>\n",
       "      <td>50 off at fashion world limited time offer sho...</td>\n",
       "      <td>50 fashion world limited time offer shop fwsal...</td>\n",
       "      <td>50 fashion world limit time offer shop fwsales...</td>\n",
       "    </tr>\n",
       "    <tr>\n",
       "      <th>...</th>\n",
       "      <td>...</td>\n",
       "      <td>...</td>\n",
       "      <td>...</td>\n",
       "      <td>...</td>\n",
       "      <td>...</td>\n",
       "      <td>...</td>\n",
       "    </tr>\n",
       "    <tr>\n",
       "      <th>5569</th>\n",
       "      <td>This is the 2nd time we have tried 2 contact u...</td>\n",
       "      <td>1</td>\n",
       "      <td>this is the 2nd time we have tried 2 contact u...</td>\n",
       "      <td>this is the 2nd time we have tried 2 contact u...</td>\n",
       "      <td>2nd time tried 2 contact u u £750 pound prize ...</td>\n",
       "      <td>2nd time try 2 contact u u £750 pound prize 2 ...</td>\n",
       "    </tr>\n",
       "    <tr>\n",
       "      <th>5570</th>\n",
       "      <td>Will ü b going to esplanade fr home?\\n</td>\n",
       "      <td>0</td>\n",
       "      <td>will ü b going to esplanade fr home?\\n</td>\n",
       "      <td>will ü b going to esplanade fr home\\n</td>\n",
       "      <td>ü b going esplanade fr home</td>\n",
       "      <td>ü b go esplanade fr home</td>\n",
       "    </tr>\n",
       "    <tr>\n",
       "      <th>5571</th>\n",
       "      <td>Pity, * was in mood for that. So...any other s...</td>\n",
       "      <td>0</td>\n",
       "      <td>pity, * was in mood for that. so...any other s...</td>\n",
       "      <td>pity  was in mood for that soany other suggest...</td>\n",
       "      <td>pity mood soany suggestions</td>\n",
       "      <td>pity mood soany suggestion</td>\n",
       "    </tr>\n",
       "    <tr>\n",
       "      <th>5572</th>\n",
       "      <td>The guy did some bitching but I acted like i'd...</td>\n",
       "      <td>0</td>\n",
       "      <td>the guy did some bitching but i acted like i'd...</td>\n",
       "      <td>the guy did some bitching but i acted like id ...</td>\n",
       "      <td>guy bitching acted like id interested buying s...</td>\n",
       "      <td>guy bitch act like id interested buying someth...</td>\n",
       "    </tr>\n",
       "    <tr>\n",
       "      <th>5573</th>\n",
       "      <td>Rofl. Its true to its name\\n</td>\n",
       "      <td>0</td>\n",
       "      <td>rofl. its true to its name\\n</td>\n",
       "      <td>rofl its true to its name\\n</td>\n",
       "      <td>rofl true name</td>\n",
       "      <td>rofl true name</td>\n",
       "    </tr>\n",
       "  </tbody>\n",
       "</table>\n",
       "<p>5774 rows × 6 columns</p>\n",
       "</div>"
      ],
      "text/plain": [
       "                                                Message  Category  \\\n",
       "0     URGENT: Your mobile number has won $500,000 in...         1   \n",
       "1     CONGRATULATIONS! You've been selected for a fr...         1   \n",
       "2     Your package delivery #8742 is pending. Update...         1   \n",
       "3     NETFLIX: Your account has been suspended. Upda...         1   \n",
       "4     50% OFF at Fashion World! Limited time offer. ...         1   \n",
       "...                                                 ...       ...   \n",
       "5569  This is the 2nd time we have tried 2 contact u...         1   \n",
       "5570             Will ü b going to esplanade fr home?\\n         0   \n",
       "5571  Pity, * was in mood for that. So...any other s...         0   \n",
       "5572  The guy did some bitching but I acted like i'd...         0   \n",
       "5573                       Rofl. Its true to its name\\n         0   \n",
       "\n",
       "                                          lower_message  \\\n",
       "0     urgent: your mobile number has won $500,000 in...   \n",
       "1     congratulations! you've been selected for a fr...   \n",
       "2     your package delivery #8742 is pending. update...   \n",
       "3     netflix: your account has been suspended. upda...   \n",
       "4     50% off at fashion world! limited time offer. ...   \n",
       "...                                                 ...   \n",
       "5569  this is the 2nd time we have tried 2 contact u...   \n",
       "5570             will ü b going to esplanade fr home?\\n   \n",
       "5571  pity, * was in mood for that. so...any other s...   \n",
       "5572  the guy did some bitching but i acted like i'd...   \n",
       "5573                       rofl. its true to its name\\n   \n",
       "\n",
       "                                       message_wo_punct  \\\n",
       "0     urgent your mobile number has won 500000 in ou...   \n",
       "1     congratulations youve been selected for a free...   \n",
       "2     your package delivery 8742 is pending update d...   \n",
       "3     netflix your account has been suspended update...   \n",
       "4     50 off at fashion world limited time offer sho...   \n",
       "...                                                 ...   \n",
       "5569  this is the 2nd time we have tried 2 contact u...   \n",
       "5570              will ü b going to esplanade fr home\\n   \n",
       "5571  pity  was in mood for that soany other suggest...   \n",
       "5572  the guy did some bitching but i acted like id ...   \n",
       "5573                        rofl its true to its name\\n   \n",
       "\n",
       "                                   message_no_stopwords  \\\n",
       "0     urgent mobile number 500000 prize draw call cl...   \n",
       "1     congratulations youve selected free iphone 14 ...   \n",
       "2     package delivery 8742 pending update delivery ...   \n",
       "3     netflix account suspended update payment info ...   \n",
       "4     50 fashion world limited time offer shop fwsal...   \n",
       "...                                                 ...   \n",
       "5569  2nd time tried 2 contact u u £750 pound prize ...   \n",
       "5570                        ü b going esplanade fr home   \n",
       "5571                        pity mood soany suggestions   \n",
       "5572  guy bitching acted like id interested buying s...   \n",
       "5573                                     rofl true name   \n",
       "\n",
       "                                     message_lemmatized  \n",
       "0     urgent mobile number 500000 prize draw call cl...  \n",
       "1     congratulation youve select free iphone 14 cli...  \n",
       "2     package delivery 8742 pending update delivery ...  \n",
       "3     netflix account suspend update payment info ne...  \n",
       "4     50 fashion world limit time offer shop fwsales...  \n",
       "...                                                 ...  \n",
       "5569  2nd time try 2 contact u u £750 pound prize 2 ...  \n",
       "5570                           ü b go esplanade fr home  \n",
       "5571                         pity mood soany suggestion  \n",
       "5572  guy bitch act like id interested buying someth...  \n",
       "5573                                     rofl true name  \n",
       "\n",
       "[5774 rows x 6 columns]"
      ]
     },
     "execution_count": 267,
     "metadata": {},
     "output_type": "execute_result"
    }
   ],
   "source": [
    "df_cleaning['Category'] = df_cleaning['Category'].replace(['ham', 'spam'], [0, 1])\n",
    "df_cleaning"
   ]
  },
  {
   "cell_type": "code",
   "execution_count": 268,
   "metadata": {},
   "outputs": [
    {
     "name": "stdout",
     "output_type": "stream",
     "text": [
      "Shape (number of strings, number of unique words):\n",
      "(4619, 7751)\n",
      "List of unique words:\n",
      "['008704050406' '0089my' '0121' ... 'zoe' 'zogtorius' 'üll']\n",
      "Vector Matrix for training data:\n",
      "[[0. 0. 0. ... 0. 0. 0.]\n",
      " [0. 0. 0. ... 0. 0. 0.]\n",
      " [0. 0. 0. ... 0. 0. 0.]\n",
      " ...\n",
      " [0. 0. 0. ... 0. 0. 0.]\n",
      " [0. 0. 0. ... 0. 0. 0.]\n",
      " [0. 0. 0. ... 0. 0. 0.]]\n"
     ]
    }
   ],
   "source": [
    "from sklearn.model_selection import train_test_split\n",
    "from sklearn.feature_extraction.text import TfidfVectorizer\n",
    "from sklearn.metrics import confusion_matrix, classification_report, ConfusionMatrixDisplay, accuracy_score\n",
    "X_train, X_test, y_train, y_test = train_test_split(df_cleaning['message_lemmatized'], df_cleaning['Category'], test_size=.2, random_state=42)\n",
    "\n",
    "tfidf_vectorizer = TfidfVectorizer()\n",
    "X_train_tfidf = tfidf_vectorizer.fit_transform(X_train)\n",
    "X_test_tfidf = tfidf_vectorizer.transform(X_test)\n",
    "\n",
    "print(\"Shape (number of strings, number of unique words):\")\n",
    "print(X_train_tfidf.shape)\n",
    "print('List of unique words:')\n",
    "print(tfidf_vectorizer.get_feature_names_out())\n",
    "print(\"Vector Matrix for training data:\")\n",
    "print(X_train_tfidf.toarray())"
   ]
  },
  {
   "cell_type": "code",
   "execution_count": 269,
   "metadata": {},
   "outputs": [
    {
     "name": "stdout",
     "output_type": "stream",
     "text": [
      "Test Data:\n",
      "Accuracy: 0.9567099567099567\n",
      "              precision    recall  f1-score   support\n",
      "\n",
      "           0       0.95      1.00      0.97       969\n",
      "           1       0.98      0.75      0.85       186\n",
      "\n",
      "    accuracy                           0.96      1155\n",
      "   macro avg       0.97      0.87      0.91      1155\n",
      "weighted avg       0.96      0.96      0.95      1155\n",
      "\n",
      "Train Data:\n",
      "Accuracy: 0.957350075773977\n",
      "              precision    recall  f1-score   support\n",
      "\n",
      "           0       0.95      1.00      0.98      3858\n",
      "           1       0.99      0.75      0.85       761\n",
      "\n",
      "    accuracy                           0.96      4619\n",
      "   macro avg       0.97      0.87      0.91      4619\n",
      "weighted avg       0.96      0.96      0.95      4619\n",
      "\n"
     ]
    }
   ],
   "source": [
    "from sklearn.linear_model import LogisticRegression\n",
    "\n",
    "lr_classifier = LogisticRegression(random_state=42)\n",
    "lr_classifier.fit(X_train_tfidf, y_train)\n",
    "\n",
    "y_pred_lr = lr_classifier.predict(X_test_tfidf)\n",
    "\n",
    "class_report_lr = classification_report(y_test, y_pred_lr)\n",
    "print(\"Test Data:\")\n",
    "print(\"Accuracy:\", accuracy_score(y_test, y_pred_lr))\n",
    "print(class_report_lr)\n",
    "\n",
    "y_train_pred = lr_classifier.predict(X_train_tfidf)\n",
    "class_report_train = classification_report(y_train, y_train_pred)\n",
    "print(\"Train Data:\")\n",
    "print(\"Accuracy:\", accuracy_score(y_train, y_train_pred))\n",
    "print(class_report_train)"
   ]
  },
  {
   "cell_type": "code",
   "execution_count": 270,
   "metadata": {},
   "outputs": [
    {
     "name": "stdout",
     "output_type": "stream",
     "text": [
      "[-2.35491832 -2.58679355 -1.94767577 ...  0.714711   -1.90918222\n",
      " -3.89233888]\n"
     ]
    }
   ],
   "source": [
    "from sklearn.metrics import roc_curve, auc\n",
    "\n",
    "y_score = lr_classifier.fit(X_train_tfidf, y_train).decision_function(X_test_tfidf)\n",
    "print(y_score)"
   ]
  },
  {
   "cell_type": "code",
   "execution_count": 271,
   "metadata": {},
   "outputs": [
    {
     "name": "stdout",
     "output_type": "stream",
     "text": [
      "Test Data:\n"
     ]
    },
    {
     "data": {
      "text/plain": [
       "<sklearn.metrics._plot.confusion_matrix.ConfusionMatrixDisplay at 0x14f5e91b0>"
      ]
     },
     "execution_count": 271,
     "metadata": {},
     "output_type": "execute_result"
    },
    {
     "data": {
      "image/png": "[encoded data removed]",
      "text/plain": [
       "<Figure size 640x480 with 2 Axes>"
      ]
     },
     "metadata": {},
     "output_type": "display_data"
    }
   ],
   "source": [
    "print(\"Test Data:\")\n",
    "cm = confusion_matrix(y_test, y_pred_lr)\n",
    "disp = ConfusionMatrixDisplay(cm)\n",
    "disp.plot()"
   ]
  },
  {
   "cell_type": "code",
   "execution_count": 272,
   "metadata": {},
   "outputs": [
    {
     "name": "stdout",
     "output_type": "stream",
     "text": [
      "Train Data:\n"
     ]
    },
    {
     "data": {
      "text/plain": [
       "<sklearn.metrics._plot.confusion_matrix.ConfusionMatrixDisplay at 0x15ceec640>"
      ]
     },
     "execution_count": 272,
     "metadata": {},
     "output_type": "execute_result"
    },
    {
     "data": {
      "image/png": "[encoded data removed]",
      "text/plain": [
       "<Figure size 640x480 with 2 Axes>"
      ]
     },
     "metadata": {},
     "output_type": "display_data"
    }
   ],
   "source": [
    "print(\"Train Data:\")\n",
    "cm = confusion_matrix(y_train, y_train_pred)\n",
    "disp = ConfusionMatrixDisplay(cm)\n",
    "disp.plot()"
   ]
  },
  {
   "cell_type": "code",
   "execution_count": 273,
   "metadata": {},
   "outputs": [
    {
     "data": {
      "text/plain": [
       "\" from imblearn.over_sampling import RandomOverSampler\\n\\nX = df_cleaning[['message_lemmatized']]\\ny = df_cleaning['Category']\\n\\noversampler = RandomOverSampler(random_state=42)\\n\\nX_resampled, y_resampled = oversampler.fit_resample(X, y)\\n\\ndf_balanced = pd.DataFrame(X_resampled, columns=X.columns)\\ndf_balanced['label'] = y_resampled\\n\\ndf_balanced['label'].value_counts()\\ndf_balanced.head \""
      ]
     },
     "execution_count": 273,
     "metadata": {},
     "output_type": "execute_result"
    }
   ],
   "source": [
    "\"\"\" from imblearn.over_sampling import RandomOverSampler\n",
    "\n",
    "X = df_cleaning[['message_lemmatized']]\n",
    "y = df_cleaning['Category']\n",
    "\n",
    "oversampler = RandomOverSampler(random_state=42)\n",
    "\n",
    "X_resampled, y_resampled = oversampler.fit_resample(X, y)\n",
    "\n",
    "df_balanced = pd.DataFrame(X_resampled, columns=X.columns)\n",
    "df_balanced['label'] = y_resampled\n",
    "\n",
    "df_balanced['label'].value_counts()\n",
    "df_balanced.head \"\"\""
   ]
  },
  {
   "cell_type": "code",
   "execution_count": 274,
   "metadata": {},
   "outputs": [
    {
     "name": "stdout",
     "output_type": "stream",
     "text": [
      "Shape (number of strings, number of unique words):\n",
      "(4619, 7751)\n",
      "List of unique words:\n",
      "['008704050406' '0089my' '0121' ... 'zoe' 'zogtorius' 'üll']\n",
      "Vector Matrix for training data:\n",
      "[[0. 0. 0. ... 0. 0. 0.]\n",
      " [0. 0. 0. ... 0. 0. 0.]\n",
      " [0. 0. 0. ... 0. 0. 0.]\n",
      " ...\n",
      " [0. 0. 0. ... 0. 0. 0.]\n",
      " [0. 0. 0. ... 0. 0. 0.]\n",
      " [0. 0. 0. ... 0. 0. 0.]]\n"
     ]
    }
   ],
   "source": [
    "from sklearn.model_selection import train_test_split\n",
    "from sklearn.feature_extraction.text import TfidfVectorizer\n",
    "from sklearn.metrics import confusion_matrix, classification_report, ConfusionMatrixDisplay\n",
    "\n",
    "X_train, X_test, y_train, y_test = train_test_split(df_cleaning['message_lemmatized'], df_cleaning['Category'], test_size=.2, random_state=42)\n",
    "\n",
    "tfidf_vectorizer = TfidfVectorizer()\n",
    "X_train_tfidf = tfidf_vectorizer.fit_transform(X_train)\n",
    "X_test_tfidf = tfidf_vectorizer.transform(X_test)\n",
    "\n",
    "print(\"Shape (number of strings, number of unique words):\")\n",
    "print(X_train_tfidf.shape)\n",
    "print('List of unique words:')\n",
    "print(tfidf_vectorizer.get_feature_names_out())\n",
    "print(\"Vector Matrix for training data:\")\n",
    "print(X_train_tfidf.toarray())"
   ]
  },
  {
   "cell_type": "code",
   "execution_count": 275,
   "metadata": {},
   "outputs": [
    {
     "name": "stdout",
     "output_type": "stream",
     "text": [
      "Category\n",
      "0    3858\n",
      "1    3858\n",
      "Name: count, dtype: int64\n"
     ]
    }
   ],
   "source": [
    "from imblearn.over_sampling import SMOTE\n",
    "\n",
    "sm = SMOTE(random_state=42)\n",
    "X_oversamp, y_oversamp = sm.fit_resample(X_train_tfidf, y_train)\n",
    "print(y_oversamp.value_counts())"
   ]
  },
  {
   "cell_type": "code",
   "execution_count": 276,
   "metadata": {},
   "outputs": [
    {
     "name": "stdout",
     "output_type": "stream",
     "text": [
      "Test Data:\n",
      "Accuracy:  0.9783549783549783\n",
      "              precision    recall  f1-score   support\n",
      "\n",
      "           0       0.98      0.99      0.99       969\n",
      "           1       0.95      0.91      0.93       186\n",
      "\n",
      "    accuracy                           0.98      1155\n",
      "   macro avg       0.97      0.95      0.96      1155\n",
      "weighted avg       0.98      0.98      0.98      1155\n",
      "\n",
      "Train Data:\n",
      "Accuracy:  0.9880926607490799\n",
      "              precision    recall  f1-score   support\n",
      "\n",
      "           0       1.00      0.99      0.99      3858\n",
      "           1       0.95      0.98      0.96       761\n",
      "\n",
      "    accuracy                           0.99      4619\n",
      "   macro avg       0.97      0.98      0.98      4619\n",
      "weighted avg       0.99      0.99      0.99      4619\n",
      "\n"
     ]
    }
   ],
   "source": [
    "from sklearn.linear_model import LogisticRegression\n",
    "\n",
    "lr_classifier = LogisticRegression(random_state=42)\n",
    "lr_classifier.fit(X_oversamp, y_oversamp)\n",
    "\n",
    "y_pred_lr = lr_classifier.predict(X_test_tfidf)\n",
    "\n",
    "class_report_lr = classification_report(y_test, y_pred_lr)\n",
    "print(\"Test Data:\")\n",
    "print(\"Accuracy: \", accuracy_score(y_test, y_pred_lr))\n",
    "print(class_report_lr)\n",
    "\n",
    "y_train_pred = lr_classifier.predict(X_train_tfidf)\n",
    "class_report_train = classification_report(y_train, y_train_pred)\n",
    "print(\"Train Data:\")\n",
    "print(\"Accuracy: \", accuracy_score(y_train, y_train_pred))\n",
    "print(class_report_train)"
   ]
  },
  {
   "cell_type": "code",
   "execution_count": 277,
   "metadata": {},
   "outputs": [
    {
     "name": "stdout",
     "output_type": "stream",
     "text": [
      "Test Data:\n"
     ]
    },
    {
     "data": {
      "text/plain": [
       "<sklearn.metrics._plot.confusion_matrix.ConfusionMatrixDisplay at 0x15d6f0700>"
      ]
     },
     "execution_count": 277,
     "metadata": {},
     "output_type": "execute_result"
    },
    {
     "data": {
      "image/png": "[encoded data removed]",
      "text/plain": [
       "<Figure size 640x480 with 2 Axes>"
      ]
     },
     "metadata": {},
     "output_type": "display_data"
    }
   ],
   "source": [
    "print(\"Test Data:\")\n",
    "cm = confusion_matrix(y_test, y_pred_lr)\n",
    "disp = ConfusionMatrixDisplay(cm)\n",
    "disp.plot()"
   ]
  },
  {
   "cell_type": "code",
   "execution_count": 278,
   "metadata": {},
   "outputs": [
    {
     "name": "stdout",
     "output_type": "stream",
     "text": [
      "Train Data:\n"
     ]
    },
    {
     "data": {
      "text/plain": [
       "<sklearn.metrics._plot.confusion_matrix.ConfusionMatrixDisplay at 0x15c1d3a00>"
      ]
     },
     "execution_count": 278,
     "metadata": {},
     "output_type": "execute_result"
    },
    {
     "data": {
      "image/png": "[encoded data removed]",
      "text/plain": [
       "<Figure size 640x480 with 2 Axes>"
      ]
     },
     "metadata": {},
     "output_type": "display_data"
    }
   ],
   "source": [
    "print(\"Train Data:\")\n",
    "cm = confusion_matrix(y_train, y_train_pred)\n",
    "disp = ConfusionMatrixDisplay(cm)\n",
    "disp.plot()"
   ]
  },
  {
   "cell_type": "code",
   "execution_count": null,
   "metadata": {},
   "outputs": [],
   "source": []
  }
 ],
 "metadata": {
  "kernelspec": {
   "display_name": "Python (fis_default)",
   "language": "python",
   "name": "fis_default"
  },
  "language_info": {
   "codemirror_mode": {
    "name": "ipython",
    "version": 3
   },
   "file_extension": ".py",
   "mimetype": "text/x-python",
   "name": "python",
   "nbconvert_exporter": "python",
   "pygments_lexer": "ipython3",
   "version": "3.10.16"
  }
 },
 "nbformat": 4,
 "nbformat_minor": 2
}
